{
 "cells": [
  {
   "cell_type": "code",
   "execution_count": 1,
   "id": "595fdfd9",
   "metadata": {
    "scrolled": true
   },
   "outputs": [
    {
     "name": "stdout",
     "output_type": "stream",
     "text": [
      "importing NGSolve-6.2.2204\n"
     ]
    }
   ],
   "source": [
    "from ngsolve import *\n",
    "from ngsolve.meshes import Make1DMesh\n",
    "from ngsolve.webgui import Draw\n",
    "import numpy as np"
   ]
  },
  {
   "cell_type": "code",
   "execution_count": 6,
   "id": "e2925279",
   "metadata": {},
   "outputs": [],
   "source": [
    "axial_load = 4.1*pi**2\n",
    "lamda_1 = 2*pi\n",
    "c = 2*np.sqrt((axial_load)/(lamda_1**2)-1)\n"
   ]
  },
  {
   "cell_type": "code",
   "execution_count": null,
   "id": "ed58364b",
   "metadata": {},
   "outputs": [],
   "source": [
    "mesh = Make1DMesh(10, mapping=None, periodic=False)\n",
    "Draw(mesh)\n",
    "# help(Make1DMesh)"
   ]
  },
  {
   "cell_type": "code",
   "execution_count": null,
   "id": "8d9a051c",
   "metadata": {},
   "outputs": [],
   "source": [
    "V = H1(mesh, order=2, dirichlet=\"left|right\")\n",
    "Q = NumberSpace(mesh)\n",
    "fesm = V*Q\n",
    "print (\"ndof =\", fesm.ndof)"
   ]
  },
  {
   "cell_type": "code",
   "execution_count": null,
   "id": "bb225cf8",
   "metadata": {},
   "outputs": [],
   "source": [
    "psi, mu = fesm.TrialFunction()\n",
    "v , lamda = fesm.TestFunction()"
   ]
  },
  {
   "cell_type": "code",
   "execution_count": null,
   "id": "2a708e36",
   "metadata": {},
   "outputs": [],
   "source": [
    "am = BilinearForm(fesm)\n",
    "am += (grad(psi)*grad(v)+1/2*grad(psi)*mu*grad(v) + mu*lamda - grad(psi)**2*lamda)*dx\n",
    "\n",
    "gfu = GridFunction(fesm)"
   ]
  },
  {
   "cell_type": "code",
   "execution_count": null,
   "id": "ffa46522",
   "metadata": {},
   "outputs": [],
   "source": [
    "def SimpleNewtonSolve(gfu,am,tol=1e-13,maxits=25):\n",
    "    res = gfu.vec.CreateVector()\n",
    "    du = gfu.vec.CreateVector()\n",
    "    fes = gfu.space\n",
    "    for it in range(maxits):\n",
    "        print (\"Iteration {:3}  \".format(it),end=\"\")\n",
    "        am.Apply(gfu.vec, res)\n",
    "        am.AssembleLinearization(gfu.vec)\n",
    "        du.data = am.mat.Inverse(fes.FreeDofs()) * res\n",
    "        gfu.vec.data -= du\n",
    "\n",
    "        #stopping criteria\n",
    "        stopcritval = sqrt(abs(InnerProduct(du,res)))\n",
    "        print (\"<A u\",it,\", A u\",it,\">_{-1}^0.5 = \", stopcritval)\n",
    "        if stopcritval < tol:\n",
    "            break"
   ]
  },
  {
   "cell_type": "code",
   "execution_count": null,
   "id": "a568ee60",
   "metadata": {
    "scrolled": true
   },
   "outputs": [],
   "source": [
    "gfu.vec[:] = 1\n",
    "SimpleNewtonSolve(gfu,am)"
   ]
  }
 ],
 "metadata": {
  "kernelspec": {
   "display_name": "Python 3 (ipykernel)",
   "language": "python",
   "name": "python3"
  },
  "language_info": {
   "codemirror_mode": {
    "name": "ipython",
    "version": 3
   },
   "file_extension": ".py",
   "mimetype": "text/x-python",
   "name": "python",
   "nbconvert_exporter": "python",
   "pygments_lexer": "ipython3",
   "version": "3.10.6"
  }
 },
 "nbformat": 4,
 "nbformat_minor": 5
}

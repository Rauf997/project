{
 "cells": [
  {
   "cell_type": "code",
   "execution_count": 1,
   "id": "986ba5e0",
   "metadata": {},
   "outputs": [],
   "source": [
    "from sympy import symbols, simplify, solve, diff, lambdify\n",
    "import sympy as sym\n",
    "from sympy import Symbol\n",
    "import scipy.integrate\n",
    "import math "
   ]
  },
  {
   "cell_type": "code",
   "execution_count": 30,
   "id": "9de9651b",
   "metadata": {},
   "outputs": [
    {
     "name": "stdout",
     "output_type": "stream",
     "text": [
      "1.26491106406735*pi**2*cos(2*pi*x)\n",
      "-5.0596442562694*pi**4*cos(2*pi*x)\n",
      "1.38777878078145e-16*pi**4*cos(2*pi*x)\n",
      "-0.126491106406735*pi**4*cos(2*pi*x)\n",
      "0.199999999999999*pi**2\n"
     ]
    }
   ],
   "source": [
    "X = sym.symbols(\"x\")\n",
    "axial_load = 4.1*sym.pi**2\n",
    "lamda_1 = 2*sym.pi\n",
    "c = 2*sym.sqrt((axial_load)/(lamda_1**2)-1)\n",
    "\n",
    "psi_ex = c*(1 - ((lamda_1*(1- sym.cos(lamda_1)))/(lamda_1 - sym.sin(lamda_1)))*X - \\\n",
    "                        sym.cos(lamda_1*X) + \\\n",
    "                        ((1 - sym.cos(lamda_1))/(lamda_1 - sym.sin(lamda_1)))*sym.sin(lamda_1*X))\n",
    "\n",
    "first_derivative_psi_ex = psi_ex.diff(X)\n",
    "\n",
    "mu = sym.integrate(first_derivative_psi_ex**2, (X, 0, 1))\n",
    "\n",
    "\n",
    "\n",
    "residual = psi_ex.diff(X).diff(X).diff(X).diff(X) + axial_load*psi_ex.diff(X).diff(X) -1/2*psi_ex.diff(X).diff(X)*mu\n",
    "\n",
    "\n",
    "non_linear_term = -1/2*psi_ex.diff(X).diff(X)*mu\n",
    "print(second_derivative_psi_ex)\n",
    "print(fourth_derivative_psi_ex)\n",
    "print(residual)\n",
    "print(non_linear_term)\n",
    "print(mu)"
   ]
  }
 ],
 "metadata": {
  "kernelspec": {
   "display_name": "Python 3 (ipykernel)",
   "language": "python",
   "name": "python3"
  },
  "language_info": {
   "codemirror_mode": {
    "name": "ipython",
    "version": 3
   },
   "file_extension": ".py",
   "mimetype": "text/x-python",
   "name": "python",
   "nbconvert_exporter": "python",
   "pygments_lexer": "ipython3",
   "version": "3.8.10"
  }
 },
 "nbformat": 4,
 "nbformat_minor": 5
}

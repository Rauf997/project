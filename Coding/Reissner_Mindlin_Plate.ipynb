{
 "cells": [
  {
   "cell_type": "code",
   "execution_count": 1,
   "id": "98b1e05d",
   "metadata": {},
   "outputs": [],
   "source": [
    "from ngsolve import *\n",
    "from ngsolve.webgui import Draw\n",
    "from ngsolve.meshes import MakeStructured2DMesh"
   ]
  },
  {
   "cell_type": "code",
   "execution_count": 2,
   "id": "739f4a76",
   "metadata": {
    "scrolled": true
   },
   "outputs": [
    {
     "data": {
      "application/vnd.jupyter.widget-view+json": {
       "model_id": "4c8c6ca9b2704693970217dcc0cd100b",
       "version_major": 2,
       "version_minor": 0
      },
      "text/plain": [
       "WebGuiWidget(layout=Layout(height='50vh', width='100%'), value={'gui_settings': {}, 'ngsolve_version': '6.2.23…"
      ]
     },
     "metadata": {},
     "output_type": "display_data"
    },
    {
     "data": {
      "application/vnd.jupyter.widget-view+json": {
       "model_id": "91445c3dc3f84affb1a96b8944926095",
       "version_major": 2,
       "version_minor": 0
      },
      "text/plain": [
       "WebGuiWidget(layout=Layout(height='50vh', width='100%'), value={'gui_settings': {}, 'ngsolve_version': '6.2.23…"
      ]
     },
     "metadata": {},
     "output_type": "display_data"
    },
    {
     "data": {
      "text/plain": [
       "BaseWebGuiScene"
      ]
     },
     "execution_count": 2,
     "metadata": {},
     "output_type": "execute_result"
    }
   ],
   "source": [
    "L = 1\n",
    "alpha = pi/(2*L)\n",
    "q = cos(alpha*x)*cos(alpha*y)\n",
    "\n",
    "E  = 1e6\n",
    "nu = 0.3\n",
    "\n",
    "t  = Parameter(1e-1)\n",
    "D  = (E*t**3)/(12*(1-nu**2))\n",
    "k = 5/6\n",
    "G = E/(2*(1+nu))\n",
    "C = k*G*t\n",
    "w_ex = (1/(4*D*alpha**4)+1/(2*C*alpha**2))*cos(alpha*x)*cos(alpha*y)\n",
    "grad_w_ex =  CF( (w_ex.Diff(x),w_ex.Diff(y)) )\n",
    "beta_ex = 1/(4*D*alpha**3)*CF( (sin(alpha*x)*cos(alpha*y),cos(alpha*x)*sin(alpha*y)))\n",
    "curl_beta_ex = beta_ex[1].Diff(x)-beta_ex[0].Diff(y)\n",
    "grad_beta_ex =  CF( (beta_ex[0].Diff(x),beta_ex[0].Diff(y), beta_ex[1].Diff(x),beta_ex[1].Diff(y)), dims=(2,2) )\n",
    "\n",
    "mesh = MakeStructured2DMesh(quads=False, nx=8,ny=8, mapping= lambda x,y : (L*(-1+2*x),L*(-1+2*y)))\n",
    "Draw(w_ex, mesh)\n",
    "Draw(beta_ex, mesh)"
   ]
  },
  {
   "cell_type": "code",
   "execution_count": null,
   "id": "8a4bb7d0",
   "metadata": {},
   "outputs": [],
   "source": [
    "# VTKOutput object\n",
    "vtk = VTKOutput(ma=mesh,\n",
    "                coefs=[w_ex],\n",
    "                names = [\"w\"],\n",
    "                filename=\"exact\",\n",
    "                subdivision=3)\n",
    "# Exporting the results:\n",
    "vtk.Do()"
   ]
  },
  {
   "cell_type": "code",
   "execution_count": null,
   "id": "b48291ac",
   "metadata": {},
   "outputs": [],
   "source": [
    "def Material(mat):\n",
    "    return D*((1-nu)*mat+nu*Trace(mat)*Id(2))\n",
    "def MaterialInv(mat):\n",
    "    return 1/D*(1/(1-nu)*mat-nu/(1-nu**2)*Trace(mat)*Id(2))\n",
    "fesB = VectorH1(mesh, order=2, dirichletx=\"top|bottom\", dirichlety=\"left|right\")\n",
    "fesW = H1(mesh, order=2, dirichlet=\".*\")\n",
    "\n",
    "fes = fesW*fesB\n",
    "(w,beta), (v,delta) = fes.TnT()\n",
    "    \n",
    "a = BilinearForm(fes, symmetric=True)\n",
    "a += InnerProduct(Material(Sym(Grad(beta))),Sym(Grad(delta)))*dx\n",
    "a += k*G*t*InnerProduct( grad(w)+beta, grad(v)+delta )*dx\n",
    "\n",
    "f = LinearForm(fes)\n",
    "f += q*v*dx\n",
    "\n",
    "gfsol = GridFunction(fes)\n",
    "gfw, gfbeta = gfsol.components\n",
    "\n",
    "with TaskManager():\n",
    "        a.Assemble()\n",
    "        f.Assemble()\n",
    "        inv = a.mat.Inverse(fes.FreeDofs(), inverse=\"sparsecholesky\")\n",
    "        gfsol.vec.data = inv * f.vec\n",
    "\n",
    "Draw(gfw, mesh, \"w\")\n",
    "Draw(gfbeta, mesh, \"w\")        "
   ]
  },
  {
   "cell_type": "code",
   "execution_count": null,
   "id": "40dca07f",
   "metadata": {},
   "outputs": [],
   "source": [
    "print (\"L2-error:\", sqrt(Integrate((gfw - w_ex)**2, mesh)))"
   ]
  },
  {
   "cell_type": "code",
   "execution_count": null,
   "id": "e81daaf0",
   "metadata": {},
   "outputs": [],
   "source": []
  }
 ],
 "metadata": {
  "kernelspec": {
   "display_name": "Python 3 (ipykernel)",
   "language": "python",
   "name": "python3"
  },
  "language_info": {
   "codemirror_mode": {
    "name": "ipython",
    "version": 3
   },
   "file_extension": ".py",
   "mimetype": "text/x-python",
   "name": "python",
   "nbconvert_exporter": "python",
   "pygments_lexer": "ipython3",
   "version": "3.8.10"
  }
 },
 "nbformat": 4,
 "nbformat_minor": 5
}

{
 "cells": [
  {
   "cell_type": "code",
   "execution_count": 2,
   "id": "2cf6755e",
   "metadata": {},
   "outputs": [
    {
     "name": "stdout",
     "output_type": "stream",
     "text": [
      "['12.png', '5.png', '13.png', '9.png', '8.png', '6.png', '14.png', '17.png', '0.png', '18.png', '10.png', '3.png', '4.png', '11.png', '1.png', '16.png', '7.png', '19.png', '2.png', '15.png']\n"
     ]
    }
   ],
   "source": [
    "import cv2\n",
    "import os\n",
    "\n",
    "path = '/home/rauf/Pictures/Unsteady_EB/Exact'\n",
    "out_path = '/home/rauf/Pictures/Unsteady_EB/Exact'\n",
    "out_video_name = 'exact.mp4'\n",
    "out_video_full_path = out_path + out_video_name\n",
    "\n",
    "pre_imgs = os.listdir(path)\n",
    "print(pre_imgs)"
   ]
  }
 ],
 "metadata": {
  "kernelspec": {
   "display_name": "Python 3 (ipykernel)",
   "language": "python",
   "name": "python3"
  },
  "language_info": {
   "codemirror_mode": {
    "name": "ipython",
    "version": 3
   },
   "file_extension": ".py",
   "mimetype": "text/x-python",
   "name": "python",
   "nbconvert_exporter": "python",
   "pygments_lexer": "ipython3",
   "version": "3.10.6"
  }
 },
 "nbformat": 4,
 "nbformat_minor": 5
}

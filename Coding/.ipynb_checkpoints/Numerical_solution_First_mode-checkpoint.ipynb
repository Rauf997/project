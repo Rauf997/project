{
 "cells": [
  {
   "cell_type": "code",
   "execution_count": 1,
   "id": "cdbb2325",
   "metadata": {},
   "outputs": [
    {
     "name": "stdout",
     "output_type": "stream",
     "text": [
      "importing NGSolve-6.2.2204\n"
     ]
    }
   ],
   "source": [
    "from ngsolve import *\n",
    "from ngsolve.meshes import Make1DMesh\n",
    "from ngsolve.webgui import Draw"
   ]
  },
  {
   "cell_type": "code",
   "execution_count": 2,
   "id": "85737d16",
   "metadata": {},
   "outputs": [
    {
     "name": "stdout",
     "output_type": "stream",
     "text": [
      "98.69604401089359\n"
     ]
    }
   ],
   "source": [
    "axial_load = 10*pi**2\n",
    "print(axial_load)"
   ]
  },
  {
   "cell_type": "code",
   "execution_count": 3,
   "id": "19eac201",
   "metadata": {},
   "outputs": [
    {
     "data": {
      "application/vnd.jupyter.widget-view+json": {
       "model_id": "f53686ca549e4a67a57edbaebb1318c1",
       "version_major": 2,
       "version_minor": 0
      },
      "text/plain": [
       "WebGuiWidget(layout=Layout(height='50vh', width='100%'), value={'gui_settings': {}, 'ngsolve_version': '6.2.22…"
      ]
     },
     "metadata": {},
     "output_type": "display_data"
    },
    {
     "data": {
      "text/plain": [
       "BaseWebGuiScene"
      ]
     },
     "execution_count": 3,
     "metadata": {},
     "output_type": "execute_result"
    }
   ],
   "source": [
    "mesh = Make1DMesh(10, mapping=None, periodic=False)\n",
    "Draw(mesh)"
   ]
  },
  {
   "cell_type": "code",
   "execution_count": 4,
   "id": "25bb9beb",
   "metadata": {},
   "outputs": [
    {
     "name": "stdout",
     "output_type": "stream",
     "text": [
      "ndof = 43\n"
     ]
    }
   ],
   "source": [
    "psi = H1(mesh, order=2, dirichlet=\"left|right\")\n",
    "sigma = H1(mesh, order=2, dirichlet=\" \")\n",
    "mu = NumberSpace(mesh)\n",
    "fesm = psi*sigma*mu\n",
    "print (\"ndof =\", fesm.ndof)"
   ]
  },
  {
   "cell_type": "code",
   "execution_count": 6,
   "id": "fd2edfce",
   "metadata": {},
   "outputs": [],
   "source": [
    "psi, sigma, mu = fesm.TrialFunction()\n",
    "v , tau, lamda = fesm.TestFunction()"
   ]
  },
  {
   "cell_type": "code",
   "execution_count": 7,
   "id": "d5453cde",
   "metadata": {},
   "outputs": [],
   "source": [
    "am = BilinearForm(fesm)\n",
    "am += (grad(sigma)*grad(v) - axial_load*grad(psi)*grad(v) + 1/2*grad(psi)*mu*grad(v) + grad(psi)*grad(tau) \\\n",
    "       + sigma*tau + grad(psi)**2*lamda - mu*lamda)*dx\n",
    "\n",
    "gfu = GridFunction(fesm)"
   ]
  },
  {
   "cell_type": "code",
   "execution_count": 8,
   "id": "47bbadda",
   "metadata": {},
   "outputs": [],
   "source": [
    "def SimpleNewtonSolve(gfu,am,tol=1e-13,maxits=25):\n",
    "    res = gfu.vec.CreateVector()\n",
    "    du = gfu.vec.CreateVector()\n",
    "    fes = gfu.space\n",
    "    for it in range(maxits):\n",
    "        print (\"Iteration {:3}  \".format(it),end=\"\")\n",
    "        am.Apply(gfu.vec, res)\n",
    "        am.AssembleLinearization(gfu.vec)\n",
    "        du.data = am.mat.Inverse(fes.FreeDofs()) * res\n",
    "        gfu.vec.data -= du\n",
    "\n",
    "        #stopping criteria\n",
    "        stopcritval = sqrt(abs(InnerProduct(du,res)))\n",
    "        print (\"<A u\",it,\", A u\",it,\">_{-1}^0.5 = \", stopcritval)\n",
    "        if stopcritval < tol:\n",
    "            break"
   ]
  },
  {
   "cell_type": "code",
   "execution_count": 9,
   "id": "6eddf01f",
   "metadata": {},
   "outputs": [
    {
     "name": "stdout",
     "output_type": "stream",
     "text": [
      "Iteration   0  <A u 0 , A u 0 >_{-1}^0.5 =  27.770416529379315\n",
      "Iteration   1  <A u 1 , A u 1 >_{-1}^0.5 =  8.347892713838831\n",
      "Iteration   2  <A u 2 , A u 2 >_{-1}^0.5 =  0.00011822736208015701\n",
      "Iteration   3  <A u 3 , A u 3 >_{-1}^0.5 =  2.2884913541911966e-12\n",
      "Iteration   4  <A u 4 , A u 4 >_{-1}^0.5 =  8.053288868988405e-28\n"
     ]
    }
   ],
   "source": [
    "gfu.vec[:] = 1\n",
    "SimpleNewtonSolve(gfu,am)"
   ]
  },
  {
   "cell_type": "code",
   "execution_count": null,
   "id": "54d71b37",
   "metadata": {},
   "outputs": [],
   "source": []
  }
 ],
 "metadata": {
  "kernelspec": {
   "display_name": "Python 3 (ipykernel)",
   "language": "python",
   "name": "python3"
  },
  "language_info": {
   "codemirror_mode": {
    "name": "ipython",
    "version": 3
   },
   "file_extension": ".py",
   "mimetype": "text/x-python",
   "name": "python",
   "nbconvert_exporter": "python",
   "pygments_lexer": "ipython3",
   "version": "3.10.6"
  }
 },
 "nbformat": 4,
 "nbformat_minor": 5
}

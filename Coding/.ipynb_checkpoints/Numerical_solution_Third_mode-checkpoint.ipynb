{
 "cells": [
  {
   "cell_type": "code",
   "execution_count": 1,
   "id": "911e92e3",
   "metadata": {},
   "outputs": [
    {
     "name": "stdout",
     "output_type": "stream",
     "text": [
      "importing NGSolve-6.2.2204\n"
     ]
    }
   ],
   "source": [
    "from ngsolve import *\n",
    "from ngsolve.meshes import Make1DMesh\n",
    "from ngsolve.webgui import Draw\n",
    "import numpy as np\n",
    "import math "
   ]
  },
  {
   "cell_type": "code",
   "execution_count": 4,
   "id": "0e2e33c3",
   "metadata": {},
   "outputs": [],
   "source": [
    "from sympy import symbols, simplify, solve, diff, lambdify\n",
    "import sympy as sym\n",
    "from sympy import Symbol\n",
    "import scipy.integrate\n",
    "import matplotlib.pyplot as plt\n",
    "mesh = Make1DMesh(10, mapping=None, periodic=False)\n",
    "\n",
    "axial_load_1 = 16.1*pi**2\n",
    "lamda_3 = 4*\n",
    "c_1 = 2*sym.sqrt((axial_load_1)/(lamda_3**2)-1)\n",
    "\n",
    "\n",
    "psi_ex_1 = c_1*(1 - ((lamda_3*(1- cos(lamda_3)))/(lamda_3 - sin(lamda_3)))*x - \\\n",
    "                        cos(lamda_2*x) + \\\n",
    "                        ((1 - cos(lamda_2))/(lamda_2 - sin(lamda_2)))*sin(lamda_2*x))\n",
    "\n",
    "\n",
    "axial_load_2 = 9.0*pi**2\n",
    "lamda_2 = 8.9868\n",
    "c_2 = 2*sym.sqrt((axial_load_2)/(lamda_2**2)-1)\n",
    "\n",
    "\n",
    "psi_ex_2 = c_2*(1 - ((lamda_2*(1- cos(lamda_2)))/(lamda_2 - sin(lamda_2)))*x - \\\n",
    "                        cos(lamda_2*x) + \\\n",
    "                        ((1 - cos(lamda_2))/(lamda_2 - sin(lamda_2)))*sin(lamda_2*x))\n",
    "\n",
    "\n",
    "axial_load_3 = 9.5*pi**2\n",
    "lamda_2 = 8.9868\n",
    "c_3 = 2*sym.sqrt((axial_load_3)/(lamda_2**2)-1)\n",
    "\n",
    "\n",
    "psi_ex_3 = c_3*(1 - ((lamda_2*(1- cos(lamda_2)))/(lamda_2 - sin(lamda_2)))*x - \\\n",
    "                        cos(lamda_2*x) + \\\n",
    "                        ((1 - cos(lamda_2))/(lamda_2 - sin(lamda_2)))*sin(lamda_2*x))\n",
    "\n"
   ]
  },
  {
   "cell_type": "code",
   "execution_count": 22,
   "id": "b02e91f5",
   "metadata": {},
   "outputs": [
    {
     "data": {
      "text/plain": [
       "<matplotlib.legend.Legend at 0x7f9e7447d120>"
      ]
     },
     "execution_count": 22,
     "metadata": {},
     "output_type": "execute_result"
    },
    {
     "data": {
      "image/png": "[encoded data removed]",
      "text/plain": [
       "<Figure size 432x288 with 1 Axes>"
      ]
     },
     "metadata": {
      "needs_background": "light"
     },
     "output_type": "display_data"
    }
   ],
   "source": [
    "mesh = Make1DMesh(40)\n",
    "\n",
    "# Draw(psi_ex,mesh, deformation=CF( (0,psi_ex,0) ))\n",
    "x=np.linspace(0,1,100)\n",
    "psi_ex_1(mesh(x))\n",
    "psi_ex_2(mesh(x))\n",
    "psi_ex_3(mesh(x))\n",
    "plt.plot(x,psi_ex_1(mesh(x)),color='black',label='P = 8.28$\\pi^2$',linestyle=\"-\")\n",
    "plt.plot(x,psi_ex_2(mesh(x)),color='black',label='P = 9.0$\\pi^2$',linestyle=\"--\")\n",
    "plt.plot(x,psi_ex_3(mesh(x)),color='black',label='P = 9.5$\\pi^2$',linestyle=\"-.\")\n",
    "plt.ylim([-3, 3])\n",
    "plt.xlim([0.0, 1.0])\n",
    "plt.title(\"Exact Solution Second Mode\")\n",
    "plt.legend()\n",
    "# Draw(sigma_ex,mesh, deformation=CF( (0,sigma_ex,0) ))\n"
   ]
  },
  {
   "cell_type": "code",
   "execution_count": 7,
   "id": "6e4f8490",
   "metadata": {},
   "outputs": [
    {
     "name": "stdout",
     "output_type": "stream",
     "text": [
      "ndof = 163\n"
     ]
    }
   ],
   "source": [
    "psi = H1(mesh, order=2, dirichlet=\"left|right\")\n",
    "sigma = H1(mesh, order=2, dirichlet=\" \")\n",
    "mu = NumberSpace(mesh)\n",
    "fesm = psi*sigma*mu\n",
    "print (\"ndof =\", fesm.ndof)"
   ]
  },
  {
   "cell_type": "code",
   "execution_count": 8,
   "id": "00842221",
   "metadata": {},
   "outputs": [],
   "source": [
    "psi, sigma, mu = fesm.TrialFunction()\n",
    "v , tau, lamda = fesm.TestFunction()"
   ]
  },
  {
   "cell_type": "code",
   "execution_count": 9,
   "id": "ace538cc",
   "metadata": {},
   "outputs": [
    {
     "name": "stdout",
     "output_type": "stream",
     "text": [
      "Iteration   0  <A u 0 , A u 0 >_{-1}^0.5 =  12.572774840342005\n",
      "Iteration   1  <A u 1 , A u 1 >_{-1}^0.5 =  0.0009050720735173959\n",
      "Iteration   2  <A u 2 , A u 2 >_{-1}^0.5 =  3.0168614457171234e-07\n",
      "Iteration   3  <A u 3 , A u 3 >_{-1}^0.5 =  1.5860760163639256e-13\n",
      "Iteration   4  <A u 4 , A u 4 >_{-1}^0.5 =  5.677826457522269e-15\n"
     ]
    }
   ],
   "source": [
    "am_1 = BilinearForm(fesm)\n",
    "am_1 += (-grad(sigma)*grad(v) - axial_load_1*grad(psi)*grad(v) + 1/2*grad(psi)*grad(v)*mu + sigma*tau \\\n",
    "       + grad(psi)*grad(tau) + mu*lamda - grad(psi)**2*lamda )*dx\n",
    "\n",
    "gfu_1 = GridFunction(fesm)\n",
    "\n",
    "def SimpleNewtonSolve(gfu,am_1,tol=1e-13,maxits=25):\n",
    "    res = gfu.vec.CreateVector()\n",
    "    du = gfu.vec.CreateVector()\n",
    "    fesm = gfu_1.space\n",
    "    for it in range(maxits):\n",
    "        print (\"Iteration {:3}  \".format(it),end=\"\")\n",
    "        am_1.Apply(gfu.vec, res)\n",
    "        am_1.AssembleLinearization(gfu.vec)\n",
    "        du.data = am_1.mat.Inverse(fesm.FreeDofs()) * res\n",
    "        gfu.vec.data -= du\n",
    "\n",
    "        #stopping criteria\n",
    "        stopcritval = sqrt(abs(InnerProduct(du,res)))\n",
    "        print (\"<A u\",it,\", A u\",it,\">_{-1}^0.5 = \", stopcritval)\n",
    "        if stopcritval < tol:\n",
    "            break\n",
    "gfu_1.components[0].Set(psi_ex_1)\n",
    "SimpleNewtonSolve(gfu_1,am_1)"
   ]
  },
  {
   "cell_type": "code",
   "execution_count": 10,
   "id": "c415f3e9",
   "metadata": {},
   "outputs": [
    {
     "name": "stdout",
     "output_type": "stream",
     "text": [
      "Iteration   0  <A u 0 , A u 0 >_{-1}^0.5 =  39.525321847175675\n",
      "Iteration   1  <A u 1 , A u 1 >_{-1}^0.5 =  0.0010575140890117392\n",
      "Iteration   2  <A u 2 , A u 2 >_{-1}^0.5 =  4.899833745662762e-08\n",
      "Iteration   3  <A u 3 , A u 3 >_{-1}^0.5 =  1.6203707336495184e-14\n"
     ]
    }
   ],
   "source": [
    "am_2 = BilinearForm(fesm)\n",
    "am_2 += (-grad(sigma)*grad(v) - axial_load_2*grad(psi)*grad(v) + 1/2*grad(psi)*grad(v)*mu + sigma*tau \\\n",
    "       + grad(psi)*grad(tau) + mu*lamda - grad(psi)**2*lamda )*dx\n",
    "\n",
    "gfu_2 = GridFunction(fesm)\n",
    "\n",
    "def SimpleNewtonSolve(gfu,am_2,tol=1e-13,maxits=25):\n",
    "    res = gfu.vec.CreateVector()\n",
    "    du = gfu.vec.CreateVector()\n",
    "    fes = gfu.space\n",
    "    for it in range(maxits):\n",
    "        print (\"Iteration {:3}  \".format(it),end=\"\")\n",
    "        am_2.Apply(gfu.vec, res)\n",
    "        am_2.AssembleLinearization(gfu.vec)\n",
    "        du.data = am_2.mat.Inverse(fes.FreeDofs()) * res\n",
    "        gfu.vec.data -= du\n",
    "\n",
    "        #stopping criteria\n",
    "        stopcritval = sqrt(abs(InnerProduct(du,res)))\n",
    "        print (\"<A u\",it,\", A u\",it,\">_{-1}^0.5 = \", stopcritval)\n",
    "        if stopcritval < tol:\n",
    "            break\n",
    "gfu_2.components[0].Set(psi_ex_2)\n",
    "SimpleNewtonSolve(gfu_2,am_2)"
   ]
  },
  {
   "cell_type": "code",
   "execution_count": 11,
   "id": "81d68766",
   "metadata": {},
   "outputs": [
    {
     "name": "stdout",
     "output_type": "stream",
     "text": [
      "Iteration   0  <A u 0 , A u 0 >_{-1}^0.5 =  52.67873686975949\n",
      "Iteration   1  <A u 1 , A u 1 >_{-1}^0.5 =  0.0011648030813156509\n",
      "Iteration   2  <A u 2 , A u 2 >_{-1}^0.5 =  3.687438327773416e-08\n",
      "Iteration   3  <A u 3 , A u 3 >_{-1}^0.5 =  3.3388907740001446e-14\n"
     ]
    }
   ],
   "source": [
    "am_3 = BilinearForm(fesm)\n",
    "am_3 += (-grad(sigma)*grad(v) - axial_load_3*grad(psi)*grad(v) + 1/2*grad(psi)*grad(v)*mu + sigma*tau \\\n",
    "       + grad(psi)*grad(tau) + mu*lamda - grad(psi)**2*lamda )*dx\n",
    "\n",
    "gfu_3 = GridFunction(fesm)\n",
    "\n",
    "def SimpleNewtonSolve(gfu,am_3,tol=1e-13,maxits=25):\n",
    "    res = gfu.vec.CreateVector()\n",
    "    du = gfu.vec.CreateVector()\n",
    "    fes = gfu.space\n",
    "    for it in range(maxits):\n",
    "        print (\"Iteration {:3}  \".format(it),end=\"\")\n",
    "        am_3.Apply(gfu.vec, res)\n",
    "        am_3.AssembleLinearization(gfu.vec)\n",
    "        du.data = am_3.mat.Inverse(fes.FreeDofs()) * res\n",
    "        gfu.vec.data -= du\n",
    "\n",
    "        #stopping criteria\n",
    "        stopcritval = sqrt(abs(InnerProduct(du,res)))\n",
    "        print (\"<A u\",it,\", A u\",it,\">_{-1}^0.5 = \", stopcritval)\n",
    "        if stopcritval < tol:\n",
    "            break\n",
    "gfu_3.components[0].Set(psi_ex_3)\n",
    "SimpleNewtonSolve(gfu_3,am_3)"
   ]
  },
  {
   "cell_type": "code",
   "execution_count": 12,
   "id": "0177e551",
   "metadata": {},
   "outputs": [
    {
     "data": {
      "application/vnd.jupyter.widget-view+json": {
       "model_id": "ce422f5f6e074044b25e15a5bd06eacc",
       "version_major": 2,
       "version_minor": 0
      },
      "text/plain": [
       "WebGuiWidget(layout=Layout(height='50vh', width='100%'), value={'gui_settings': {}, 'ngsolve_version': '6.2.22…"
      ]
     },
     "metadata": {},
     "output_type": "display_data"
    },
    {
     "data": {
      "application/vnd.jupyter.widget-view+json": {
       "model_id": "ce353f9cb0ff46e0888369ebd86eed4d",
       "version_major": 2,
       "version_minor": 0
      },
      "text/plain": [
       "WebGuiWidget(layout=Layout(height='50vh', width='100%'), value={'gui_settings': {}, 'ngsolve_version': '6.2.22…"
      ]
     },
     "metadata": {},
     "output_type": "display_data"
    },
    {
     "data": {
      "application/vnd.jupyter.widget-view+json": {
       "model_id": "e3f6c3401bc94e8989fd42c65aea5fbe",
       "version_major": 2,
       "version_minor": 0
      },
      "text/plain": [
       "WebGuiWidget(layout=Layout(height='50vh', width='100%'), value={'gui_settings': {}, 'ngsolve_version': '6.2.22…"
      ]
     },
     "metadata": {},
     "output_type": "display_data"
    },
    {
     "data": {
      "text/plain": [
       "BaseWebGuiScene"
      ]
     },
     "execution_count": 12,
     "metadata": {},
     "output_type": "execute_result"
    }
   ],
   "source": [
    "Draw(gfu_1.components[0],mesh,deformation=CF((0,gfu_1.components[0],0)))\n",
    "\n",
    "Draw(gfu_2.components[0],mesh,deformation=CF((0,gfu_2.components[0],0)))\n",
    "Draw(gfu_3.components[0],mesh,deformation=CF((0,gfu_3.components[0],0)))"
   ]
  },
  {
   "cell_type": "code",
   "execution_count": 13,
   "id": "a6d18d02",
   "metadata": {},
   "outputs": [
    {
     "name": "stdout",
     "output_type": "stream",
     "text": [
      "L2-error: 9.559796932367998e-05\n",
      "L2-error: 4.9576242435292274e-05\n",
      "L2-error: 5.099403316733787e-05\n"
     ]
    }
   ],
   "source": [
    "print (\"L2-error:\", sqrt(Integrate((gfu_1.components[0] - psi_ex_1)**2, mesh)))\n",
    "print (\"L2-error:\", sqrt(Integrate((gfu_2.components[0] - psi_ex_2)**2, mesh)))\n",
    "print (\"L2-error:\", sqrt(Integrate((gfu_3.components[0] - psi_ex_3)**2, mesh)))"
   ]
  },
  {
   "cell_type": "code",
   "execution_count": 23,
   "id": "df4931a2",
   "metadata": {},
   "outputs": [
    {
     "data": {
      "text/plain": [
       "Text(0.5, 1.0, 'Numerical Solution Second Mode')"
      ]
     },
     "execution_count": 23,
     "metadata": {},
     "output_type": "execute_result"
    },
    {
     "data": {
      "image/png": "[encoded data removed]",
      "text/plain": [
       "<Figure size 432x288 with 1 Axes>"
      ]
     },
     "metadata": {
      "needs_background": "light"
     },
     "output_type": "display_data"
    }
   ],
   "source": [
    "import numpy as np\n",
    "import matplotlib.pyplot as plt\n",
    "x=np.linspace(0,1,100)\n",
    "gfu_1.components[0](mesh(x))\n",
    "gfu_2.components[0](mesh(x))\n",
    "gfu_3.components[0](mesh(x))\n",
    "plt.plot(x,gfu_1.components[0](mesh(x)),color='black',label='P = 8.28$\\pi^2$',linestyle=\"-\")\n",
    "plt.plot(x,gfu_2.components[0](mesh(x)),color='black',label='P = 9.0$\\pi^2$',linestyle=\"--\")\n",
    "plt.plot(x,gfu_3.components[0](mesh(x)),color='black',label='P = 9.5$\\pi^2$',linestyle=\"-.\")\n",
    "plt.legend()\n",
    "plt.ylim([-3, 3])\n",
    "plt.xlim([0.0, 1.0])\n",
    "plt.title(\"Numerical Solution Second Mode\")"
   ]
  },
  {
   "cell_type": "code",
   "execution_count": null,
   "id": "295c79da",
   "metadata": {},
   "outputs": [],
   "source": []
  }
 ],
 "metadata": {
  "kernelspec": {
   "display_name": "Python 3 (ipykernel)",
   "language": "python",
   "name": "python3"
  },
  "language_info": {
   "codemirror_mode": {
    "name": "ipython",
    "version": 3
   },
   "file_extension": ".py",
   "mimetype": "text/x-python",
   "name": "python",
   "nbconvert_exporter": "python",
   "pygments_lexer": "ipython3",
   "version": "3.10.6"
  }
 },
 "nbformat": 4,
 "nbformat_minor": 5
}

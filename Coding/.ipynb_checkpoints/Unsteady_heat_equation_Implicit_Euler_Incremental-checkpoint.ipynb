{
 "cells": [
  {
   "cell_type": "code",
   "execution_count": null,
   "id": "3b29f74c",
   "metadata": {},
   "outputs": [],
   "source": [
    "from ngsolve import *\n",
    "from math import pi\n",
    "from netgen.geom2d import SplineGeometry\n",
    "from ngsolve.webgui import Draw"
   ]
  },
  {
   "cell_type": "code",
   "execution_count": null,
   "id": "015cf1e2",
   "metadata": {},
   "outputs": [],
   "source": [
    "geo = SplineGeometry()\n",
    "geo.AddRectangle( (-1, -1), (1, 1), \n",
    "                 bcs = (\"bottom\", \"right\", \"top\", \"left\"))\n",
    "mesh = Mesh( geo.GenerateMesh(maxh=0.25))\n",
    "# Draw(mesh)\n",
    "fes = H1(mesh, order=3, dirichlet=\"bottom|right|left|top\")\n",
    "\n",
    "u,v = fes.TnT()\n",
    "\n",
    "time = 0.0\n",
    "dt = 0.001"
   ]
  },
  {
   "cell_type": "code",
   "execution_count": null,
   "id": "74ea123e",
   "metadata": {},
   "outputs": [],
   "source": [
    "b = CoefficientFunction((2*y*(1-x*x),-2*x*(1-y*y)))\n",
    "# Draw(b,mesh,\"wind\")\n",
    "from ngsolve.internal import visoptions\n",
    "visoptions.scalfunction = \"wind:0\""
   ]
  },
  {
   "cell_type": "code",
   "execution_count": null,
   "id": "d3bff3bf",
   "metadata": {},
   "outputs": [],
   "source": [
    "a = BilinearForm(fes, symmetric=False)\n",
    "a += 0.01*grad(u)*grad(v)*dx + b*grad(u)*v*dx\n",
    "a.Assemble()\n",
    "\n",
    "m = BilinearForm(fes, symmetric=False)\n",
    "m += u*v*dx\n",
    "m.Assemble()"
   ]
  },
  {
   "cell_type": "code",
   "execution_count": null,
   "id": "91e1bde1",
   "metadata": {},
   "outputs": [],
   "source": [
    "gfu = GridFunction(fes)"
   ]
  },
  {
   "cell_type": "code",
   "execution_count": null,
   "id": "1945ff45",
   "metadata": {},
   "outputs": [],
   "source": [
    "mstar = m.mat.CreateMatrix()\n",
    "mstar.AsVector().data = m.mat.AsVector() + dt * a.mat.AsVector()\n",
    "invmstar = mstar.Inverse(freedofs=fes.FreeDofs())"
   ]
  },
  {
   "cell_type": "code",
   "execution_count": null,
   "id": "1c015555",
   "metadata": {},
   "outputs": [],
   "source": [
    "t = Parameter(0.0)"
   ]
  },
  {
   "cell_type": "code",
   "execution_count": null,
   "id": "938bc460",
   "metadata": {},
   "outputs": [],
   "source": [
    "omega=1\n",
    "gausspt = exp(-6*((x+sin(omega*t))*(x+sin(omega*t))+y*y))-exp(-6*((x-sin(omega*t))*(x-sin(omega*t))+y*y))\n",
    "# scene = Draw(gausspt,mesh,\"ft\",order=3)\n",
    "# time = 0.0\n",
    "# from time import sleep\n",
    "# while time < 10 - 0.5 * dt:\n",
    "#     t.Set(time)\n",
    "#     scene.Redraw()\n",
    "#     time += 1e-3\n",
    "#     sleep(1e-6)"
   ]
  },
  {
   "cell_type": "code",
   "execution_count": null,
   "id": "ea70d703",
   "metadata": {},
   "outputs": [],
   "source": [
    "ft = LinearForm(fes)\n",
    "ft += gausspt*v*dx\n",
    "time = 0.0\n",
    "t.Set(0.0)\n",
    "gfu.Set((1-y*y)*x)\n",
    "#gfu.Set(CoefficientFunction(0))\n",
    "scene = Draw(gfu,mesh,\"u\")"
   ]
  },
  {
   "cell_type": "code",
   "execution_count": null,
   "id": "59106fa7",
   "metadata": {},
   "outputs": [],
   "source": [
    "tstep = 10 # time that we want to step over within one block-run\n",
    "t_intermediate=0 # time counter within one block-run\n",
    "res = gfu.vec.CreateVector()\n",
    "while t_intermediate < tstep - 0.5 * dt:\n",
    "    t.Set(time+t_intermediate+dt)\n",
    "#     ft.Assemble()\n",
    "    res.data = dt*ft.vec - dt * a.mat * gfu.vec\n",
    "    gfu.vec.data += invmstar * res\n",
    "    t_intermediate += dt\n",
    "    print(\"\\r\",time+t_intermediate,end=\"\")\n",
    "    scene.Redraw()\n",
    "print(\"\")\n",
    "time+=t_intermediate"
   ]
  },
  {
   "cell_type": "code",
   "execution_count": null,
   "id": "715396f2",
   "metadata": {},
   "outputs": [],
   "source": []
  }
 ],
 "metadata": {
  "kernelspec": {
   "display_name": "Python 3 (ipykernel)",
   "language": "python",
   "name": "python3"
  },
  "language_info": {
   "codemirror_mode": {
    "name": "ipython",
    "version": 3
   },
   "file_extension": ".py",
   "mimetype": "text/x-python",
   "name": "python",
   "nbconvert_exporter": "python",
   "pygments_lexer": "ipython3",
   "version": "3.8.10"
  }
 },
 "nbformat": 4,
 "nbformat_minor": 5
}

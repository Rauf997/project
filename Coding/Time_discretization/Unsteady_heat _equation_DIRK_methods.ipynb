{
 "cells": [
  {
   "cell_type": "code",
   "execution_count": 1,
   "id": "abbcbdf1",
   "metadata": {},
   "outputs": [],
   "source": [
    "from ngsolve import *\n",
    "from math import pi\n",
    "from netgen.geom2d import SplineGeometry\n",
    "from ngsolve.webgui import Draw"
   ]
  },
  {
   "cell_type": "code",
   "execution_count": 2,
   "id": "2127a663",
   "metadata": {},
   "outputs": [],
   "source": [
    "geo = SplineGeometry()\n",
    "geo.AddRectangle( (-1, -1), (1, 1), \n",
    "                 bcs = (\"bottom\", \"right\", \"top\", \"left\"))\n",
    "mesh = Mesh( geo.GenerateMesh(maxh=0.25))\n",
    "# Draw(mesh)\n",
    "fes = H1(mesh, order=3, dirichlet=\"bottom|right|left|top\")\n",
    "\n",
    "u,v = fes.TnT()\n",
    "\n",
    "time = 0.0\n",
    "dt = 0.001"
   ]
  },
  {
   "cell_type": "code",
   "execution_count": 3,
   "id": "37d32d3b",
   "metadata": {},
   "outputs": [],
   "source": [
    "b = CoefficientFunction((2*y*(1-x*x),-2*x*(1-y*y)))\n",
    "# Draw(b,mesh,\"wind\")\n",
    "from ngsolve.internal import visoptions\n",
    "visoptions.scalfunction = \"wind:0\""
   ]
  },
  {
   "cell_type": "code",
   "execution_count": 4,
   "id": "8f3a19cd",
   "metadata": {},
   "outputs": [
    {
     "data": {
      "text/plain": [
       "<ngsolve.comp.BilinearForm at 0x7f3e56ef32b0>"
      ]
     },
     "execution_count": 4,
     "metadata": {},
     "output_type": "execute_result"
    }
   ],
   "source": [
    "a = BilinearForm(fes, symmetric=False)\n",
    "a += 0.01*grad(u)*grad(v)*dx + b*grad(u)*v*dx\n",
    "a.Assemble()\n",
    "\n",
    "m = BilinearForm(fes, symmetric=False)\n",
    "m += u*v*dx\n",
    "m.Assemble()"
   ]
  },
  {
   "cell_type": "code",
   "execution_count": 5,
   "id": "f2d71c21",
   "metadata": {},
   "outputs": [],
   "source": [
    "gfu = GridFunction(fes)"
   ]
  },
  {
   "cell_type": "code",
   "execution_count": 6,
   "id": "d994d664",
   "metadata": {},
   "outputs": [],
   "source": [
    "t = Parameter(0.0)"
   ]
  },
  {
   "cell_type": "code",
   "execution_count": 7,
   "id": "9c638615",
   "metadata": {},
   "outputs": [],
   "source": [
    "omega=1\n",
    "gausspt = exp(-6*((x+sin(omega*t))*(x+sin(omega*t))+y*y))-exp(-6*((x-sin(omega*t))*(x-sin(omega*t))+y*y))\n",
    "# scene = Draw(gausspt,mesh,\"ft\",order=3)\n",
    "# time = 0.0\n",
    "# from time import sleep\n",
    "# while time < 10 - 0.5 * dt:\n",
    "#     t.Set(time)\n",
    "#     scene.Redraw()\n",
    "#     time += 1e-3\n",
    "#     sleep(1e-6)"
   ]
  },
  {
   "cell_type": "code",
   "execution_count": 8,
   "id": "3cadd971",
   "metadata": {},
   "outputs": [],
   "source": [
    "class sdirk1: #order 1 (implicit Euler)\n",
    "    stages = 1\n",
    "    a = [[1]]\n",
    "    b = [1]\n",
    "    c = [1]\n",
    "    astar = 1"
   ]
  },
  {
   "cell_type": "code",
   "execution_count": 9,
   "id": "535d0a72",
   "metadata": {},
   "outputs": [],
   "source": [
    "class sdirk2: #order 3\n",
    "    p = (3 - sqrt(3))/6\n",
    "    stages = 2\n",
    "    a = [[p, 0], \n",
    "         [1 - 2*p, p]]\n",
    "    b = [1/2, 1/2]\n",
    "    c = [p, 1 - p]\n",
    "    astar = p"
   ]
  },
  {
   "cell_type": "code",
   "execution_count": 10,
   "id": "806ce0fd",
   "metadata": {},
   "outputs": [],
   "source": [
    "class sdirk5: #order 4\n",
    "    stages = 5\n",
    "    a = [[1/4, 0, 0, 0, 0], \n",
    "         [1/2, 1/4, 0, 0, 0], \n",
    "         [17/50,-1/25, 1/4, 0, 0],\n",
    "         [371/1360, -137/2720, 15/544, 1/4,0],\n",
    "         [25/24, -49/48, 125/16, -85/12, 1/4]]\n",
    "    b = [25/24, -49/48, 125/16, -85/12, 1/4]\n",
    "    c = [1/4, 3/4, 11/20, 1/2, 1]\n",
    "    astar = 1/4    "
   ]
  },
  {
   "cell_type": "code",
   "execution_count": 11,
   "id": "ed434427",
   "metadata": {},
   "outputs": [],
   "source": [
    "butchertab = sdirk5()   \n",
    "rhsi = gfu.vec.CreateVector()\n",
    "Mu0 = gfu.vec.CreateVector()\n",
    "ui = gfu.vec.CreateVector()\n",
    "k = [gfu.vec.CreateVector() for i in range(butchertab.stages)]"
   ]
  },
  {
   "cell_type": "code",
   "execution_count": 12,
   "id": "61e405e5",
   "metadata": {},
   "outputs": [
    {
     "data": {
      "application/vnd.jupyter.widget-view+json": {
       "model_id": "7a6d774b38124f95bb8efd274f78c6fa",
       "version_major": 2,
       "version_minor": 0
      },
      "text/plain": [
       "WebGuiWidget(layout=Layout(height='50vh', width='100%'), value={'gui_settings': {}, 'ngsolve_version': '6.2.23…"
      ]
     },
     "metadata": {},
     "output_type": "display_data"
    }
   ],
   "source": [
    "ft = LinearForm(fes)\n",
    "ft += gausspt*v*dx\n",
    "# uD = ((1-y*y)*x)\n",
    "time = 0.0\n",
    "t.Set(0.0)\n",
    "gfu.Set(((1-y*y)*x))\n",
    "scene = Draw(gfu,mesh,\"u\")\n",
    "# visualization stuff\n",
    "from ngsolve.internal import *\n",
    "visoptions.mminval = 0.0\n",
    "visoptions.mmaxval = 0.2\n",
    "visoptions.deformation = 0\n",
    "visoptions.autoscale = 0\n",
    "\n",
    "mstar = m.mat.CreateMatrix()\n",
    "mstar.AsVector().data = m.mat.AsVector() + butchertab.astar * dt * a.mat.AsVector()\n",
    "invmstar = mstar.Inverse(freedofs=fes.FreeDofs())\n",
    "invmass = m.mat.Inverse(freedofs=fes.FreeDofs())"
   ]
  },
  {
   "cell_type": "code",
   "execution_count": 13,
   "id": "f87871fc",
   "metadata": {},
   "outputs": [
    {
     "name": "stdout",
     "output_type": "stream",
     "text": [
      " 9.999999999999897676\n"
     ]
    }
   ],
   "source": [
    "tstep = 10 # time that we want to step over within one block-run\n",
    "t_intermediate=0 # time counter within one block-run\n",
    "while t_intermediate < tstep - 0.5 * dt:\n",
    "    ft.Assemble()\n",
    "    Mu0.data = m.mat * gfu.vec + dt*ft.vec\n",
    "    for i in range(butchertab.stages):\n",
    "        # add up the ks as prescribed in the butcher tableau\n",
    "        rhsi.data = Mu0\n",
    "        for j in range(0,i):\n",
    "            rhsi.data += dt * butchertab.a[i][j] * k[j]\n",
    "        # Solve for ui (with homogenization for the boundary data)\n",
    "        t.Set(time+t_intermediate+butchertab.c[i]*dt)\n",
    "        gfu.Set(((1-y*y)*x))\n",
    "        ui.data = gfu.vec; rhsi.data -= mstar * ui\n",
    "        ui.data += invmstar * rhsi\n",
    "        # compute k[i] from ui\n",
    "        k[i].data = - a.mat * ui\n",
    "    t_intermediate += dt; t.Set(time+t_intermediate)\n",
    "    # Adding up the ks:\n",
    "    gfu.Set(((1-y*y)*x))\n",
    "    Mu0.data -= m.mat * gfu.vec\n",
    "    for i in range(0,butchertab.stages):\n",
    "        Mu0.data += dt * butchertab.b[i] * k[i]\n",
    "    gfu.vec.data += invmass * Mu0        \n",
    "    print(\"\\r\",time+t_intermediate,end=\"\")\n",
    "    scene.Redraw()\n",
    "print(\"\"); time+=t_intermediate  "
   ]
  },
  {
   "cell_type": "code",
   "execution_count": null,
   "id": "e6a7fa49",
   "metadata": {},
   "outputs": [],
   "source": []
  }
 ],
 "metadata": {
  "kernelspec": {
   "display_name": "Python 3 (ipykernel)",
   "language": "python",
   "name": "python3"
  },
  "language_info": {
   "codemirror_mode": {
    "name": "ipython",
    "version": 3
   },
   "file_extension": ".py",
   "mimetype": "text/x-python",
   "name": "python",
   "nbconvert_exporter": "python",
   "pygments_lexer": "ipython3",
   "version": "3.8.10"
  }
 },
 "nbformat": 4,
 "nbformat_minor": 5
}

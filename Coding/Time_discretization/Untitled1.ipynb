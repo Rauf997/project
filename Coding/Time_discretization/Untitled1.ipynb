{
 "cells": [
  {
   "cell_type": "code",
   "execution_count": null,
   "id": "991046f2",
   "metadata": {},
   "outputs": [],
   "source": [
    "from ngsolve import *\n",
    "from ngsolve.webgui import Draw\n",
    "from netgen.geom2d import SplineGeometry"
   ]
  },
  {
   "cell_type": "code",
   "execution_count": null,
   "id": "24e8f4ce",
   "metadata": {},
   "outputs": [],
   "source": [
    "E  = 1e4\n",
    "nu = 0.3\n",
    "t  = 1e-2#1e-4#1e-2\n",
    "q  = 1e-1#1e-8#1e-2\n",
    "D  = (E*t**3)/(12*(1-nu**2))\n",
    "\n",
    "\n",
    "geo = SplineGeometry()\n",
    "geo.AddRectangle( (-1, -1), (1, 1), \n",
    "                 bcs = (\"bottom\", \"right\", \"top\", \"left\"))\n",
    "mesh = Mesh( geo.GenerateMesh(maxh=0.1))\n",
    "Draw(mesh)"
   ]
  },
  {
   "cell_type": "code",
   "execution_count": null,
   "id": "0b37b9a2",
   "metadata": {},
   "outputs": [],
   "source": [
    "def MaterialInv(mat):\n",
    "    return 1/D*(1/(1-nu)*mat-nu/(1-nu**2)*Trace(mat)*Id(2))"
   ]
  },
  {
   "cell_type": "code",
   "execution_count": null,
   "id": "ff4c6b04",
   "metadata": {},
   "outputs": [],
   "source": [
    "V = HDivDiv(mesh, order=1)\n",
    "Q = H1(mesh, order=2, dirichlet=\".*\")\n",
    "w_1 = NumberSpace(mesh)\n",
    "fesm = V*Q*w_1"
   ]
  },
  {
   "cell_type": "code",
   "execution_count": null,
   "id": "675da4a3",
   "metadata": {},
   "outputs": [],
   "source": [
    "sigma, w, w_1= fesm.TrialFunction()\n",
    "tau, v, v_1 = fesm.TestFunction()\n",
    "time = 0.0\n",
    "dt = 0.01"
   ]
  },
  {
   "cell_type": "code",
   "execution_count": null,
   "id": "bf8012d2",
   "metadata": {},
   "outputs": [],
   "source": [
    "n = specialcf.normal(2)\n",
    "\n",
    "def tang(u): return u-(u*n)*n\n",
    "\n",
    "a = BilinearForm(fesm, symmetric=False)\n",
    "a += (InnerProduct (MaterialInv(sigma), tau) + div(sigma)*grad(v) \\\n",
    "          + div(tau)*grad(w) )*dx -w_1*v_1*dx\\\n",
    "          + (-(sigma*n) * tang(grad(v)) - (tau*n)*tang(grad(w)))*dx(element_boundary=True)\n",
    "a.Assemble()\n",
    "\n",
    "m = BilinearForm(fesm, symmetric=False)\n",
    "m += w_1*v*dx - w_1*v_1*dx\n",
    "m.Assemble()"
   ]
  },
  {
   "cell_type": "code",
   "execution_count": null,
   "id": "23a6694e",
   "metadata": {},
   "outputs": [],
   "source": [
    "mstar = m.mat.CreateMatrix()\n",
    "mstar.AsVector().data = m.mat.AsVector() + dt/4 * a.mat.AsVector()\n",
    "invmstar = mstar.Inverse(freedofs=fesm.FreeDofs())"
   ]
  },
  {
   "cell_type": "code",
   "execution_count": null,
   "id": "04fd2a19",
   "metadata": {},
   "outputs": [],
   "source": [
    "gfu = GridFunction(fesm)"
   ]
  },
  {
   "cell_type": "code",
   "execution_count": null,
   "id": "822d265c",
   "metadata": {},
   "outputs": [],
   "source": [
    "t = Parameter(0.0)"
   ]
  },
  {
   "cell_type": "code",
   "execution_count": null,
   "id": "2eb667ff",
   "metadata": {},
   "outputs": [],
   "source": [
    "# gausspt = pi**2*sin(pi*(x+1))**4*sin(pi*(y+1))**4*cos(2*pi*t)*(-4+56*pi**2)\\\n",
    "#     + pi**4*sin(pi*(x+1))**2*sin(pi*(y+1))**2*cos(pi*(y+1))**2*cos(2*pi*t)\\\n",
    "#       *(-48*sin(pi*(x+1))**2 + 144*cos(pi*(x+1))**2) \\\n",
    "# + pi**4*sin(pi*(x+1))**2*sin(pi*(y+1))**3*cos(pi*(x+1))*cos(2*pi*t)\\\n",
    "# *(-160*sin(pi*(x+1))*cos(pi*(y+1)) - 240*sin(pi*(y+1))*cos(pi*(x+1)))\\\n",
    "# +pi**4*sin(pi*(y+1))**3*cos(pi*(x+1))**3*cos(2*pi*t)*(96*sin(pi*(x+1))\\\n",
    "# *cos(pi*(y+1))+24*sin(pi*(y+1))*cos(pi*(x+1)))\n",
    "gausspt = sin(pi*(x+1))**4*sin(pi*(y+1))**4*cos(2*pi*t)\n",
    "ft = LinearForm(fesm)\n",
    "ft += gausspt*v*dx\n",
    "time = 0.0\n",
    "t.Set(0.0)\n",
    "gfu.components[1].Set((sin(pi*(x+1))**4*sin(pi*(y+1))**4))\n",
    "scene = Draw(gfu.components[1],mesh)"
   ]
  },
  {
   "cell_type": "code",
   "execution_count": null,
   "id": "c63255d0",
   "metadata": {},
   "outputs": [],
   "source": [
    "tstep = 10 # time that we want to step over within one block-run\n",
    "t_intermediate=0 # time counter within one block-run\n",
    "res = gfu.vec.CreateVector()\n",
    "while t_intermediate < tstep - 0.5 * dt:\n",
    "    t.Set(time+t_intermediate)\n",
    "    ft.Assemble()\n",
    "    k_1 = invmstar*(ft.vec - a.mat*gfu.vec)\n",
    "    k_2 = invmstar*(ft.vec-a.mat*(gfu.vec + dt/2*k_1))\n",
    "    gfu.vec.data = gfu.vec + dt/2*(k_1 +k_2)\n",
    "    t_intermediate += dt\n",
    "    print(\"\\r\",time+t_intermediate,end=\"\")\n",
    "    scene.Redraw()\n",
    "print(\"\")\n",
    "time+=t_intermediate"
   ]
  },
  {
   "cell_type": "code",
   "execution_count": null,
   "id": "1a9ed2cd",
   "metadata": {},
   "outputs": [],
   "source": [
    "# ft = LinearForm(fesm)\n",
    "# ft += v*dx\n",
    "# time = 0.0\n",
    "# t.Set(0.0)\n",
    "# gfw.Set((sin(pi*(x+1))**4*sin(pi*(y+1))**4))\n",
    "# scene = Draw(gfw,mesh)\n",
    "\n",
    "# from ngsolve.internal import *\n",
    "# visoptions.mminval = 0.0\n",
    "# visoptions.mmaxval = 0.2\n",
    "# visoptions.deformation = 0\n",
    "# visoptions.autoscale = 0"
   ]
  },
  {
   "cell_type": "code",
   "execution_count": null,
   "id": "2bb20306",
   "metadata": {},
   "outputs": [],
   "source": [
    "tstep = 10 # time that we want to step over within one block-run\n",
    "t_intermediate=0 # time counter within one block-run\n",
    "res = gfsol.vec.CreateVector()\n",
    "while t_intermediate < tstep - 0.5 * dt:\n",
    "    t.Set(time+t_intermediate)\n",
    "    ft.Assemble()\n",
    "    k_1 = invmstar*(ft.vec - a.mat*gfw.vec)\n",
    "    k_2 = invmstar*(ft.vec-a.mat*(gfw.vec + dt/2*k_1))\n",
    "    gfsol.data = gfw.vec + dt/2*(k_1 +k_2)\n",
    "    t_intermediate += dt\n",
    "    scene.Redraw()\n",
    "print(\"\")\n",
    "time+=t_intermediate"
   ]
  },
  {
   "cell_type": "code",
   "execution_count": null,
   "id": "cf3ff140",
   "metadata": {},
   "outputs": [],
   "source": []
  },
  {
   "cell_type": "code",
   "execution_count": null,
   "id": "426b87ec",
   "metadata": {},
   "outputs": [],
   "source": []
  }
 ],
 "metadata": {
  "kernelspec": {
   "display_name": "Python 3 (ipykernel)",
   "language": "python",
   "name": "python3"
  },
  "language_info": {
   "codemirror_mode": {
    "name": "ipython",
    "version": 3
   },
   "file_extension": ".py",
   "mimetype": "text/x-python",
   "name": "python",
   "nbconvert_exporter": "python",
   "pygments_lexer": "ipython3",
   "version": "3.8.10"
  }
 },
 "nbformat": 4,
 "nbformat_minor": 5
}

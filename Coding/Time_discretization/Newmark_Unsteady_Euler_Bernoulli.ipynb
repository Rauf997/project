{
 "cells": [
  {
   "cell_type": "markdown",
   "id": "06200696",
   "metadata": {},
   "source": [
    "# Unsteady Euler-Bernoulli Beam Equation\n",
    "\n",
    "\\begin{align}\n",
    "\\frac{\\partial^{4} u(x,t)}{\\partial x^4} + \\frac{\\partial^{2} u(x,t)}{\\partial t^2} = f(x,t),\\\\\n",
    "u(x,0) = u_t(x,0) = 0, \\quad x\\in[0,1],\\\\\n",
    "u(0,t) = u(1,t) = u_x(0,t) = u_x(1,t)=0, \\quad t\\geq 0.\n",
    "\\end{align}\n",
    "\n",
    "The exact solution of beam deflection is as follows: \n",
    "\\begin{align}\n",
    "u(x,t) = x(1-x)\\text{sin}(4\\pi x)t^2 e^{-t}\n",
    "\\end{align}\n",
    "\n",
    "## Weak Form:\n",
    "\n",
    "\\begin{align}\n",
    "\\int_\\Omega \\partial_{tt} u v + \\int_\\Omega \\sigma^{'}v^{'} + \\int_\\Omega \\sigma \\tau + \\int_\\Omega u^{'}\\tau^{'} = \\int_\\Omega f v\n",
    "\\end{align}\n",
    "\n",
    "## Integral Form:\n",
    "\n",
    "\n",
    "\\begin{align}\n",
    "\\textbf{M}\\ddot{u}_{n} + \\textbf{K}u_{n} = f_n\\\\\n",
    "\\text{where} \\quad \\textbf{M} \\quad \\text{is} \\quad \\text{mass} \\quad \\text{matrix}  and \\textbf{K}\n",
    "\\end{align}\n"
   ]
  },
  {
   "cell_type": "code",
   "execution_count": 1,
   "id": "627d9c29",
   "metadata": {},
   "outputs": [],
   "source": [
    "from ngsolve import *\n",
    "from ngsolve.meshes import Make1DMesh\n",
    "from ngsolve.webgui import Draw\n",
    "import numpy as np\n",
    "import math"
   ]
  },
  {
   "cell_type": "code",
   "execution_count": 2,
   "id": "14b4c172",
   "metadata": {},
   "outputs": [],
   "source": [
    "mesh = Make1DMesh(100)"
   ]
  },
  {
   "cell_type": "code",
   "execution_count": 3,
   "id": "39ae8cc3",
   "metadata": {},
   "outputs": [],
   "source": [
    "u = H1(mesh, order=2, dirichlet=\"left|right\")\n",
    "sigma = H1(mesh, order=2, dirichlet=\" \")\n",
    "fesm = u*sigma"
   ]
  },
  {
   "cell_type": "code",
   "execution_count": 4,
   "id": "c76ef0d4",
   "metadata": {},
   "outputs": [],
   "source": [
    "u, sigma= fesm.TrialFunction()\n",
    "v, tau = fesm.TestFunction()\n",
    "\n",
    "time = 0.0\n",
    "dt = 0.5"
   ]
  },
  {
   "cell_type": "code",
   "execution_count": 5,
   "id": "e0d4f488",
   "metadata": {},
   "outputs": [],
   "source": [
    "gfu = GridFunction(fesm)\n",
    "gfvel = GridFunction(fesm)\n",
    "gfacc = GridFunction(fesm)\n",
    "\n",
    "gfunew = GridFunction(fesm)\n",
    "gfaccnew = GridFunction(fesm)"
   ]
  },
  {
   "cell_type": "code",
   "execution_count": 6,
   "id": "e406c23e",
   "metadata": {},
   "outputs": [
    {
     "data": {
      "text/plain": [
       "<ngsolve.comp.BilinearForm at 0x7fd1b1e24eb0>"
      ]
     },
     "execution_count": 6,
     "metadata": {},
     "output_type": "execute_result"
    }
   ],
   "source": [
    "a = BilinearForm(fesm, symmetric=False)\n",
    "a += -grad(sigma)*grad(v)*dx + sigma*tau*dx + grad(u)*grad(tau)*dx\n",
    "a.Assemble()\n",
    "\n",
    "m = BilinearForm(fesm, symmetric=False)\n",
    "m += u*v*dx\n",
    "m.Assemble()"
   ]
  },
  {
   "cell_type": "code",
   "execution_count": 7,
   "id": "4f62ebbb",
   "metadata": {},
   "outputs": [
    {
     "ename": "NgException",
     "evalue": "UmfpackInverse: Numeric factorization failed.",
     "output_type": "error",
     "traceback": [
      "\u001b[0;31m---------------------------------------------------------------------------\u001b[0m",
      "\u001b[0;31mNgException\u001b[0m                               Traceback (most recent call last)",
      "Cell \u001b[0;32mIn[7], line 4\u001b[0m\n\u001b[1;32m      2\u001b[0m mstar\u001b[38;5;241m.\u001b[39mAsVector()\u001b[38;5;241m.\u001b[39mdata \u001b[38;5;241m=\u001b[39m m\u001b[38;5;241m.\u001b[39mmat\u001b[38;5;241m.\u001b[39mAsVector() \u001b[38;5;241m+\u001b[39m dt\u001b[38;5;241m/\u001b[39m\u001b[38;5;241m4\u001b[39m\u001b[38;5;241m*\u001b[39m a\u001b[38;5;241m.\u001b[39mmat\u001b[38;5;241m.\u001b[39mAsVector()\n\u001b[1;32m      3\u001b[0m invmstar \u001b[38;5;241m=\u001b[39m mstar\u001b[38;5;241m.\u001b[39mInverse(freedofs\u001b[38;5;241m=\u001b[39mfesm\u001b[38;5;241m.\u001b[39mFreeDofs())\n\u001b[0;32m----> 4\u001b[0m invmass \u001b[38;5;241m=\u001b[39m \u001b[43mm\u001b[49m\u001b[38;5;241;43m.\u001b[39;49m\u001b[43mmat\u001b[49m\u001b[38;5;241;43m.\u001b[39;49m\u001b[43mInverse\u001b[49m\u001b[43m(\u001b[49m\u001b[43mfreedofs\u001b[49m\u001b[38;5;241;43m=\u001b[39;49m\u001b[43mfesm\u001b[49m\u001b[38;5;241;43m.\u001b[39;49m\u001b[43mFreeDofs\u001b[49m\u001b[43m(\u001b[49m\u001b[43m)\u001b[49m\u001b[43m)\u001b[49m\n",
      "\u001b[0;31mNgException\u001b[0m: UmfpackInverse: Numeric factorization failed."
     ]
    }
   ],
   "source": [
    "mstar = m.mat.CreateMatrix()\n",
    "mstar.AsVector().data = m.mat.AsVector() + dt/4* a.mat.AsVector()\n",
    "invmstar = mstar.Inverse(freedofs=fesm.FreeDofs())\n",
    "invmass = m.mat.Inverse(freedofs=fesm.FreeDofs())"
   ]
  },
  {
   "cell_type": "code",
   "execution_count": null,
   "id": "4543c57b",
   "metadata": {},
   "outputs": [],
   "source": []
  }
 ],
 "metadata": {
  "kernelspec": {
   "display_name": "Python 3 (ipykernel)",
   "language": "python",
   "name": "python3"
  },
  "language_info": {
   "codemirror_mode": {
    "name": "ipython",
    "version": 3
   },
   "file_extension": ".py",
   "mimetype": "text/x-python",
   "name": "python",
   "nbconvert_exporter": "python",
   "pygments_lexer": "ipython3",
   "version": "3.8.10"
  }
 },
 "nbformat": 4,
 "nbformat_minor": 5
}

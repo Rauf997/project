{
 "cells": [
  {
   "cell_type": "code",
   "execution_count": 1,
   "id": "eadb022d",
   "metadata": {},
   "outputs": [],
   "source": [
    "from ngsolve import *\n",
    "from ngsolve.webgui import Draw\n",
    "from netgen.geom2d import SplineGeometry"
   ]
  },
  {
   "cell_type": "code",
   "execution_count": 2,
   "id": "fb9f005d",
   "metadata": {},
   "outputs": [
    {
     "data": {
      "application/vnd.jupyter.widget-view+json": {
       "model_id": "837a7a13c4a94455bd28e575068b7533",
       "version_major": 2,
       "version_minor": 0
      },
      "text/plain": [
       "WebGuiWidget(layout=Layout(height='50vh', width='100%'), value={'gui_settings': {}, 'ngsolve_version': '6.2.23…"
      ]
     },
     "metadata": {},
     "output_type": "display_data"
    },
    {
     "data": {
      "text/plain": [
       "BaseWebGuiScene"
      ]
     },
     "execution_count": 2,
     "metadata": {},
     "output_type": "execute_result"
    }
   ],
   "source": [
    "geo = SplineGeometry()\n",
    "geo.AddRectangle( (-1, -1), (1, 1), \n",
    "                 bcs = (\"bottom\", \"right\", \"top\", \"left\"))\n",
    "mesh = Mesh( geo.GenerateMesh(maxh=0.1))\n",
    "Draw(mesh)"
   ]
  },
  {
   "cell_type": "code",
   "execution_count": 14,
   "id": "f5c53020",
   "metadata": {},
   "outputs": [
    {
     "data": {
      "text/latex": [
       "$\\displaystyle - 4 \\pi^{2} \\sin^{4}{\\left(\\pi \\left(x + 1\\right) \\right)} \\sin^{4}{\\left(\\pi \\left(y + 1\\right) \\right)} \\cos{\\left(2 \\pi t \\right)} + 56 \\pi^{4} \\sin^{4}{\\left(\\pi \\left(x + 1\\right) \\right)} \\sin^{4}{\\left(\\pi \\left(y + 1\\right) \\right)} \\cos{\\left(2 \\pi t \\right)} - 48 \\pi^{4} \\sin^{4}{\\left(\\pi \\left(x + 1\\right) \\right)} \\sin^{2}{\\left(\\pi \\left(y + 1\\right) \\right)} \\cos{\\left(2 \\pi t \\right)} \\cos^{2}{\\left(\\pi \\left(y + 1\\right) \\right)} - 160 \\pi^{4} \\sin^{3}{\\left(\\pi \\left(x + 1\\right) \\right)} \\sin^{3}{\\left(\\pi \\left(y + 1\\right) \\right)} \\cos{\\left(2 \\pi t \\right)} \\cos{\\left(\\pi \\left(x + 1\\right) \\right)} \\cos{\\left(\\pi \\left(y + 1\\right) \\right)} - 240 \\pi^{4} \\sin^{2}{\\left(\\pi \\left(x + 1\\right) \\right)} \\sin^{4}{\\left(\\pi \\left(y + 1\\right) \\right)} \\cos{\\left(2 \\pi t \\right)} \\cos^{2}{\\left(\\pi \\left(x + 1\\right) \\right)} + 144 \\pi^{4} \\sin^{2}{\\left(\\pi \\left(x + 1\\right) \\right)} \\sin^{2}{\\left(\\pi \\left(y + 1\\right) \\right)} \\cos{\\left(2 \\pi t \\right)} \\cos^{2}{\\left(\\pi \\left(x + 1\\right) \\right)} \\cos^{2}{\\left(\\pi \\left(y + 1\\right) \\right)} + 96 \\pi^{4} \\sin{\\left(\\pi \\left(x + 1\\right) \\right)} \\sin^{3}{\\left(\\pi \\left(y + 1\\right) \\right)} \\cos{\\left(2 \\pi t \\right)} \\cos^{3}{\\left(\\pi \\left(x + 1\\right) \\right)} \\cos{\\left(\\pi \\left(y + 1\\right) \\right)} + 24 \\pi^{4} \\sin^{4}{\\left(\\pi \\left(y + 1\\right) \\right)} \\cos{\\left(2 \\pi t \\right)} \\cos^{4}{\\left(\\pi \\left(x + 1\\right) \\right)}$"
      ],
      "text/plain": [
       "-4*pi**2*sin(pi*(x + 1))**4*sin(pi*(y + 1))**4*cos(2*pi*t) + 56*pi**4*sin(pi*(x + 1))**4*sin(pi*(y + 1))**4*cos(2*pi*t) - 48*pi**4*sin(pi*(x + 1))**4*sin(pi*(y + 1))**2*cos(2*pi*t)*cos(pi*(y + 1))**2 - 160*pi**4*sin(pi*(x + 1))**3*sin(pi*(y + 1))**3*cos(2*pi*t)*cos(pi*(x + 1))*cos(pi*(y + 1)) - 240*pi**4*sin(pi*(x + 1))**2*sin(pi*(y + 1))**4*cos(2*pi*t)*cos(pi*(x + 1))**2 + 144*pi**4*sin(pi*(x + 1))**2*sin(pi*(y + 1))**2*cos(2*pi*t)*cos(pi*(x + 1))**2*cos(pi*(y + 1))**2 + 96*pi**4*sin(pi*(x + 1))*sin(pi*(y + 1))**3*cos(2*pi*t)*cos(pi*(x + 1))**3*cos(pi*(y + 1)) + 24*pi**4*sin(pi*(y + 1))**4*cos(2*pi*t)*cos(pi*(x + 1))**4"
      ]
     },
     "execution_count": 14,
     "metadata": {},
     "output_type": "execute_result"
    }
   ],
   "source": [
    "from sympy import symbols, simplify, solve, diff, lambdify\n",
    "import sympy as sym\n",
    "from sympy import Symbol\n",
    "import scipy.integrate\n",
    "\n",
    "\n",
    "X,Y,T = symbols(\"x y t\")\n",
    "\n",
    "w_ex = sym.sin(sym.pi*(X+1))**4*sym.sin(sym.pi*(Y+1))**4*sym.cos(2*sym.pi*T)\n",
    "\n",
    "w_diff_x = diff(w_ex, X)\n",
    "\n",
    "w_ddiff_x = diff(w_diff_x,X)\n",
    "\n",
    "w_dddiff_x = diff(w_ddiff_x,X)\n",
    "\n",
    "w_ddddiff_x = diff(w_dddiff_x,X)\n",
    "\n",
    "w_diff_y = diff(w_ex, Y)\n",
    "\n",
    "w_ddiff_y = diff(w_diff_x,Y)\n",
    "\n",
    "w_dddiff_y = diff(w_ddiff_x,Y)\n",
    "\n",
    "w_ddddiff_y = diff(w_dddiff_x,Y)\n",
    "\n",
    "\n",
    "w_ddiff_x_diff_y = diff(w_ddiff_x,Y)\n",
    "w_ddiff_x_ddiff_y = diff(w_ddiff_x_diff_y,Y)\n",
    "\n",
    "w_diff_t = diff(w_ex, T)\n",
    "\n",
    "w_ddiff_t = diff(w_diff_t,T)\n",
    "\n",
    "f = w_ddiff_t + w_ddddiff_x + w_ddddiff_y + w_ddiff_x_ddiff_y\n",
    "f"
   ]
  },
  {
   "cell_type": "code",
   "execution_count": null,
   "id": "52b66feb",
   "metadata": {},
   "outputs": [],
   "source": [
    "t = Parameter(0.0)\n",
    "dt = 0.01\n",
    "w_ex = sin(pi*(x+1))**4*sin(pi*(y+1))**4*cos(2*pi*t)\n",
    "scene = Draw(w_ex,mesh,order=3)\n",
    "time = 0.0\n",
    "from time import sleep\n",
    "while time < 10 - 0.5 * dt:\n",
    "    t.Set(time)\n",
    "    scene.Redraw()\n",
    "    time += 1e-3\n",
    "    sleep(1e-3)"
   ]
  },
  {
   "cell_type": "code",
   "execution_count": null,
   "id": "347a3167",
   "metadata": {
    "scrolled": true
   },
   "outputs": [],
   "source": [
    "w_ex = sin(pi*(x+1))**4*sin(pi*(y+1))**4\n",
    "scene = Draw(w_ex,mesh,order=3)"
   ]
  },
  {
   "cell_type": "code",
   "execution_count": null,
   "id": "ed1b2feb",
   "metadata": {},
   "outputs": [],
   "source": [
    "gfw.set((sin(pi*(x+1))**4*sin(pi*(y+1))**4))\n",
    "Draw(gfw,mesh)"
   ]
  }
 ],
 "metadata": {
  "kernelspec": {
   "display_name": "Python 3 (ipykernel)",
   "language": "python",
   "name": "python3"
  },
  "language_info": {
   "codemirror_mode": {
    "name": "ipython",
    "version": 3
   },
   "file_extension": ".py",
   "mimetype": "text/x-python",
   "name": "python",
   "nbconvert_exporter": "python",
   "pygments_lexer": "ipython3",
   "version": "3.8.10"
  }
 },
 "nbformat": 4,
 "nbformat_minor": 5
}

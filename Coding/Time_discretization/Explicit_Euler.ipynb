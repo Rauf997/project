{
 "cells": [
  {
   "cell_type": "markdown",
   "id": "bd288a5d",
   "metadata": {},
   "source": [
    "# Book\n",
    "\n",
    "## Python Programming and Numerical Methods"
   ]
  },
  {
   "cell_type": "code",
   "execution_count": null,
   "id": "f250fec7",
   "metadata": {},
   "outputs": [],
   "source": [
    "import numpy as np\n",
    "import matplotlib.pyplot as plt\n",
    "plt.style.use(\"seaborn-poster\")\n",
    "%matplotlib inline\n",
    "# Define parameters\n",
    "f = lambda t, s: np.exp(-t) # ODE\n",
    "h = 0.1 # Step size\n",
    "t = np.arange(0, 1 + h, h) # Numerical grid\n",
    "s0 = -1 # Initial Condition\n",
    "# Explicit Euler Method\n",
    "s = np.zeros(len(t))\n",
    "s[0] = s0\n",
    "for i in range(0, len(t) - 1):\n",
    "    s[i + 1] = s[i] + h*f(t[i], s[i])\n",
    "plt.figure(figsize = (12, 8))\n",
    "plt.plot(t, s, \"b-\", label=\"Approximate\")\n",
    "plt.plot(t, -np.exp(-t), \"g\", label=\"Exact\")\n",
    "plt.title(\"Approximate and Exact Solution for Simple ODE\")\n",
    "plt.xlabel(\"t\")\n",
    "plt.ylabel(\"f(t)\")\n",
    "plt.grid()\n",
    "plt.legend(loc=\"lower right\")\n",
    "plt.show()"
   ]
  }
 ],
 "metadata": {
  "kernelspec": {
   "display_name": "Python 3 (ipykernel)",
   "language": "python",
   "name": "python3"
  },
  "language_info": {
   "codemirror_mode": {
    "name": "ipython",
    "version": 3
   },
   "file_extension": ".py",
   "mimetype": "text/x-python",
   "name": "python",
   "nbconvert_exporter": "python",
   "pygments_lexer": "ipython3",
   "version": "3.8.10"
  }
 },
 "nbformat": 4,
 "nbformat_minor": 5
}

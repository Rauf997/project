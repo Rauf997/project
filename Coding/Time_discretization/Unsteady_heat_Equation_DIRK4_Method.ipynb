{
 "cells": [
  {
   "cell_type": "markdown",
   "id": "f312f4d3",
   "metadata": {},
   "source": [
    "# Singly Diagonally Implicit Runge Kutta Order 4 \n",
    "\n",
    "\n",
    "\\begin{align}\n",
    "K_1 = (M + A\\Delta t/4)^{-1}(f_{t+ \\Delta t/4} - A u_j)\\\\\n",
    "K_2 = (M + A\\Delta t/4)^{-1}(f_{t+3\\Delta t/4} - A(u_j + \\Delta t/2K_1))\\\\\n",
    "K_3 = (M + A\\Delta t/4)^{-1}(f_{t+11\\Delta t/20} - A(u_j + \\Delta t(17/15K_1-1/25K_2))\\\\\n",
    "K_4 = (M + A\\Delta t/4)^{-1}(f_{t+\\Delta t/22} - A(u_j + \\Delta t(371/1360K_1-137/2720K_2 + 15/544K_3))\\\\\n",
    "u_{j+1} = u_j + \\Delta t(25/4K_{1} - 49/48K_{2} + 125/16K_{3}-85/12K_{4})\n",
    "\\end{align}\n",
    "\n",
    "\n",
    "\n",
    "https://en.wikipedia.org/wiki/List_of_Runge%E2%80%93Kutta_methods"
   ]
  },
  {
   "cell_type": "code",
   "execution_count": 1,
   "id": "d1874d89",
   "metadata": {},
   "outputs": [],
   "source": [
    "from ngsolve import *\n",
    "from math import pi\n",
    "from netgen.geom2d import SplineGeometry\n",
    "from ngsolve.webgui import Draw"
   ]
  },
  {
   "cell_type": "code",
   "execution_count": 2,
   "id": "e8e67274",
   "metadata": {},
   "outputs": [],
   "source": [
    "geo = SplineGeometry()\n",
    "geo.AddRectangle( (-1, -1), (1, 1), \n",
    "                 bcs = (\"bottom\", \"right\", \"top\", \"left\"))\n",
    "mesh = Mesh( geo.GenerateMesh(maxh=0.25))\n",
    "# Draw(mesh)\n",
    "fes = H1(mesh, order=3, dirichlet=\"bottom|right|left|top\")\n",
    "\n",
    "u,v = fes.TnT()\n",
    "\n",
    "time = 0.0\n",
    "dt = 0.001"
   ]
  },
  {
   "cell_type": "code",
   "execution_count": 3,
   "id": "3ce34c9b",
   "metadata": {},
   "outputs": [],
   "source": [
    "b = CoefficientFunction((2*y*(1-x*x),-2*x*(1-y*y)))\n",
    "# Draw(b,mesh,\"wind\")\n",
    "from ngsolve.internal import visoptions\n",
    "visoptions.scalfunction = \"wind:0\""
   ]
  },
  {
   "cell_type": "code",
   "execution_count": 4,
   "id": "b99dcdf9",
   "metadata": {},
   "outputs": [
    {
     "data": {
      "text/plain": [
       "<ngsolve.comp.BilinearForm at 0x7f33433ec970>"
      ]
     },
     "execution_count": 4,
     "metadata": {},
     "output_type": "execute_result"
    }
   ],
   "source": [
    "a = BilinearForm(fes, symmetric=False)\n",
    "a += 0.01*grad(u)*grad(v)*dx + b*grad(u)*v*dx\n",
    "a.Assemble()\n",
    "\n",
    "m = BilinearForm(fes, symmetric=False)\n",
    "m += u*v*dx\n",
    "m.Assemble()"
   ]
  },
  {
   "cell_type": "code",
   "execution_count": 5,
   "id": "59455858",
   "metadata": {},
   "outputs": [],
   "source": [
    "gfu = GridFunction(fes)"
   ]
  },
  {
   "cell_type": "code",
   "execution_count": 6,
   "id": "909ea15b",
   "metadata": {},
   "outputs": [],
   "source": [
    "mstar = m.mat.CreateMatrix()\n",
    "mstar.AsVector().data = m.mat.AsVector() + dt/4*a.mat.AsVector()\n",
    "invmstar = mstar.Inverse(freedofs=fes.FreeDofs())"
   ]
  },
  {
   "cell_type": "code",
   "execution_count": 7,
   "id": "d4689852",
   "metadata": {},
   "outputs": [],
   "source": [
    "t = Parameter(0.0)"
   ]
  },
  {
   "cell_type": "code",
   "execution_count": 8,
   "id": "5756f7e9",
   "metadata": {},
   "outputs": [],
   "source": [
    "omega=1\n",
    "gausspt = exp(-6*((x+sin(omega*t))*(x+sin(omega*t))+y*y))-exp(-6*((x-sin(omega*t))*(x-sin(omega*t))+y*y))\n",
    "# scene = Draw(gausspt,mesh,\"ft\",order=3)\n",
    "# time = 0.0\n",
    "# from time import sleep\n",
    "# while time < 10 - 0.5 * dt:\n",
    "#     t.Set(time)\n",
    "#     scene.Redraw()\n",
    "#     time += 1e-3\n",
    "#     sleep(1e-6)"
   ]
  },
  {
   "cell_type": "code",
   "execution_count": 9,
   "id": "525bd2ca",
   "metadata": {},
   "outputs": [
    {
     "data": {
      "application/vnd.jupyter.widget-view+json": {
       "model_id": "3fa89ab845414cd682372c74036c3cbf",
       "version_major": 2,
       "version_minor": 0
      },
      "text/plain": [
       "WebGuiWidget(layout=Layout(height='50vh', width='100%'), value={'gui_settings': {}, 'ngsolve_version': '6.2.23…"
      ]
     },
     "metadata": {},
     "output_type": "display_data"
    }
   ],
   "source": [
    "ft = LinearForm(fes)\n",
    "ft += gausspt*v*dx\n",
    "time = 0.0\n",
    "t.Set(0.0)\n",
    "gfu.Set((1-y*y)*x)\n",
    "#gfu.Set(CoefficientFunction(0))\n",
    "scene = Draw(gfu,mesh,\"u\")"
   ]
  },
  {
   "cell_type": "code",
   "execution_count": 10,
   "id": "21d9e3f4",
   "metadata": {
    "scrolled": true
   },
   "outputs": [
    {
     "name": "stdout",
     "output_type": "stream",
     "text": [
      " 9.999999999999897676\n"
     ]
    }
   ],
   "source": [
    "tstep = 10 # time that we want to step over within one block-run\n",
    "t_intermediate=0 # time counter within one block-run\n",
    "res = gfu.vec.CreateVector()\n",
    "while t_intermediate < tstep - 0.5 * dt:\n",
    "    t.Set(time+t_intermediate+dt)\n",
    "    ft.Assemble()\n",
    "    k_1 = invmstar*(ft.vec - a.mat*gfu.vec)\n",
    "    k_2 = invmstar*(ft.vec-a.mat*(gfu.vec + dt/2*k_1))\n",
    "    k_3 = invmstar*(ft.vec-a.mat*(gfu.vec + dt*(17/15*k_1 - 1/25*k_2)))\n",
    "    k_4 = invmstar*(ft.vec-a.mat*(gfu.vec+dt*(371/1360*k_1 - 137/2720*k_2 + 15/544*k_3)))\n",
    "    k_5 = invmstar*(ft.vec-a.mat*(gfu.vec+dt*(25/4*k_1 - 49/48*k_2 + 125/16*k_3 - 85/12*k_4)))\n",
    "    gfu.vec.data = gfu.vec + dt*(25/4*k_1 -49/48*k_2 + 125/16*k_3 -85/12*k_4 + 1/4*k_5)\n",
    "    t_intermediate += dt\n",
    "    print(\"\\r\",time+t_intermediate,end=\"\")\n",
    "    scene.Redraw()\n",
    "print(\"\")\n",
    "time+=t_intermediate"
   ]
  },
  {
   "cell_type": "code",
   "execution_count": null,
   "id": "14c6e2cb",
   "metadata": {},
   "outputs": [],
   "source": []
  }
 ],
 "metadata": {
  "kernelspec": {
   "display_name": "Python 3 (ipykernel)",
   "language": "python",
   "name": "python3"
  },
  "language_info": {
   "codemirror_mode": {
    "name": "ipython",
    "version": 3
   },
   "file_extension": ".py",
   "mimetype": "text/x-python",
   "name": "python",
   "nbconvert_exporter": "python",
   "pygments_lexer": "ipython3",
   "version": "3.8.10"
  }
 },
 "nbformat": 4,
 "nbformat_minor": 5
}

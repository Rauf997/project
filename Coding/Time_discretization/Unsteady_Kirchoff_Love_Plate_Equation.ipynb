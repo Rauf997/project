{
 "cells": [
  {
   "cell_type": "code",
   "execution_count": 1,
   "id": "0ac908cb",
   "metadata": {},
   "outputs": [],
   "source": [
    "from ngsolve import *\n",
    "from ngsolve.webgui import Draw\n",
    "from netgen.occ import *\n",
    "from ngsolve.meshes import MakeStructured2DMesh\n",
    "mesh = Mesh(unit_square.GenerateMesh(maxh=0.1))"
   ]
  },
  {
   "cell_type": "code",
   "execution_count": 2,
   "id": "62d2f806",
   "metadata": {},
   "outputs": [],
   "source": [
    "R = 1.5\n",
    "circle = Circle((0,0),1).Face()\n",
    "mesh = Mesh(OCCGeometry(circle,dim=2).GenerateMesh(maxh=0.1)).Curve(1+1)\n",
    "\n",
    "E  = 1e4\n",
    "nu = 0.3\n",
    "t  = 1e-2#1e-4#1e-2\n",
    "q  = 1e-1#1e-8#1e-2\n",
    "D  = (E*t**3)/(12*(1-nu**2))"
   ]
  },
  {
   "cell_type": "code",
   "execution_count": 3,
   "id": "3667eceb",
   "metadata": {},
   "outputs": [],
   "source": [
    "def MaterialInv(mat):\n",
    "    return 1/D*(1/(1-nu)*mat-nu/(1-nu**2)*Trace(mat)*Id(2))"
   ]
  },
  {
   "cell_type": "code",
   "execution_count": 4,
   "id": "6abead94",
   "metadata": {},
   "outputs": [],
   "source": [
    "V = HDivDiv(mesh, order=1)\n",
    "Q = H1(mesh, order=2, dirichlet=\".*\")\n",
    "w_1 = NumberSpace(mesh)\n",
    "fesm = V*Q*w_1"
   ]
  },
  {
   "cell_type": "code",
   "execution_count": 5,
   "id": "c14ad2de",
   "metadata": {},
   "outputs": [],
   "source": [
    "sigma, w, w_1= fesm.TrialFunction()\n",
    "tau, v, v_1 = fesm.TestFunction()\n",
    "time = 0.0\n",
    "dt = 0.5"
   ]
  },
  {
   "cell_type": "code",
   "execution_count": 6,
   "id": "e88a3ea4",
   "metadata": {},
   "outputs": [
    {
     "data": {
      "text/plain": [
       "<ngsolve.comp.BilinearForm at 0x7f9fc7538930>"
      ]
     },
     "execution_count": 6,
     "metadata": {},
     "output_type": "execute_result"
    }
   ],
   "source": [
    "n = specialcf.normal(2)\n",
    "\n",
    "def tang(u): return u-(u*n)*n\n",
    "\n",
    "a = BilinearForm(fesm, symmetric=False)\n",
    "a += (InnerProduct (MaterialInv(sigma), tau) + div(sigma)*grad(v) \\\n",
    "          + div(tau)*grad(w) )*dx -w_1*v_1*dx\\\n",
    "          + (-(sigma*n) * tang(grad(v)) - (tau*n)*tang(grad(w)))*dx(element_boundary=True)\n",
    "a.Assemble()\n",
    "\n",
    "m = BilinearForm(fesm, symmetric=False)\n",
    "m += w_1*v*dx - w_1*v_1*dx\n",
    "m.Assemble()"
   ]
  },
  {
   "cell_type": "code",
   "execution_count": 7,
   "id": "8b0944b0",
   "metadata": {},
   "outputs": [],
   "source": [
    "mstar = m.mat.CreateMatrix()\n",
    "mstar.AsVector().data = m.mat.AsVector() + dt/4 * a.mat.AsVector()\n",
    "invmstar = mstar.Inverse(freedofs=fesm.FreeDofs())"
   ]
  },
  {
   "cell_type": "code",
   "execution_count": 8,
   "id": "a51e38cb",
   "metadata": {},
   "outputs": [],
   "source": [
    "gfsol = GridFunction(fesm)\n",
    "gfsigma, gfw, gfw_1 = gfsol.components"
   ]
  },
  {
   "cell_type": "code",
   "execution_count": 9,
   "id": "dba3e0ba",
   "metadata": {},
   "outputs": [
    {
     "data": {
      "application/vnd.jupyter.widget-view+json": {
       "model_id": "28c8697516724fff8b7970e2906dca69",
       "version_major": 2,
       "version_minor": 0
      },
      "text/plain": [
       "WebGuiWidget(layout=Layout(height='50vh', width='100%'), value={'gui_settings': {}, 'ngsolve_version': '6.2.23…"
      ]
     },
     "metadata": {},
     "output_type": "display_data"
    },
    {
     "data": {
      "text/plain": [
       "BaseWebGuiScene"
      ]
     },
     "execution_count": 9,
     "metadata": {},
     "output_type": "execute_result"
    }
   ],
   "source": [
    "gfw.Set((sin(pi*(x+1))**4*sin(pi*(y+1))**4))\n",
    "Draw(gfw,mesh)"
   ]
  },
  {
   "cell_type": "code",
   "execution_count": null,
   "id": "239c5b92",
   "metadata": {},
   "outputs": [],
   "source": [
    "ft = LinearForm(fesm)\n",
    "ft += v*dx\n",
    "time = 0.0\n",
    "# t.Set(0.0)\n",
    "gfsigma, gfw, gfw_1 = gfsol.components\n"
   ]
  },
  {
   "cell_type": "code",
   "execution_count": null,
   "id": "9b6dc659",
   "metadata": {},
   "outputs": [],
   "source": [
    "vtk = VTKOutput(mesh,coefs=[gfw],names=[\"sol\"],filename=\"vtk_example3\",subdivision=3)\n",
    "\n",
    "vtk.Do(time=0)\n",
    "time = 0\n",
    "tstep = 1 # time that we want to step over within one block-run\n",
    "t_intermediate=0 # time counter within one block-run\n",
    "res = gfsol.vec.CreateVector()\n",
    "i = 0\n",
    "while t_intermediate < tstep - 0.5 * dt:\n",
    "    ft.Assemble()\n",
    "    k_1 = invmstar*(ft.vec - a.mat*gfsol.vec)\n",
    "    k_2 = invmstar*(ft.vec-a.mat*(gfsol.vec + dt/2*k_1))\n",
    "    gfsol.vec.data = gfsol.vec + dt/2*(k_1 +k_2)\n",
    "    t_intermediate += dt\n",
    "    print(\"\\r\",time+t_intermediate,end=\"\")\n",
    "#     scene.Redraw()\n",
    "    i += 1\n",
    "    if (i%10 == 0):\n",
    "        vtk.Do(time=t_intermediate)\n",
    "print(\"\")"
   ]
  },
  {
   "cell_type": "code",
   "execution_count": null,
   "id": "02e92813",
   "metadata": {},
   "outputs": [],
   "source": [
    "tstep = 10 # time that we want to step over within one block-run\n",
    "t_intermediate=0 # time counter within one block-run\n",
    "res = gfu.vec.CreateVector()\n",
    "while t_intermediate < tstep - 0.5 * dt:\n",
    "#     t.Set(time+t_intermediate)\n",
    "    ft.Assemble()\n",
    "    k_1 = invmstar*(ft.vec - a.mat*gfu.vec)\n",
    "    k_2 = invmstar*(ft.vec-a.mat*(gfu.vec + dt/2*k_1))\n",
    "    gfu.vec.data = gfu.vec + dt/2*(k_1 +k_2)\n",
    "    t_intermediate += dt\n",
    "print(\"\")\n",
    "time+=t_intermediate"
   ]
  }
 ],
 "metadata": {
  "kernelspec": {
   "display_name": "Python 3 (ipykernel)",
   "language": "python",
   "name": "python3"
  },
  "language_info": {
   "codemirror_mode": {
    "name": "ipython",
    "version": 3
   },
   "file_extension": ".py",
   "mimetype": "text/x-python",
   "name": "python",
   "nbconvert_exporter": "python",
   "pygments_lexer": "ipython3",
   "version": "3.8.10"
  }
 },
 "nbformat": 4,
 "nbformat_minor": 5
}

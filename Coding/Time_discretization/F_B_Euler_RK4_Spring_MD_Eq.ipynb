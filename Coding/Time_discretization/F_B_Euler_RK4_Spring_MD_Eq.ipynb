{
 "cells": [
  {
   "cell_type": "code",
   "execution_count": null,
   "id": "f916c56f",
   "metadata": {},
   "outputs": [],
   "source": [
    "# import python packages\n",
    "import numpy as np\n",
    "from matplotlib import pyplot as plt\n",
    "from scipy.integrate import solve_ivp"
   ]
  },
  {
   "cell_type": "code",
   "execution_count": null,
   "id": "46aa8aa3",
   "metadata": {},
   "outputs": [],
   "source": [
    "w = 2*np.pi     # natural frequency\n",
    "d = .25         # damping ratio\n",
    "\n",
    "# define a linear spring-mass-damper system\n",
    "A = np.array([[0,1],[-w**2, -2*d*w]])\n",
    "\n",
    "dt = 0.01    # time step\n",
    "T = 10       # amount of time to integrate\n",
    "\n",
    "x0 = [2,0]   # initial condition (x=2, v=0)\n",
    "\n",
    "# iterate forward Euler \n",
    "num_time_slices = int(T/dt)\n",
    "time_slices = np.linspace(0,T,num_time_slices)\n",
    "xF = np.zeros((2,num_time_slices))\n",
    "\n",
    "# remember python is indexed at 0, while matlab is index\n",
    "xF[:,0] = x0\n",
    "for k in range(num_time_slices - 1):\n",
    "    # 2*2 matrix times 2*1 vector,\n",
    "    # @ symbol is used for a matrix-matrix or matrix-vector multiplication\n",
    "    xF[:,k+1] = (np.eye(2)+dt*A)@xF[:,k]\n",
    "    \n",
    "# iterate backward Euler\n",
    "\n",
    "xB = np.zeros((2,num_time_slices))\n",
    "xB[:,0] = x0\n",
    "for k in range(num_time_slices-1):\n",
    "    # sholud probably pre-compute inverse for efficiency\n",
    "    xB[:,k+1] = np.linalg.pinv(np.eye(2)-A*dt)@xB[:,k]\n",
    "\n",
    "# compute better integral using buit-in scipy function\n",
    "# 4th-order Runge Kutta\n",
    "\n",
    "# defining a function for the right-hand side of the ODE\n",
    "# which scipy wants in case the ODE depends explicitly on t\n",
    "def ode_func(t,x):\n",
    "    return A@x\n",
    "\n",
    "# evaluate ODE function between (0,T) with initial condition\n",
    "# and return the solution at the times specified by t_eval\n",
    "ivp_solution = solve_ivp(ode_func,(0,T),x0,t_eval=time_slices)\n",
    "xRK4_ODE = ivp_solution.y\n"
   ]
  },
  {
   "cell_type": "code",
   "execution_count": null,
   "id": "7a517828",
   "metadata": {},
   "outputs": [],
   "source": [
    "def rk4singlestep(fun, dt, t0, y0):\n",
    "    \"\"\"\n",
    "        Long comments describing functions or other complicated\n",
    "        classes can be left with the triple-quotes notation like this.\n",
    "        \n",
    "        This function does a single 4th-order Runge-Kutta step for ODE integration,\n",
    "        where fun is the ODE, dt is the timestep, t0 is the current time, and y0 is\n",
    "        the current initial condition. \n",
    "    \"\"\"\n",
    "    f1 = fun(t0, y0)\n",
    "    f2 = fun(t0 + dt / 2, y0 + (dt / 2) * f1)\n",
    "    f3 = fun(t0 + dt / 2, y0 + (dt / 2) * f2)\n",
    "    f4 = fun(t0 + dt, y0 + dt * f3)\n",
    "    yRK4 = y0 + (dt / 6) * (f1 + 2 * f2 + 2 * f3 + f4)\n",
    "    return yRK4"
   ]
  },
  {
   "cell_type": "code",
   "execution_count": null,
   "id": "3d372ad6",
   "metadata": {},
   "outputs": [],
   "source": [
    "def Spring_Mass(t, y):\n",
    "    \"\"\"\n",
    "        This function defines the dynamical equations\n",
    "        that represent the Lorenz system. \n",
    "        \n",
    "        Normally we would need to pass the values of\n",
    "        sigma, beta, and rho, but we have already defined them\n",
    "        globally above.\n",
    "    \"\"\"\n",
    "    # y is a three dimensional state-vector\n",
    "    x,v = y\n",
    "    dy = [v,-2*d*w*v-w**2*x]\n",
    "    return np.array(dy)"
   ]
  },
  {
   "cell_type": "code",
   "execution_count": null,
   "id": "24540b03",
   "metadata": {},
   "outputs": [],
   "source": [
    "y0 = [2,0]\n",
    "\n",
    "# Compute trajectory \n",
    "dt = 0.01\n",
    "T = 10\n",
    "num_time_pts = int(T / dt)\n",
    "t = np.linspace(0, T, num_time_pts)\n",
    "\n",
    "YRK4 = np.zeros((2, num_time_pts))\n",
    "YRK4[:, 0] = y0\n",
    "yin = y0\n",
    "for i in range(num_time_pts - 1):\n",
    "    yRK4 = rk4singlestep(Spring_Mass, dt, t[i], yin)\n",
    "    YRK4[:, i + 1] = yRK4\n",
    "    yin = yRK4"
   ]
  },
  {
   "cell_type": "code",
   "execution_count": null,
   "id": "d2c43852",
   "metadata": {},
   "outputs": [],
   "source": [
    "plt.plot(time_slices,xF[0,:],'k')\n",
    "plt.grid(True)\n",
    "plt.title('x(t)')\n",
    "plt.plot(time_slices, xB[0,:],'b')\n",
    "plt.plot(time_slices, xRK4_ODE[0,:],'r')\n",
    "plt.plot(time_slices, YRK4[0,:],'g')\n",
    "plt.legend(['Forward Euler','Backward Euler', 'ODE45 (RK4)','RK4'])\n",
    "plt.show()"
   ]
  },
  {
   "cell_type": "code",
   "execution_count": null,
   "id": "725210d9",
   "metadata": {},
   "outputs": [],
   "source": [
    "plt.plot(time_slices,xF[1,:],'k')\n",
    "plt.grid(True)\n",
    "plt.title('v(t)')\n",
    "plt.plot(time_slices, xB[1,:],'b')\n",
    "plt.plot(time_slices, xRK4_ODE[1,:],'r')\n",
    "plt.plot(time_slices, YRK4[1,:],'g')\n",
    "plt.legend(['Forward Euler','Backward Euler', 'ODE45 (RK4)','RK4'])\n",
    "plt.show()"
   ]
  },
  {
   "cell_type": "code",
   "execution_count": null,
   "id": "22c8d59b",
   "metadata": {},
   "outputs": [],
   "source": []
  }
 ],
 "metadata": {
  "kernelspec": {
   "display_name": "Python 3 (ipykernel)",
   "language": "python",
   "name": "python3"
  },
  "language_info": {
   "codemirror_mode": {
    "name": "ipython",
    "version": 3
   },
   "file_extension": ".py",
   "mimetype": "text/x-python",
   "name": "python",
   "nbconvert_exporter": "python",
   "pygments_lexer": "ipython3",
   "version": "3.8.10"
  }
 },
 "nbformat": 4,
 "nbformat_minor": 5
}

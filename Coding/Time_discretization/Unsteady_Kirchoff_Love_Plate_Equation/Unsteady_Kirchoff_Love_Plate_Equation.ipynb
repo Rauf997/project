{
 "cells": [
  {
   "cell_type": "code",
   "execution_count": 1,
   "id": "322f29ca",
   "metadata": {},
   "outputs": [],
   "source": [
    "from ngsolve import *\n",
    "from ngsolve.webgui import Draw\n",
    "from netgen.occ import *\n",
    "from ngsolve.meshes import MakeStructured2DMesh\n",
    "mesh = Mesh(unit_square.GenerateMesh(maxh=0.1))"
   ]
  },
  {
   "cell_type": "code",
   "execution_count": 3,
   "id": "e6882204",
   "metadata": {},
   "outputs": [],
   "source": [
    "R = 1\n",
    "circle = Circle((0,0),1).Face()\n",
    "mesh = Mesh(OCCGeometry(circle,dim=2).GenerateMesh(maxh=0.1)).Curve(1+1)\n",
    "\n",
    "E  = 1e4\n",
    "nu = 0.3\n",
    "t  = 1e-2#1e-4#1e-2\n",
    "q  = 1e-1#1e-8#1e-2\n",
    "D  = (E*t**3)/(12*(1-nu**2))"
   ]
  },
  {
   "cell_type": "code",
   "execution_count": 4,
   "id": "ec5364cf",
   "metadata": {},
   "outputs": [],
   "source": [
    "def MaterialInv(mat):\n",
    "    return 1/D*(1/(1-nu)*mat-nu/(1-nu**2)*Trace(mat)*Id(2))"
   ]
  },
  {
   "cell_type": "code",
   "execution_count": 5,
   "id": "595d2af1",
   "metadata": {},
   "outputs": [],
   "source": [
    "V = HDivDiv(mesh, order=1)\n",
    "Q = H1(mesh, order=2, dirichlet=\".*\")\n",
    "w_1 = NumberSpace(mesh)\n",
    "fesm = V*Q*w_1"
   ]
  },
  {
   "cell_type": "code",
   "execution_count": 6,
   "id": "5a8f4d0d",
   "metadata": {},
   "outputs": [],
   "source": [
    "sigma, w, w_1= fesm.TrialFunction()\n",
    "tau, v, v_1 = fesm.TestFunction()\n",
    "time = 0.0\n",
    "dt = 0.5"
   ]
  },
  {
   "cell_type": "code",
   "execution_count": 9,
   "id": "1e99dbe3",
   "metadata": {},
   "outputs": [
    {
     "data": {
      "text/plain": [
       "<ngsolve.comp.BilinearForm at 0x7fd1531ce770>"
      ]
     },
     "execution_count": 9,
     "metadata": {},
     "output_type": "execute_result"
    }
   ],
   "source": [
    "n = specialcf.normal(2)\n",
    "\n",
    "def tang(u): return u-(u*n)*n\n",
    "\n",
    "a = BilinearForm(fesm, symmetric=False)\n",
    "a += (InnerProduct (MaterialInv(sigma), tau) + div(sigma)*grad(v) \\\n",
    "          + div(tau)*grad(w) )*dx -w_1*v_1*dx\\\n",
    "          + (-(sigma*n) * tang(grad(v)) - (tau*n)*tang(grad(w)))*dx(element_boundary=True)\n",
    "a.Assemble()\n",
    "\n",
    "m = BilinearForm(fesm, symmetric=False)\n",
    "m += w_1*v*dx - w_1*v_1*dx\n",
    "m.Assemble()"
   ]
  },
  {
   "cell_type": "code",
   "execution_count": 10,
   "id": "1153f9f1",
   "metadata": {},
   "outputs": [],
   "source": [
    "mstar = m.mat.CreateMatrix()\n",
    "mstar.AsVector().data = m.mat.AsVector() + dt/4 * a.mat.AsVector()\n",
    "invmstar = mstar.Inverse(freedofs=fesm.FreeDofs())"
   ]
  },
  {
   "cell_type": "code",
   "execution_count": 12,
   "id": "39934ce5",
   "metadata": {},
   "outputs": [],
   "source": [
    "gfu = GridFunction(fesm)\n",
    "ft = LinearForm(fesm)\n",
    "ft += v*dx\n",
    "time = 0.0\n",
    "# t.Set(0.0)\n",
    "gfu.components[2].Set(0.0)\n"
   ]
  },
  {
   "cell_type": "code",
   "execution_count": 14,
   "id": "d978b7d3",
   "metadata": {},
   "outputs": [
    {
     "name": "stdout",
     "output_type": "stream",
     "text": [
      "\n"
     ]
    }
   ],
   "source": [
    "tstep = 10 # time that we want to step over within one block-run\n",
    "t_intermediate=0 # time counter within one block-run\n",
    "res = gfu.vec.CreateVector()\n",
    "while t_intermediate < tstep - 0.5 * dt:\n",
    "#     t.Set(time+t_intermediate)\n",
    "    ft.Assemble()\n",
    "    k_1 = invmstar*(ft.vec - a.mat*gfu.vec)\n",
    "    k_2 = invmstar*(ft.vec-a.mat*(gfu.vec + dt/2*k_1))\n",
    "    gfu.vec.data = gfu.vec + dt/2*(k_1 +k_2)\n",
    "    t_intermediate += dt\n",
    "print(\"\")\n",
    "time+=t_intermediate"
   ]
  }
 ],
 "metadata": {
  "kernelspec": {
   "display_name": "Python 3 (ipykernel)",
   "language": "python",
   "name": "python3"
  },
  "language_info": {
   "codemirror_mode": {
    "name": "ipython",
    "version": 3
   },
   "file_extension": ".py",
   "mimetype": "text/x-python",
   "name": "python",
   "nbconvert_exporter": "python",
   "pygments_lexer": "ipython3",
   "version": "3.8.10"
  }
 },
 "nbformat": 4,
 "nbformat_minor": 5
}

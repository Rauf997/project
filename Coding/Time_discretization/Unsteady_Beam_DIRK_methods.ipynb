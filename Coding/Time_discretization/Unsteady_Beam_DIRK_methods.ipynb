{
 "cells": [
  {
   "cell_type": "code",
   "execution_count": 1,
   "id": "d85dd37a",
   "metadata": {},
   "outputs": [],
   "source": [
    "from ngsolve import *\n",
    "from ngsolve.meshes import Make1DMesh\n",
    "from ngsolve.webgui import Draw\n",
    "import numpy as np\n",
    "import math"
   ]
  },
  {
   "cell_type": "code",
   "execution_count": 2,
   "id": "d08d256a",
   "metadata": {},
   "outputs": [],
   "source": [
    "from sympy import symbols, simplify, solve, diff, lambdify\n",
    "import sympy as sym\n",
    "from sympy import Symbol\n",
    "import scipy.integrate\n",
    "import matplotlib.pyplot as plt\n",
    "mesh = Make1DMesh(100)\n",
    "\n",
    "X,T = symbols(\"x t\")\n",
    "\n",
    "u_x = X*(1-X)*sym.sin(4*sym.pi*X)*T**2*sym.exp(-T)\n",
    "\n",
    "u_diff_x = diff(u_x, X)\n",
    "\n",
    "u_ddiff_x = diff(u_diff_x,X)\n",
    "\n",
    "u_dddiff_x = diff(u_ddiff_x,X)\n",
    "\n",
    "u_ddddiff_x = diff(u_dddiff_x,X)\n",
    "\n",
    "u_diff_t = diff(u_x, T)\n",
    "\n",
    "u_ddiff_t = diff(u_diff_t,T)\n",
    "\n",
    "f_x_t = u_ddddiff_x + u_ddiff_t\n",
    "\n",
    "f = (T**2*X*(1-X) + 256*sym.pi**4*T**2*X*(1-X) + 192*sym.pi**2*T**2 - 4*T*X*(1-X) + 2*X*(1-X))*(sym.exp(-T)*sym.sin(4*sym.pi*X)) \\\n",
    "                      + (2*X - 1)*256*sym.pi**3*T**2*sym.exp(-T)*sym.cos(4*sym.pi*X)"
   ]
  },
  {
   "cell_type": "code",
   "execution_count": 3,
   "id": "8dfe4869",
   "metadata": {},
   "outputs": [],
   "source": [
    "u = H1(mesh, order=2, dirichlet=\"left|right\")\n",
    "sigma = H1(mesh, order=2, dirichlet=\" \")\n",
    "u_1 = NumberSpace(mesh)\n",
    "fesm = u*sigma*u_1"
   ]
  },
  {
   "cell_type": "code",
   "execution_count": 4,
   "id": "48533b23",
   "metadata": {},
   "outputs": [],
   "source": [
    "u, sigma, u_1= fesm.TrialFunction()\n",
    "v, tau, v_1 = fesm.TestFunction()\n",
    "\n",
    "time = 0.0\n",
    "dt = 0.5"
   ]
  },
  {
   "cell_type": "code",
   "execution_count": 5,
   "id": "57b1d196",
   "metadata": {},
   "outputs": [
    {
     "data": {
      "text/plain": [
       "<ngsolve.comp.BilinearForm at 0x7f797790df70>"
      ]
     },
     "execution_count": 5,
     "metadata": {},
     "output_type": "execute_result"
    }
   ],
   "source": [
    "a = BilinearForm(fesm, symmetric=False)\n",
    "a += -grad(sigma)*grad(v)*dx + sigma*tau*dx + grad(u)*grad(tau)*dx -u_1*v_1*dx\n",
    "a.Assemble()\n",
    "\n",
    "m = BilinearForm(fesm, symmetric=False)\n",
    "m += u_1*v*dx - u*v_1*dx\n",
    "m.Assemble()"
   ]
  },
  {
   "cell_type": "code",
   "execution_count": 6,
   "id": "86c026e8",
   "metadata": {},
   "outputs": [],
   "source": [
    "gfu = GridFunction(fesm)"
   ]
  },
  {
   "cell_type": "code",
   "execution_count": 7,
   "id": "4b9eca88",
   "metadata": {},
   "outputs": [],
   "source": [
    "class sdirk1: #order 1 (implicit Euler)\n",
    "    stages = 1\n",
    "    a = [[1]]\n",
    "    b = [1]\n",
    "    c = [1]\n",
    "    astar = 1"
   ]
  },
  {
   "cell_type": "code",
   "execution_count": 8,
   "id": "4c34fef4",
   "metadata": {},
   "outputs": [],
   "source": [
    "class sdirk2: #order 3\n",
    "    p = (3 - sqrt(3))/6\n",
    "    stages = 2\n",
    "    a = [[p, 0], \n",
    "         [1 - 2*p, p]]\n",
    "    b = [1/2, 1/2]\n",
    "    c = [p, 1 - p]\n",
    "    astar = p"
   ]
  },
  {
   "cell_type": "code",
   "execution_count": 9,
   "id": "026fa722",
   "metadata": {},
   "outputs": [],
   "source": [
    "class sdirk5: #order 4\n",
    "    stages = 5\n",
    "    a = [[1/4, 0, 0, 0, 0], \n",
    "         [1/2, 1/4, 0, 0, 0], \n",
    "         [17/50,-1/25, 1/4, 0, 0],\n",
    "         [371/1360, -137/2720, 15/544, 1/4,0],\n",
    "         [25/24, -49/48, 125/16, -85/12, 1/4]]\n",
    "    b = [25/24, -49/48, 125/16, -85/12, 1/4]\n",
    "    c = [1/4, 3/4, 11/20, 1/2, 1]\n",
    "    astar = 1/4 "
   ]
  },
  {
   "cell_type": "code",
   "execution_count": 10,
   "id": "b543ccf7",
   "metadata": {},
   "outputs": [],
   "source": [
    "butchertab = sdirk5()   \n",
    "rhsi = gfu.vec.CreateVector()\n",
    "Mu0 = gfu.vec.CreateVector()\n",
    "ui = gfu.vec.CreateVector()\n",
    "k = [gfu.vec.CreateVector() for i in range(butchertab.stages)]"
   ]
  },
  {
   "cell_type": "code",
   "execution_count": 11,
   "id": "3591ba8d",
   "metadata": {},
   "outputs": [
    {
     "ename": "NgException",
     "evalue": "UmfpackInverse: Numeric factorization failed.",
     "output_type": "error",
     "traceback": [
      "\u001b[0;31m---------------------------------------------------------------------------\u001b[0m",
      "\u001b[0;31mNgException\u001b[0m                               Traceback (most recent call last)",
      "Cell \u001b[0;32mIn[11], line 4\u001b[0m\n\u001b[1;32m      2\u001b[0m mstar\u001b[38;5;241m.\u001b[39mAsVector()\u001b[38;5;241m.\u001b[39mdata \u001b[38;5;241m=\u001b[39m m\u001b[38;5;241m.\u001b[39mmat\u001b[38;5;241m.\u001b[39mAsVector() \u001b[38;5;241m+\u001b[39m butchertab\u001b[38;5;241m.\u001b[39mastar \u001b[38;5;241m*\u001b[39m dt \u001b[38;5;241m*\u001b[39m a\u001b[38;5;241m.\u001b[39mmat\u001b[38;5;241m.\u001b[39mAsVector()\n\u001b[1;32m      3\u001b[0m invmstar \u001b[38;5;241m=\u001b[39m mstar\u001b[38;5;241m.\u001b[39mInverse(freedofs\u001b[38;5;241m=\u001b[39mfesm\u001b[38;5;241m.\u001b[39mFreeDofs())\n\u001b[0;32m----> 4\u001b[0m invmass \u001b[38;5;241m=\u001b[39m \u001b[43mm\u001b[49m\u001b[38;5;241;43m.\u001b[39;49m\u001b[43mmat\u001b[49m\u001b[38;5;241;43m.\u001b[39;49m\u001b[43mInverse\u001b[49m\u001b[43m(\u001b[49m\u001b[43mfreedofs\u001b[49m\u001b[38;5;241;43m=\u001b[39;49m\u001b[43mfesm\u001b[49m\u001b[38;5;241;43m.\u001b[39;49m\u001b[43mFreeDofs\u001b[49m\u001b[43m(\u001b[49m\u001b[43m)\u001b[49m\u001b[43m)\u001b[49m\n",
      "\u001b[0;31mNgException\u001b[0m: UmfpackInverse: Numeric factorization failed."
     ]
    }
   ],
   "source": [
    "mstar = m.mat.CreateMatrix()\n",
    "mstar.AsVector().data = m.mat.AsVector() + butchertab.astar * dt * a.mat.AsVector()\n",
    "invmstar = mstar.Inverse(freedofs=fesm.FreeDofs())\n",
    "invmass = m.mat.Inverse(freedofs=fesm.FreeDofs())"
   ]
  },
  {
   "cell_type": "code",
   "execution_count": null,
   "id": "0c3cd7b9",
   "metadata": {},
   "outputs": [],
   "source": [
    "t = Parameter(0.0)"
   ]
  },
  {
   "cell_type": "code",
   "execution_count": null,
   "id": "895151e5",
   "metadata": {},
   "outputs": [],
   "source": [
    "omega=1\n",
    "gausspt = exp(-6*((x+sin(omega*t))*(x+sin(omega*t))+y*y))-exp(-6*((x-sin(omega*t))*(x-sin(omega*t))+y*y))"
   ]
  },
  {
   "cell_type": "code",
   "execution_count": null,
   "id": "ad824022",
   "metadata": {},
   "outputs": [],
   "source": [
    "ft = LinearForm(fesm)\n",
    "ft += gausspt*v*dx\n",
    "# uD = ((1-y*y)*x)\n",
    "time = 0.0\n",
    "t.Set(0.0)\n",
    "gfu.components[2].Set(x*(1-x)*sin(4*pi*x)*t**2*exp(-t))\n",
    "# visualization stuff\n",
    "from ngsolve.internal import *\n",
    "visoptions.mminval = 0.0\n",
    "visoptions.mmaxval = 0.2\n",
    "visoptions.deformation = 0\n",
    "visoptions.autoscale = 0\n"
   ]
  },
  {
   "cell_type": "code",
   "execution_count": null,
   "id": "8a0c4e1b",
   "metadata": {},
   "outputs": [],
   "source": [
    "mesh = Make1DMesh(80)\n",
    "x=np.linspace(0,1,100)\n",
    "gfu.components[0](mesh(x))\n",
    "\n",
    "tstep = 10 # time that we want to step over within one block-run\n",
    "t_intermediate=0 # time counter within one block-run\n",
    "while t_intermediate < tstep - 0.5 * dt:\n",
    "    ft.Assemble()\n",
    "    Mu0.data = m.mat * gfu.vec + dt*ft.vec\n",
    "    for i in range(butchertab.stages):\n",
    "        # add up the ks as prescribed in the butcher tableau\n",
    "        rhsi.data = Mu0\n",
    "        for j in range(0,i):\n",
    "            rhsi.data += dt * butchertab.a[i][j] * k[j]\n",
    "        # Solve for ui (with homogenization for the boundary data)\n",
    "        t.Set(time+t_intermediate+butchertab.c[i]*dt)\n",
    "        gfu.components[2].Set(x*(1-x)*sin(4*pi*x)*t**2*exp(-t))\n",
    "        ui.data = gfu.vec; rhsi.data -= mstar * ui\n",
    "        ui.data += invmstar * rhsi\n",
    "        # compute k[i] from ui\n",
    "        k[i].data = - a.mat * ui\n",
    "    t_intermediate += dt; t.Set(time+t_intermediate)\n",
    "    # Adding up the ks:\n",
    "    gfu.components[2].Set(x*(1-x)*sin(4*pi*x)*t**2*exp(-t))\n",
    "    Mu0.data -= m.mat * gfu.vec\n",
    "    for i in range(0,butchertab.stages):\n",
    "        Mu0.data += dt * butchertab.b[i] * k[i]\n",
    "    gfu.vec.data += invmass * Mu0 \n",
    "    t_intermediate += dt\n",
    "    plt.ylim([-0.2, 0.2])\n",
    "    plt.xlim([0, 1])\n",
    "    font1 = {'family':'serif','color':'black','size':15}\n",
    "    plt.title(\"Numerical Solution\",fontdict = font1)\n",
    "    plt.xlabel('x',fontdict = font1)\n",
    "    plt.ylabel('u(x,t)',fontdict = font1)\n",
    "    plt.plot(x,gfu.components[0](mesh(x)),color='black',linestyle=\"-\")\n",
    "    plt.show()\n",
    "    print(\"\\r\",time+t_intermediate,end=\"\")\n",
    "print(\"\")\n",
    "time+=t_intermediate"
   ]
  },
  {
   "cell_type": "code",
   "execution_count": null,
   "id": "627e4870",
   "metadata": {},
   "outputs": [],
   "source": []
  }
 ],
 "metadata": {
  "kernelspec": {
   "display_name": "Python 3 (ipykernel)",
   "language": "python",
   "name": "python3"
  },
  "language_info": {
   "codemirror_mode": {
    "name": "ipython",
    "version": 3
   },
   "file_extension": ".py",
   "mimetype": "text/x-python",
   "name": "python",
   "nbconvert_exporter": "python",
   "pygments_lexer": "ipython3",
   "version": "3.8.10"
  }
 },
 "nbformat": 4,
 "nbformat_minor": 5
}

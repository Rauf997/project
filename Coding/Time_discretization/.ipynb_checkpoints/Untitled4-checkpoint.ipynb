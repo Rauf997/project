{
 "cells": [
  {
   "cell_type": "code",
   "execution_count": 1,
   "metadata": {},
   "outputs": [],
   "source": [
    "from sympy import symbols, simplify, solve, diff, lambdify\n",
    "import sympy as sym\n",
    "from sympy import Symbol\n",
    "import scipy.integrate"
   ]
  },
  {
   "cell_type": "code",
   "execution_count": 44,
   "metadata": {},
   "outputs": [
    {
     "data": {
      "text/latex": [
       "$\\displaystyle \\pi^{4} \\left(- 160 \\sin{\\left(\\pi \\left(x + 1\\right) \\right)} \\cos{\\left(\\pi \\left(y + 1\\right) \\right)} - 240 \\sin{\\left(\\pi \\left(y + 1\\right) \\right)} \\cos{\\left(\\pi \\left(x + 1\\right) \\right)}\\right) \\sin^{2}{\\left(\\pi \\left(x + 1\\right) \\right)} \\sin^{3}{\\left(\\pi \\left(y + 1\\right) \\right)} \\cos{\\left(2 \\pi t \\right)} \\cos^{2}{\\left(\\pi \\left(x + 1\\right) \\right)} + \\pi^{4} \\left(96 \\sin{\\left(\\pi \\left(x + 1\\right) \\right)} \\cos{\\left(\\pi \\left(y + 1\\right) \\right)} + 24 \\sin{\\left(\\pi \\left(y + 1\\right) \\right)} \\cos{\\left(\\pi \\left(x + 1\\right) \\right)}\\right) \\sin^{3}{\\left(\\pi \\left(y + 1\\right) \\right)} \\cos{\\left(2 \\pi t \\right)} \\cos^{3}{\\left(\\pi \\left(x + 1\\right) \\right)} + \\pi^{4} \\left(- 48 \\sin^{2}{\\left(\\pi \\left(x + 1\\right) \\right)} + 144 \\cos^{2}{\\left(\\pi \\left(x + 1\\right) \\right)}\\right) \\sin^{2}{\\left(\\pi \\left(x + 1\\right) \\right)} \\sin^{2}{\\left(\\pi \\left(y + 1\\right) \\right)} \\cos{\\left(2 \\pi t \\right)} \\cos^{2}{\\left(\\pi \\left(y + 1\\right) \\right)} + \\pi^{2} \\left(-4 + 56 \\pi^{2}\\right) \\sin^{4}{\\left(\\pi \\left(x + 1\\right) \\right)} \\sin^{4}{\\left(\\pi \\left(y + 1\\right) \\right)} \\cos{\\left(2 \\pi t \\right)}$"
      ],
      "text/plain": [
       "pi**4*(-160*sin(pi*(x + 1))*cos(pi*(y + 1)) - 240*sin(pi*(y + 1))*cos(pi*(x + 1)))*sin(pi*(x + 1))**2*sin(pi*(y + 1))**3*cos(2*pi*t)*cos(pi*(x + 1))**2 + pi**4*(96*sin(pi*(x + 1))*cos(pi*(y + 1)) + 24*sin(pi*(y + 1))*cos(pi*(x + 1)))*sin(pi*(y + 1))**3*cos(2*pi*t)*cos(pi*(x + 1))**3 + pi**4*(-48*sin(pi*(x + 1))**2 + 144*cos(pi*(x + 1))**2)*sin(pi*(x + 1))**2*sin(pi*(y + 1))**2*cos(2*pi*t)*cos(pi*(y + 1))**2 + pi**2*(-4 + 56*pi**2)*sin(pi*(x + 1))**4*sin(pi*(y + 1))**4*cos(2*pi*t)"
      ]
     },
     "execution_count": 44,
     "metadata": {},
     "output_type": "execute_result"
    }
   ],
   "source": [
    "X, Y, T = symbols(\"x y t\")\n",
    "\n",
    "f = sym.pi**2*sym.sin(sym.pi*(X+1))**4*sym.sin(sym.pi*(Y+1))**4*sym.cos(2*sym.pi*T)*(-4+56*sym.pi**2)\\\n",
    "    + sym.pi**4*sym.sin(sym.pi*(X+1))**2*sym.sin(sym.pi*(Y+1))**2*sym.cos(sym.pi*(Y+1))**2*sym.cos(2*sym.pi*T)\\\n",
    "      *(-48*sym.sin(sym.pi*(X+1))**2 + 144*sym.cos(sym.pi*(X+1))**2) \\\n",
    "+ sym.pi**4*sym.sin(sym.pi*(X+1))**2*sym.sin(sym.pi*(Y+1))**3*sym.cos(sym.pi*(X+1))**2*sym.cos(2*sym.pi*T)\\\n",
    "*(-160*sym.sin(sym.pi*(X+1))*sym.cos(sym.pi*(Y+1)) - 240*sym.sin(sym.pi*(Y+1))*sym.cos(sym.pi*(X+1)))\\\n",
    "+sym.pi**4*sym.sin(sym.pi*(Y+1))**3*sym.cos(sym.pi*(X+1))**3*sym.cos(2*sym.pi*T)*(96*sym.sin(sym.pi*(X+1))\\\n",
    "*sym.cos(sym.pi*(Y+1))+24*sym.sin(sym.pi*(Y+1))*sym.cos(sym.pi*(X+1)))\n",
    "f"
   ]
  },
  {
   "cell_type": "code",
   "execution_count": null,
   "metadata": {},
   "outputs": [],
   "source": []
  }
 ],
 "metadata": {
  "kernelspec": {
   "display_name": "Python 3 (ipykernel)",
   "language": "python",
   "name": "python3"
  },
  "language_info": {
   "codemirror_mode": {
    "name": "ipython",
    "version": 3
   },
   "file_extension": ".py",
   "mimetype": "text/x-python",
   "name": "python",
   "nbconvert_exporter": "python",
   "pygments_lexer": "ipython3",
   "version": "3.8.10"
  }
 },
 "nbformat": 4,
 "nbformat_minor": 4
}

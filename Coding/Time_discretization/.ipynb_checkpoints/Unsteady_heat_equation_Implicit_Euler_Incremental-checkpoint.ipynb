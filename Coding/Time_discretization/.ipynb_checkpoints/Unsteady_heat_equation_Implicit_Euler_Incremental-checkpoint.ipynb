{
 "cells": [
  {
   "cell_type": "markdown",
   "id": "78c59d63",
   "metadata": {},
   "source": [
    "## From Ng-solve tutorial-3.1"
   ]
  },
  {
   "cell_type": "code",
   "execution_count": 1,
   "id": "3b29f74c",
   "metadata": {},
   "outputs": [],
   "source": [
    "from ngsolve import *\n",
    "from math import pi\n",
    "from netgen.geom2d import SplineGeometry\n",
    "from ngsolve.webgui import Draw"
   ]
  },
  {
   "cell_type": "code",
   "execution_count": 2,
   "id": "015cf1e2",
   "metadata": {},
   "outputs": [],
   "source": [
    "geo = SplineGeometry()\n",
    "geo.AddRectangle( (-1, -1), (1, 1), \n",
    "                 bcs = (\"bottom\", \"right\", \"top\", \"left\"))\n",
    "mesh = Mesh( geo.GenerateMesh(maxh=0.25))\n",
    "# Draw(mesh)\n",
    "fes = H1(mesh, order=3, dirichlet=\"bottom|right|left|top\")\n",
    "\n",
    "u,v = fes.TnT()\n",
    "\n",
    "time = 0.0\n",
    "dt = 0.001"
   ]
  },
  {
   "cell_type": "code",
   "execution_count": 3,
   "id": "74ea123e",
   "metadata": {},
   "outputs": [],
   "source": [
    "b = CoefficientFunction((2*y*(1-x*x),-2*x*(1-y*y)))\n",
    "# Draw(b,mesh,\"wind\")\n",
    "from ngsolve.internal import visoptions\n",
    "visoptions.scalfunction = \"wind:0\""
   ]
  },
  {
   "cell_type": "code",
   "execution_count": 4,
   "id": "d3bff3bf",
   "metadata": {},
   "outputs": [
    {
     "data": {
      "text/plain": [
       "<ngsolve.comp.BilinearForm at 0x7efdb421e870>"
      ]
     },
     "execution_count": 4,
     "metadata": {},
     "output_type": "execute_result"
    }
   ],
   "source": [
    "a = BilinearForm(fes, symmetric=False)\n",
    "a += 0.01*grad(u)*grad(v)*dx + b*grad(u)*v*dx\n",
    "a.Assemble()\n",
    "\n",
    "m = BilinearForm(fes, symmetric=False)\n",
    "m += u*v*dx\n",
    "m.Assemble()"
   ]
  },
  {
   "cell_type": "code",
   "execution_count": 5,
   "id": "91e1bde1",
   "metadata": {},
   "outputs": [],
   "source": [
    "gfu = GridFunction(fes)"
   ]
  },
  {
   "cell_type": "code",
   "execution_count": 6,
   "id": "1945ff45",
   "metadata": {},
   "outputs": [],
   "source": [
    "mstar = m.mat.CreateMatrix()\n",
    "mstar.AsVector().data = m.mat.AsVector() + dt * a.mat.AsVector()\n",
    "invmstar = mstar.Inverse(freedofs=fes.FreeDofs())"
   ]
  },
  {
   "cell_type": "code",
   "execution_count": 7,
   "id": "1c015555",
   "metadata": {},
   "outputs": [],
   "source": [
    "t = Parameter(0.0)"
   ]
  },
  {
   "cell_type": "code",
   "execution_count": 8,
   "id": "938bc460",
   "metadata": {},
   "outputs": [],
   "source": [
    "omega=1\n",
    "gausspt = exp(-6*((x+sin(omega*t))*(x+sin(omega*t))+y*y))-exp(-6*((x-sin(omega*t))*(x-sin(omega*t))+y*y))\n",
    "# scene = Draw(gausspt,mesh,\"ft\",order=3)\n",
    "# time = 0.0\n",
    "# from time import sleep\n",
    "# while time < 10 - 0.5 * dt:\n",
    "#     t.Set(time)\n",
    "#     scene.Redraw()\n",
    "#     time += 1e-3\n",
    "#     sleep(1e-6)"
   ]
  },
  {
   "cell_type": "code",
   "execution_count": 9,
   "id": "ea70d703",
   "metadata": {},
   "outputs": [
    {
     "data": {
      "application/vnd.jupyter.widget-view+json": {
       "model_id": "3a15bc8eea5b456e810bf90dc19178a1",
       "version_major": 2,
       "version_minor": 0
      },
      "text/plain": [
       "WebGuiWidget(layout=Layout(height='50vh', width='100%'), value={'gui_settings': {}, 'ngsolve_version': '6.2.23…"
      ]
     },
     "metadata": {},
     "output_type": "display_data"
    }
   ],
   "source": [
    "ft = LinearForm(fes)\n",
    "ft += gausspt*v*dx\n",
    "time = 0.0\n",
    "t.Set(0.0)\n",
    "gfu.Set((1-y*y)*x)\n",
    "#gfu.Set(CoefficientFunction(0))\n",
    "scene = Draw(gfu,mesh,\"u\")"
   ]
  },
  {
   "cell_type": "code",
   "execution_count": 10,
   "id": "59106fa7",
   "metadata": {},
   "outputs": [
    {
     "name": "stdout",
     "output_type": "stream",
     "text": [
      " 9.999999999999897676\n"
     ]
    }
   ],
   "source": [
    "tstep = 10 # time that we want to step over within one block-run\n",
    "t_intermediate=0 # time counter within one block-run\n",
    "res = gfu.vec.CreateVector()\n",
    "while t_intermediate < tstep - 0.5 * dt:\n",
    "    t.Set(time+t_intermediate+dt)\n",
    "    ft.Assemble()\n",
    "    res.data = dt*ft.vec - dt * a.mat * gfu.vec\n",
    "    gfu.vec.data += invmstar * res\n",
    "    t_intermediate += dt\n",
    "    print(\"\\r\",time+t_intermediate,end=\"\")\n",
    "    scene.Redraw()\n",
    "print(\"\")\n",
    "time+=t_intermediate"
   ]
  },
  {
   "cell_type": "code",
   "execution_count": null,
   "id": "715396f2",
   "metadata": {},
   "outputs": [],
   "source": []
  }
 ],
 "metadata": {
  "kernelspec": {
   "display_name": "Python 3 (ipykernel)",
   "language": "python",
   "name": "python3"
  },
  "language_info": {
   "codemirror_mode": {
    "name": "ipython",
    "version": 3
   },
   "file_extension": ".py",
   "mimetype": "text/x-python",
   "name": "python",
   "nbconvert_exporter": "python",
   "pygments_lexer": "ipython3",
   "version": "3.8.10"
  }
 },
 "nbformat": 4,
 "nbformat_minor": 5
}

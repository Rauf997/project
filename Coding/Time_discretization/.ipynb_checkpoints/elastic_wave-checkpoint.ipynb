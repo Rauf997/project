{
 "cells": [
  {
   "cell_type": "markdown",
   "metadata": {},
   "source": [
    "Elastic wave equation\n",
    "===\n",
    "We solve an elastic wave equation with a Newmark time discretization."
   ]
  },
  {
   "cell_type": "code",
   "execution_count": 1,
   "metadata": {},
   "outputs": [],
   "source": [
    "from netgen.occ import *\n",
    "from ngsolve import *\n",
    "from ngsolve.webgui import Draw"
   ]
  },
  {
   "cell_type": "code",
   "execution_count": 2,
   "metadata": {},
   "outputs": [
    {
     "data": {
      "application/vnd.jupyter.widget-view+json": {
       "model_id": "f577aa619ad54a5eab830a532dfb1c36",
       "version_major": 2,
       "version_minor": 0
      },
      "text/plain": [
       "WebGuiWidget(layout=Layout(height='50vh', width='100%'), value={'gui_settings': {}, 'ngsolve_version': '6.2.23…"
      ]
     },
     "metadata": {},
     "output_type": "display_data"
    }
   ],
   "source": [
    "shape = MoveTo(0,-0.05).Rectangle(1,0.1).Face()\n",
    "shape = shape + Circle((1,0), 0.15).Face()\n",
    "shape.edges.Min(X).name=\"left\"\n",
    "shape.edges.Min(X).maxh=0.01\n",
    "\n",
    "mesh = Mesh(OCCGeometry(shape, dim=2).GenerateMesh(maxh=0.05)).Curve(3)\n",
    "\n",
    "Draw (mesh);"
   ]
  },
  {
   "cell_type": "markdown",
   "metadata": {},
   "source": [
    "Cauchy-Green tensor and hyperelastic energy density:"
   ]
  },
  {
   "cell_type": "code",
   "execution_count": 3,
   "metadata": {},
   "outputs": [],
   "source": [
    "E, nu = 210, 0.2\n",
    "mu  = E / 2 / (1+nu)\n",
    "lam = E * nu / ((1+nu)*(1-2*nu))\n",
    "\n",
    "def C(u):\n",
    "    F = Id(2) + Grad(u)\n",
    "    return F.trans * F\n",
    "\n",
    "def NeoHooke (C):\n",
    "    return 0.5*mu*(Trace(C-Id(2)) + 2*mu/lam*Det(C)**(-lam/2/mu)-1)"
   ]
  },
  {
   "cell_type": "markdown",
   "metadata": {},
   "source": [
    "The energy functional is given by\n",
    "$$\n",
    "J(u) = \\int_{\\Omega} W(C(u)) - f u\n",
    "$$\n",
    "\n",
    "equilibrium of forces in the time-independent (= stationary) case:\n",
    "\n",
    "$$\n",
    "\\left< J^\\prime(u), v \\right> = 0 \\qquad \\forall \\, v\n",
    "$$\n",
    "\n",
    "non-equilibrium leads to acceleration (Newton's law):\n",
    "\n",
    "$$\n",
    "\\int_{\\Omega} \\rho \\ddot u v = -\\left< J^\\prime(u), v \\right> \\qquad \\forall \\, v\n",
    "$$\n",
    "\n",
    "with acceleration $a := \\ddot u$, discretized Newton's law becomes\n",
    "\n",
    "$$\n",
    "M a = - J^\\prime(u)\n",
    "$$\n",
    "\n",
    "for displacement vector $u$, acceleration vector $a$, and mass matrix $M$"
   ]
  },
  {
   "cell_type": "markdown",
   "metadata": {},
   "source": [
    "## Newmark timestepping \n",
    "Is trapezoidal rule for displacement $u$ and velocity $v$:\n",
    "\n",
    "\\begin{eqnarray*}\n",
    "\\frac{\\hat u- u}{\\tau} = \\tfrac{1}{2} (v + \\hat v) \\\\\n",
    "\\frac{\\hat v- v}{\\tau} = \\tfrac{1}{2} (a + \\hat a) \\\\\n",
    "\\end{eqnarray*}\n",
    "\n",
    "leads to\n",
    "\n",
    "$$\n",
    "\\hat u = u + \\tau v + \\frac{\\tau^2}{4} (a + \\hat a),\n",
    "$$\n",
    "\n",
    "or making $\\hat a$ explizit to \n",
    "\n",
    "$$\n",
    "\\hat a = \\frac{4}{\\tau^2} (\\hat u - u - \\tau v) - a\n",
    "$$\n",
    "\n",
    "Inserting Newton's law for the new time-step\n",
    "\n",
    "$$\n",
    "M (\\tfrac{4}{\\tau^2} (\\hat u - u - \\tau v) - a) = - J^\\prime(\\hat u)\n",
    "$$\n",
    "\n",
    "leads to the equation for the new displacement $\\hat u$."
   ]
  },
  {
   "cell_type": "code",
   "execution_count": 4,
   "metadata": {},
   "outputs": [],
   "source": [
    "fes = H1(mesh, order=3, dirichlet=\"left\", dim=mesh.dim)\n",
    "\n",
    "gfu = GridFunction(fes)\n",
    "gfvel = GridFunction(fes)\n",
    "gfacc = GridFunction(fes)\n",
    "\n",
    "gfunew = GridFunction(fes)\n",
    "gfaccnew = GridFunction(fes)"
   ]
  },
  {
   "cell_type": "code",
   "execution_count": 5,
   "metadata": {},
   "outputs": [],
   "source": [
    "rho = 0.1\n",
    "force = CF( (0,-rho*9.81) )\n",
    "tau = 0.01\n",
    "\n",
    "u,v = fes.TnT()\n",
    "\n",
    "acc = 4/(tau*tau)*(u-gfu-tau*gfvel) - gfacc\n",
    "\n",
    "a = BilinearForm(fes)\n",
    "a += (rho*acc*v).Compile(True,True)*dx\n",
    "a += Variation(NeoHooke(C(u))*dx-force*u*dx).Compile(True,True)"
   ]
  },
  {
   "cell_type": "code",
   "execution_count": 6,
   "metadata": {
    "scrolled": false
   },
   "outputs": [
    {
     "data": {
      "application/vnd.jupyter.widget-view+json": {
       "model_id": "27fcb66cf948485b9c714614a76b9210",
       "version_major": 2,
       "version_minor": 0
      },
      "text/plain": [
       "WebGuiWidget(layout=Layout(height='50vh', width='100%'), value={'gui_settings': {}, 'ngsolve_version': '6.2.23…"
      ]
     },
     "metadata": {},
     "output_type": "display_data"
    },
    {
     "name": "stdout",
     "output_type": "stream",
     "text": [
      "t= 3.999999999999958775"
     ]
    }
   ],
   "source": [
    "scene = Draw (C(gfunew)[0,0], mesh, deformation=gfu)\n",
    "\n",
    "t = 0\n",
    "tend = 4\n",
    "\n",
    "with TaskManager():\n",
    "    while t < tend:\n",
    "        print (\"\\rt=\", t, end=\"\")\n",
    "        \n",
    "        solvers.Newton(a, gfunew, inverse=\"pardiso\", maxerr=1e-9, printing=False, maxit=25)\n",
    "        \n",
    "        gfaccnew.vec.data = 4/tau**2 * (gfunew.vec-gfu.vec-tau*gfvel.vec) \\\n",
    "            - gfacc.vec\n",
    "        \n",
    "        gfvel.vec.data += tau/2 * (gfacc.vec + gfaccnew.vec)\n",
    "        gfu.vec.data = gfunew.vec\n",
    "        gfacc.vec.data = gfaccnew.vec\n",
    "    \n",
    "        t += tau\n",
    "        scene.Redraw()"
   ]
  },
  {
   "cell_type": "code",
   "execution_count": null,
   "metadata": {},
   "outputs": [],
   "source": []
  }
 ],
 "metadata": {
  "kernelspec": {
   "display_name": "Python 3 (ipykernel)",
   "language": "python",
   "name": "python3"
  },
  "language_info": {
   "codemirror_mode": {
    "name": "ipython",
    "version": 3
   },
   "file_extension": ".py",
   "mimetype": "text/x-python",
   "name": "python",
   "nbconvert_exporter": "python",
   "pygments_lexer": "ipython3",
   "version": "3.8.10"
  }
 },
 "nbformat": 4,
 "nbformat_minor": 2
}

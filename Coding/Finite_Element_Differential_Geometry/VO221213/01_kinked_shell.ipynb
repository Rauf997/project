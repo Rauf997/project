{
 "cells": [
  {
   "cell_type": "markdown",
   "metadata": {},
   "source": [
    "# Koiter shells with kinks and branched shells\n",
    "The HHJ bending moment is normal-normal continuous, $\\sigma_{\\hat \\mu\\hat\\mu}$, which means that the bending moments are preserved over elements. Even if the structure has a non-smooth kink. What flows in from one element exactly flows out to the other element. Therefore the moment balance equation is fulfilled.\n"
   ]
  },
  {
   "cell_type": "code",
   "execution_count": null,
   "metadata": {},
   "outputs": [],
   "source": [
    "from netgen.csg import *\n",
    "from ngsolve import *\n",
    "from ngsolve.meshes import MakeStructuredSurfaceMesh\n",
    "from ngsolve.webgui import Draw"
   ]
  },
  {
   "cell_type": "markdown",
   "metadata": {},
   "source": [
    "Put the whole method in a function."
   ]
  },
  {
   "cell_type": "code",
   "execution_count": null,
   "metadata": {},
   "outputs": [],
   "source": [
    "def MaterialNorm(mat, E, nu):\n",
    "    return E/(1-nu**2)*((1-nu)*InnerProduct(mat,mat)+nu*Trace(mat)**2)\n",
    "def MaterialNormInv(mat, E, nu):\n",
    "    return (1+nu)/E*(InnerProduct(mat,mat)-nu/(2*nu+1)*Trace(mat)**2)\n",
    "\n",
    "def SetUp(order, fes, E, nu, thickness, mesh, force, clamped_bnd):\n",
    "    u,sigma,hyb = fes.TrialFunction()\n",
    "    # trace needed as we are on the surface\n",
    "    sigma, hyb = sigma.Trace(), hyb.Trace()\n",
    "    nsurf = specialcf.normal(mesh.dim)\n",
    "    t     = specialcf.tangential(mesh.dim)\n",
    "    nel   = Cross(nsurf, t)\n",
    "    \n",
    "    Ptau    = Id(mesh.dim) - OuterProduct(nsurf,nsurf)\n",
    "    Ftau    = grad(u).Trace() + Ptau\n",
    "    Ctau    = Ftau.trans*Ftau\n",
    "    Etautau = 0.5*(Ctau - Ptau)\n",
    "    \n",
    "    nphys   = Normalize(Cof(Ftau)*nsurf)\n",
    "    tphys   = Normalize(Ftau*t)\n",
    "    nelphys = Cross(nphys,tphys)\n",
    "    gradn = specialcf.Weingarten(3)\n",
    "    Hn = CF( (u.Operator(\"hesseboundary\").trans*nphys), dims=(3,3) )\n",
    "    \n",
    "    fesVF = VectorFacetSurface(mesh, order=order)\n",
    "        \n",
    "    gfclamped = GridFunction(FacetSurface(mesh,order=0))\n",
    "    gfclamped.Set(1,definedon=mesh.BBoundaries(clamped_bnd))\n",
    "\n",
    "    solution = GridFunction(fes, name=\"solution\")\n",
    "    averednv = GridFunction(fesVF)\n",
    "    averednv_start = GridFunction(fesVF)\n",
    "\n",
    "    gfgradu  = Grad(solution.components[0])\n",
    "    cfnphys = Normalize(Cof(Ptau+gfgradu)*nsurf)\n",
    "\n",
    "    cfn  = Normalize(CF( averednv.components ))\n",
    "    cfnR = Normalize(CF( averednv_start.components ))\n",
    "\n",
    "    pnaverage = Normalize( cfn - (tphys*cfn)*tphys )\n",
    "\n",
    "    averednv.Set((1-gfclamped)*cfnphys+gfclamped*nsurf, definedon=mesh.Boundaries(\".*\"), dual=True)\n",
    "    averednv_start.vec.data = averednv.vec\n",
    "\n",
    "    \n",
    "    bfA = BilinearForm(fes, symmetric=True, condense=True)\n",
    "    #membrane energy\n",
    "    bfA += Variation( 0.5*thickness*MaterialNorm(Etautau, E, nu)*ds )\n",
    "    #bending energy\n",
    "    bfA += Variation( (-6/thickness**3*MaterialNormInv(sigma, E, nu) \\\n",
    "                       + InnerProduct(Hn + (1-nsurf*nphys)*gradn,sigma))*ds ).Compile()\n",
    "    # boundary term of bending energy including hybridization variable\n",
    "    bfA += Variation( (acos(nelphys*pnaverage)-acos(nel*cfnR)+hyb*nel)*(sigma*nel*nel)*ds(element_boundary=True) ).Compile()\n",
    "    # right-hand side\n",
    "    bfA += Variation( force )\n",
    "    return bfA, solution, averednv, gfclamped, cfnphys"
   ]
  },
  {
   "cell_type": "markdown",
   "metadata": {},
   "source": [
    "Let's consider a kink structure, which is clamped on the right and on the top left edge we apply a shear force.\n",
    "\n",
    "How does the bending moment distribute over the shell?"
   ]
  },
  {
   "cell_type": "code",
   "execution_count": null,
   "metadata": {},
   "outputs": [],
   "source": [
    "order = 3\n",
    "\n",
    "mapping = lambda x,y,z : (20*(x-0.5) if x >= 0.5 else 0, 5*y,0 if x >= 0.5 else 20*(0.5-x) )\n",
    "mesh = MakeStructuredSurfaceMesh(quads=False, nx=10, ny=4, mapping=mapping)\n",
    "Draw(mesh)\n",
    "\n",
    "force = CF( (1,0,0) )\n",
    "        \n",
    "E, nu = 1e6, 0\n",
    "thickness = 0.1\n",
    "\n",
    "fes1 = HDivDivSurface(mesh, order=order-1, discontinuous=True)\n",
    "fes2 = VectorH1(mesh, order=order, dirichlet_bbnd=\"right\")\n",
    "fes3 = NormalFacetSurface(mesh, order=order-1, dirichlet_bbnd=\"right\")\n",
    "fes  = fes2*fes1*fes3\n",
    "u,sigma,hyb = fes.TrialFunction()\n",
    "par = Parameter(0.0)\n",
    "\n",
    "bfA, solution, averednv, gfclamped, cfnphys = SetUp(order, fes, E, nu, thickness, mesh, \\\n",
    "                                           -par*force*u*dx(definedon=mesh.BBoundaries(\"left\")), clamped_bnd=\"right\")"
   ]
  },
  {
   "cell_type": "code",
   "execution_count": null,
   "metadata": {},
   "outputs": [],
   "source": [
    "solution.vec[:]=0\n",
    "scene = Draw(Norm(solution.components[1]), mesh, \"disp\", deformation=solution.components[0])"
   ]
  },
  {
   "cell_type": "code",
   "execution_count": null,
   "metadata": {},
   "outputs": [],
   "source": [
    "numsteps=10\n",
    "nsurf = specialcf.normal(3)\n",
    "with TaskManager():\n",
    "    for steps in range(numsteps):\n",
    "        par.Set((steps+1)/numsteps)\n",
    "        print(\"Loadstep =\", steps+1, \", F/Fmax =\", (steps+1)/numsteps*100, \"%\")\n",
    "        \n",
    "        # update averaged normal vector\n",
    "        averednv.Set((1-gfclamped)*cfnphys + gfclamped*nsurf, definedon=mesh.Boundaries(\".*\"), dual=True)\n",
    "        \n",
    "        # solve\n",
    "        solvers.Newton(bfA, solution, inverse=\"sparsecholesky\", printing=False, maxerr=2e-10, maxit=20)\n",
    "        scene.Redraw()"
   ]
  },
  {
   "cell_type": "markdown",
   "metadata": {},
   "source": [
    "Note, that the angle of the kink gets preserved during deformation.\n",
    "\n",
    "Next consider a kink structure, which is again clamped on the right, but now we apply a bending moment on the top left edge.\n",
    "\n",
    "How does the bending moment look like?"
   ]
  },
  {
   "cell_type": "code",
   "execution_count": null,
   "metadata": {
    "scrolled": true
   },
   "outputs": [],
   "source": [
    "order = 3\n",
    "\n",
    "mapping = lambda x,y,z : (2*(x-0.5) if x >= 0.5 else 0, y,0 if x >= 0.5 else 2*(0.5-x) )\n",
    "mesh = MakeStructuredSurfaceMesh(quads=False, nx=10, ny=4, mapping=mapping)\n",
    "Draw(mesh)\n",
    "\n",
    "force = IfPos(z-1+1e-6, 1, 0)*Cross(specialcf.normal(3),specialcf.tangential(3))\n",
    "        \n",
    "E, nu = 8e6, 0\n",
    "thickness = 0.01\n",
    "\n",
    "fes1 = HDivDivSurface(mesh, order=order-1, discontinuous=True)\n",
    "fes2 = VectorH1(mesh, order=order, dirichlet_bbnd=\"right\")\n",
    "fes3 = NormalFacetSurface(mesh, order=order-1, dirichlet_bbnd=\"right\")\n",
    "fes  = fes2*fes1*fes3\n",
    "u,sigma,hyb = fes.TrialFunction()\n",
    "par = Parameter(0.0)\n",
    "\n",
    "bfA, solution, averednv, gfclamped, cfnphys = SetUp(order, fes, E, nu, thickness, mesh, \\\n",
    "                                           -par*force*hyb.Trace()*ds(element_boundary=True), clamped_bnd=\"right\")"
   ]
  },
  {
   "cell_type": "code",
   "execution_count": null,
   "metadata": {},
   "outputs": [],
   "source": [
    "solution.vec[:]=0\n",
    "scene = Draw(Norm(solution.components[1]), mesh, \"disp\", deformation=solution.components[0])"
   ]
  },
  {
   "cell_type": "code",
   "execution_count": null,
   "metadata": {},
   "outputs": [],
   "source": [
    "numsteps=10\n",
    "\n",
    "with TaskManager():\n",
    "    for steps in range(numsteps):\n",
    "        par.Set((steps+1)/numsteps)\n",
    "        print(\"Loadstep =\", steps+1, \", F/Fmax =\", (steps+1)/numsteps*100, \"%\")\n",
    "        \n",
    "        # update averaged normal vector\n",
    "        averednv.Set((1-gfclamped)*cfnphys + gfclamped*nsurf, definedon=mesh.Boundaries(\".*\"), dual=True)\n",
    "        \n",
    "        # solve\n",
    "        solvers.Newton(bfA, solution, inverse=\"sparsecholesky\", printing=False, maxerr=2e-10, maxit=20)\n",
    "        scene.Redraw()"
   ]
  },
  {
   "cell_type": "markdown",
   "metadata": {},
   "source": [
    "We can also consider structures where some edges share more than two elements. The T-structure is such a branched shell. We clamp it at the bottom and apply a shear force on the top left edge. We again expect that a linear bending moment will be induced, but what happens to the right branch?"
   ]
  },
  {
   "cell_type": "code",
   "execution_count": null,
   "metadata": {},
   "outputs": [],
   "source": [
    "from netgen.occ import *\n",
    "f1 = WorkPlane(Axes((0,0,0), n=Z, h=X)).Rectangle(1,1).Face()\n",
    "f1.edges.Min(Y).name=\"bottom\"\n",
    "f1.edges.Max(Y).name=\"top\"\n",
    "f1.edges.Min(X).name=\"left\"\n",
    "f1.edges.Max(X).name=\"right\"\n",
    "f2 = WorkPlane(Axes((0,1,1/2), n=Y, h=X)).Rectangle(1,1).Face()\n",
    "f2.edges.Min(Z).name=\"upleft\"\n",
    "f2.edges.Max(Z).name=\"upright\"\n",
    "f2.edges.Min(X).name=\"uptop\"\n",
    "f2.edges.Max(X).name=\"upbottom\"\n",
    "shape = Glue([f1,f2])\n",
    "mesh = Mesh(OCCGeometry(shape).GenerateMesh(maxh=0.2))\n",
    "Draw(mesh)"
   ]
  },
  {
   "cell_type": "code",
   "execution_count": null,
   "metadata": {},
   "outputs": [],
   "source": [
    "order=3\n",
    "\n",
    "thickness = 0.1\n",
    "E, nu = 6.1e6, 0\n",
    "\n",
    "force = 3e3*CF((0,1,-1))\n",
    "\n",
    "fes1 = HDivDivSurface(mesh, order=order-1, discontinuous=True)\n",
    "fes2 = VectorH1(mesh, order=order, dirichlet_bbnd=\"bottom\")\n",
    "fes3 = NormalFacetSurface(mesh, order=order-1, dirichlet_bbnd=\"bottom\")\n",
    "fes  = fes2*fes1*fes3\n",
    "u,sigma,hyb = fes.TrialFunction()\n",
    "par = Parameter(0.0)\n",
    "\n",
    "bfA, solution, averednv, gfclamped, cfnphys = SetUp(order, fes, E, nu, thickness, mesh, \\\n",
    "                                           -par*force*u*dx(definedon=mesh.BBoundaries(\"upright\")), clamped_bnd=\"bottom\")"
   ]
  },
  {
   "cell_type": "code",
   "execution_count": null,
   "metadata": {},
   "outputs": [],
   "source": [
    "solution.vec[:]=0\n",
    "scene = Draw(Norm(solution.components[1]), mesh, \"disp\", deformation=solution.components[0])"
   ]
  },
  {
   "cell_type": "code",
   "execution_count": null,
   "metadata": {},
   "outputs": [],
   "source": [
    "numsteps=10\n",
    "with TaskManager():\n",
    "    for steps in range(numsteps):\n",
    "        par.Set((steps+1)/numsteps)\n",
    "        print(\"Loadstep =\", steps+1, \", F/Fmax =\", (steps+1)/numsteps*100, \"%\")\n",
    "        \n",
    "        # update averaged normal vector\n",
    "        averednv.Set((1-gfclamped)*cfnphys + gfclamped*nsurf, definedon=mesh.Boundaries(\".*\"), dual=True)\n",
    "        \n",
    "        # solve\n",
    "        solvers.Newton(bfA, solution, inverse=\"sparsecholesky\", printing=False, maxerr=2e-10, maxit=20)\n",
    "        scene.Redraw()"
   ]
  },
  {
   "cell_type": "code",
   "execution_count": null,
   "metadata": {},
   "outputs": [],
   "source": []
  }
 ],
 "metadata": {
  "kernelspec": {
   "display_name": "Python 3",
   "language": "python",
   "name": "python3"
  },
  "language_info": {
   "codemirror_mode": {
    "name": "ipython",
    "version": 3
   },
   "file_extension": ".py",
   "mimetype": "text/x-python",
   "name": "python",
   "nbconvert_exporter": "python",
   "pygments_lexer": "ipython3",
   "version": "3.10.6"
  }
 },
 "nbformat": 4,
 "nbformat_minor": 4
}

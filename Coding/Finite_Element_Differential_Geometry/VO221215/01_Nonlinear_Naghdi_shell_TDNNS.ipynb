{
 "cells": [
  {
   "cell_type": "markdown",
   "metadata": {},
   "source": [
    "# Nonlinear Naghdi Shells via TDNNS method\n",
    "### Cantilever with bending moments\n",
    "We consider a beam which is fixed at the left boundary and we will apply a moment at the right boundary such that the beam should roll up to a circle (Possion ratio $\\nu=0$). We use loadsteps to increase the moments and apply Newton's method. As the bending moment would be incorporated strongly via $\\sigma_{\\hat\\mu\\hat\\mu}$, which is tedious, we use the hybridized formulation such that we can include the force weakly directly in the formulation. "
   ]
  },
  {
   "cell_type": "code",
   "execution_count": null,
   "metadata": {},
   "outputs": [],
   "source": [
    "from ngsolve import *\n",
    "from ngsolve.webgui import Draw\n",
    "from ngsolve.meshes import MakeStructuredSurfaceMesh\n",
    "\n",
    "thickness = 0.1\n",
    "L = 12\n",
    "W = 1\n",
    "E, nu = 1.2e6, 0\n",
    "k = 5/6\n",
    "G = E/(2*(1+nu))\n",
    "\n",
    "moment = IfPos(x-L+1e-6, 1, 0)*50*pi/3\n",
    "\n",
    "mapping = lambda x,y,z : (L*x, W*y,0)\n",
    "mesh = MakeStructuredSurfaceMesh(quads=False, nx=10, ny=1, mapping=mapping)\n",
    "Draw(mesh)"
   ]
  },
  {
   "cell_type": "code",
   "execution_count": null,
   "metadata": {},
   "outputs": [],
   "source": [
    "order = 2\n",
    "\n",
    "fes1 = HDivDivSurface(mesh, order=order-1, discontinuous=True)\n",
    "fes2 = VectorH1(mesh, order=order, dirichletx_bbnd=\"left\", dirichlety_bbnd=\"left|bottom\", dirichletz_bbnd=\"left\")\n",
    "fes3 = NormalFacetSurface(mesh, order=order-1, dirichlet_bbnd=\"left\")\n",
    "fes4 = HCurl(mesh, order=order-1, dirichlet_bbnd=\"left\")\n",
    "\n",
    "interpolate=True\n",
    "fesRR = HCurlCurl(mesh,order=order-1)\n",
    "\n",
    "fes  = fes2*fes1*fes3*fes4\n",
    "u,sigma,hyb,gamma = fes.TrialFunction()\n",
    "# trace needed as we are on the surface\n",
    "sigma, hyb, gamma = sigma.Trace(), hyb.Trace(), gamma.Trace()"
   ]
  },
  {
   "cell_type": "code",
   "execution_count": null,
   "metadata": {},
   "outputs": [],
   "source": [
    "def PseudoInverse(mat, v):\n",
    "    \"\"\" Pseudo Inverse of a rank (n-1) matrix\n",
    "    v needs to lie in the kernel of mat\n",
    "    \"\"\"\n",
    "    return Inv(mat.trans*mat+OuterProduct(v,v))*mat.trans\n",
    "\n",
    "nsurf = specialcf.normal(mesh.dim)\n",
    "tang     = specialcf.tangential(mesh.dim)\n",
    "nel   = Cross(nsurf, tang)\n",
    "    \n",
    "Ptau    = Id(mesh.dim) - OuterProduct(nsurf,nsurf)\n",
    "Ftau    = grad(u).Trace() + Ptau\n",
    "Ctau    = Ftau.trans*Ftau\n",
    "Etautau = 0.5*(Ctau - Ptau)\n",
    "\n",
    "nphys   = Normalize(Cof(Ftau)*nsurf)\n",
    "tphys   = Normalize(Ftau*tang)\n",
    "nelphys = Cross(nphys,tphys)\n",
    "\n",
    "gradn = specialcf.Weingarten(3) #Grad(nsurf)\n",
    "Hng = CF( (u.Operator(\"hesseboundary\").trans*(nphys + PseudoInverse(Ftau,nsurf).trans*gamma)), dims=(3,3) )"
   ]
  },
  {
   "cell_type": "code",
   "execution_count": null,
   "metadata": {},
   "outputs": [],
   "source": [
    "fesVF = VectorFacetSurface(mesh, order=order)\n",
    "        \n",
    "gfclamped = GridFunction(FacetSurface(mesh,order=0))\n",
    "gfclamped.Set(1,definedon=mesh.BBoundaries(\"left\"))\n",
    "\n",
    "solution = GridFunction(fes, name=\"solution\")\n",
    "gfb = GridFunction(fesVF)\n",
    "gfbR = GridFunction(fesVF)\n",
    "\n",
    "gfgradu  = Grad(solution.components[0])\n",
    "gfnphys = Normalize(Cof(Ptau+gfgradu)*nsurf)\n",
    "\n",
    "cfn  = Normalize(CF( gfb.components ))\n",
    "cfnR = Normalize(CF( gfbR.components ))\n",
    "\n",
    "pnaverage = Normalize( cfn - (tphys*cfn)*tphys )\n",
    "\n",
    "gfb.Set((1-gfclamped)*gfnphys+gfclamped*nsurf, definedon=mesh.Boundaries(\".*\"), dual=True)\n",
    "gfbR.vec.data = gfb.vec"
   ]
  },
  {
   "cell_type": "markdown",
   "metadata": {},
   "source": [
    "Define the material norms $\\|\\cdot\\|_{\\mathbb{C}}^2$ and $\\|\\cdot\\|_{\\mathbb{C}^{-1}}^2$\n",
    "\\begin{align}\n",
    "\\mathbb{C} E_{\\mathcal{S}} = \\frac{\\bar E}{1-\\bar \\nu^2}\\big((1-\\bar \\nu)E_{\\mathcal{S}}+\\bar \\nu\\,\\mathrm{tr}(E_{\\mathcal{S}})P_{\\mathcal{S}}\\big)\n",
    "\\end{align}"
   ]
  },
  {
   "cell_type": "code",
   "execution_count": null,
   "metadata": {},
   "outputs": [],
   "source": [
    "def MaterialNorm(mat, E, nu):\n",
    "    return E/(1-nu**2)*((1-nu)*InnerProduct(mat,mat)+nu*Trace(mat)**2)\n",
    "\n",
    "def MaterialNormInv(mat, E, nu):\n",
    "    return (1+nu)/E*(InnerProduct(mat,mat)-nu/(2*nu+1)*Trace(mat)**2)"
   ]
  },
  {
   "cell_type": "markdown",
   "metadata": {},
   "source": [
    "Define the bilinear form for the problem including membrane and bending energy.\n",
    "\\begin{align}\n",
    "\\mathcal{L}(u,\\sigma) =\\frac{t}{2}\\|E_{\\mathcal{S}}\\|^2_{\\mathbb{C}} -\\frac{6}{t^3}\\|\\sigma\\|^2_{\\mathbb{C}^{-1}} +  \\int_{\\mathcal{S}} \\Big(\\sum_{i=1}^3(\\nabla_{\\mathcal{S}}^2u_i)(\\nu\\circ\\phi)_i+(1- \\hat{\\nu}\\cdot\\nu\\circ\\phi)\\nabla_{\\mathcal{S}}\\hat{\\nu}\\Big):\\sigma\\,ds + \\sum_{\\mathrm{edges}}\\langle\\sphericalangle(\\nu_L,\\nu_R)-\\sphericalangle(\\hat{\\nu_L},\\hat{\\nu_R}),\\sigma_{\\hat{\\mu}\\hat{\\mu}}\\rangle - \\int_{\\mathcal{S}}f\\cdot u\\,ds,\n",
    "\\end{align}"
   ]
  },
  {
   "cell_type": "code",
   "execution_count": null,
   "metadata": {},
   "outputs": [],
   "source": [
    "bfA = BilinearForm(fes, symmetric=True, condense=True)\n",
    "\n",
    "#membrane energy\n",
    "if interpolate:\n",
    "    bfA += Variation( 0.5*thickness*MaterialNorm(Interpolate(Etautau,fesRR), E, nu)*ds )\n",
    "else:\n",
    "    bfA += Variation( (0.5*thickness*MaterialNorm(Etautau, E, nu))*ds )\n",
    "\n",
    "#bending energy\n",
    "bfA += Variation( (-6/thickness**3*MaterialNormInv(sigma, E, nu) \\\n",
    "                   + InnerProduct(Hng + (1-nsurf*(nphys+PseudoInverse(Ftau,nsurf).trans*gamma))*gradn - Grad(gamma),sigma))*ds ).Compile()\n",
    "# boundary term of bending energy including hybridization variable\n",
    "bfA += Variation( (acos(nelphys*pnaverage)-acos(nel*cfnR)+hyb*nel + gamma*nel)*(sigma*nel*nel)*ds(element_boundary=True) ).Compile()\n",
    "\n",
    "#shear energy\n",
    "bfA += Variation( 0.5*thickness*k*G*gamma*gamma*ds )\n",
    "\n",
    "# moment as right-hand side\n",
    "par = Parameter(0.0)\n",
    "bfA += Variation( -par*moment*(hyb*nel)*ds(element_boundary=True) )"
   ]
  },
  {
   "cell_type": "code",
   "execution_count": null,
   "metadata": {},
   "outputs": [],
   "source": [
    "solution.vec[:]=0\n",
    "scene = Draw(solution.components[0], mesh, \"disp\", deformation=solution.components[0])"
   ]
  },
  {
   "cell_type": "markdown",
   "metadata": {},
   "source": [
    "Use Newton's method for solving and increase magnitude of right-hand side by load-steps.\n",
    "\n",
    "The normal vector needs to be averaged after each Newton step."
   ]
  },
  {
   "cell_type": "code",
   "execution_count": null,
   "metadata": {},
   "outputs": [],
   "source": [
    "numsteps=20\n",
    "with TaskManager():\n",
    "    for steps in range(numsteps):\n",
    "        par.Set((steps+1)/numsteps)\n",
    "        print(\"Loadstep =\", steps+1, \", F/Fmax =\", (steps+1)/numsteps*100, \"%\")\n",
    "        \n",
    "        # update averaged normal vector\n",
    "        gfb.Set((1-gfclamped)*gfnphys + gfclamped*nsurf, definedon=mesh.Boundaries(\".*\"), dual=True)\n",
    "        \n",
    "        # solve\n",
    "        solvers.Newton(bfA, solution, inverse=\"sparsecholesky\", printing=False, maxerr=2e-10, maxit=20)\n",
    "        scene.Redraw()"
   ]
  },
  {
   "cell_type": "code",
   "execution_count": null,
   "metadata": {},
   "outputs": [],
   "source": []
  }
 ],
 "metadata": {
  "kernelspec": {
   "display_name": "Python 3",
   "language": "python",
   "name": "python3"
  },
  "language_info": {
   "codemirror_mode": {
    "name": "ipython",
    "version": 3
   },
   "file_extension": ".py",
   "mimetype": "text/x-python",
   "name": "python",
   "nbconvert_exporter": "python",
   "pygments_lexer": "ipython3",
   "version": "3.10.6"
  }
 },
 "nbformat": 4,
 "nbformat_minor": 4
}

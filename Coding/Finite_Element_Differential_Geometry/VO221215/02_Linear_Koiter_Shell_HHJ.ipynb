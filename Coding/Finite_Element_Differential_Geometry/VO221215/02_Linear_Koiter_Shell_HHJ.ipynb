{
 "cells": [
  {
   "cell_type": "markdown",
   "id": "0b2a8344",
   "metadata": {},
   "source": [
    "# Koiter shell (linear) with HHJ\n",
    "\n",
    "Reference values: $t=0.1$: $0.1856305$, $t=0.01$: $0.1502913$, $t=0.001$: $0.1498749$"
   ]
  },
  {
   "cell_type": "code",
   "execution_count": null,
   "id": "6b27c1c1",
   "metadata": {},
   "outputs": [],
   "source": [
    "from ngsolve import *\n",
    "from netgen.csg import *\n",
    "from netgen.meshing import MeshingStep\n",
    "from ngsolve.webgui import Draw\n",
    "import netgen.meshing as meshing\n",
    "\n",
    "thickness = 0.1\n",
    "radius    = 1\n",
    "order = 3\n",
    "\n",
    "E   = 2.85e4\n",
    "nu  = 0.3\n",
    "mu  = E/(2*(1+nu))\n",
    "lam = E*nu/(1-nu**2)\n",
    "k   = 5/6\n",
    "\n",
    "\n",
    "free = \"right\"\n",
    "symmetry =\"left|top|bottom\"\n",
    "\n",
    "zeta = IfPos(y, atan(z/y), pi/2)\n",
    "A = sqrt(1+y**2)\n",
    "B = sqrt(1+2*y**2)\n",
    "e_n = -specialcf.normal(3)\n",
    "force = 1e4*thickness*cos(2*zeta)*e_n*thickness**2\n",
    "\n",
    "mapping = lambda x,y,z : (x,sqrt(1+x**2)*cos(pi/2*y),sqrt(1+x**2)*sin(pi/2*y))\n",
    "geom = meshing.SurfaceGeometry(mapping)\n",
    "mesh = Mesh(geom.GenerateMesh(quads=False, nx=5, ny=5)).Curve(order)\n",
    "Draw(mesh)\n",
    "\n",
    "poi = { \"point\" : (0,0,radius, BND), \"component\" : 2 }"
   ]
  },
  {
   "cell_type": "code",
   "execution_count": null,
   "id": "cbd1ca6b",
   "metadata": {},
   "outputs": [],
   "source": [
    "interpolateMembrane=True\n",
    "def MaterialStress(mat):\n",
    "    return E/(1-nu**2)*((1-nu)*mat+nu*Trace(mat)*Id(3))\n",
    "\n",
    "def MaterialStressInv(mat):\n",
    "    return (1+nu)/E*(mat-nu/(nu+1)*Trace(mat)*Id(3))\n",
    "\n",
    "G = E/(2*(1+nu))\n",
    "t = thickness\n",
    "fesU = VectorH1(mesh, order=order, dirichletx_bbnd=\"left\", dirichlety_bbnd=\"top\", dirichletz_bbnd=\"bottom\")\n",
    "fesS = HDivDivSurface(mesh, order=order-1, discontinuous=True)\n",
    "fesH = NormalFacetSurface(mesh, order=order-1, dirichlet_bbnd=\"left|top|bottom\")\n",
    "        \n",
    "fes = fesU*fesS*fesH\n",
    "(u,sigma,uh), (du,dsigma,duh) = fes.TnT()\n",
    "sigma,dsigma,uh,duh = sigma.Trace(),dsigma.Trace(),uh.Trace(),duh.Trace()\n",
    "\n",
    "fesRR = HCurlCurl(mesh, order=order-1)\n",
    "\n",
    "n       = specialcf.normal(3)\n",
    "tangent = specialcf.tangential(3)\n",
    "nel     = Cross(n,tangent)\n",
    "\n",
    "Ptau = Id(3) - OuterProduct(n,n)\n",
    "gradu = Grad(u).Trace()\n",
    "graddu = Grad(du).Trace()\n",
    "\n",
    "solution = GridFunction(fes)\n",
    "\n",
    "Hn = CF( (u.Operator(\"hesseboundary\").trans*n), dims=(3,3) )\n",
    "dHn = CF( (du.Operator(\"hesseboundary\").trans*n), dims=(3,3) )\n",
    "\n",
    "a = BilinearForm(fes, symmetric=True, condense=True)\n",
    "# membrane part\n",
    "if interpolateMembrane:\n",
    "    a += (t*InnerProduct(MaterialStress(Interpolate(Sym(Ptau*gradu),fesRR)), Interpolate(Sym(Ptau*graddu),fesRR)))*ds\n",
    "else:\n",
    "    a += (t*InnerProduct(MaterialStress(Sym(Ptau*gradu)), Sym(Ptau*graddu)))*ds\n",
    "#bending part\n",
    "a += (-12/t**3*InnerProduct(MaterialStressInv(sigma),dsigma))*ds\n",
    "a += (InnerProduct(dsigma,Hn) + InnerProduct(sigma,dHn))*ds\n",
    "a += ( -(sigma*nel*nel)*(graddu.trans*n*nel) - (dsigma*nel*nel)*(gradu.trans*n*nel) + (uh*nel)*(dsigma*nel)*nel + (duh*nel)*(sigma*nel)*nel )*ds(element_boundary=True)\n",
    "\n",
    "\n",
    "f = LinearForm(fes)\n",
    "f += force*du*ds"
   ]
  },
  {
   "cell_type": "code",
   "execution_count": null,
   "id": "155aefeb",
   "metadata": {},
   "outputs": [],
   "source": [
    "with TaskManager():\n",
    "    a.Assemble()\n",
    "    f.Assemble()\n",
    "    \n",
    "    r = f.vec.CreateVector()\n",
    "    if a.condense:     \n",
    "        r.data = f.vec\n",
    "        r.data += a.harmonic_extension_trans * r\n",
    "        inv = a.mat.Inverse(fes.FreeDofs(True), inverse=\"sparsecholesky\")\n",
    "        solution.vec.data = inv*r\n",
    "        solution.vec.data += a.harmonic_extension * solution.vec\n",
    "        solution.vec.data += a.inner_solve * r\n",
    "    else:\n",
    "        inv = a.mat.Inverse(self.fes.FreeDofs(), inverse=\"umfpack\")\n",
    "        r.data = f.vec\n",
    "        solution.vec.data = inv*r"
   ]
  },
  {
   "cell_type": "code",
   "execution_count": null,
   "id": "575b5fe4",
   "metadata": {},
   "outputs": [],
   "source": [
    "gfu,gfbeta,gfuh = solution.components\n",
    "print(gfu(mesh(0,0,1,BND))[2])\n",
    "Draw(gfu,mesh)"
   ]
  },
  {
   "cell_type": "code",
   "execution_count": null,
   "id": "17a00441",
   "metadata": {},
   "outputs": [],
   "source": []
  }
 ],
 "metadata": {
  "kernelspec": {
   "display_name": "Python 3",
   "language": "python",
   "name": "python3"
  },
  "language_info": {
   "codemirror_mode": {
    "name": "ipython",
    "version": 3
   },
   "file_extension": ".py",
   "mimetype": "text/x-python",
   "name": "python",
   "nbconvert_exporter": "python",
   "pygments_lexer": "ipython3",
   "version": "3.10.6"
  }
 },
 "nbformat": 4,
 "nbformat_minor": 5
}

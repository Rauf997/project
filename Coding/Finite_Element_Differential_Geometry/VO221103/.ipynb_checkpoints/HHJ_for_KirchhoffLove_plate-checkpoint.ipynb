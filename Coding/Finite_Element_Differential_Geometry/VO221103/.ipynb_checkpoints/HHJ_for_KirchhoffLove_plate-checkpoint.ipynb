{
 "cells": [
  {
   "cell_type": "code",
   "execution_count": null,
   "metadata": {},
   "outputs": [],
   "source": [
    "from ngsolve import *\n",
    "from ngsolve.webgui import Draw\n",
    "from netgen.occ import *\n",
    "from ngsolve.meshes import MakeStructured2DMesh\n",
    "mesh = Mesh(unit_square.GenerateMesh(maxh=0.1))"
   ]
  },
  {
   "cell_type": "code",
   "execution_count": null,
   "metadata": {},
   "outputs": [],
   "source": [
    "order = 0\n",
    "R = 1\n",
    "circle = Circle((0,0),1).Face()\n",
    "mesh = Mesh(OCCGeometry(circle,dim=2).GenerateMesh(maxh=0.2)).Curve(order+1)\n",
    "\n",
    "E  = 1e4\n",
    "nu = 0.3\n",
    "t  = 1e-2#1e-4#1e-2\n",
    "q  = 1e-1#1e-8#1e-2\n",
    "D  = (E*t**3)/(12*(1-nu**2))\n",
    "\n",
    "c= q*R**4/(64*D)\n",
    "w_ex = -c*(x**2/R**2+y**2/R**2-1)**2\n",
    "Draw(w_ex,mesh)"
   ]
  },
  {
   "cell_type": "code",
   "execution_count": null,
   "metadata": {},
   "outputs": [],
   "source": [
    "def MaterialInv(mat):\n",
    "    return 1/D*(1/(1-nu)*mat-nu/(1-nu**2)*Trace(mat)*Id(2))\n",
    "\n",
    "\n",
    "def SolveHHJ(order, mesh, draw=False):\n",
    "    V = HDivDiv(mesh, order=order)\n",
    "    Q = H1(mesh, order=order+1, dirichlet=\".*\")\n",
    "    X = V*Q\n",
    "    (sigma, w), (tau, v) = X.TnT()\n",
    "\n",
    "    n = specialcf.normal(2)\n",
    "\n",
    "    def tang(u): return u-(u*n)*n\n",
    "\n",
    "    a = BilinearForm(X, symmetric=True)\n",
    "    a += (InnerProduct (MaterialInv(sigma), tau) + div(sigma)*grad(v) \\\n",
    "          + div(tau)*grad(w) )*dx \\\n",
    "          + (-(sigma*n) * tang(grad(v)) - (tau*n)*tang(grad(w)))*dx(element_boundary=True)\n",
    "    a.Assemble()\n",
    "\n",
    "    f = LinearForm(X)\n",
    "    f += q*v*dx\n",
    "    f.Assemble()\n",
    "\n",
    "    gfsol = GridFunction(X)\n",
    "    gfsol.vec.data = a.mat.Inverse(X.FreeDofs(), inverse=\"pardiso\") * f.vec\n",
    "\n",
    "    gfsigma, gfw = gfsol.components\n",
    "    if draw:\n",
    "        Draw(Norm(gfsigma), mesh, name=\"sigma\")\n",
    "        Draw(gfw, mesh, name=\"disp\", deformation=True)\n",
    "        \n",
    "    return gfw, gfsigma"
   ]
  },
  {
   "cell_type": "code",
   "execution_count": null,
   "metadata": {},
   "outputs": [],
   "source": [
    "gfw, gfsigma = SolveHHJ(order=order, mesh=mesh, draw=True)"
   ]
  },
  {
   "cell_type": "code",
   "execution_count": null,
   "metadata": {},
   "outputs": [],
   "source": [
    "print(\"err = \", Integrate( (w_ex-gfw)**2, mesh))"
   ]
  },
  {
   "cell_type": "code",
   "execution_count": null,
   "metadata": {},
   "outputs": [],
   "source": []
  }
 ],
 "metadata": {
  "kernelspec": {
   "display_name": "Python 3 (ipykernel)",
   "language": "python",
   "name": "python3"
  },
  "language_info": {
   "codemirror_mode": {
    "name": "ipython",
    "version": 3
   },
   "file_extension": ".py",
   "mimetype": "text/x-python",
   "name": "python",
   "nbconvert_exporter": "python",
   "pygments_lexer": "ipython3",
   "version": "3.10.6"
  }
 },
 "nbformat": 4,
 "nbformat_minor": 4
}

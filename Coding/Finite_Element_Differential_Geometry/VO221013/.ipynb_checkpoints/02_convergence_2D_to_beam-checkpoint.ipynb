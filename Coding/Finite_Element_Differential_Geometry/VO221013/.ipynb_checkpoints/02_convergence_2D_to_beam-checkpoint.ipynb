{
 "cells": [
  {
   "cell_type": "markdown",
   "id": "2843f347",
   "metadata": {},
   "source": [
    "# Convergence 2D elasticity to beam\n",
    "We investigate numerically how good the Timoschenko beam and Bernoulli beam model approximate the full 2D elasticity problem for thickness $t\\to0$."
   ]
  },
  {
   "cell_type": "code",
   "execution_count": 1,
   "id": "9d51ed70",
   "metadata": {},
   "outputs": [],
   "source": [
    "from ngsolve import *\n",
    "from ngsolve.meshes import Make1DMesh, MakeStructured2DMesh\n",
    "from ngsolve.webgui import Draw"
   ]
  },
  {
   "cell_type": "markdown",
   "id": "689ca1c2",
   "metadata": {},
   "source": [
    "We choose material parameters such that the elasticity tensor $\\mathbb{C}$ becomes the identity. We consider a beam of length $1$ and thickness $t$, which is fixed on the left and apply a shear force at the right boundary."
   ]
  },
  {
   "cell_type": "code",
   "execution_count": 2,
   "id": "79652b59",
   "metadata": {},
   "outputs": [
    {
     "data": {
      "application/vnd.jupyter.widget-view+json": {
       "model_id": "40e3ba73019d4d59a08a5225cbd3577c",
       "version_major": 2,
       "version_minor": 0
      },
      "text/plain": [
       "WebGuiWidget(layout=Layout(height='50vh', width='100%'), value={'gui_settings': {}, 'ngsolve_version': '6.2.23…"
      ]
     },
     "metadata": {},
     "output_type": "display_data"
    },
    {
     "data": {
      "text/plain": [
       "BaseWebGuiScene"
      ]
     },
     "execution_count": 2,
     "metadata": {},
     "output_type": "execute_result"
    }
   ],
   "source": [
    "# use material parameters such that equations simplify\n",
    "mu, lam = 0.5, 0  # Lame parameter\n",
    "nu = lam/(2*(lam+mu)) # Possion ratio (=0)\n",
    "E = mu*(3*lam+2*mu)/(lam+mu) # Young's modulus (=1)\n",
    "k = 5/6           # shear correction factor\n",
    "G = E/(2*(1+nu))  # shearing modulus\n",
    "force = CF( (0,-0.1) )\n",
    "\n",
    "mesh = MakeStructured2DMesh(nx=10, ny=1, mapping=lambda x,y : (x,0.1*y))\n",
    "Draw(mesh)"
   ]
  },
  {
   "cell_type": "code",
   "execution_count": 3,
   "id": "b8756eb5",
   "metadata": {},
   "outputs": [
    {
     "data": {
      "application/vnd.jupyter.widget-view+json": {
       "model_id": "392f70b36ed748ba906eb4fe60f696cd",
       "version_major": 2,
       "version_minor": 0
      },
      "text/plain": [
       "WebGuiWidget(layout=Layout(height='50vh', width='100%'), value={'gui_settings': {}, 'ngsolve_version': '6.2.23…"
      ]
     },
     "metadata": {},
     "output_type": "display_data"
    }
   ],
   "source": [
    "def SolveTDNNS(order, mesh, t, draw=False):\n",
    "    fesU = HCurl(mesh, order=order, dirichlet=\"left\")\n",
    "    fesS = HDivDiv(mesh, order=order,dirichlet=\"top|bottom|right\")\n",
    "    X = fesS*fesU\n",
    "    (sigma,u),(tau,v) = X.TnT()\n",
    "            \n",
    "    n = specialcf.normal(2)  \n",
    "    def tang(u): return u-(u*n)*n\n",
    "            \n",
    "    a = BilinearForm(X, symmetric=True, symmetric_storage=True)\n",
    "    a += (InnerProduct(sigma,tau) + div(sigma)*v + div(tau)*u -1e-10*u*v)*dx\n",
    "    a += (-(sigma*n)*tang(v) - (tau*n)*tang(u) )*dx(element_boundary=True)\n",
    "    a.Assemble()\n",
    "            \n",
    "    f = LinearForm(X)\n",
    "    f += -t**2*force*v.Trace()*ds(\"right\")\n",
    "    f.Assemble()\n",
    "            \n",
    "    gfsol = GridFunction(X)\n",
    "    gfsigma, gfu = gfsol.components\n",
    "    \n",
    "    gfsol.vec.data = a.mat.Inverse(X.FreeDofs(), inverse=\"sparsecholesky\")*f.vec\n",
    "    \n",
    "    if draw:\n",
    "        Draw(gfu, mesh, \"u\", deformation=True)\n",
    "    \n",
    "    return gfu\n",
    "t=1e-2\n",
    "mesh2D = MakeStructured2DMesh(nx=10,ny=1, mapping=lambda x,y : (x,t*(y-0.5)))\n",
    "gfuTDNNS = SolveTDNNS(4, t=t, mesh=mesh2D, draw=True)"
   ]
  },
  {
   "cell_type": "code",
   "execution_count": 5,
   "id": "f6cb2a4a",
   "metadata": {},
   "outputs": [
    {
     "data": {
      "application/vnd.jupyter.widget-view+json": {
       "model_id": "c312251e6abf45229f72c9aa91e47c4b",
       "version_major": 2,
       "version_minor": 0
      },
      "text/plain": [
       "WebGuiWidget(layout=Layout(height='50vh', width='100%'), value={'gui_settings': {}, 'ngsolve_version': '6.2.23…"
      ]
     },
     "metadata": {},
     "output_type": "display_data"
    },
    {
     "data": {
      "application/vnd.jupyter.widget-view+json": {
       "model_id": "8b5225de87df425fab4cf82ebbd6e94d",
       "version_major": 2,
       "version_minor": 0
      },
      "text/plain": [
       "WebGuiWidget(layout=Layout(height='50vh', width='100%'), value={'gui_settings': {}, 'ngsolve_version': '6.2.23…"
      ]
     },
     "metadata": {},
     "output_type": "display_data"
    }
   ],
   "source": [
    "def SolveTB(order, mesh, t, reduced_integration=False, draw=False):\n",
    "    V = H1(mesh, order=order, dirichlet=\"left\")\n",
    "    fes = V*V    \n",
    "    (u,beta),(du,dbeta) = fes.TnT()\n",
    "    \n",
    "    a = BilinearForm(fes, symmetric=True)\n",
    "    a += 1/12*grad(beta)*grad(dbeta)*dx + k*G/t**2*(grad(u)-beta)*(grad(du)-dbeta)*dx(bonus_intorder=-reduced_integration)\n",
    "    \n",
    "    f = LinearForm(fes)\n",
    "    f += force[1]*du*ds(\"right\")\n",
    "    \n",
    "    gfsol = GridFunction(fes)\n",
    "    \n",
    "    a.Assemble()\n",
    "    f.Assemble()\n",
    "    gfsol.vec.data = a.mat.Inverse(fes.FreeDofs(),inverse=\"sparsecholesky\")*f.vec\n",
    "    gfu, gfbeta = gfsol.components\n",
    "    \n",
    "    if draw:\n",
    "        Draw(gfu,mesh, deformation=CF((0,gfu,0)))\n",
    "    \n",
    "    return gfu, gfbeta\n",
    "\n",
    "mesh1D = Make1DMesh(20)\n",
    "\n",
    "gfuTB, gfbetaTB = SolveTB(order=3, mesh=mesh1D, t=t, draw=True)\n",
    "\n",
    "def SolveBB(order, mesh, draw=False):\n",
    "    fes = H1(mesh, order=order, dirichlet=\"left\")*H1(mesh, order=order, dirichlet=\"right\")#\"left\"\n",
    "    (u,sigma),(du,dsigma) = fes.TnT()\n",
    "    \n",
    "    a = BilinearForm(fes, symmetric=True)\n",
    "    a += (12*sigma*dsigma + grad(u)*grad(dsigma) + grad(du)*grad(sigma))*dx\n",
    "    \n",
    "    f = LinearForm(fes)\n",
    "    f += -force[1]*du*ds(\"right\")\n",
    "    \n",
    "    gfsol = GridFunction(fes)\n",
    "    \n",
    "    a.Assemble()\n",
    "    f.Assemble()\n",
    "    gfsol.vec.data = a.mat.Inverse(fes.FreeDofs(),inverse=\"umfpack\")*f.vec\n",
    "    \n",
    "    if draw:\n",
    "        Draw(gfsol.components[0],mesh, deformation=CF((0,gfsol.components[0],0)))\n",
    "    return gfsol.components[0]\n",
    "\n",
    "gfuBB = SolveBB(order=3, mesh=Make1DMesh(20), draw=True)"
   ]
  },
  {
   "cell_type": "markdown",
   "id": "14928838",
   "metadata": {},
   "source": [
    "Now we solve the 2D elasticity and Timoschenko beam problem for different thicknesses $t$ (the Bernoulli beam is independent of $t$ and gets thus only solved once) and compute the relative error of the beam models with respect to the 2D elasticity solution by comparing the vertical deflection at the midsurface at the right boundary."
   ]
  },
  {
   "cell_type": "code",
   "execution_count": null,
   "id": "fea71f22",
   "metadata": {},
   "outputs": [],
   "source": [
    "l = []\n",
    "gfwBB = SolveBB(order=4, mesh=Make1DMesh(20))\n",
    "gfuBB = CF( (-y*Grad(gfwBB), gfwBB) )\n",
    "with TaskManager():\n",
    "    for t in [10**(-i) for i in range(6)]:\n",
    "        mesh2D = MakeStructured2DMesh(nx=int(30/t**0.25),ny=1, mapping=lambda x,y : (x,t*(y-0.5)))\n",
    "        gfuTDNNS = SolveTDNNS(2,t=t,mesh=mesh2D)\n",
    "        l2TDNNS = sqrt(Integrate(gfuTDNNS*gfuTDNNS,mesh2D))\n",
    "        gfwTB, gfbetaTB = SolveTB(order=4, mesh=Make1DMesh(20), t=t)\n",
    "        gfuTB = CF( (y*gfbetaTB,gfwTB) )\n",
    "        l.append((t, sqrt(Integrate((gfuTDNNS-gfuTB)**2,mesh2D,order=10))/l2TDNNS, \\\n",
    "                  sqrt(Integrate((gfuTDNNS-gfuBB)**2,mesh2D,order=10))/l2TDNNS))"
   ]
  },
  {
   "cell_type": "code",
   "execution_count": null,
   "id": "03c9be3e",
   "metadata": {},
   "outputs": [],
   "source": [
    "import matplotlib.pyplot as plt\n",
    "plt.yscale('log')\n",
    "plt.xscale('log')\n",
    "plt.xlabel(\"t\")\n",
    "plt.ylabel(\"relative err\")\n",
    "ts,errtb,errbb = zip(*l)\n",
    "plt.plot(ts, errtb, '*-', label=\"$|u_{\\mathrm{TB}}-u_{\\mathrm{2D}}|$\")\n",
    "plt.plot(ts, errbb, 'x-', label=\"$|u_{\\mathrm{BB}}-u_{\\mathrm{2D}}|$\")\n",
    "plt.plot(ts, [th for th in ts], '-' , color=\"k\", label=\"$O(t)$\")\n",
    "plt.plot(ts, [th**2 for th in ts], '-.' , color=\"k\", label=\"$O(t^2)$\")\n",
    "plt.legend()\n",
    "plt.show()"
   ]
  },
  {
   "cell_type": "code",
   "execution_count": null,
   "id": "ad021d98",
   "metadata": {},
   "outputs": [],
   "source": []
  }
 ],
 "metadata": {
  "kernelspec": {
   "display_name": "Python 3 (ipykernel)",
   "language": "python",
   "name": "python3"
  },
  "language_info": {
   "codemirror_mode": {
    "name": "ipython",
    "version": 3
   },
   "file_extension": ".py",
   "mimetype": "text/x-python",
   "name": "python",
   "nbconvert_exporter": "python",
   "pygments_lexer": "ipython3",
   "version": "3.8.10"
  }
 },
 "nbformat": 4,
 "nbformat_minor": 5
}

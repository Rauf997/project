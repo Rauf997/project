{
 "cells": [
  {
   "cell_type": "markdown",
   "id": "91f74bc3",
   "metadata": {},
   "source": [
    "# Locking of Timoschenko beam"
   ]
  },
  {
   "cell_type": "code",
   "execution_count": 1,
   "id": "25dcc295",
   "metadata": {},
   "outputs": [
    {
     "name": "stdout",
     "output_type": "stream",
     "text": [
      "importing NGSolve-6.2.2204\n"
     ]
    }
   ],
   "source": [
    "from ngsolve import *\n",
    "from ngsolve.meshes import Make1DMesh\n",
    "from ngsolve.webgui import Draw"
   ]
  },
  {
   "cell_type": "code",
   "execution_count": 2,
   "id": "2459ceff",
   "metadata": {},
   "outputs": [],
   "source": [
    "# use material parameters such that equations simplify\n",
    "mu, lam = 0.5, 0  # Lame parameter\n",
    "nu = lam/(2*(lam+mu)) # Possion ratio (=0)\n",
    "E = mu*(3*lam+2*mu)/(lam+mu) # Young's modulus (=1)\n",
    "k = 5/6           # shear correction factor\n",
    "G = E/(2*(1+nu))  # shearing modulus\n",
    "alpha= 1/(12*k*G)"
   ]
  },
  {
   "cell_type": "code",
   "execution_count": 3,
   "id": "9286e5cd",
   "metadata": {},
   "outputs": [],
   "source": [
    "from sympy import symbols, simplify, solve, diff, lambdify\n",
    "\n",
    "def ComputeExactSolution(t=0.01, q=-0.1, shearforce=True):\n",
    "    X, C1, C2, C3, C4 = symbols(\"x C1 C2 C3 C4\")\n",
    "    if shearforce:\n",
    "        w_ex = -C1/6*X**3-C2/2*X**2 + C3*X+C4\n",
    "        w_diff_ex = -C1/2*X**2-C2*X + C3\n",
    "        beta_ex = -C1/2*X**2-C2*X-alpha*t**2*C1+C3\n",
    "        beta_diff_ex = -C1*X-C2\n",
    "\n",
    "        solve_bc = solve((w_ex.subs(X,0), (k*G/t**2*(w_diff_ex-beta_ex)-q).subs(X,1), beta_ex.subs(X,0), beta_diff_ex.subs(X,1)), C1, C2, C3, C4)\n",
    "    else: # uniform volume force\n",
    "        w_ex = q/2*X**4-C1/6*X**3-0.5*(C2+alpha*t**2*q*12)*X**2+C3*X+C4\n",
    "        w_diff_ex = 2*q*X**3-C1/2*X**2-(C2+alpha*t**2*q*12)*X+C3\n",
    "        beta_ex = 2*q*X**3-C1/2*X**2-C2*X-alpha*t**2*C1+C3\n",
    "        beta_diff_ex = q*12/2*X**2-C1*X-C2\n",
    "        solve_bc = solve((w_ex.subs(X,0), (w_diff_ex-beta_ex).subs(X,1), beta_ex.subs(X,0), beta_diff_ex.subs(X,1)), C1, C2, C3, C4)\n",
    "    c1,c2,c3,c4 = solve_bc[C1], solve_bc[C2], solve_bc[C3], solve_bc[C4]\n",
    "\n",
    "    # generate CoefficientFunctions\n",
    "    w_ex_func = lambdify((X), w_ex.subs([(C1,c1),(C2,c2),(C3,c3),(C4,c4)]))\n",
    "    cf_w_ex = w_ex_func(x)\n",
    "    beta_ex_func = lambdify((X), beta_ex.subs([(C1,c1),(C2,c2),(C3,c3),(C4,c4)]))\n",
    "    cf_beta_ex = beta_ex_func(x)\n",
    "    \n",
    "    return (cf_w_ex, cf_beta_ex)"
   ]
  },
  {
   "cell_type": "code",
   "execution_count": 4,
   "id": "b0c774a4",
   "metadata": {},
   "outputs": [
    {
     "data": {
      "application/vnd.jupyter.widget-view+json": {
       "model_id": "c8db1d64c4d74d8caf29674c156ff26c",
       "version_major": 2,
       "version_minor": 0
      },
      "text/plain": [
       "WebGuiWidget(layout=Layout(height='50vh', width='100%'), value={'gui_settings': {}, 'ngsolve_version': '6.2.22…"
      ]
     },
     "metadata": {},
     "output_type": "display_data"
    },
    {
     "data": {
      "text/plain": [
       "BaseWebGuiScene"
      ]
     },
     "execution_count": 4,
     "metadata": {},
     "output_type": "execute_result"
    }
   ],
   "source": [
    "cf_w_ex, cf_beta_ex = ComputeExactSolution(t=0.01,q=-0.1)\n",
    "mesh = Make1DMesh(10)\n",
    "Draw(cf_w_ex, mesh, deformation=CF( (0,cf_w_ex,0) ))"
   ]
  },
  {
   "cell_type": "code",
   "execution_count": 5,
   "id": "8da80b2a",
   "metadata": {},
   "outputs": [],
   "source": [
    "def SolveTB(order, mesh, t, q, shearforce=True, w_ex=None, beta_ex=None,\\\n",
    "            reduced_integration=False, increase_Wspace=False, draw=False):\n",
    "    fes = H1(mesh, order=order+increase_Wspace, dirichlet=\"left\")*H1(mesh, order=order, dirichlet=\"left\") \n",
    "    (w,beta),(dw,dbeta) = fes.TnT()\n",
    "    \n",
    "    a = BilinearForm(fes, symmetric=True)\n",
    "    a += 1/12*grad(beta)*grad(dbeta)*dx \\\n",
    "        + k*G/t**2*(grad(w)-beta)*(grad(dw)-dbeta)*dx(bonus_intorder=-reduced_integration)\n",
    "    \n",
    "    f = LinearForm(fes)\n",
    "    if shearforce:\n",
    "        f += q*dw*ds(\"right\")\n",
    "    else:\n",
    "        f += q*dw*dx\n",
    "        \n",
    "    gfsol = GridFunction(fes)\n",
    "    \n",
    "    a.Assemble()\n",
    "    f.Assemble()\n",
    "    gfsol.vec.data = a.mat.Inverse(fes.FreeDofs(),inverse=\"sparsecholesky\")*f.vec\n",
    "    gfw, gfbeta = gfsol.components\n",
    "    \n",
    "    if draw:\n",
    "        Draw(gfw,mesh, deformation=CF((0,gfw,0)))\n",
    "        Draw(gfbeta,mesh, deformation=CF((0,gfbeta,0)))\n",
    "    \n",
    "    errW = 1\n",
    "    errbeta = 1\n",
    "    if w_ex:\n",
    "        errW = sqrt(Integrate((gfw-cf_w_ex)**2+(Grad(gfw)-cf_w_ex.Diff(x))**2,mesh))/sqrt(Integrate(cf_w_ex**2+cf_w_ex.Diff(x)**2,mesh))\n",
    "    if beta_ex:\n",
    "        errbeta = sqrt(Integrate((gfbeta-cf_beta_ex)**2+(Grad(gfbeta)-cf_beta_ex.Diff(x))**2,mesh))/sqrt(Integrate(cf_beta_ex**2+cf_beta_ex.Diff(x)**2,mesh))\n",
    "    return (errW, errbeta)"
   ]
  },
  {
   "cell_type": "code",
   "execution_count": 6,
   "id": "fbaa00f6",
   "metadata": {},
   "outputs": [],
   "source": [
    "shearforce=False\n",
    "\n",
    "ts = [1,1e-1,1e-2,1e-3]\n",
    "hs = [0.5**i for i in range(1,8)]\n",
    "\n",
    "errW = []\n",
    "errbeta = []\n",
    "with TaskManager():\n",
    "    for t in ts:\n",
    "        cf_w_ex, cf_beta_ex =ComputeExactSolution(t=t, q=-0.1, shearforce=shearforce)\n",
    "        #Draw(cf_w_ex, mesh, deformation=CF( (0,cf_w_ex,0) ))\n",
    "        errW.append([])\n",
    "        errbeta.append([])\n",
    "        for h in hs:\n",
    "            mesh=Make1DMesh(int(1/h))\n",
    "            errw,errb = SolveTB(order=1, mesh=mesh, t=t, q=-0.1, shearforce=shearforce, \\\n",
    "                                w_ex=cf_w_ex, beta_ex=cf_beta_ex, reduced_integration=False,\\\n",
    "                                increase_Wspace=False)\n",
    "            errW[-1].append(errw)\n",
    "            errbeta[-1].append(errb)"
   ]
  },
  {
   "cell_type": "code",
   "execution_count": 7,
   "id": "33a9a747",
   "metadata": {},
   "outputs": [
    {
     "data": {
      "image/png": "[encoded data removed]",
      "text/plain": [
       "<Figure size 432x288 with 1 Axes>"
      ]
     },
     "metadata": {
      "needs_background": "light"
     },
     "output_type": "display_data"
    }
   ],
   "source": [
    "import matplotlib.pyplot as plt\n",
    "plt.yscale('log')\n",
    "plt.xscale('log')\n",
    "plt.xlabel(\"t\")\n",
    "plt.ylabel(\"relative err\")\n",
    "for i in range(len(ts)):\n",
    "    plt.plot(hs, errW[i], \"*-\", label=\"$\\|w-w_{\\mathrm{ex}}\\|$ $t=\"+str(ts[i])+\"$\")\n",
    "    plt.plot(hs, errbeta[i], \"*-\", label=\"$\\|b-b_{\\mathrm{ex}}\\|$ $t=\"+str(ts[i])+\"$\")\n",
    "    \n",
    "plt.plot(hs, hs, '-' , color=\"k\", label=\"$\\mathcal{O}(h)$\")\n",
    "plt.plot(hs, [h**2 for h in hs], '-' , color=\"k\", label=\"$\\mathcal{O}(h^2)$\")\n",
    "plt.legend()\n",
    "plt.show()"
   ]
  },
  {
   "cell_type": "code",
   "execution_count": null,
   "id": "daff0760",
   "metadata": {},
   "outputs": [],
   "source": []
  }
 ],
 "metadata": {
  "kernelspec": {
   "display_name": "Python 3 (ipykernel)",
   "language": "python",
   "name": "python3"
  },
  "language_info": {
   "codemirror_mode": {
    "name": "ipython",
    "version": 3
   },
   "file_extension": ".py",
   "mimetype": "text/x-python",
   "name": "python",
   "nbconvert_exporter": "python",
   "pygments_lexer": "ipython3",
   "version": "3.10.6"
  }
 },
 "nbformat": 4,
 "nbformat_minor": 5
}

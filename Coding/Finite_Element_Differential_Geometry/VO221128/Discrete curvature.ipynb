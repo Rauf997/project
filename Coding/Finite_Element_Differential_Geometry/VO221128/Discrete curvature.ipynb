{
 "cells": [
  {
   "cell_type": "markdown",
   "id": "4096f3f0",
   "metadata": {},
   "source": [
    "# Discrete Curvature"
   ]
  },
  {
   "cell_type": "code",
   "execution_count": null,
   "id": "4598d20f",
   "metadata": {},
   "outputs": [],
   "source": [
    "from ngsolve import *\n",
    "from netgen.meshing import MeshingStep\n",
    "from netgen.csg import *\n",
    "from netgen import meshing\n",
    "from ngsolve.webgui import Draw"
   ]
  },
  {
   "cell_type": "code",
   "execution_count": null,
   "id": "59686cb3",
   "metadata": {},
   "outputs": [],
   "source": [
    "geo = CSGeometry()\n",
    "geo.Add(Sphere(Pnt(0,0,0),1))\n",
    "mesh = Mesh(geo.GenerateMesh(maxh=1, perfstepsend=meshing.MeshingStep.MESHSURFACE)).Curve(1)\n",
    "Draw(mesh)"
   ]
  },
  {
   "cell_type": "markdown",
   "id": "af8f7191",
   "metadata": {},
   "source": [
    "\\begin{align}\n",
    "\t\\langle \\nabla\\nu,\\sigma\\rangle = \\sum_{T \\in \\mathcal{T}}\\int_T\\nabla\\nu|_T:\\sigma\\,ds + \\sum_{E\\in\\mathcal{E}}\\int_{E} \\sphericalangle(\\nu_L,\\nu_R)\\sigma_{\\mu\\mu}\\,dl = \\sum_{T \\in \\mathcal{T}}\\Big(\\int_T\\nabla\\nu|_T:\\sigma\\,ds + \\int_{\\partial T} \\sphericalangle(\\nu,\\{\\nu\\})\\sigma_{\\mu\\mu}\\,dl\\Big),\n",
    "\\end{align}\n",
    "where $\\{\\nu\\} =\\frac{\\nu_L+\\nu_R}{\\|\\nu_L+\\nu_R\\|}$.    "
   ]
  },
  {
   "cell_type": "code",
   "execution_count": null,
   "id": "f47a201d",
   "metadata": {},
   "outputs": [],
   "source": [
    "def Lifting(mesh,order):\n",
    "    mesh = mesh.Curve(order+1)\n",
    "    \n",
    "    n = specialcf.normal(3)\n",
    "    t = specialcf.tangential(3)\n",
    "    mu = Cross(n,t)\n",
    "    \n",
    "    # Average normal vector\n",
    "    gfF = GridFunction(VectorFacetSurface(mesh,order=order))\n",
    "    gfF.Set(n, dual=True, definedon=mesh.Boundaries(\".*\"))\n",
    "    \n",
    "    fes = HDivDivSurface(mesh,order=order)\n",
    "    sigma,tau = fes.TnT()\n",
    "    sigma, tau = sigma.Trace(), tau.Trace()\n",
    "    \n",
    "    a = BilinearForm(fes, symmetric=True)\n",
    "    a += InnerProduct(sigma,tau)*ds\n",
    "    \n",
    "    f = LinearForm(fes)\n",
    "    f += InnerProduct(Grad(n),tau)*ds\n",
    "    f += acos(n*Normalize(gfF))*tau*mu*mu*ds(element_boundary=True)\n",
    "    \n",
    "    gflift = GridFunction(fes)\n",
    "    \n",
    "    with TaskManager():\n",
    "        a.Assemble()\n",
    "        f.Assemble()\n",
    "        \n",
    "        gflift.vec.data = a.mat.Inverse(fes.FreeDofs(),inverse=\"sparsecholesky\")*f.vec\n",
    "        \n",
    "    Draw(0.5*Trace(gflift),mesh)\n",
    "    return\n",
    "\n",
    "Lifting(mesh,order=1)"
   ]
  },
  {
   "cell_type": "code",
   "execution_count": null,
   "id": "d955ee92",
   "metadata": {},
   "outputs": [],
   "source": []
  }
 ],
 "metadata": {
  "kernelspec": {
   "display_name": "Python 3",
   "language": "python",
   "name": "python3"
  },
  "language_info": {
   "codemirror_mode": {
    "name": "ipython",
    "version": 3
   },
   "file_extension": ".py",
   "mimetype": "text/x-python",
   "name": "python",
   "nbconvert_exporter": "python",
   "pygments_lexer": "ipython3",
   "version": "3.10.6"
  }
 },
 "nbformat": 4,
 "nbformat_minor": 5
}

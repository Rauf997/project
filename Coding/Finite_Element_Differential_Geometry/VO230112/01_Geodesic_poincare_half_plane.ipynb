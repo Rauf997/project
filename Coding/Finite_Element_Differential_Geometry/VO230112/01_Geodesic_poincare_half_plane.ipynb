{
 "cells": [
  {
   "cell_type": "markdown",
   "id": "a585cb8f",
   "metadata": {},
   "source": [
    "# Geodesics of Poincare half-plane"
   ]
  },
  {
   "cell_type": "markdown",
   "id": "ee7501f3",
   "metadata": {},
   "source": [
    "For a curve $\\gamma:[0,T]\\to M$ we solve for initial condition $\\gamma(0)=p\\in M$ and $\\dot{\\gamma}(0)=X\\in T_pM$ the geodesic equation, which is a system of (nonlinear) differential equations\n",
    "\\begin{align}\n",
    "\\ddot{\\gamma}^k+\\dot{\\gamma}^i\\dot{\\gamma}^j\\Gamma_{ij}^k(\\gamma)=0,\\qquad k=1,\\dots,n.\n",
    "\\end{align}\n",
    "We rewrite it as a system of ODEs by introducing $v^k:= \\dot{\\gamma}^k$\n",
    "\\begin{align}\n",
    "\\begin{cases}\n",
    "&\\dot{\\gamma}^k = v^k\\\\\n",
    "&\\dot{v}^k = -v^iv^j\\Gamma_{ij}^k(\\gamma)\n",
    "\\end{cases},\\qquad k=1,\\dots,n.\n",
    "\\end{align}\n",
    "\n",
    "The Poicare half-plane is the Riemannian manifold $(H,g)$, $H=\\{(x,y)\\in\\mathbb{R}^2\\,\\vert\\, y>0\\}$ and the metric is $g = y^{-2}(dx\\otimes dx + dy\\otimes dy)$."
   ]
  },
  {
   "cell_type": "code",
   "execution_count": null,
   "id": "f686540b",
   "metadata": {},
   "outputs": [],
   "source": [
    "import numpy as np\n",
    "from scipy.integrate import solve_ivp\n",
    "import matplotlib.pyplot as plt\n",
    "\n",
    "# define right-hand side (s... time, v=[gamma^1,gamma^2,v^1,v^2])\n",
    "def rhs(s, v): \n",
    "    # compute Christoffel symbols of second kind\n",
    "    chr111 = 0\n",
    "    chr121 = -1/v[1]\n",
    "    chr221 = 0\n",
    "    chr112 = 1/v[1]\n",
    "    chr122 = 0\n",
    "    chr222 = -1/v[1]\n",
    "    return [v[2],v[3],-v[2]**2*chr111-2*v[2]*v[3]*chr121-v[3]**2*chr221,-v[2]**2*chr112-2*v[2]*v[3]*chr122-v[3]**2*chr222]\n",
    "\n",
    "def KineticEnergy(q,v):\n",
    "    energy = np.zeros(len(q))\n",
    "    for i in range(len(q)):\n",
    "        energy[i] = 1/(q[i][1])**2*(v[i,0]**2+v[i,1]**2)\n",
    "    return energy"
   ]
  },
  {
   "cell_type": "code",
   "execution_count": null,
   "id": "ff304003",
   "metadata": {},
   "outputs": [],
   "source": [
    "Tend = 0.2\n",
    "res1 = solve_ivp(rhs, (0, Tend), [1,0.1,0.4,2],t_eval=np.linspace(0, Tend,500))#, method=\"DOP853\")\n",
    "#res2 = solve_ivp(rhs, (0, Tend), [0.8,0.1,0.4,1],t_eval=np.linspace(0, Tend,1000))\n",
    "res2 = solve_ivp(rhs, (0, Tend), [0.8,0.1,0,1],t_eval=np.linspace(0, Tend,1000))\n",
    "plt.plot(res1.y.T[:,0],res1.y.T[:,1])\n",
    "plt.plot(res2.y.T[:,0],res2.y.T[:,1])\n",
    "plt.axis('equal')\n",
    "plt.show()\n",
    "\n",
    "energy1 = KineticEnergy(res1.y.T[:,:2],res1.y.T[:,2:])\n",
    "plt.plot(energy1)"
   ]
  },
  {
   "cell_type": "code",
   "execution_count": null,
   "id": "a2bf1d6c",
   "metadata": {},
   "outputs": [],
   "source": []
  }
 ],
 "metadata": {
  "kernelspec": {
   "display_name": "Python 3",
   "language": "python",
   "name": "python3"
  },
  "language_info": {
   "codemirror_mode": {
    "name": "ipython",
    "version": 3
   },
   "file_extension": ".py",
   "mimetype": "text/x-python",
   "name": "python",
   "nbconvert_exporter": "python",
   "pygments_lexer": "ipython3",
   "version": "3.10.8"
  }
 },
 "nbformat": 4,
 "nbformat_minor": 5
}

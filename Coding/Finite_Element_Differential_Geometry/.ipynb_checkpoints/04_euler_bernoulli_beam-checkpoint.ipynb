{
 "cells": [
  {
   "cell_type": "markdown",
   "id": "8333f743",
   "metadata": {},
   "source": [
    "# Euler-Bernoulli beam"
   ]
  },
  {
   "cell_type": "code",
   "execution_count": 1,
   "id": "46900892",
   "metadata": {},
   "outputs": [
    {
     "name": "stdout",
     "output_type": "stream",
     "text": [
      "importing NGSolve-6.2.2204\n"
     ]
    }
   ],
   "source": [
    "from ngsolve import *\n",
    "from ngsolve.meshes import Make1DMesh\n",
    "from ngsolve.webgui import Draw"
   ]
  },
  {
   "cell_type": "markdown",
   "id": "9e37811f",
   "metadata": {},
   "source": [
    "## uniform distributed load"
   ]
  },
  {
   "cell_type": "code",
   "execution_count": 2,
   "id": "7ab70c23",
   "metadata": {},
   "outputs": [],
   "source": [
    "# use material parameters such that equations simplify\n",
    "mu, lam = 0.5, 0  # Lame parameter\n",
    "nu = lam/(2*(lam+mu)) # Possion ratio (=0)\n",
    "E = mu*(3*lam+2*mu)/(lam+mu) # Young's modulus (=1)\n",
    "\n",
    "# uniform distributed load\n",
    "q = -0.1"
   ]
  },
  {
   "cell_type": "markdown",
   "id": "2628aef2",
   "metadata": {},
   "source": [
    "The solution of the Euler Bernoulli beam is of the form\n",
    "\\begin{align}\n",
    "w(x) = \\frac{q}{2}x^4+\\frac{c_1}{6}x^3+\\frac{c_2}{2}x^2+c_3x+c_4\n",
    "\\end{align}"
   ]
  },
  {
   "cell_type": "code",
   "execution_count": 3,
   "id": "52645a5c",
   "metadata": {},
   "outputs": [
    {
     "name": "stdout",
     "output_type": "stream",
     "text": [
      "test: w(0)    =  0.0\n",
      "test: w'(0)   =  0.0\n",
      "test: w''(1)  =  -1.11022302462516e-16\n",
      "test: w'''(1) =  -2.22044604925031e-16\n",
      "test: w(1)    =  -0.150000000000000\n"
     ]
    }
   ],
   "source": [
    "from sympy import symbols, simplify, solve, diff, lambdify\n",
    "X, C1, C2, C3, C4 = symbols(\"x C1 C2 C3 C4\")\n",
    "w_ex = q/2*X**4+C1/6*X**3+C2/2*X**2+C3*X+C4\n",
    "w_diff_ex = 2*q*X**3+C1/2*X**2+C2*X+C3\n",
    "w_ddiff_ex = 6*q*X**2+C1*X+C2\n",
    "\n",
    "\n",
    "# solve for boundary conditions\n",
    "solve_bc = solve((w_ex.subs(X,0), w_diff_ex.subs(X,0), w_ddiff_ex.subs(X,1), diff(w_ddiff_ex,X).subs(X,1)), C1, C2, C3, C4)\n",
    "c1,c2,c3,c4 = solve_bc[C1], solve_bc[C2], solve_bc[C3], solve_bc[C4]\n",
    "\n",
    "# generate CoefficientFunctions\n",
    "w_ex_func = lambdify((X), w_ex.subs([(C1,c1),(C2,c2),(C3,c3),(C4,c4)]))\n",
    "cf_w_ex = w_ex_func(x)\n",
    "cf_sigma_ex = 1/12*cf_w_ex.Diff(x).Diff(x)\n",
    "\n",
    "\n",
    "# Test boundary conditions\n",
    "print(\"test: w(0)    = \", w_ex.subs([(X,0),(C1,c1),(C2,c2),(C3,c3),(C4,c4)]))\n",
    "print(\"test: w'(0)   = \", w_diff_ex.subs([(X,0),(C1,c1),(C2,c2),(C3,c3),(C4,c4)]))\n",
    "print(\"test: w''(1)  = \", w_ddiff_ex.subs([(X,1),(C1,c1),(C2,c2),(C3,c3),(C4,c4)]))\n",
    "print(\"test: w'''(1) = \", diff(w_ddiff_ex,X).subs([(X,1),(C1,c1),(C2,c2),(C3,c3),(C4,c4)]))\n",
    "\n",
    "print(\"test: w(1)    = \", w_ex.subs([(X,1),(C1,c1),(C2,c2),(C3,c3),(C4,c4)]))"
   ]
  },
  {
   "cell_type": "code",
   "execution_count": 4,
   "id": "b80e6242",
   "metadata": {},
   "outputs": [
    {
     "data": {
      "application/vnd.jupyter.widget-view+json": {
       "model_id": "3c6d52503e7344629cf88fedeea25fc9",
       "version_major": 2,
       "version_minor": 0
      },
      "text/plain": [
       "WebGuiWidget(layout=Layout(height='50vh', width='100%'), value={'gui_settings': {}, 'ngsolve_version': '6.2.22…"
      ]
     },
     "metadata": {},
     "output_type": "display_data"
    },
    {
     "data": {
      "application/vnd.jupyter.widget-view+json": {
       "model_id": "c106aee47583485a89b9e903644b898d",
       "version_major": 2,
       "version_minor": 0
      },
      "text/plain": [
       "WebGuiWidget(layout=Layout(height='50vh', width='100%'), value={'gui_settings': {}, 'ngsolve_version': '6.2.22…"
      ]
     },
     "metadata": {},
     "output_type": "display_data"
    },
    {
     "data": {
      "text/plain": [
       "BaseWebGuiScene"
      ]
     },
     "execution_count": 4,
     "metadata": {},
     "output_type": "execute_result"
    }
   ],
   "source": [
    "mesh = Make1DMesh(10)\n",
    "Draw(cf_w_ex,mesh, deformation=CF( (0,cf_w_ex,0) ))\n",
    "Draw(cf_sigma_ex,mesh, deformation=CF( (0,cf_sigma_ex,0) ))"
   ]
  },
  {
   "cell_type": "code",
   "execution_count": 5,
   "id": "3d3f74d5",
   "metadata": {},
   "outputs": [
    {
     "data": {
      "application/vnd.jupyter.widget-view+json": {
       "model_id": "8fe02758e0934d03b87bb68e0339bc68",
       "version_major": 2,
       "version_minor": 0
      },
      "text/plain": [
       "WebGuiWidget(layout=Layout(height='50vh', width='100%'), value={'gui_settings': {}, 'ngsolve_version': '6.2.22…"
      ]
     },
     "metadata": {},
     "output_type": "display_data"
    },
    {
     "data": {
      "application/vnd.jupyter.widget-view+json": {
       "model_id": "48c2be788f4e429d82c97b4c7c5cff7a",
       "version_major": 2,
       "version_minor": 0
      },
      "text/plain": [
       "WebGuiWidget(layout=Layout(height='50vh', width='100%'), value={'gui_settings': {}, 'ngsolve_version': '6.2.22…"
      ]
     },
     "metadata": {},
     "output_type": "display_data"
    },
    {
     "name": "stdout",
     "output_type": "stream",
     "text": [
      "(-0.15050000000000013, 0.04369513663002094, 0.04664854720697887)\n"
     ]
    }
   ],
   "source": [
    "def SolveBB(order, mesh, draw=True):\n",
    "    fes = H1(mesh, order=order, dirichlet=\"left\")*H1(mesh, order=order, dirichlet=\"right\")\n",
    "    (u,sigma),(du,dsigma) = fes.TnT()\n",
    "    \n",
    "    a = BilinearForm(fes, symmetric=True)\n",
    "    a += (12*sigma*dsigma + grad(u)*grad(dsigma) + grad(du)*grad(sigma))*dx\n",
    "    \n",
    "    f = LinearForm(fes)\n",
    "    f += -q*du*dx\n",
    "    \n",
    "    gfsol = GridFunction(fes)\n",
    "    \n",
    "    a.Assemble()\n",
    "    f.Assemble()\n",
    "    gfsol.vec.data = a.mat.Inverse(fes.FreeDofs(),inverse=\"pardiso\")*f.vec\n",
    "    gfw, gfsigma = gfsol.components\n",
    "    if draw:\n",
    "        Draw(gfw, mesh, deformation=CF((0,gfw,0)))\n",
    "        Draw(gfsigma, mesh, deformation=CF((0,gfsigma,0)))\n",
    "    # relative errors\n",
    "    errW = sqrt(Integrate((gfw-cf_w_ex)**2+(Grad(gfw)-cf_w_ex.Diff(x))**2,mesh))/sqrt(Integrate(cf_w_ex**2+cf_w_ex.Diff(x)**2,mesh))\n",
    "    errsigma = sqrt(Integrate((gfsigma-cf_sigma_ex)**2+(Grad(gfsigma)-cf_sigma_ex.Diff(x))**2,mesh))/sqrt(Integrate(cf_sigma_ex**2+cf_sigma_ex.Diff(x)**2,mesh))\n",
    "    return (gfw(mesh(1,0,0)), errW, errsigma)\n",
    "\n",
    "print(SolveBB(order=1, mesh=Make1DMesh(10), draw=True))"
   ]
  },
  {
   "cell_type": "markdown",
   "id": "fb70f41d",
   "metadata": {},
   "source": [
    "## Shear force"
   ]
  },
  {
   "cell_type": "code",
   "execution_count": 6,
   "id": "40d29927",
   "metadata": {},
   "outputs": [
    {
     "name": "stdout",
     "output_type": "stream",
     "text": [
      "test: w(0)    =  0.0\n",
      "test: w'(0)   =  0.0\n",
      "test: w''(1)  =  0\n",
      "test: w'''(1) =  1.20000000000000\n",
      "test: w(1)    =  -0.400000000000000\n"
     ]
    },
    {
     "data": {
      "application/vnd.jupyter.widget-view+json": {
       "model_id": "70ef64d26280476896350d1c57b29e96",
       "version_major": 2,
       "version_minor": 0
      },
      "text/plain": [
       "WebGuiWidget(layout=Layout(height='50vh', width='100%'), value={'gui_settings': {}, 'ngsolve_version': '6.2.22…"
      ]
     },
     "metadata": {},
     "output_type": "display_data"
    },
    {
     "data": {
      "application/vnd.jupyter.widget-view+json": {
       "model_id": "15a4013e3fae43579c943dfa959519f7",
       "version_major": 2,
       "version_minor": 0
      },
      "text/plain": [
       "WebGuiWidget(layout=Layout(height='50vh', width='100%'), value={'gui_settings': {}, 'ngsolve_version': '6.2.22…"
      ]
     },
     "metadata": {},
     "output_type": "display_data"
    },
    {
     "data": {
      "text/plain": [
       "BaseWebGuiScene"
      ]
     },
     "execution_count": 6,
     "metadata": {},
     "output_type": "execute_result"
    }
   ],
   "source": [
    "q = -0.1\n",
    "X, C1, C2, C3, C4 = symbols(\"x C1 C2 C3 C4\")\n",
    "w_ex = C1/6*X**3+C2/2*X**2+C3*X+C4\n",
    "w_diff_ex = C1/2*X**2+C2*X+C3\n",
    "w_ddiff_ex = C1*X+C2\n",
    "\n",
    "\n",
    "# solve for boundary conditions\n",
    "solve_bc = solve((w_ex.subs(X,0), w_diff_ex.subs(X,0), \\\n",
    "                  w_ddiff_ex.subs(X,1), 1/12*diff(w_ddiff_ex,X).subs(X,1)+q), C1, C2, C3, C4)\n",
    "c1,c2,c3,c4 = solve_bc[C1], solve_bc[C2], solve_bc[C3], solve_bc[C4]\n",
    "\n",
    "# generate CoefficientFunctions\n",
    "w_ex_func = lambdify((X), w_ex.subs([(C1,c1),(C2,c2),(C3,c3),(C4,c4)]))\n",
    "cf_w_ex = w_ex_func(x)\n",
    "cf_sigma_ex = 1/12*cf_w_ex.Diff(x).Diff(x)\n",
    "\n",
    "\n",
    "# Test boundary conditions\n",
    "print(\"test: w(0)    = \", w_ex.subs([(X,0),(C1,c1),(C2,c2),(C3,c3),(C4,c4)]))\n",
    "print(\"test: w'(0)   = \", w_diff_ex.subs([(X,0),(C1,c1),(C2,c2),(C3,c3),(C4,c4)]))\n",
    "print(\"test: w''(1)  = \", w_ddiff_ex.subs([(X,1),(C1,c1),(C2,c2),(C3,c3),(C4,c4)]))\n",
    "print(\"test: w'''(1) = \", diff(w_ddiff_ex,X).subs([(X,1),(C1,c1),(C2,c2),(C3,c3),(C4,c4)]))\n",
    "\n",
    "print(\"test: w(1)    = \", w_ex.subs([(X,1),(C1,c1),(C2,c2),(C3,c3),(C4,c4)]))\n",
    "\n",
    "mesh = Make1DMesh(10)\n",
    "Draw(cf_w_ex,mesh, deformation=CF( (0,cf_w_ex,0) ))\n",
    "Draw(cf_sigma_ex,mesh, deformation=CF( (0,cf_sigma_ex,0) ))"
   ]
  },
  {
   "cell_type": "code",
   "execution_count": 7,
   "id": "24e8768a",
   "metadata": {},
   "outputs": [
    {
     "data": {
      "application/vnd.jupyter.widget-view+json": {
       "model_id": "14c2069c05344dceae8bfdd0269772da",
       "version_major": 2,
       "version_minor": 0
      },
      "text/plain": [
       "WebGuiWidget(layout=Layout(height='50vh', width='100%'), value={'gui_settings': {}, 'ngsolve_version': '6.2.22…"
      ]
     },
     "metadata": {},
     "output_type": "display_data"
    },
    {
     "data": {
      "application/vnd.jupyter.widget-view+json": {
       "model_id": "62c9ca280f874b7b8c832ba0f509a9ed",
       "version_major": 2,
       "version_minor": 0
      },
      "text/plain": [
       "WebGuiWidget(layout=Layout(height='50vh', width='100%'), value={'gui_settings': {}, 'ngsolve_version': '6.2.22…"
      ]
     },
     "metadata": {},
     "output_type": "display_data"
    },
    {
     "name": "stdout",
     "output_type": "stream",
     "text": [
      "(-0.40000000000000113, 0.0009331622977905218, 1.0548829490863725e-13)\n"
     ]
    }
   ],
   "source": [
    "def SolveBB(order, mesh, draw=True):\n",
    "    fes = H1(mesh, order=order, dirichlet=\"left\")*H1(mesh, order=order, dirichlet=\"right\")\n",
    "    (u,sigma),(du,dsigma) = fes.TnT()\n",
    "    \n",
    "    a = BilinearForm(fes, symmetric=True)\n",
    "    a += (12*sigma*dsigma + grad(u)*grad(dsigma) + grad(du)*grad(sigma))*dx\n",
    "    \n",
    "    f = LinearForm(fes)\n",
    "    f += -q*du*ds(\"right\")\n",
    "    \n",
    "    gfsol = GridFunction(fes)\n",
    "    \n",
    "    a.Assemble()\n",
    "    f.Assemble()\n",
    "    gfsol.vec.data = a.mat.Inverse(fes.FreeDofs(),inverse=\"pardiso\")*f.vec\n",
    "    gfw, gfsigma = gfsol.components\n",
    "    if draw:\n",
    "        Draw(gfw, mesh, deformation=CF((0,gfw,0)))\n",
    "        Draw(gfsigma, mesh, deformation=CF((0,gfsigma,0)))\n",
    "    # relative errors\n",
    "    errW = sqrt(Integrate((gfw-cf_w_ex)**2+(Grad(gfw)-cf_w_ex.Diff(x))**2,mesh))/sqrt(Integrate(cf_w_ex**2+cf_w_ex.Diff(x)**2,mesh))\n",
    "    errsigma = sqrt(Integrate((gfsigma-cf_sigma_ex)**2+(Grad(gfsigma)-cf_sigma_ex.Diff(x))**2,mesh))/sqrt(Integrate(cf_sigma_ex**2+cf_sigma_ex.Diff(x)**2,mesh))\n",
    "    return (gfw(mesh(1,0,0)), errW, errsigma)\n",
    "\n",
    "print(SolveBB(order=2, mesh=Make1DMesh(10), draw=True))"
   ]
  },
  {
   "cell_type": "code",
   "execution_count": null,
   "id": "1726a591",
   "metadata": {},
   "outputs": [],
   "source": []
  }
 ],
 "metadata": {
  "kernelspec": {
   "display_name": "Python 3 (ipykernel)",
   "language": "python",
   "name": "python3"
  },
  "language_info": {
   "codemirror_mode": {
    "name": "ipython",
    "version": 3
   },
   "file_extension": ".py",
   "mimetype": "text/x-python",
   "name": "python",
   "nbconvert_exporter": "python",
   "pygments_lexer": "ipython3",
   "version": "3.10.6"
  }
 },
 "nbformat": 4,
 "nbformat_minor": 5
}

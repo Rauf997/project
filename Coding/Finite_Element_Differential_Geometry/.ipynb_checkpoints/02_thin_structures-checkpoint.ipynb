{
 "cells": [
  {
   "cell_type": "markdown",
   "metadata": {},
   "source": [
    "Thin structures\n",
    "==="
   ]
  },
  {
   "cell_type": "code",
   "execution_count": null,
   "metadata": {},
   "outputs": [],
   "source": [
    "from ngsolve import *\n",
    "from ngsolve.webgui import Draw\n",
    "from ngsolve.meshes import MakeHexMesh"
   ]
  },
  {
   "cell_type": "markdown",
   "metadata": {},
   "source": [
    "Cylindrical shell, use symmetry to mesh only one eight of the geometry"
   ]
  },
  {
   "cell_type": "code",
   "execution_count": null,
   "metadata": {},
   "outputs": [],
   "source": [
    "t  = 3\n",
    "Ri = 300\n",
    "L  = 600\n",
    "E  = 3e6\n",
    "nu = 0.3\n",
    "\n",
    "def GenerateMesh(nx,ny,nz,order=1):\n",
    "    mapping = lambda x,y,z : (Ri*cos(pi/2*x+pi/2)+cos(pi/2*x+pi/2)*t*y,\\\n",
    "                              Ri+Ri*sin(pi/2*x+pi/2)+sin(pi/2*x+pi/2)*t*y,L*z)\n",
    "    mesh = MakeHexMesh(nx=nx, ny=ny, nz=nz, secondorder=(order!=1), mapping=mapping)\n",
    "    return mesh\n",
    "\n",
    "mesh = GenerateMesh(4,1,4,order=1)\n",
    "Draw (mesh);"
   ]
  },
  {
   "cell_type": "code",
   "execution_count": null,
   "metadata": {},
   "outputs": [],
   "source": [
    "mu  = E / 2 / (1+nu)\n",
    "lam = E * nu / ((1+nu)*(1-2*nu))\n",
    "\n",
    "force = CF( (0,-10,0) )"
   ]
  },
  {
   "cell_type": "code",
   "execution_count": null,
   "metadata": {},
   "outputs": [],
   "source": [
    "def Solve(mesh, order=1):\n",
    "    fes = VectorH1(mesh, order=order, dirichletx=\"back|bottom\", dirichlety=\"front|bottom\",\\\n",
    "                   dirichletz=\"top\")\n",
    "    u,v = fes.TnT()\n",
    "    \n",
    "    a = BilinearForm(fes, symmetric=True)\n",
    "    a += (2*mu*InnerProduct(Sym(Grad(u)),Sym(Grad(v)))+lam*div(u)*div(v))*dx\n",
    "\n",
    "    f = LinearForm(fes)\n",
    "    f += force*v*dx\n",
    "\n",
    "    gfu = GridFunction(fes)\n",
    "    a.Assemble()\n",
    "    f.Assemble()\n",
    "\n",
    "    gfu.vec.data = a.mat.Inverse(fes.FreeDofs(), inverse=\"sparsecholesky\")*f.vec\n",
    "    return gfu\n",
    "\n",
    "\n",
    "order = 1\n",
    "\n",
    "mesh = GenerateMesh(4,1,4,order)\n",
    "with TaskManager():\n",
    "    gfu = Solve(mesh,order)\n",
    "Draw(gfu,mesh,deformation=True)"
   ]
  },
  {
   "cell_type": "code",
   "execution_count": null,
   "metadata": {},
   "outputs": [],
   "source": [
    "def SolveTDNNS(mesh, order=1):\n",
    "    V = HCurl(mesh, order=order, dirichlet=\"bottom\")\n",
    "    S = HDivDiv(mesh,order=order,dirichlet=\"bottom|left|right\")\n",
    "    fes = V*S\n",
    "    (u,sigma),(v,tau) = fes.TnT()\n",
    "    \n",
    "    n = specialcf.normal(3)\n",
    "    def tang(vec): return vec - (vec*n)*n\n",
    "    \n",
    "    a = BilinearForm(fes, symmetric=True)\n",
    "    a += (1/E*InnerProduct((1+nu)*Deviator(sigma)+(1-2*nu)/2*Trace(sigma)*Id(3),tau)\\\n",
    "          + div(sigma)*v + div(tau)*u)*dx\n",
    "    a += -(tang(sigma*n)*v + tang(tau*n)*u)*dx(element_boundary=True)\n",
    "\n",
    "    f = LinearForm(fes)\n",
    "    f += -force*v*dx\n",
    "\n",
    "    gfsol = GridFunction(fes)\n",
    "    a.Assemble()\n",
    "    f.Assemble()\n",
    "\n",
    "    gfsol.vec.data = a.mat.Inverse(fes.FreeDofs(), inverse=\"pardiso\")*f.vec\n",
    "    gfu,gfsigma = gfsol.components\n",
    "    return gfu\n",
    "\n",
    "\n",
    "order = 1\n",
    "\n",
    "mesh = GenerateMesh(4,1,4,order)\n",
    "with TaskManager():\n",
    "    gfu = SolveTDNNS(mesh,order)\n",
    "\n",
    "# for visualization\n",
    "gfuh1 = GridFunction(VectorH1(mesh,order=order))\n",
    "gfuh1.Set(gfu)\n",
    "Draw(gfuh1,mesh,deformation=True)"
   ]
  },
  {
   "cell_type": "code",
   "execution_count": null,
   "metadata": {},
   "outputs": [],
   "source": []
  }
 ],
 "metadata": {
  "kernelspec": {
   "display_name": "Python 3 (ipykernel)",
   "language": "python",
   "name": "python3"
  },
  "language_info": {
   "codemirror_mode": {
    "name": "ipython",
    "version": 3
   },
   "file_extension": ".py",
   "mimetype": "text/x-python",
   "name": "python",
   "nbconvert_exporter": "python",
   "pygments_lexer": "ipython3",
   "version": "3.9.7"
  }
 },
 "nbformat": 4,
 "nbformat_minor": 4
}

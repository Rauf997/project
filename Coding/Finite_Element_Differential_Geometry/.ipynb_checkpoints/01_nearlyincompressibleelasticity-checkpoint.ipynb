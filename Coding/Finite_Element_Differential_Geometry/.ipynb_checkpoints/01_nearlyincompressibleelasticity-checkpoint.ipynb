{
 "cells": [
  {
   "cell_type": "markdown",
   "metadata": {},
   "source": [
    "Nearly Incompressible Elasticity\n",
    "==="
   ]
  },
  {
   "cell_type": "code",
   "execution_count": 1,
   "metadata": {},
   "outputs": [
    {
     "ename": "ModuleNotFoundError",
     "evalue": "No module named 'ngsolve'",
     "output_type": "error",
     "traceback": [
      "\u001b[0;31m---------------------------------------------------------------------------\u001b[0m",
      "\u001b[0;31mModuleNotFoundError\u001b[0m                       Traceback (most recent call last)",
      "\u001b[0;32m/tmp/ipykernel_42092/3471306933.py\u001b[0m in \u001b[0;36m<module>\u001b[0;34m\u001b[0m\n\u001b[0;32m----> 1\u001b[0;31m \u001b[0;32mfrom\u001b[0m \u001b[0mngsolve\u001b[0m \u001b[0;32mimport\u001b[0m \u001b[0;34m*\u001b[0m\u001b[0;34m\u001b[0m\u001b[0;34m\u001b[0m\u001b[0m\n\u001b[0m\u001b[1;32m      2\u001b[0m \u001b[0;32mfrom\u001b[0m \u001b[0mngsolve\u001b[0m\u001b[0;34m.\u001b[0m\u001b[0mwebgui\u001b[0m \u001b[0;32mimport\u001b[0m \u001b[0mDraw\u001b[0m\u001b[0;34m\u001b[0m\u001b[0;34m\u001b[0m\u001b[0m\n\u001b[1;32m      3\u001b[0m \u001b[0;32mfrom\u001b[0m \u001b[0mngsolve\u001b[0m\u001b[0;34m.\u001b[0m\u001b[0mmeshes\u001b[0m \u001b[0;32mimport\u001b[0m \u001b[0mMakeStructured2DMesh\u001b[0m\u001b[0;34m\u001b[0m\u001b[0;34m\u001b[0m\u001b[0m\n",
      "\u001b[0;31mModuleNotFoundError\u001b[0m: No module named 'ngsolve'"
     ]
    }
   ],
   "source": [
    "from ngsolve import *\n",
    "from ngsolve.webgui import Draw\n",
    "from ngsolve.meshes import MakeStructured2DMesh"
   ]
  },
  {
   "cell_type": "markdown",
   "metadata": {},
   "source": [
    "A rectangular mesh:"
   ]
  },
  {
   "cell_type": "code",
   "execution_count": null,
   "metadata": {},
   "outputs": [],
   "source": [
    "mapping = lambda x,y : (x,0.3*y)\n",
    "mesh = MakeStructured2DMesh(quads=True, nx=10, ny=2, mapping=mapping)\n",
    "Draw(mesh)"
   ]
  },
  {
   "cell_type": "code",
   "execution_count": null,
   "metadata": {},
   "outputs": [],
   "source": [
    "E  = 10\n",
    "nu = Parameter(0.3)"
   ]
  },
  {
   "cell_type": "code",
   "execution_count": null,
   "metadata": {},
   "outputs": [],
   "source": [
    "def Solve(mesh, order=1, projection=False):\n",
    "    fes = VectorH1(mesh, order=order, dirichlet=\"left\")\n",
    "    u,v = fes.TnT()\n",
    "    \n",
    "    mu  = E / 2 / (1+nu)\n",
    "    lam = E * nu / ((1+nu)*(1-2*nu))\n",
    "\n",
    "    a = BilinearForm(fes, symmetric=True)\n",
    "    a += 2*mu*InnerProduct(Sym(Grad(u)),Sym(Grad(v)))*dx\n",
    "    if projection:\n",
    "        a += lam*Interpolate(div(u),L2(mesh,order=0))*Interpolate(div(v),L2(mesh,order=0))*dx\n",
    "    else:\n",
    "        a += lam*div(u)*div(v)*dx\n",
    "\n",
    "    f = LinearForm(fes)\n",
    "    f += 0.15*CF((0,x))*v*dx\n",
    "\n",
    "    gfu = GridFunction(fes)\n",
    "    a.Assemble()\n",
    "    f.Assemble()\n",
    "\n",
    "    gfu.vec.data = a.mat.Inverse(fes.FreeDofs(), inverse=\"sparsecholesky\")*f.vec\n",
    "    return gfu"
   ]
  },
  {
   "cell_type": "code",
   "execution_count": null,
   "metadata": {},
   "outputs": [],
   "source": [
    "nu.Set(0.4)\n",
    "gfuref = Solve(mesh,order=1, projection=False)\n",
    "Draw(gfuref, mesh, deformation=True)"
   ]
  }
 ],
 "metadata": {
  "kernelspec": {
   "display_name": "Python 3 (ipykernel)",
   "language": "python",
   "name": "python3"
  },
  "language_info": {
   "codemirror_mode": {
    "name": "ipython",
    "version": 3
   },
   "file_extension": ".py",
   "mimetype": "text/x-python",
   "name": "python",
   "nbconvert_exporter": "python",
   "pygments_lexer": "ipython3",
   "version": "3.9.7"
  }
 },
 "nbformat": 4,
 "nbformat_minor": 4
}

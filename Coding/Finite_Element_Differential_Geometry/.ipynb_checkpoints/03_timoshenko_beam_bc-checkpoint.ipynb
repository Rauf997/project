{
 "cells": [
  {
   "cell_type": "markdown",
   "id": "91f74bc3",
   "metadata": {},
   "source": [
    "# Timoschenko beam"
   ]
  },
  {
   "cell_type": "code",
   "execution_count": 1,
   "id": "25dcc295",
   "metadata": {},
   "outputs": [
    {
     "name": "stdout",
     "output_type": "stream",
     "text": [
      "importing NGSolve-6.2.2204\n"
     ]
    }
   ],
   "source": [
    "from ngsolve import *\n",
    "from ngsolve.meshes import Make1DMesh\n",
    "from ngsolve.webgui import Draw"
   ]
  },
  {
   "cell_type": "markdown",
   "id": "6d365dc9",
   "metadata": {},
   "source": [
    "## Uniform distributed load"
   ]
  },
  {
   "cell_type": "code",
   "execution_count": 2,
   "id": "06a469ce",
   "metadata": {},
   "outputs": [],
   "source": [
    "# use material parameters such that equations simplify\n",
    "mu, lam = 0.5, 0  # Lame parameter\n",
    "nu = lam/(2*(lam+mu)) # Possion ratio (=0)\n",
    "E = mu*(3*lam+2*mu)/(lam+mu) # Young's modulus (=2*mu=1)\n",
    "k = 5/6           # shear correction factor\n",
    "G = E/(2*(1+nu))  # shearing modulus (=mu=0.5)\n",
    "\n",
    "t = 0.01\n",
    "alpha = 1/(12*k*G)\n",
    "\n",
    "# uniform distributed load\n",
    "q = -0.1"
   ]
  },
  {
   "cell_type": "markdown",
   "id": "1306aabf",
   "metadata": {},
   "source": [
    "For a uniformly distributed load the exact solution of the Timoshenko beam is of the form\n",
    "\\begin{align}\n",
    "w(x) &= \\frac{q}{2}x^4-\\frac{c_1}{6}x^3-\\frac{1}{2}(c_2+12\\alpha\\,t^2q)x^2+c_3x+c_4\\\\\n",
    "\\beta(x) &=2qx^3-\\frac{c_1}{2}x^2-c_2x-\\alpha\\,t^2c_1+c_3\n",
    "\\end{align}\n",
    "where the constants $c_1$, $c_2$, $c_3$, $c_4$ are determined by the boundary conditions."
   ]
  },
  {
   "cell_type": "code",
   "execution_count": 3,
   "id": "32ff00dd",
   "metadata": {},
   "outputs": [
    {
     "name": "stdout",
     "output_type": "stream",
     "text": [
      "test: w(0) =         0.0\n",
      "test: (w'-beta)(1) = 3.38813178901720e-17\n",
      "test: beta(0) =      0\n",
      "test: beta'(1) =     -1.11022302462516e-16\n",
      "test: w(1) =         -0.150012000000000\n"
     ]
    }
   ],
   "source": [
    "from sympy import symbols, simplify, solve, diff, lambdify\n",
    "X, C1, C2, C3, C4 = symbols(\"x C1 C2 C3 C4\")\n",
    "w_ex = q/2*X**4-C1/6*X**3-0.5*(C2+alpha*t**2*q*12)*X**2+C3*X+C4\n",
    "w_diff_ex = 2*q*X**3-C1/2*X**2-(C2+alpha*t**2*q*12)*X+C3\n",
    "beta_ex = 2*q*X**3-C1/2*X**2-C2*X-alpha*t**2*C1+C3\n",
    "beta_diff_ex = q*12/2*X**2-C1*X-C2\n",
    "if False: #check if the equations are fulfilled\n",
    "    test_eq1 = simplify(-1/12*diff(beta_diff_ex,X)-k*G/t**2*(diff(w_ex,X)-beta_ex))\n",
    "    print(\"test eq1:\", test_eq1)\n",
    "    test_eq2 = simplify(-k*G/t**2*(diff(w_diff_ex,X)-beta_diff_ex)-q)\n",
    "    print(\"test eq2:\", test_eq2)\n",
    "\n",
    "# solve for boundary conditions: clamped at left, free at right boundary\n",
    "solve_bc = solve((w_ex.subs(X,0), beta_ex.subs(X,0), k*G/t**2*(w_diff_ex-beta_ex).subs(X,1), beta_diff_ex.subs(X,1)), C1, C2, C3, C4)\n",
    "c1,c2,c3,c4 = solve_bc[C1], solve_bc[C2], solve_bc[C3], solve_bc[C4]\n",
    "\n",
    "# generate CoefficientFunctions\n",
    "w_ex_func = lambdify((X), w_ex.subs([(C1,c1),(C2,c2),(C3,c3),(C4,c4)]))\n",
    "cf_w_ex = w_ex_func(x)\n",
    "beta_ex_func = lambdify((X), beta_ex.subs([(C1,c1),(C2,c2),(C3,c3),(C4,c4)]))\n",
    "cf_beta_ex = beta_ex_func(x)\n",
    "\n",
    "# Test boundary conditions\n",
    "print(\"test: w(0) =        \", w_ex.subs([(X,0),(C1,c1),(C2,c2),(C3,c3),(C4,c4)]))\n",
    "print(\"test: (w'-beta)(1) =\", 1/t**2*(w_diff_ex-beta_ex).subs([(X,1),(C1,c1),(C2,c2),(C3,c3),(C4,c4)]))\n",
    "print(\"test: beta(0) =     \", beta_ex.subs([(X,0),(C1,c1),(C2,c2),(C3,c3),(C4,c4)]))\n",
    "print(\"test: beta'(1) =    \", beta_diff_ex.subs([(X,1),(C1,c1),(C2,c2),(C3,c3),(C4,c4)]))\n",
    "\n",
    "print(\"test: w(1) =        \", w_ex.subs([(X,1),(C1,c1),(C2,c2),(C3,c3),(C4,c4)]))"
   ]
  },
  {
   "cell_type": "code",
   "execution_count": 4,
   "id": "0b1a142c",
   "metadata": {},
   "outputs": [
    {
     "data": {
      "application/vnd.jupyter.widget-view+json": {
       "model_id": "aa5221fc48624389a66df095266b9a7a",
       "version_major": 2,
       "version_minor": 0
      },
      "text/plain": [
       "WebGuiWidget(layout=Layout(height='50vh', width='100%'), value={'gui_settings': {}, 'ngsolve_version': '6.2.22…"
      ]
     },
     "metadata": {},
     "output_type": "display_data"
    },
    {
     "data": {
      "application/vnd.jupyter.widget-view+json": {
       "model_id": "2feb5a866e03418ead65c05daa4ec687",
       "version_major": 2,
       "version_minor": 0
      },
      "text/plain": [
       "WebGuiWidget(layout=Layout(height='50vh', width='100%'), value={'gui_settings': {}, 'ngsolve_version': '6.2.22…"
      ]
     },
     "metadata": {},
     "output_type": "display_data"
    },
    {
     "data": {
      "text/plain": [
       "BaseWebGuiScene"
      ]
     },
     "execution_count": 4,
     "metadata": {},
     "output_type": "execute_result"
    }
   ],
   "source": [
    "mesh = Make1DMesh(10)\n",
    "Draw(cf_w_ex, mesh, deformation=CF( (0,cf_w_ex,0) ))\n",
    "Draw(cf_beta_ex, mesh, deformation=CF( (0,cf_beta_ex,0) ))"
   ]
  },
  {
   "cell_type": "code",
   "execution_count": 5,
   "id": "541ad165",
   "metadata": {},
   "outputs": [
    {
     "data": {
      "application/vnd.jupyter.widget-view+json": {
       "model_id": "572f044dc0354f8e8fe876b7bc4537c3",
       "version_major": 2,
       "version_minor": 0
      },
      "text/plain": [
       "WebGuiWidget(layout=Layout(height='50vh', width='100%'), value={'gui_settings': {}, 'ngsolve_version': '6.2.22…"
      ]
     },
     "metadata": {},
     "output_type": "display_data"
    },
    {
     "data": {
      "application/vnd.jupyter.widget-view+json": {
       "model_id": "274d8fd638334ad683217d892c7d77d6",
       "version_major": 2,
       "version_minor": 0
      },
      "text/plain": [
       "WebGuiWidget(layout=Layout(height='50vh', width='100%'), value={'gui_settings': {}, 'ngsolve_version': '6.2.22…"
      ]
     },
     "metadata": {},
     "output_type": "display_data"
    },
    {
     "name": "stdout",
     "output_type": "stream",
     "text": [
      "TB:  (-0.1495655714300729, 0.003727683001523952, 0.05710088148956201)\n"
     ]
    }
   ],
   "source": [
    "def SolveTB(order, mesh, draw=False):\n",
    "    fes = H1(mesh, order=order, dirichlet=\"left\")*H1(mesh, order=order, dirichlet=\"left\") \n",
    "    (w,beta),(dw,dbeta) = fes.TnT()\n",
    "    \n",
    "    a = BilinearForm(fes, symmetric=True)\n",
    "    a += 1/12*grad(beta)*grad(dbeta)*dx + k*G/t**2*(grad(w)-beta)*(grad(dw)-dbeta)*dx\n",
    "    \n",
    "    f = LinearForm(fes)\n",
    "    f += q*dw*dx\n",
    "    \n",
    "    gfsol = GridFunction(fes)\n",
    "    \n",
    "    a.Assemble()\n",
    "    f.Assemble()\n",
    "    gfsol.vec.data = a.mat.Inverse(fes.FreeDofs(),inverse=\"sparsecholesky\")*f.vec\n",
    "    gfw, gfbeta = gfsol.components\n",
    "    \n",
    "    if draw:\n",
    "        Draw(gfw,mesh, deformation=CF((0,gfw,0)))\n",
    "        Draw(gfbeta,mesh, deformation=CF((0,gfbeta,0)))\n",
    "    \n",
    "    # relative errors\n",
    "    errW = sqrt(Integrate((gfw-cf_w_ex)**2+(Grad(gfw)-cf_w_ex.Diff(x))**2,mesh))/sqrt(Integrate(cf_w_ex**2+cf_w_ex.Diff(x)**2,mesh))\n",
    "    errbeta = sqrt(Integrate((gfbeta-cf_beta_ex)**2+(Grad(gfbeta)-cf_beta_ex.Diff(x))**2,mesh))/sqrt(Integrate(cf_beta_ex**2+cf_beta_ex.Diff(x)**2,mesh))\n",
    "    return (gfw(mesh(1,0,0)), errW, errbeta)\n",
    "\n",
    "print(\"TB: \", SolveTB(order=2, mesh=Make1DMesh(10), draw=True))"
   ]
  },
  {
   "cell_type": "markdown",
   "id": "b6c11c6c",
   "metadata": {},
   "source": [
    "## shear force"
   ]
  },
  {
   "cell_type": "code",
   "execution_count": 6,
   "id": "2459ceff",
   "metadata": {},
   "outputs": [],
   "source": [
    "# use material parameters such that equations simplify\n",
    "mu, lam = 0.5, 0  # Lame parameter\n",
    "nu = lam/(2*(lam+mu)) # Possion ratio (=0)\n",
    "E = mu*(3*lam+2*mu)/(lam+mu) # Young's modulus (=1)\n",
    "k = 5/6           # shear correction factor\n",
    "G = E/(2*(1+nu))  # shearing modulus\n",
    "q = -0.1\n",
    "t = 0.01\n",
    "alpha= 1/(12*k*G)"
   ]
  },
  {
   "cell_type": "markdown",
   "id": "16a8cb03",
   "metadata": {},
   "source": [
    "For a shear force the exact solution of the Timoshenko beam is of the form\n",
    "\\begin{align}\n",
    "w(x) &= -\\frac{c_1}{6}x^3-\\frac{c_2}{2}x^2 + c_3x+c_4\\\\\n",
    "\\beta(x) &=-\\frac{c_1}{2}x^2-c_2x-\\alpha\\,t^2c_1+c_3\n",
    "\\end{align}\n",
    "where the constants $c_1$, $c_2$, $c_3$, $c_4$ are determined by the boundary conditions."
   ]
  },
  {
   "cell_type": "code",
   "execution_count": 7,
   "id": "9286e5cd",
   "metadata": {},
   "outputs": [
    {
     "name": "stdout",
     "output_type": "stream",
     "text": [
      "test: w(0) = 0.0\n",
      "test: k*G/t**2*(w'-beta)(1) = -0.100000000000000\n",
      "test: beta(0) = 0\n",
      "test: beta'(1) = 0\n",
      "test: w(1) = -0.400024000000000\n"
     ]
    }
   ],
   "source": [
    "w_ex = -C1/6*X**3-C2/2*X**2 + C3*X+C4\n",
    "w_diff_ex = -C1/2*X**2-C2*X + C3\n",
    "beta_ex = -C1/2*X**2-C2*X-alpha*t**2*C1+C3\n",
    "beta_diff_ex = -C1*X-C2\n",
    "if False:\n",
    "    test_eq1 = simplify(-1/12*diff(beta_diff_ex,X)-k*G/t**2*(diff(w_ex,X)-beta_ex))\n",
    "    print(\"test eq1:\", test_eq1)\n",
    "    test_eq2 = simplify(-k*G/t**2*(diff(w_diff_ex,X)-beta_diff_ex))\n",
    "    print(\"test eq2:\", test_eq2)\n",
    "\n",
    "solve_bc = solve((w_ex.subs(X,0), beta_ex.subs(X,0), (k*G/t**2*(w_diff_ex-beta_ex)-q).subs(X,1), beta_diff_ex.subs(X,1)), C1, C2, C3, C4)\n",
    "c1,c2,c3,c4 = solve_bc[C1], solve_bc[C2], solve_bc[C3], solve_bc[C4]\n",
    "\n",
    "# generate CoefficientFunctions\n",
    "w_ex_func = lambdify((X), w_ex.subs([(C1,c1),(C2,c2),(C3,c3),(C4,c4)]))\n",
    "cf_w_ex = w_ex_func(x)\n",
    "beta_ex_func = lambdify((X), beta_ex.subs([(C1,c1),(C2,c2),(C3,c3),(C4,c4)]))\n",
    "cf_beta_ex = beta_ex_func(x)\n",
    "\n",
    "print(\"test: w(0) =\", w_ex.subs([(X,0),(C1,c1),(C2,c2),(C3,c3),(C4,c4)]))\n",
    "print(\"test: k*G/t**2*(w'-beta)(1) =\", k*G/t**2*(w_diff_ex-beta_ex).subs([(X,1),(C1,c1),(C2,c2),(C3,c3),(C4,c4)]))\n",
    "print(\"test: beta(0) =\", beta_ex.subs([(X,0),(C1,c1),(C2,c2),(C3,c3),(C4,c4)]))\n",
    "print(\"test: beta'(1) =\", diff(beta_ex,X).subs([(X,1),(C1,c1),(C2,c2),(C3,c3),(C4,c4)]))\n",
    "print(\"test: w(1) =\", w_ex.subs([(X,1),(C1,c1),(C2,c2),(C3,c3),(C4,c4)]))"
   ]
  },
  {
   "cell_type": "code",
   "execution_count": 8,
   "id": "b0c774a4",
   "metadata": {},
   "outputs": [
    {
     "data": {
      "application/vnd.jupyter.widget-view+json": {
       "model_id": "33fe77e0e79d46baab662b22633ba7c8",
       "version_major": 2,
       "version_minor": 0
      },
      "text/plain": [
       "WebGuiWidget(layout=Layout(height='50vh', width='100%'), value={'gui_settings': {}, 'ngsolve_version': '6.2.22…"
      ]
     },
     "metadata": {},
     "output_type": "display_data"
    },
    {
     "data": {
      "application/vnd.jupyter.widget-view+json": {
       "model_id": "916c34518d0b4c118574c3a513c84b5b",
       "version_major": 2,
       "version_minor": 0
      },
      "text/plain": [
       "WebGuiWidget(layout=Layout(height='50vh', width='100%'), value={'gui_settings': {}, 'ngsolve_version': '6.2.22…"
      ]
     },
     "metadata": {},
     "output_type": "display_data"
    },
    {
     "data": {
      "text/plain": [
       "BaseWebGuiScene"
      ]
     },
     "execution_count": 8,
     "metadata": {},
     "output_type": "execute_result"
    }
   ],
   "source": [
    "Draw(cf_w_ex, mesh, deformation=CF( (0,cf_w_ex,0) ))\n",
    "Draw(cf_beta_ex, mesh, deformation=CF( (0,cf_beta_ex,0) ))"
   ]
  },
  {
   "cell_type": "code",
   "execution_count": 9,
   "id": "8da80b2a",
   "metadata": {},
   "outputs": [
    {
     "data": {
      "application/vnd.jupyter.widget-view+json": {
       "model_id": "ec2ffa728ad04072b327d9ce65536b94",
       "version_major": 2,
       "version_minor": 0
      },
      "text/plain": [
       "WebGuiWidget(layout=Layout(height='50vh', width='100%'), value={'gui_settings': {}, 'ngsolve_version': '6.2.22…"
      ]
     },
     "metadata": {},
     "output_type": "display_data"
    },
    {
     "data": {
      "application/vnd.jupyter.widget-view+json": {
       "model_id": "9a267f7764cc489d82a3f2761b446998",
       "version_major": 2,
       "version_minor": 0
      },
      "text/plain": [
       "WebGuiWidget(layout=Layout(height='50vh', width='100%'), value={'gui_settings': {}, 'ngsolve_version': '6.2.22…"
      ]
     },
     "metadata": {},
     "output_type": "display_data"
    },
    {
     "name": "stdout",
     "output_type": "stream",
     "text": [
      "TB:  (-0.3991311428610608, 0.0023449228676600004, 0.03774896099376636)\n"
     ]
    }
   ],
   "source": [
    "def SolveTB(order, mesh, t, reduced_integration=False, draw=False):\n",
    "    fes = H1(mesh, order=order, dirichlet=\"left\")*H1(mesh, order=order, dirichlet=\"left\") \n",
    "    (w,beta),(dw,dbeta) = fes.TnT()\n",
    "    \n",
    "    a = BilinearForm(fes, symmetric=True)\n",
    "    a += 1/12*grad(beta)*grad(dbeta)*dx + k*G/t**2*(grad(w)-beta)*(grad(dw)-dbeta)*dx(bonus_intorder=-reduced_integration)\n",
    "    \n",
    "    f = LinearForm(fes)\n",
    "    f += q*dw*ds(\"right\")\n",
    "    \n",
    "    gfsol = GridFunction(fes)\n",
    "    \n",
    "    a.Assemble()\n",
    "    f.Assemble()\n",
    "    gfsol.vec.data = a.mat.Inverse(fes.FreeDofs(),inverse=\"sparsecholesky\")*f.vec\n",
    "    gfw, gfbeta = gfsol.components\n",
    "    \n",
    "    if draw:\n",
    "        Draw(gfw,mesh, deformation=CF((0,gfw,0)))\n",
    "        Draw(gfbeta,mesh, deformation=CF((0,gfbeta,0)))\n",
    "    \n",
    "    errW = sqrt(Integrate((gfw-cf_w_ex)**2+(Grad(gfw)-cf_w_ex.Diff(x))**2,mesh))/sqrt(Integrate(cf_w_ex**2+cf_w_ex.Diff(x)**2,mesh))\n",
    "    errbeta = sqrt(Integrate((gfbeta-cf_beta_ex)**2+(Grad(gfbeta)-cf_beta_ex.Diff(x))**2,mesh))/sqrt(Integrate(cf_beta_ex**2+cf_beta_ex.Diff(x)**2,mesh))\n",
    "    return (gfw(mesh(1,0,0)), errW, errbeta)\n",
    "\n",
    "print(\"TB: \", SolveTB(order=2, mesh=Make1DMesh(10), t=t, draw=True))"
   ]
  },
  {
   "cell_type": "code",
   "execution_count": null,
   "id": "fbaa00f6",
   "metadata": {},
   "outputs": [],
   "source": []
  }
 ],
 "metadata": {
  "kernelspec": {
   "display_name": "Python 3 (ipykernel)",
   "language": "python",
   "name": "python3"
  },
  "language_info": {
   "codemirror_mode": {
    "name": "ipython",
    "version": 3
   },
   "file_extension": ".py",
   "mimetype": "text/x-python",
   "name": "python",
   "nbconvert_exporter": "python",
   "pygments_lexer": "ipython3",
   "version": "3.10.6"
  }
 },
 "nbformat": 4,
 "nbformat_minor": 5
}

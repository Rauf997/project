{
 "cells": [
  {
   "cell_type": "code",
   "execution_count": 3,
   "id": "f6f839ac",
   "metadata": {},
   "outputs": [],
   "source": [
    "from sympy import pprint\n",
    "from sympy.abc import p"
   ]
  },
  {
   "cell_type": "code",
   "execution_count": 5,
   "id": "cf0b973d",
   "metadata": {},
   "outputs": [
    {
     "name": "stdout",
     "output_type": "stream",
     "text": [
      "   2    \n",
      "2⋅p  - 8\n"
     ]
    }
   ],
   "source": [
    "exp1 = (2*(p**2)-8)\n",
    "pprint(exp1)"
   ]
  },
  {
   "cell_type": "code",
   "execution_count": 6,
   "id": "15ce60ee",
   "metadata": {},
   "outputs": [
    {
     "data": {
      "text/latex": [
       "$\\displaystyle 192$"
      ],
      "text/plain": [
       "192"
      ]
     },
     "execution_count": 6,
     "metadata": {},
     "output_type": "execute_result"
    }
   ],
   "source": [
    "exp1.subs(p,10)"
   ]
  },
  {
   "cell_type": "code",
   "execution_count": 7,
   "id": "efb4d03d",
   "metadata": {},
   "outputs": [
    {
     "name": "stdout",
     "output_type": "stream",
     "text": [
      "2*p**2 - 8\n"
     ]
    }
   ],
   "source": [
    "print(exp1)"
   ]
  },
  {
   "cell_type": "code",
   "execution_count": 8,
   "id": "c199f612",
   "metadata": {},
   "outputs": [
    {
     "name": "stdout",
     "output_type": "stream",
     "text": [
      "importing NGSolve-6.2.2204\n"
     ]
    }
   ],
   "source": [
    "from ngsolve import *\n",
    "from ngsolve.meshes import Make1DMesh\n",
    "from ngsolve.webgui import Draw"
   ]
  },
  {
   "cell_type": "code",
   "execution_count": 9,
   "id": "63a75301",
   "metadata": {},
   "outputs": [
    {
     "data": {
      "application/vnd.jupyter.widget-view+json": {
       "model_id": "1e8875964c6c4f6ea155fd7627bb5da4",
       "version_major": 2,
       "version_minor": 0
      },
      "text/plain": [
       "WebGuiWidget(layout=Layout(height='50vh', width='100%'), value={'gui_settings': {}, 'ngsolve_version': '6.2.22…"
      ]
     },
     "metadata": {},
     "output_type": "display_data"
    },
    {
     "data": {
      "text/plain": [
       "BaseWebGuiScene"
      ]
     },
     "execution_count": 9,
     "metadata": {},
     "output_type": "execute_result"
    }
   ],
   "source": [
    "mesh = Make1DMesh(10, mapping=None, periodic=False)\n",
    "Draw(mesh)"
   ]
  },
  {
   "cell_type": "code",
   "execution_count": 11,
   "id": "e9026c25",
   "metadata": {},
   "outputs": [
    {
     "name": "stdout",
     "output_type": "stream",
     "text": [
      "ndof =  21\n"
     ]
    }
   ],
   "source": [
    "fes = H1(mesh, order=2, dirichlet=\"left|right\")\n",
    "print(\"ndof = \", fes.ndof)"
   ]
  },
  {
   "cell_type": "code",
   "execution_count": 13,
   "id": "a8cb1529",
   "metadata": {},
   "outputs": [],
   "source": [
    "psi = fes.TrialFunction()\n",
    "v = fes.TestFunction()"
   ]
  },
  {
   "cell_type": "code",
   "execution_count": 17,
   "id": "e8c4bbc9",
   "metadata": {},
   "outputs": [],
   "source": [
    "am = BilinearForm(fes)\n",
    "am += (1/2*grad(psi)**2*v)*dx\n",
    "\n",
    "gfu = GridFunction(fes)"
   ]
  },
  {
   "cell_type": "code",
   "execution_count": 18,
   "id": "9c876a74",
   "metadata": {},
   "outputs": [],
   "source": [
    "def SimpleNewtonSolve(gfu,am,tol=1e-13,maxits=25):\n",
    "    res = gfu.vec.CreateVector()\n",
    "    du = gfu.vec.CreateVector()\n",
    "    fes = gfu.space\n",
    "    for it in range(maxits):\n",
    "        print (\"Iteration {:3}  \".format(it),end=\"\")\n",
    "        am.Apply(gfu.vec, res)\n",
    "        am.AssembleLinearization(gfu.vec)\n",
    "        du.data = am.mat.Inverse(fes.FreeDofs()) * res\n",
    "        gfu.vec.data -= du\n",
    "\n",
    "        #stopping criteria\n",
    "        stopcritval = sqrt(abs(InnerProduct(du,res)))\n",
    "        print (\"<A u\",it,\", A u\",it,\">_{-1}^0.5 = \", stopcritval)\n",
    "        if stopcritval < tol:\n",
    "            break"
   ]
  },
  {
   "cell_type": "code",
   "execution_count": 19,
   "id": "72b92fe4",
   "metadata": {},
   "outputs": [
    {
     "name": "stdout",
     "output_type": "stream",
     "text": [
      "Iteration   0  <A u 0 , A u 0 >_{-1}^0.5 =  0.0\n"
     ]
    }
   ],
   "source": [
    "SimpleNewtonSolve(gfu,am)"
   ]
  },
  {
   "cell_type": "code",
   "execution_count": 22,
   "id": "22789aff",
   "metadata": {},
   "outputs": [
    {
     "name": "stdout",
     "output_type": "stream",
     "text": [
      "       0\n",
      "       0\n",
      "       0\n",
      "       0\n",
      "       0\n",
      "       0\n",
      "       0\n",
      "       0\n",
      "       0\n",
      "       0\n",
      "       0\n",
      "       0\n",
      "       0\n",
      "       0\n",
      "       0\n",
      "       0\n",
      "       0\n",
      "       0\n",
      "       0\n",
      "       0\n",
      "       0\n",
      "\n",
      "\n"
     ]
    }
   ],
   "source": [
    "print(gfu.vec.data)"
   ]
  }
 ],
 "metadata": {
  "kernelspec": {
   "display_name": "Python 3 (ipykernel)",
   "language": "python",
   "name": "python3"
  },
  "language_info": {
   "codemirror_mode": {
    "name": "ipython",
    "version": 3
   },
   "file_extension": ".py",
   "mimetype": "text/x-python",
   "name": "python",
   "nbconvert_exporter": "python",
   "pygments_lexer": "ipython3",
   "version": "3.10.6"
  }
 },
 "nbformat": 4,
 "nbformat_minor": 5
}

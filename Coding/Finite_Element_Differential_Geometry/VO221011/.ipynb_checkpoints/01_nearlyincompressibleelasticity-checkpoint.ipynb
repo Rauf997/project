{
 "cells": [
  {
   "cell_type": "markdown",
   "metadata": {},
   "source": [
    "Nearly Incompressible Elasticity\n",
    "==="
   ]
  },
  {
   "cell_type": "code",
   "execution_count": 1,
   "metadata": {},
   "outputs": [
    {
     "name": "stdout",
     "output_type": "stream",
     "text": [
      "importing NGSolve-6.2.2204\n"
     ]
    }
   ],
   "source": [
    "from ngsolve import *\n",
    "from ngsolve.webgui import Draw\n",
    "from ngsolve.meshes import MakeStructured2DMesh"
   ]
  },
  {
   "cell_type": "markdown",
   "metadata": {},
   "source": [
    "A rectangular mesh:"
   ]
  },
  {
   "cell_type": "code",
   "execution_count": 2,
   "metadata": {},
   "outputs": [
    {
     "data": {
      "application/vnd.jupyter.widget-view+json": {
       "model_id": "bcd6acceb0e24f0690ca955cd906d1df",
       "version_major": 2,
       "version_minor": 0
      },
      "text/plain": [
       "WebGuiWidget(layout=Layout(height='50vh', width='100%'), value={'gui_settings': {}, 'ngsolve_version': '6.2.22…"
      ]
     },
     "metadata": {},
     "output_type": "display_data"
    },
    {
     "data": {
      "text/plain": [
       "BaseWebGuiScene"
      ]
     },
     "execution_count": 2,
     "metadata": {},
     "output_type": "execute_result"
    }
   ],
   "source": [
    "mapping = lambda x,y : (x,0.3*y)\n",
    "mesh = MakeStructured2DMesh(quads=True, nx=10, ny=2, mapping=mapping)\n",
    "Draw(mesh)"
   ]
  },
  {
   "cell_type": "code",
   "execution_count": 3,
   "metadata": {},
   "outputs": [],
   "source": [
    "E  = 10\n",
    "nu = Parameter(0.3)"
   ]
  },
  {
   "cell_type": "code",
   "execution_count": 4,
   "metadata": {},
   "outputs": [],
   "source": [
    "def Solve(mesh, order=1, projection=False):\n",
    "    fes = VectorH1(mesh, order=order, dirichlet=\"left\")\n",
    "    u,v = fes.TnT()\n",
    "    \n",
    "    mu  = E / 2 / (1+nu)\n",
    "    lam = E * nu / ((1+nu)*(1-2*nu))\n",
    "\n",
    "    a = BilinearForm(fes, symmetric=True)\n",
    "    a += 2*mu*InnerProduct(Sym(Grad(u)),Sym(Grad(v)))*dx\n",
    "    if projection:\n",
    "        a += lam*Interpolate(div(u),L2(mesh,order=0))*Interpolate(div(v),L2(mesh,order=0))*dx\n",
    "    else:\n",
    "        a += lam*div(u)*div(v)*dx\n",
    "\n",
    "    f = LinearForm(fes)\n",
    "    f += 0.15*CF((0,x))*v*dx\n",
    "\n",
    "    gfu = GridFunction(fes)\n",
    "    a.Assemble()\n",
    "    f.Assemble()\n",
    "\n",
    "    gfu.vec.data = a.mat.Inverse(fes.FreeDofs(), inverse=\"sparsecholesky\")*f.vec\n",
    "    return gfu"
   ]
  },
  {
   "cell_type": "code",
   "execution_count": 5,
   "metadata": {},
   "outputs": [
    {
     "data": {
      "application/vnd.jupyter.widget-view+json": {
       "model_id": "5e95b5693b3741bb92c971adaaee290f",
       "version_major": 2,
       "version_minor": 0
      },
      "text/plain": [
       "WebGuiWidget(layout=Layout(height='50vh', width='100%'), value={'gui_settings': {}, 'ngsolve_version': '6.2.22…"
      ]
     },
     "metadata": {},
     "output_type": "display_data"
    },
    {
     "data": {
      "text/plain": [
       "BaseWebGuiScene"
      ]
     },
     "execution_count": 5,
     "metadata": {},
     "output_type": "execute_result"
    }
   ],
   "source": [
    "nu.Set(0.4)\n",
    "gfuref = Solve(mesh,order=1, projection=False)\n",
    "Draw(gfuref, mesh, deformation=True)"
   ]
  }
 ],
 "metadata": {
  "kernelspec": {
   "display_name": "Python 3 (ipykernel)",
   "language": "python",
   "name": "python3"
  },
  "language_info": {
   "codemirror_mode": {
    "name": "ipython",
    "version": 3
   },
   "file_extension": ".py",
   "mimetype": "text/x-python",
   "name": "python",
   "nbconvert_exporter": "python",
   "pygments_lexer": "ipython3",
   "version": "3.10.6"
  }
 },
 "nbformat": 4,
 "nbformat_minor": 4
}

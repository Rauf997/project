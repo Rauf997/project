{
 "cells": [
  {
   "cell_type": "code",
   "execution_count": 1,
   "metadata": {},
   "outputs": [
    {
     "name": "stdout",
     "output_type": "stream",
     "text": [
      "importing NGSolve-6.2.2204\n"
     ]
    }
   ],
   "source": [
    "from ngsolve import *\n",
    "from ngsolve.webgui import Draw\n",
    "from ngsolve.meshes import MakeStructured2DMesh"
   ]
  },
  {
   "cell_type": "code",
   "execution_count": 2,
   "metadata": {},
   "outputs": [],
   "source": [
    "L  = 1\n",
    "t  = Parameter(0.01)\n",
    "\n",
    "E  = 1e6\n",
    "nu = 0.3\n",
    "k  = 5/6\n",
    "\n",
    "G = E/(2*(1+nu))\n",
    "        \n",
    "q = sin(pi*x/L)"
   ]
  },
  {
   "cell_type": "code",
   "execution_count": 3,
   "metadata": {},
   "outputs": [],
   "source": [
    "def GetExSolution(t):\n",
    "    w_ex = 0.112104526221152940265548393276936140028759596241*sin(pi*x) + 0.000632409771566098572843110743663530806201297944823*cosh(pi*y)*sin(pi*x) + 0.0137001636773051064646072440194929287608001683819*y*sinh(pi*y)*sin(pi*x) - 0.0000316122092964093846904903925214350233381599376977*sin(pi*x)*(0.0778005614549296617758704561411247100184621005913*cosh(pi*y) - 1.)\n",
    "    bx = -0.352186756010538421893888815359115479436251630729*cos(pi*x) - 0.00198677389241045458752509183859938924329787256447*cosh(pi*y)*cos(pi*x) - 0.0430403335615994492112989782730640026686362137495*y*sinh(pi*y)*cos(pi*x) + 7.62933329113248462226480296578731364181334216691*10**(-72)*cosh(316.243370846569824755438139785423222466896713500*y)*cos(pi*x)\n",
    "    by = -0.0156869375697155610521323358580923180040980409464*sinh(pi*y)*sin(pi*x) - 0.0430403335615994492112989782730640026686362137495*y*cosh(pi*y)*sin(pi*x) + 7.57905449687304576716760045185638770870950062624*10**(-74)*sinh(316.243370846569824755438139785423222466896713500*y)*sin(pi*x)\n",
    "    return w_ex, CF( (bx,by) )"
   ]
  },
  {
   "cell_type": "code",
   "execution_count": 4,
   "metadata": {},
   "outputs": [
    {
     "data": {
      "application/vnd.jupyter.widget-view+json": {
       "model_id": "24dce6beef394743a4c94282ba4d1fe5",
       "version_major": 2,
       "version_minor": 0
      },
      "text/plain": [
       "WebGuiWidget(layout=Layout(height='50vh', width='100%'), value={'gui_settings': {}, 'ngsolve_version': '6.2.22…"
      ]
     },
     "metadata": {},
     "output_type": "display_data"
    },
    {
     "data": {
      "application/vnd.jupyter.widget-view+json": {
       "model_id": "80cf1f8d64974117948ed58d59f27875",
       "version_major": 2,
       "version_minor": 0
      },
      "text/plain": [
       "WebGuiWidget(layout=Layout(height='50vh', width='100%'), value={'gui_settings': {}, 'ngsolve_version': '6.2.22…"
      ]
     },
     "metadata": {},
     "output_type": "display_data"
    },
    {
     "data": {
      "application/vnd.jupyter.widget-view+json": {
       "model_id": "64566c112211463f86fee60d1ff378de",
       "version_major": 2,
       "version_minor": 0
      },
      "text/plain": [
       "WebGuiWidget(layout=Layout(height='50vh', width='100%'), value={'gui_settings': {}, 'ngsolve_version': '6.2.22…"
      ]
     },
     "metadata": {},
     "output_type": "display_data"
    },
    {
     "data": {
      "text/plain": [
       "BaseWebGuiScene"
      ]
     },
     "execution_count": 4,
     "metadata": {},
     "output_type": "execute_result"
    }
   ],
   "source": [
    "nx = 20\n",
    "nlayer = 2\n",
    "scale = t.Get()\n",
    "ratio = (nlayer/nx)\n",
    "            \n",
    "mapping = lambda x,y: (L/2*x,L/2*y/ratio*scale -L/2 if y < ratio else L/2*((1-scale)/(1-ratio)*y+(scale-ratio)/(1-ratio))-L/2)\n",
    "mapping2 = lambda x,y: (L/2*x,-L/2+L/2*y)\n",
    "            \n",
    "mesh = MakeStructured2DMesh(quads=False, nx=nx, ny=nx, mapping=mapping)\n",
    "\n",
    "w_ex,beta_ex = GetExSolution(t.Get())\n",
    "grad_w_ex = CF( (w_ex.Diff(x), w_ex.Diff(y)) )\n",
    "curl_beta_ex = beta_ex[1].Diff(x)-beta_ex[0].Diff(y)\n",
    "\n",
    "Draw(w_ex,mesh)\n",
    "Draw(Norm(beta_ex),mesh)\n",
    "shear = G*k*t.Get()*(grad_w_ex+beta_ex)\n",
    "Draw(Norm(shear),mesh, order=4)"
   ]
  },
  {
   "cell_type": "code",
   "execution_count": 5,
   "metadata": {},
   "outputs": [],
   "source": [
    "def MaterialInv(mat):\n",
    "    mu  = E / 2 / (1+nu)\n",
    "    lam = E * nu / (1-nu**2)\n",
    "    return 1/(2*mu)*(mat-1/2*Trace(mat)*Id(2))+1/(4*(lam+mu))*Trace(mat)*Id(2)\n",
    "\n",
    "def SolveRM_TDNNS(mesh, order=1, draw=False):\n",
    "    fesB = HCurl(mesh, order=order-1, dirichlet=\"left\")\n",
    "    fesS = HDivDiv(mesh, order=order-1, dirichlet=\"left|bottom\")\n",
    "    fesW = H1(mesh, order=order, dirichlet=\"left\")\n",
    "\n",
    "    fes = fesW*fesB*fesS\n",
    "    (w,beta,sigma), (v,delta,tau) = fes.TnT()\n",
    "    \n",
    "    n = specialcf.normal(2)\n",
    "    \n",
    "    a = BilinearForm(fes, symmetric=True)\n",
    "    a += (-12/t**3*InnerProduct(MaterialInv(sigma),tau) \\\n",
    "          + InnerProduct(tau,grad(beta)) + InnerProduct(sigma,grad(delta))-1e-8*beta*delta)*dx\n",
    "    a += ( -(sigma*n*n)*(delta*n) - (tau*n*n)*(beta*n) )*dx(element_boundary=True)\n",
    "    a += k*G*t*InnerProduct( grad(w)+beta, grad(v)+delta )*dx\n",
    "\n",
    "    f = LinearForm(fes)\n",
    "    f += q*v*dx\n",
    "\n",
    "    gfsol = GridFunction(fes)\n",
    "    gfw, gfbeta, gfsigma = gfsol.components\n",
    "    \n",
    "    with TaskManager():\n",
    "        a.Assemble()\n",
    "        f.Assemble()\n",
    "        inv = a.mat.Inverse(fes.FreeDofs(), inverse=\"sparsecholesky\")\n",
    "        gfsol.vec.data = inv * f.vec\n",
    "    if draw:\n",
    "        Draw(gfw, mesh, \"w\")\n",
    "        Draw(gfbeta[0], mesh, \"beta_x\")\n",
    "    \n",
    "    return gfw, gfbeta"
   ]
  },
  {
   "cell_type": "code",
   "execution_count": 6,
   "metadata": {},
   "outputs": [],
   "source": [
    "errW = []\n",
    "errB = []\n",
    "hs = [0.5**i for i in range(1,6)]\n",
    "\n",
    "order = 1\n",
    "\n",
    "with TaskManager():\n",
    "    \n",
    "    for h in hs:\n",
    "        mesh = MakeStructured2DMesh(quads=False, nx=int(L/h),ny=int(L/h), mapping=mapping2)\n",
    "        gfw, gfbeta = SolveRM_TDNNS(mesh, order=order, draw=False)\n",
    "        \n",
    "        w_h1 = sqrt(Integrate(w_ex*w_ex+grad_w_ex*grad_w_ex, mesh))\n",
    "        errw = sqrt(Integrate((gfw-w_ex)**2+(Grad(gfw)-grad_w_ex)**2,mesh))/w_h1\n",
    "        errW.append(errw)"
   ]
  },
  {
   "cell_type": "code",
   "execution_count": 7,
   "metadata": {},
   "outputs": [
    {
     "data": {
      "image/png": "[encoded data removed]",
      "text/plain": [
       "<Figure size 432x288 with 1 Axes>"
      ]
     },
     "metadata": {
      "needs_background": "light"
     },
     "output_type": "display_data"
    }
   ],
   "source": [
    "import matplotlib.pyplot as plt\n",
    "\n",
    "plt.yscale('log')\n",
    "plt.xscale('log')\n",
    "plt.xlabel(\"h\")\n",
    "plt.ylabel(\"relative error\")\n",
    "plt.plot(hs,errW,\"-*\", label=\"$\\|w-w_{\\mathrm{ex}}\\|$\" )\n",
    "    \n",
    "plt.plot(hs,hs,\"-\",color=\"k\", label=\"$\\mathcal{O}(h)$\")\n",
    "plt.plot(hs,[h**2 for h in hs],\"-.\",color=\"k\", label=\"$\\mathcal{O}(h^2)$\")\n",
    "plt.plot(hs,[h**3 for h in hs],\"--\",color=\"k\", label=\"$\\mathcal{O}(h^3)$\")\n",
    "plt.legend()\n",
    "plt.show()"
   ]
  },
  {
   "cell_type": "code",
   "execution_count": null,
   "metadata": {},
   "outputs": [],
   "source": []
  }
 ],
 "metadata": {
  "kernelspec": {
   "display_name": "Python 3 (ipykernel)",
   "language": "python",
   "name": "python3"
  },
  "language_info": {
   "codemirror_mode": {
    "name": "ipython",
    "version": 3
   },
   "file_extension": ".py",
   "mimetype": "text/x-python",
   "name": "python",
   "nbconvert_exporter": "python",
   "pygments_lexer": "ipython3",
   "version": "3.10.6"
  }
 },
 "nbformat": 4,
 "nbformat_minor": 4
}

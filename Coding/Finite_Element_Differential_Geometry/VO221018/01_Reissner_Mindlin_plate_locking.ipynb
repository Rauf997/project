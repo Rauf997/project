{
 "cells": [
  {
   "cell_type": "code",
   "execution_count": 1,
   "metadata": {},
   "outputs": [],
   "source": [
    "from ngsolve import *\n",
    "from ngsolve.webgui import Draw\n",
    "from ngsolve.meshes import MakeStructured2DMesh"
   ]
  },
  {
   "cell_type": "code",
   "execution_count": 2,
   "metadata": {},
   "outputs": [
    {
     "data": {
      "application/vnd.jupyter.widget-view+json": {
       "model_id": "76ec65ff83e148a1b2546594ac097954",
       "version_major": 2,
       "version_minor": 0
      },
      "text/plain": [
       "WebGuiWidget(layout=Layout(height='50vh', width='100%'), value={'gui_settings': {}, 'ngsolve_version': '6.2.23…"
      ]
     },
     "metadata": {},
     "output_type": "display_data"
    },
    {
     "data": {
      "application/vnd.jupyter.widget-view+json": {
       "model_id": "853b2f6432ae4c698aee2d20180353cb",
       "version_major": 2,
       "version_minor": 0
      },
      "text/plain": [
       "WebGuiWidget(layout=Layout(height='50vh', width='100%'), value={'gui_settings': {}, 'ngsolve_version': '6.2.23…"
      ]
     },
     "metadata": {},
     "output_type": "display_data"
    },
    {
     "data": {
      "text/plain": [
       "BaseWebGuiScene"
      ]
     },
     "execution_count": 2,
     "metadata": {},
     "output_type": "execute_result"
    }
   ],
   "source": [
    "#hard simply supported plate under load q\n",
    "L = 1\n",
    "alpha = pi/(2*L)\n",
    "q = cos(alpha*x)*cos(alpha*y)\n",
    "\n",
    "E  = 1e6\n",
    "nu = 0.3\n",
    "\n",
    "t  = Parameter(1e-1)\n",
    "D  = (E*t**3)/(12*(1-nu**2))\n",
    "k = 5/6\n",
    "G = E/(2*(1+nu))\n",
    "C = k*G*t\n",
    "w_ex = (1/(4*D*alpha**4)+1/(2*C*alpha**2))*cos(alpha*x)*cos(alpha*y)\n",
    "grad_w_ex =  CF( (w_ex.Diff(x),w_ex.Diff(y)) )\n",
    "beta_ex = 1/(4*D*alpha**3)*CF( (sin(alpha*x)*cos(alpha*y),cos(alpha*x)*sin(alpha*y)))\n",
    "curl_beta_ex = beta_ex[1].Diff(x)-beta_ex[0].Diff(y)\n",
    "grad_beta_ex =  CF( (beta_ex[0].Diff(x),beta_ex[0].Diff(y), beta_ex[1].Diff(x),beta_ex[1].Diff(y)), dims=(2,2) )\n",
    "\n",
    "mesh = MakeStructured2DMesh(quads=False, nx=8,ny=8, mapping= lambda x,y : (L*(-1+2*x),L*(-1+2*y)))\n",
    "Draw(w_ex, mesh)\n",
    "Draw(beta_ex, mesh)"
   ]
  },
  {
   "cell_type": "code",
   "execution_count": 3,
   "metadata": {},
   "outputs": [],
   "source": [
    "def Material(mat):\n",
    "    return D*((1-nu)*mat+nu*Trace(mat)*Id(2))\n",
    "def MaterialInv(mat):\n",
    "    return 1/D*(1/(1-nu)*mat-nu/(1-nu**2)*Trace(mat)*Id(2))\n",
    "\n",
    "def SolveRM(mesh, order=1, draw=True):\n",
    "    fesB = VectorH1(mesh, order=order, dirichletx=\"top|bottom\", dirichlety=\"left|right\")\n",
    "    fesW = H1(mesh, order=order, dirichlet=\".*\")\n",
    "\n",
    "    fes = fesW*fesB\n",
    "    (w,beta), (v,delta) = fes.TnT()\n",
    "    \n",
    "    a = BilinearForm(fes, symmetric=True)\n",
    "    a += InnerProduct(Material(Sym(Grad(beta))),Sym(Grad(delta)))*dx\n",
    "    a += k*G*t*InnerProduct( grad(w)+beta, grad(v)+delta )*dx\n",
    "\n",
    "    f = LinearForm(fes)\n",
    "    f += q*v*dx\n",
    "\n",
    "    gfsol = GridFunction(fes)\n",
    "    gfw, gfbeta = gfsol.components\n",
    "    \n",
    "    with TaskManager():\n",
    "        a.Assemble()\n",
    "        f.Assemble()\n",
    "        inv = a.mat.Inverse(fes.FreeDofs(), inverse=\"sparsecholesky\")\n",
    "        gfsol.vec.data = inv * f.vec\n",
    "    if draw:\n",
    "        Draw(gfw, mesh, \"w\")\n",
    "        Draw(gfbeta, mesh, \"w\")\n",
    "    \n",
    "    return gfw, gfbeta"
   ]
  },
  {
   "cell_type": "code",
   "execution_count": 4,
   "metadata": {},
   "outputs": [
    {
     "data": {
      "application/vnd.jupyter.widget-view+json": {
       "model_id": "c6b95132f800482b990a1c1952efb1e7",
       "version_major": 2,
       "version_minor": 0
      },
      "text/plain": [
       "WebGuiWidget(layout=Layout(height='50vh', width='100%'), value={'gui_settings': {}, 'ngsolve_version': '6.2.23…"
      ]
     },
     "metadata": {},
     "output_type": "display_data"
    },
    {
     "data": {
      "application/vnd.jupyter.widget-view+json": {
       "model_id": "91fc078d3e10470dbf57a400ec0df8a4",
       "version_major": 2,
       "version_minor": 0
      },
      "text/plain": [
       "WebGuiWidget(layout=Layout(height='50vh', width='100%'), value={'gui_settings': {}, 'ngsolve_version': '6.2.23…"
      ]
     },
     "metadata": {},
     "output_type": "display_data"
    },
    {
     "data": {
      "application/vnd.jupyter.widget-view+json": {
       "model_id": "a72bd98e32814483b95496d4f1024701",
       "version_major": 2,
       "version_minor": 0
      },
      "text/plain": [
       "WebGuiWidget(layout=Layout(height='50vh', width='100%'), value={'gui_settings': {}, 'ngsolve_version': '6.2.23…"
      ]
     },
     "metadata": {},
     "output_type": "display_data"
    },
    {
     "data": {
      "application/vnd.jupyter.widget-view+json": {
       "model_id": "7c8e213556a649239695a10c60c95135",
       "version_major": 2,
       "version_minor": 0
      },
      "text/plain": [
       "WebGuiWidget(layout=Layout(height='50vh', width='100%'), value={'gui_settings': {}, 'ngsolve_version': '6.2.23…"
      ]
     },
     "metadata": {},
     "output_type": "display_data"
    },
    {
     "data": {
      "application/vnd.jupyter.widget-view+json": {
       "model_id": "e2293dd5bb90477b8f1c11c688e3cd60",
       "version_major": 2,
       "version_minor": 0
      },
      "text/plain": [
       "WebGuiWidget(layout=Layout(height='50vh', width='100%'), value={'gui_settings': {}, 'ngsolve_version': '6.2.23…"
      ]
     },
     "metadata": {},
     "output_type": "display_data"
    },
    {
     "data": {
      "application/vnd.jupyter.widget-view+json": {
       "model_id": "a25dda55015b42c98746ae5edf0a6aba",
       "version_major": 2,
       "version_minor": 0
      },
      "text/plain": [
       "WebGuiWidget(layout=Layout(height='50vh', width='100%'), value={'gui_settings': {}, 'ngsolve_version': '6.2.23…"
      ]
     },
     "metadata": {},
     "output_type": "display_data"
    },
    {
     "data": {
      "application/vnd.jupyter.widget-view+json": {
       "model_id": "3057ee1e038546a98c788bec4875823d",
       "version_major": 2,
       "version_minor": 0
      },
      "text/plain": [
       "WebGuiWidget(layout=Layout(height='50vh', width='100%'), value={'gui_settings': {}, 'ngsolve_version': '6.2.23…"
      ]
     },
     "metadata": {},
     "output_type": "display_data"
    },
    {
     "data": {
      "application/vnd.jupyter.widget-view+json": {
       "model_id": "a85152cdeac6499a924fba9646c2e1e7",
       "version_major": 2,
       "version_minor": 0
      },
      "text/plain": [
       "WebGuiWidget(layout=Layout(height='50vh', width='100%'), value={'gui_settings': {}, 'ngsolve_version': '6.2.23…"
      ]
     },
     "metadata": {},
     "output_type": "display_data"
    },
    {
     "data": {
      "application/vnd.jupyter.widget-view+json": {
       "model_id": "1954a0dac8494ab09dfe9f0ebfa37222",
       "version_major": 2,
       "version_minor": 0
      },
      "text/plain": [
       "WebGuiWidget(layout=Layout(height='50vh', width='100%'), value={'gui_settings': {}, 'ngsolve_version': '6.2.23…"
      ]
     },
     "metadata": {},
     "output_type": "display_data"
    },
    {
     "data": {
      "application/vnd.jupyter.widget-view+json": {
       "model_id": "cc0f5fba92b548e2a8206fc6dea27b97",
       "version_major": 2,
       "version_minor": 0
      },
      "text/plain": [
       "WebGuiWidget(layout=Layout(height='50vh', width='100%'), value={'gui_settings': {}, 'ngsolve_version': '6.2.23…"
      ]
     },
     "metadata": {},
     "output_type": "display_data"
    },
    {
     "data": {
      "application/vnd.jupyter.widget-view+json": {
       "model_id": "59112b47ab054c6e8486e71127a06377",
       "version_major": 2,
       "version_minor": 0
      },
      "text/plain": [
       "WebGuiWidget(layout=Layout(height='50vh', width='100%'), value={'gui_settings': {}, 'ngsolve_version': '6.2.23…"
      ]
     },
     "metadata": {},
     "output_type": "display_data"
    },
    {
     "data": {
      "application/vnd.jupyter.widget-view+json": {
       "model_id": "f93a5fa788b94603873d3dcc098f9725",
       "version_major": 2,
       "version_minor": 0
      },
      "text/plain": [
       "WebGuiWidget(layout=Layout(height='50vh', width='100%'), value={'gui_settings': {}, 'ngsolve_version': '6.2.23…"
      ]
     },
     "metadata": {},
     "output_type": "display_data"
    },
    {
     "data": {
      "application/vnd.jupyter.widget-view+json": {
       "model_id": "883209822be7405d8212a33a50ca9e6d",
       "version_major": 2,
       "version_minor": 0
      },
      "text/plain": [
       "WebGuiWidget(layout=Layout(height='50vh', width='100%'), value={'gui_settings': {}, 'ngsolve_version': '6.2.23…"
      ]
     },
     "metadata": {},
     "output_type": "display_data"
    },
    {
     "data": {
      "application/vnd.jupyter.widget-view+json": {
       "model_id": "b41dde405f7e4f58bfba7d7efc20a572",
       "version_major": 2,
       "version_minor": 0
      },
      "text/plain": [
       "WebGuiWidget(layout=Layout(height='50vh', width='100%'), value={'gui_settings': {}, 'ngsolve_version': '6.2.23…"
      ]
     },
     "metadata": {},
     "output_type": "display_data"
    },
    {
     "data": {
      "application/vnd.jupyter.widget-view+json": {
       "model_id": "9e2c04d7b00c424dac98b882320dd028",
       "version_major": 2,
       "version_minor": 0
      },
      "text/plain": [
       "WebGuiWidget(layout=Layout(height='50vh', width='100%'), value={'gui_settings': {}, 'ngsolve_version': '6.2.23…"
      ]
     },
     "metadata": {},
     "output_type": "display_data"
    },
    {
     "data": {
      "application/vnd.jupyter.widget-view+json": {
       "model_id": "82f387aefa5e43e5bd11f99b49a3ef50",
       "version_major": 2,
       "version_minor": 0
      },
      "text/plain": [
       "WebGuiWidget(layout=Layout(height='50vh', width='100%'), value={'gui_settings': {}, 'ngsolve_version': '6.2.23…"
      ]
     },
     "metadata": {},
     "output_type": "display_data"
    }
   ],
   "source": [
    "errW = []\n",
    "errB = []\n",
    "ts = [1e-1, 1e-3]\n",
    "hs = [0.5**i for i in range(1,5)]\n",
    "\n",
    "order = 2\n",
    "\n",
    "with TaskManager():\n",
    "    for thickness in ts:\n",
    "        t.Set(thickness)\n",
    "        errW.append([])\n",
    "        errB.append([])\n",
    "    \n",
    "        for h in hs:\n",
    "            mesh = MakeStructured2DMesh(quads=False, nx=int(L/h),ny=int(L/h), mapping= lambda x,y : (L*(-1+2*x),L*(-1+2*y)))\n",
    "            gfw, gfbeta = SolveRM(mesh, order=order, draw=True)\n",
    "        \n",
    "            w_h1 = sqrt(Integrate(w_ex*w_ex+grad_w_ex*grad_w_ex, mesh))\n",
    "            beta_h1 = sqrt(Integrate(beta_ex*beta_ex+InnerProduct(grad_beta_ex,grad_beta_ex), mesh))\n",
    "            errw = sqrt(Integrate((gfw-w_ex)**2+(Grad(gfw)-grad_w_ex)**2,mesh))/w_h1\n",
    "            errb = sqrt(Integrate((gfbeta-beta_ex)**2+InnerProduct(Grad(gfbeta)-grad_beta_ex,Grad(gfbeta)-grad_beta_ex),mesh))/beta_h1\n",
    "            errW[-1].append(errw)\n",
    "            errB[-1].append(errb)"
   ]
  },
  {
   "cell_type": "code",
   "execution_count": 5,
   "metadata": {},
   "outputs": [
    {
     "data": {
      "image/png": "[encoded data removed]",
      "text/plain": [
       "<Figure size 640x480 with 1 Axes>"
      ]
     },
     "metadata": {},
     "output_type": "display_data"
    }
   ],
   "source": [
    "import matplotlib.pyplot as plt\n",
    "\n",
    "plt.yscale('log')\n",
    "plt.xscale('log')\n",
    "plt.xlabel(\"h\")\n",
    "plt.ylabel(\"relative error\")\n",
    "for i in range(len(ts)):\n",
    "    plt.plot(hs,errW[i],\"-*\", label=\"$\\|w-w_{\\mathrm{ex}}\\|$ t=\"+str(ts[i]))\n",
    "    plt.plot(hs,errB[i],\"-*\", label=\"$\\|b-b_{\\mathrm{ex}}\\|$ t=\"+str(ts[i]))\n",
    "    \n",
    "plt.plot(hs,hs,\"-\",color=\"k\", label=\"$\\mathcal{O}(h)$\")\n",
    "plt.plot(hs,[h**2 for h in hs],\"-.\",color=\"k\", label=\"$\\mathcal{O}(h^2)$\")\n",
    "plt.plot(hs,[h**3 for h in hs],\"--\",color=\"k\", label=\"$\\mathcal{O}(h^3)$\")\n",
    "plt.legend()\n",
    "plt.show()"
   ]
  },
  {
   "cell_type": "code",
   "execution_count": 6,
   "metadata": {},
   "outputs": [],
   "source": [
    "def SolveRM_TDNNS(mesh, order=1, draw=False):\n",
    "    fesB = HCurl(mesh, order=order-1, dirichlet=\".*\")\n",
    "    fesS = HDivDiv(mesh, order=order-1, dirichlet=\".*\")\n",
    "    fesW = H1(mesh, order=order, dirichlet=\".*\")\n",
    "\n",
    "    fes = fesW*fesB*fesS\n",
    "    (w,beta,sigma), (v,delta,tau) = fes.TnT()\n",
    "    \n",
    "    n = specialcf.normal(2)\n",
    "    \n",
    "    a = BilinearForm(fes, symmetric=True)\n",
    "    a += (-InnerProduct(MaterialInv(sigma),tau) \\\n",
    "          + InnerProduct(tau,grad(beta)) + InnerProduct(sigma,grad(delta)) -1e-9*beta*delta)*dx\n",
    "    a += ( -(sigma*n*n)*(delta*n) - (tau*n*n)*(beta*n) )*dx(element_boundary=True)\n",
    "    a += k*G*t*InnerProduct( grad(w)+beta, grad(v)+delta )*dx\n",
    "\n",
    "    f = LinearForm(fes)\n",
    "    f += q*v*dx\n",
    "\n",
    "    gfsol = GridFunction(fes)\n",
    "    gfw, gfbeta, gfsigma = gfsol.components\n",
    "    \n",
    "    with TaskManager():\n",
    "        a.Assemble()\n",
    "        f.Assemble()\n",
    "        inv = a.mat.Inverse(fes.FreeDofs(), inverse=\"sparsecholesky\")\n",
    "        gfsol.vec.data = inv * f.vec\n",
    "    if draw:\n",
    "        Draw(gfw, mesh, \"w\")\n",
    "        Draw(gfbeta, mesh, \"w\")\n",
    "    \n",
    "    return gfw, gfbeta"
   ]
  },
  {
   "cell_type": "code",
   "execution_count": null,
   "metadata": {},
   "outputs": [],
   "source": [
    "errW = []\n",
    "errB = []\n",
    "ts = [1e-1, 1e-3]\n",
    "hs = [0.5**i for i in range(1,5)]\n",
    "\n",
    "order = 2\n",
    "\n",
    "with TaskManager():\n",
    "    for thickness in ts:\n",
    "        t.Set(thickness)\n",
    "        errW.append([])\n",
    "        errB.append([])\n",
    "    \n",
    "        for h in hs:\n",
    "            mesh = MakeStructured2DMesh(quads=False, nx=int(L/h),ny=int(L/h), mapping= lambda x,y : (L*(-1+2*x),L*(-1+2*y)))\n",
    "            gfw, gfbeta = SolveRM_TDNNS(mesh, order=order, draw=False)\n",
    "        \n",
    "            w_h1 = sqrt(Integrate(w_ex*w_ex+grad_w_ex*grad_w_ex, mesh))\n",
    "            beta_hc = sqrt(Integrate(beta_ex*beta_ex+curl_beta_ex*curl_beta_ex, mesh))\n",
    "            errw = sqrt(Integrate((gfw-w_ex)**2+(Grad(gfw)-grad_w_ex)**2,mesh))/w_h1\n",
    "            errb = sqrt(Integrate((gfbeta-beta_ex)**2+(curl(gfbeta)-curl_beta_ex)**2,mesh))/beta_hc\n",
    "            errW[-1].append(errw)\n",
    "            errB[-1].append(errb)"
   ]
  },
  {
   "cell_type": "code",
   "execution_count": null,
   "metadata": {},
   "outputs": [],
   "source": [
    "import matplotlib.pyplot as plt\n",
    "\n",
    "plt.yscale('log')\n",
    "plt.xscale('log')\n",
    "plt.xlabel(\"h\")\n",
    "plt.ylabel(\"relative error\")\n",
    "for i in range(len(ts)):\n",
    "    plt.plot(hs,errW[i],\"-*\", label=\"$\\|w-w_{\\mathrm{ex}}\\|$ t=\"+str(ts[i]))\n",
    "    plt.plot(hs,errB[i],\"-*\", label=\"$\\|b-b_{\\mathrm{ex}}\\|$ t=\"+str(ts[i]))\n",
    "    \n",
    "plt.plot(hs,hs,\"-\",color=\"k\", label=\"$\\mathcal{O}(h)$\")\n",
    "plt.plot(hs,[h**2 for h in hs],\"-.\",color=\"k\", label=\"$\\mathcal{O}(h^2)$\")\n",
    "plt.plot(hs,[h**3 for h in hs],\"--\",color=\"k\", label=\"$\\mathcal{O}(h^3)$\")\n",
    "plt.legend()\n",
    "plt.show()"
   ]
  },
  {
   "cell_type": "code",
   "execution_count": null,
   "metadata": {},
   "outputs": [],
   "source": []
  }
 ],
 "metadata": {
  "kernelspec": {
   "display_name": "Python 3 (ipykernel)",
   "language": "python",
   "name": "python3"
  },
  "language_info": {
   "codemirror_mode": {
    "name": "ipython",
    "version": 3
   },
   "file_extension": ".py",
   "mimetype": "text/x-python",
   "name": "python",
   "nbconvert_exporter": "python",
   "pygments_lexer": "ipython3",
   "version": "3.8.10"
  }
 },
 "nbformat": 4,
 "nbformat_minor": 4
}

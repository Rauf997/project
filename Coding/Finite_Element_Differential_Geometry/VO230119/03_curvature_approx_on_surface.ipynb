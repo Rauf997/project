{
 "cells": [
  {
   "cell_type": "markdown",
   "metadata": {},
   "source": [
    "# Gauss curvature approximation directly on surface"
   ]
  },
  {
   "cell_type": "code",
   "execution_count": null,
   "metadata": {},
   "outputs": [],
   "source": [
    "from ngsolve import *\n",
    "from netgen.meshing import MeshingStep\n",
    "from netgen.csg import *\n",
    "from netgen import meshing\n",
    "from ngsolve.webgui import Draw\n",
    "import random as random\n",
    "from ngsolve.krylovspace import CGSolver\n",
    "\n",
    "# Gauss curvature\n",
    "def GaussCurv(mesh):\n",
    "    nsurf = specialcf.normal(3)\n",
    "    return Cof(Grad(nsurf))*nsurf*nsurf\n",
    "\n",
    "# geodesic curvature\n",
    "mu = Cross(specialcf.normal(3), specialcf.tangential(3))\n",
    "edgecurve = specialcf.EdgeCurvature(3) # nabla_t t\n",
    "\n",
    "# for angle deficit\n",
    "bbndtang  = specialcf.VertexTangentialVectors(3)\n",
    "bbndtang1 = bbndtang[:,0] \n",
    "bbndtang2 = bbndtang[:,1] "
   ]
  },
  {
   "cell_type": "code",
   "execution_count": null,
   "metadata": {},
   "outputs": [],
   "source": [
    "#H^-1 norm\n",
    "def CompHm1Norm(rhs, order):\n",
    "    fesH = H1(mesh, order=order)\n",
    "    u,v = fesH.TnT()\n",
    "    \n",
    "    a = BilinearForm((Grad(u).Trace()*Grad(v).Trace()+u*v)*ds, symmetric=True, symmetric_storage=True, condense=True)\n",
    "    f = LinearForm(rhs*v*ds).Assemble()\n",
    "    \n",
    "    apre = Preconditioner(a, \"bddc\")\n",
    "    a.Assemble()\n",
    "    invS = CGSolver(a.mat, apre.mat, printrates='\\r', maxiter=400)\n",
    "    ext = IdentityMatrix()+a.harmonic_extension\n",
    "    inv = a.inner_solve + ext @ invS @ ext.T\n",
    "    \n",
    "    gfu = GridFunction(fesH)\n",
    "    gfu.vec.data = inv*f.vec\n",
    "    \n",
    "    err = sqrt( Integrate( gfu**2, mesh, BND) + Integrate( Grad(gfu)**2, mesh, BND) )\n",
    "    return err"
   ]
  },
  {
   "cell_type": "code",
   "execution_count": null,
   "metadata": {},
   "outputs": [],
   "source": [
    "def ComputeCurv(mesh, order, Kex):\n",
    "    fes = H1(mesh,order=order)\n",
    "    u,v = fes.TnT()\n",
    "\n",
    "    f = LinearForm(fes)\n",
    "    f += GaussCurv(mesh)*v*ds\n",
    "    f += -edgecurve*mu*v*ds(element_boundary=True)\n",
    "    f += -v*acos(bbndtang1*bbndtang2)*ds(element_vb=BBND)\n",
    "\n",
    "\n",
    "    M = BilinearForm(fes, symmetric=True, symmetric_storage=True, condense=True)\n",
    "    M += u*v*ds\n",
    "\n",
    "    gfK = GridFunction(fes)\n",
    "\n",
    "    with TaskManager():\n",
    "        f.Assemble()\n",
    "        # angle deficit (no boundary)\n",
    "        for i in range(mesh.nv):\n",
    "            f.vec[i] += 2*pi\n",
    "        \n",
    "        Mpre = Preconditioner(M, \"bddc\")\n",
    "        M.Assemble()\n",
    "        invS = CGSolver(M.mat, Mpre.mat, printrates='\\r', maxiter=400)\n",
    "        ext = IdentityMatrix()+M.harmonic_extension\n",
    "        inv = M.inner_solve + ext @ invS @ ext.T\n",
    "\n",
    "        gfK.vec.data = inv*f.vec\n",
    "        \n",
    "        l2err = sqrt(Integrate((gfK-Kex)**2, mesh, BND))\n",
    "        hm1err = CompHm1Norm(gfK-Kex,order=order+2)\n",
    "        print(\"int gfK =\", Integrate(gfK*ds(bonus_intorder=5),mesh))\n",
    "        print(\"4*pi    =\", 4*pi)\n",
    "    Draw(gfK, mesh, \"K\")\n",
    "    return l2err,hm1err,fes.ndof"
   ]
  },
  {
   "cell_type": "code",
   "execution_count": null,
   "metadata": {},
   "outputs": [],
   "source": [
    "order=1\n",
    "R = 2\n",
    "geo = CSGeometry()\n",
    "if True: #sphere\n",
    "    geo.Add(Sphere(Pnt(0,0,0),R))\n",
    "    Kex=1/R**2\n",
    "else: # ellipsoid\n",
    "    a = R\n",
    "    b = R\n",
    "    c = 3/4*R\n",
    "    geo.Add(Ellipsoid(Pnt(0,0,0),Vec(a,0,0),Vec(0,b,0),Vec(0,0,c)))\n",
    "    Kex = 1/(a**2*b**2*c**2*(x**2/a**4+y**2/b**4+z**2/c**4)**2)\n",
    "errl2 = []\n",
    "errhm1 = []\n",
    "ndof = []\n",
    "\n",
    "for i in range(4+(order==1)):\n",
    "    mesh = Mesh(geo.GenerateMesh(maxh=0.5**i, perfstepsend=meshing.MeshingStep.MESHSURFACE))\n",
    "    mesh.Curve(order)\n",
    "\n",
    "    errl,errm1,dof = ComputeCurv(mesh, 2*order-1, Kex=Kex)\n",
    "    errl2.append(errl)\n",
    "    errhm1.append(errm1)\n",
    "    ndof.append(dof)"
   ]
  },
  {
   "cell_type": "code",
   "execution_count": null,
   "metadata": {},
   "outputs": [],
   "source": [
    "import matplotlib.pyplot as plt\n",
    "\n",
    "plt.plot(ndof, errhm1, '-o', label=\"$\\|K_h-K_{\\mathrm{ex}}\\|_{H^{-1}}$\")\n",
    "plt.plot(ndof, errl2 , '-x', label=\"$\\|K_h-K_{\\mathrm{ex}}\\|_{L^2}$\")\n",
    "plt.plot(ndof, [10**order*dof**(-(order-1)/2) for dof in ndof], '-.', color=\"k\", label=\"$O(h^\"+str(order-1)+\")$\")\n",
    "plt.plot(ndof, [10**order*dof**(-(order)/2) for dof in ndof], '-' , color=\"k\", label=\"$O(h^\"+str(order)+\")$\")\n",
    "plt.plot(ndof, [10**order*dof**(-(order+1)/2) for dof in ndof], '--', color=\"k\", label=\"$O(h^\"+str(order+1)+\")$\")\n",
    "plt.yscale('log')\n",
    "plt.xscale('log')\n",
    "plt.legend()\n",
    "plt.title(\"p=\"+str(order))\n",
    "plt.show()"
   ]
  },
  {
   "cell_type": "code",
   "execution_count": null,
   "metadata": {},
   "outputs": [],
   "source": []
  },
  {
   "cell_type": "code",
   "execution_count": null,
   "metadata": {},
   "outputs": [],
   "source": []
  }
 ],
 "metadata": {
  "kernelspec": {
   "display_name": "Python 3",
   "language": "python",
   "name": "python3"
  },
  "language_info": {
   "codemirror_mode": {
    "name": "ipython",
    "version": 3
   },
   "file_extension": ".py",
   "mimetype": "text/x-python",
   "name": "python",
   "nbconvert_exporter": "python",
   "pygments_lexer": "ipython3",
   "version": "3.10.8"
  }
 },
 "nbformat": 4,
 "nbformat_minor": 4
}

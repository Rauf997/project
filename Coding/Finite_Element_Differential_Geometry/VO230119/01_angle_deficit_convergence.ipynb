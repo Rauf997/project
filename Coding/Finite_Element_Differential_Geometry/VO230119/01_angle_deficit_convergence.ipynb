{
 "cells": [
  {
   "cell_type": "markdown",
   "id": "e982619e",
   "metadata": {},
   "source": [
    "# Curvature approximation via angle deficit"
   ]
  },
  {
   "cell_type": "code",
   "execution_count": null,
   "id": "ca6a9563",
   "metadata": {},
   "outputs": [],
   "source": [
    "from ngsolve.meshes import MakeStructured2DMesh\n",
    "from netgen.geom2d import unit_square\n",
    "from ngsolve import *\n",
    "from ngsolve.webgui import Draw\n",
    "import random as random\n",
    "\n",
    "Gex = CF( (1+(x-x**3/3)**2, (x-x**3/3)*(y-y**3/3), \n",
    "           (x-x**3/3)*(y-y**3/3), 1+(y-y**3/3)**2), dims=(2,2) )\n",
    "\n",
    "K_ex = 81*(1-x**2)*(1-y**2)/(9+x**2*(x**2-3)**2+y**2*(y**2-3)**2)**2"
   ]
  },
  {
   "cell_type": "code",
   "execution_count": null,
   "id": "afe5e778",
   "metadata": {},
   "outputs": [],
   "source": [
    "bbndtang  = specialcf.VertexTangentialVectors(2)\n",
    "bbndtang1 = bbndtang[:,0]\n",
    "bbndtang2 = bbndtang[:,1]\n",
    "\n",
    "def TrigAngle(G):\n",
    "    return acos( G*bbndtang1*bbndtang2 / sqrt(G*bbndtang1*bbndtang1) / sqrt(G*bbndtang2*bbndtang2) )\n",
    "\n",
    "def ComputeGaussCurv(mesh, G):\n",
    "    fesCC = HCurlCurl(mesh, order=0)\n",
    "    gfG = GridFunction(fesCC)\n",
    "    gfG.Set(G, dual=True, bonus_intorder=5)\n",
    "        \n",
    "\n",
    "    fesH = H1(mesh, order=1, dirichlet=\".*\")\n",
    "    u,v = fesH.TnT()\n",
    "\n",
    "    f = LinearForm(fesH)\n",
    "    f += v*(TrigAngle(Id(2))-TrigAngle(gfG))*dx(element_vb=BBND)\n",
    "\n",
    "    gfK = GridFunction(fesH)\n",
    "    \n",
    "    M = BilinearForm(sqrt(Det(gfG))*u*v*dx, symmetric=True)\n",
    "    M.Assemble()\n",
    "    f.Assemble()\n",
    "        \n",
    "    gfK.vec.data = M.mat.Inverse(fesH.FreeDofs(),inverse=\"sparsecholesky\")*f.vec\n",
    "                        \n",
    "    Draw(gfK, mesh, \"K\", min=0,max=1, deformation=True)\n",
    "    \n",
    "    errl2  = sqrt(Integrate( (gfK-K_ex)**2, mesh ))\n",
    "\n",
    "    return (errl2, fesH.ndof)"
   ]
  },
  {
   "cell_type": "code",
   "execution_count": null,
   "id": "0bf26e55",
   "metadata": {},
   "outputs": [],
   "source": [
    "def UnstructuredMesh(i):\n",
    "    ngmesh = unit_square.GenerateMesh(maxh=1/2**i)\n",
    "    for pnts in ngmesh.Points():\n",
    "        px,py = pnts[0],pnts[1]\n",
    "        if abs(px) > 1e-8 and abs(px-1) > 1e-8 and abs(py) > 1e-8 and abs(py-1) > 1e-8:\n",
    "            px += random.uniform(-1/2**(i+2),1/2**(i+2))\n",
    "            py += random.uniform(-1/2**(i+2),1/2**(i+2))\n",
    "        pnts[0] = 2*px-1\n",
    "        pnts[1] = 2*py-1\n",
    "    ngmesh.Update()\n",
    "    return Mesh(ngmesh)\n",
    "\n",
    "def StructuredMesh(i):\n",
    "    return MakeStructured2DMesh(quads=False,nx=2**i,ny=2**i, mapping = lambda x,y : (2*x-1,2*y-1))"
   ]
  },
  {
   "cell_type": "code",
   "execution_count": null,
   "id": "b90a7bce",
   "metadata": {},
   "outputs": [],
   "source": [
    "errl2 = []\n",
    "ndof  = []\n",
    "\n",
    "with TaskManager():\n",
    "    for i in range(2,7):\n",
    "        mesh = StructuredMesh(i)\n",
    "        #mesh = UnstructuredMesh(i)\n",
    "        errl,dof = ComputeGaussCurv(mesh, Gex)\n",
    "        errl2.append(errl)\n",
    "        ndof.append(dof)"
   ]
  },
  {
   "cell_type": "code",
   "execution_count": null,
   "id": "7f108a7b",
   "metadata": {},
   "outputs": [],
   "source": [
    "import matplotlib.pyplot as plt\n",
    "\n",
    "plt.plot(ndof, errl2 , '-x', label=\"$\\|K_h-K_{\\mathrm{ex}}\\|_{L^2}$\")\n",
    "plt.plot(ndof, [dof**(-1/2) for dof in ndof], '-' , color=\"k\", label=\"$O(h)$\")\n",
    "plt.plot(ndof, [dof**(-2/2) for dof in ndof], '--', color=\"k\", label=\"$O(h^2)$\")\n",
    "\n",
    "plt.yscale('log')\n",
    "plt.xscale('log')\n",
    "plt.legend()\n",
    "plt.show()"
   ]
  },
  {
   "cell_type": "code",
   "execution_count": null,
   "id": "b40161b1",
   "metadata": {},
   "outputs": [],
   "source": []
  }
 ],
 "metadata": {
  "kernelspec": {
   "display_name": "Python 3",
   "language": "python",
   "name": "python3"
  },
  "language_info": {
   "codemirror_mode": {
    "name": "ipython",
    "version": 3
   },
   "file_extension": ".py",
   "mimetype": "text/x-python",
   "name": "python",
   "nbconvert_exporter": "python",
   "pygments_lexer": "ipython3",
   "version": "3.10.8"
  }
 },
 "nbformat": 4,
 "nbformat_minor": 5
}

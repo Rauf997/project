{
 "cells": [
  {
   "cell_type": "markdown",
   "id": "138371d3",
   "metadata": {},
   "source": [
    "# Manual mesh generation\n",
    "\n",
    "In this example we create a mesh by hand, i.e. by prescribing all vertices, edges, faces and elements on our own. This example creates a structured grid for the unit square [0,1]x[0,1] using triangles or quadrilateral (choice via switch):"
   ]
  },
  {
   "cell_type": "markdown",
   "id": "9aca1134",
   "metadata": {},
   "source": [
    "We first include what we need from netgen:"
   ]
  },
  {
   "cell_type": "code",
   "execution_count": 1,
   "id": "bbeadc3e",
   "metadata": {},
   "outputs": [],
   "source": [
    "from netgen.geom2d import unit_square, MakeCircle, SplineGeometry\n",
    "from netgen.meshing import Element0D, Element1D, Element2D, MeshPoint, FaceDescriptor, Mesh\n",
    "from netgen.csg import Pnt"
   ]
  },
  {
   "cell_type": "markdown",
   "id": "638c3277",
   "metadata": {},
   "source": [
    "Next, we decide on the parameters for the mesh:"
   ]
  },
  {
   "cell_type": "code",
   "execution_count": 2,
   "id": "faa50c33",
   "metadata": {},
   "outputs": [],
   "source": [
    "quads = True\n",
    "N=5"
   ]
  },
  {
   "cell_type": "markdown",
   "id": "b5d8af5f",
   "metadata": {},
   "source": [
    "We create an empty mesh and initialize the geometry and the dimension:"
   ]
  },
  {
   "cell_type": "code",
   "execution_count": 3,
   "id": "57f111b8",
   "metadata": {},
   "outputs": [],
   "source": [
    "mesh = Mesh()\n",
    "mesh.SetGeometry(unit_square)\n",
    "mesh.dim = 2"
   ]
  },
  {
   "cell_type": "markdown",
   "id": "842cc6dc",
   "metadata": {},
   "source": [
    "Then, we add all mesh points that we will need for the final mesh. Note that these MeshPoints are added to the mesh with 'mesh.Add(..)' which return the point index. This index is then stored in the array 'pnums'. In our case we have the simple structure that we will have (N+1)*(N+1) points in total."
   ]
  },
  {
   "cell_type": "code",
   "execution_count": 4,
   "id": "4587dd2d",
   "metadata": {},
   "outputs": [],
   "source": [
    "pnums = []\n",
    "for i in range(N + 1):\n",
    "    for j in range(N + 1):\n",
    "        pnums.append(mesh.Add(MeshPoint(Pnt(i / N, j / N, 0))))"
   ]
  },
  {
   "cell_type": "code",
   "execution_count": 5,
   "id": "53d9c9a4",
   "metadata": {},
   "outputs": [],
   "source": [
    "ngmesh = Mesh(dim=2)"
   ]
  },
  {
   "cell_type": "markdown",
   "id": "7ac28834",
   "metadata": {},
   "source": [
    "Next, we add the area elements. Between four neighboring points we either span a quadrilateral (if quads==True) or divide the area into two triangle. These are then simply added to the mesh:"
   ]
  },
  {
   "cell_type": "code",
   "execution_count": 6,
   "id": "d9e8b480",
   "metadata": {},
   "outputs": [],
   "source": [
    "idx_dom = ngmesh.AddRegion(\"mat\", dim=2)\n",
    "for j in range(N):\n",
    "    for i in range(N):\n",
    "        ngmesh.Add(Element2D(idx_dom, [pnums[i + j * (N + 1)],\n",
    "                               pnums[i + (j + 1) * (N + 1)],\n",
    "                               pnums[i + 1 + (j + 1) * (N + 1)],\n",
    "                               pnums[i + 1 + j * (N + 1)]]))"
   ]
  }
 ],
 "metadata": {
  "kernelspec": {
   "display_name": "Python 3 (ipykernel)",
   "language": "python",
   "name": "python3"
  },
  "language_info": {
   "codemirror_mode": {
    "name": "ipython",
    "version": 3
   },
   "file_extension": ".py",
   "mimetype": "text/x-python",
   "name": "python",
   "nbconvert_exporter": "python",
   "pygments_lexer": "ipython3",
   "version": "3.10.6"
  }
 },
 "nbformat": 4,
 "nbformat_minor": 5
}

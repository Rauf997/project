{
 "cells": [
  {
   "cell_type": "markdown",
   "id": "0b2a8344",
   "metadata": {},
   "source": [
    "# Linear Reissner-Mindlin shell\n",
    "\n",
    "Reference values for free boundary condition: \n",
    "\n",
    "$t=0.1$: $0.18954566$, \n",
    "\n",
    "$t=0.01$: $0.15046617$, \n",
    "\n",
    "$t=0.001$: $0.1498902$"
   ]
  },
  {
   "cell_type": "code",
   "execution_count": null,
   "id": "6b27c1c1",
   "metadata": {},
   "outputs": [],
   "source": [
    "from ngsolve import *\n",
    "import netgen.meshing as meshing\n",
    "from ngsolve.webgui import Draw"
   ]
  },
  {
   "cell_type": "code",
   "execution_count": null,
   "id": "cbd1ca6b",
   "metadata": {},
   "outputs": [],
   "source": [
    "thickness = 0.1\n",
    "order = 3\n",
    "\n",
    "# Material properties\n",
    "E   = 2.85e4\n",
    "nu  = 0.3\n",
    "mu  = E/(2*(1+nu))\n",
    "lam = E*nu/(1-nu**2)\n",
    "G   = E/(2*(1+nu))\n",
    "k   = 5/6\n",
    "\n",
    "\n",
    "free = \"right\"\n",
    "# only 1/8 of the shell is considered due to symmetry\n",
    "symmetry =\"left|top|bottom\"\n",
    "\n",
    "# periodic force\n",
    "zeta = IfPos(y, atan(z/y), pi/2)\n",
    "e_n = specialcf.normal(3)\n",
    "force = 1e4*thickness*cos(2*zeta)*e_n*thickness**2\n",
    "\n",
    "# geometry\n",
    "mapping = lambda x,y,z : (x,sqrt(1+x**2)*cos(pi/2*y),sqrt(1+x**2)*sin(pi/2*y))\n",
    "geom = meshing.SurfaceGeometry(mapping)\n",
    "mesh = Mesh(geom.GenerateMesh(quads=False, nx=5, ny=5)).Curve(order)\n",
    "Draw(mesh)"
   ]
  },
  {
   "cell_type": "code",
   "execution_count": null,
   "id": "afb3713d",
   "metadata": {},
   "outputs": [],
   "source": [
    "interpolateShear=True\n",
    "def MaterialStress(mat):\n",
    "    return E/(1-nu**2)*((1-nu)*mat+nu*Trace(mat)*Id(3))\n",
    "\n",
    "t = thickness\n",
    "       \n",
    "fesU = VectorH1(mesh, order=order, dirichletx_bbnd=\"left\", dirichlety_bbnd=\"top\", dirichletz_bbnd=\"bottom\")\n",
    "fesB = VectorH1(mesh, order=order,orderface=order+1 if order < 4 else order, \\\n",
    "                dirichletx_bbnd=\"left\", dirichlety_bbnd=\"top\", dirichletz_bbnd=\"bottom\")\n",
    "fes = fesU*fesB \n",
    "(u,beta), (du,dbeta) = fes.TnT()\n",
    "\n",
    "fesR = HCurl(mesh, order=order, type1=True)\n",
    "\n",
    "n = specialcf.normal(3)\n",
    "Ptau = Id(3) - OuterProduct(n,n)\n",
    "gradu = Grad(u).Trace()\n",
    "graddu = Grad(du).Trace()\n",
    "\n",
    "\n",
    "a = BilinearForm(fes, symmetric=True)\n",
    "a += (t*InnerProduct(MaterialStress(Sym(Ptau*gradu)), Sym(Ptau*graddu)))*ds    \n",
    "a += (t**3/12*InnerProduct(MaterialStress(Sym(Ptau*Grad(beta).Trace() + gradu.trans*Grad(n))), \\\n",
    "                        Sym(Ptau*Grad(dbeta).Trace() + graddu.trans*Grad(n))))*ds\n",
    "if interpolateShear:\n",
    "    if order > 1:\n",
    "        a += (t*k*G*InnerProduct( Interpolate(gradu.trans*n+beta,fesR), Interpolate(graddu.trans*n+dbeta,fesR) ))*ds\n",
    "        a += (t*k*G*(n*beta)*(n*dbeta))*ds\n",
    "    else:\n",
    "        a += (t**3/(t**2+specialcf.mesh_size**2)*k*G*InnerProduct( Interpolate(gradu.trans*n+beta,fesR), Interpolate(graddu.trans*n+dbeta,fesR)))*ds\n",
    "        a += (t**3/(t**2+specialcf.mesh_size**2)*k*G*(n*beta)*(n*dbeta))*ds\n",
    "else:\n",
    "    a += (t*k*G*InnerProduct(gradu.trans*n+beta, graddu.trans*n+dbeta))*ds\n",
    "    \n",
    "f = LinearForm(fes)\n",
    "f += force*du*ds"
   ]
  },
  {
   "cell_type": "code",
   "execution_count": null,
   "id": "804544c0",
   "metadata": {},
   "outputs": [],
   "source": [
    "gfsol = GridFunction(fes)\n",
    "\n",
    "with TaskManager():\n",
    "    a.Assemble()\n",
    "    f.Assemble()\n",
    "    \n",
    "    gfsol.vec.data = a.mat.Inverse(fes.FreeDofs(),inverse=\"sparsecholesky\")*f.vec"
   ]
  },
  {
   "cell_type": "code",
   "execution_count": null,
   "id": "fcbaba39",
   "metadata": {},
   "outputs": [],
   "source": [
    "gfu, gfbeta = gfsol.components\n",
    "print(\"value = \", gfu(mesh(0,0,1,BND))[2])\n",
    "Draw(gfu, mesh, deformation=True)"
   ]
  },
  {
   "cell_type": "code",
   "execution_count": null,
   "id": "24039c9d",
   "metadata": {},
   "outputs": [],
   "source": []
  }
 ],
 "metadata": {
  "kernelspec": {
   "display_name": "Python 3",
   "language": "python",
   "name": "python3"
  },
  "language_info": {
   "codemirror_mode": {
    "name": "ipython",
    "version": 3
   },
   "file_extension": ".py",
   "mimetype": "text/x-python",
   "name": "python",
   "nbconvert_exporter": "python",
   "pygments_lexer": "ipython3",
   "version": "3.10.6"
  }
 },
 "nbformat": 4,
 "nbformat_minor": 5
}

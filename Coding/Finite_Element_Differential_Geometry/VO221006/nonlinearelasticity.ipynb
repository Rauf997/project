{
 "cells": [
  {
   "cell_type": "markdown",
   "metadata": {},
   "source": [
    "Nonlinear Elasticity\n",
    "==="
   ]
  },
  {
   "cell_type": "code",
   "execution_count": 1,
   "metadata": {},
   "outputs": [
    {
     "name": "stdout",
     "output_type": "stream",
     "text": [
      "importing NGSolve-6.2.2204\n"
     ]
    }
   ],
   "source": [
    "from ngsolve import *\n",
    "from ngsolve.webgui import Draw\n",
    "from netgen.occ import *"
   ]
  },
  {
   "cell_type": "markdown",
   "metadata": {},
   "source": [
    "A rectangular mesh:"
   ]
  },
  {
   "cell_type": "code",
   "execution_count": 2,
   "metadata": {},
   "outputs": [
    {
     "data": {
      "application/vnd.jupyter.widget-view+json": {
       "model_id": "24661e4cb78946ffa2aefa80d894d8c1",
       "version_major": 2,
       "version_minor": 0
      },
      "text/plain": [
       "WebGuiWidget(layout=Layout(height='50vh', width='100%'), value={'gui_settings': {}, 'ngsolve_version': '6.2.22…"
      ]
     },
     "metadata": {},
     "output_type": "display_data"
    }
   ],
   "source": [
    "def GenerateMesh(t=0.1):\n",
    "    bar = MoveTo(0,-t/2).Rectangle(1,t).Face()\n",
    "    bar.edges.Min(X).name=\"left\"\n",
    "    bar.edges.Max(X).name=\"right\"\n",
    "    bar.edges.Min(X).maxh=t/8\n",
    "    mesh = Mesh(OCCGeometry(bar, dim=2).GenerateMesh(maxh=t/2.5))\n",
    "    return mesh\n",
    "mesh = GenerateMesh()\n",
    "Draw(mesh);"
   ]
  },
  {
   "cell_type": "markdown",
   "metadata": {},
   "source": [
    "Cauchy-Green tensor and hyperelastic energy density: \n",
    "\\begin{align}\n",
    "\\Psi^{H}(E) &= \\mu\\,\\|\\varepsilon(u)\\|^2+\\frac{\\lambda}{2}\\mathrm{tr}(\\varepsilon(u))^2\\\\\n",
    "\\Psi^{VK}(E) &= \\mu\\,\\|E\\|^2+\\frac{\\lambda}{2}\\mathrm{tr}(E)^2\\\\\n",
    "\\Psi^{NH}(C) &= \\frac{\\mu}{2}(\\mathrm{tr}(C-I)-\\log(\\det(C))) + \\frac{\\lambda}{2}(\\sqrt{\\det(C)}-1)^2\n",
    "\\end{align}"
   ]
  },
  {
   "cell_type": "code",
   "execution_count": 3,
   "metadata": {},
   "outputs": [],
   "source": [
    "E, nu = 210, 0.2\n",
    "mu  = E / 2 / (1+nu)\n",
    "lam = E * nu / ((1+nu)*(1-2*nu))\n",
    "\n",
    "def C(u):\n",
    "    F = Id(2) + Grad(u)\n",
    "    return F.trans * F\n",
    "\n",
    "def Hooke(u):\n",
    "    E = Sym(Grad(u))\n",
    "    return mu*InnerProduct(E,E) + lam/2*Trace(E)**2\n",
    "\n",
    "def StVenantKirchhoff(u):\n",
    "    E = 0.5*(C(u)-Id(2))\n",
    "    return mu*InnerProduct(E,E) + lam/2*Trace(E)**2\n",
    "\n",
    "def NeoHooke(u):\n",
    "    #return mu/2*(Trace(C(u)-Id(2))- log(Det(C(u)))) + lam/8*(log(Det(C(u))))**2\n",
    "    return mu/2*(Trace(C(u)-Id(2))- log(Det(C(u)))) + lam/2*(Det(Id(2)+Grad(u))-1)**2"
   ]
  },
  {
   "cell_type": "markdown",
   "metadata": {},
   "source": [
    "Energy minimization formulation\n",
    "$$\\mathcal{W}(u) = \\int_{\\Omega} W(C(u)) - f u\\,dx \\to\\min!$$"
   ]
  },
  {
   "cell_type": "code",
   "execution_count": 4,
   "metadata": {},
   "outputs": [],
   "source": [
    "factor = Parameter(0)\n",
    "force = CF( (0,factor) )\n",
    "\n",
    "fes = VectorH1(mesh, order=3, dirichlet=\"left\")\n",
    "u  = fes.TrialFunction()\n",
    "\n",
    "aNH = BilinearForm(fes, symmetric=True)\n",
    "aNH += Variation(NeoHooke(u).Compile()*dx)\n",
    "aNH += Variation((-force*u).Compile()*dx)\n",
    "\n",
    "gfuNH = GridFunction(fes)"
   ]
  },
  {
   "cell_type": "markdown",
   "metadata": {},
   "source": [
    "a simple Newton solver, using automatic differentiation for residual and tangential stiffness:"
   ]
  },
  {
   "cell_type": "code",
   "execution_count": 5,
   "metadata": {},
   "outputs": [],
   "source": [
    "def SolveNewton():\n",
    "    res = gfuNH.vec.CreateVector()\n",
    "    \n",
    "    for it in range(10):\n",
    "        print (\"it\", it, \"energy = \", aNH.Energy(gfuNH.vec))\n",
    "        aNH.Apply(gfuNH.vec, res)\n",
    "        aNH.AssembleLinearization(gfuNH.vec)\n",
    "        inv = aNH.mat.Inverse(fes.FreeDofs(), inverse=\"sparsecholesky\" ) \n",
    "        gfuNH.vec.data -= inv*res"
   ]
  },
  {
   "cell_type": "code",
   "execution_count": 6,
   "metadata": {},
   "outputs": [
    {
     "name": "stdout",
     "output_type": "stream",
     "text": [
      "it 0 energy =  0.0\n",
      "it 1 energy =  0.06480141734179994\n",
      "it 2 energy =  -0.0021435227242957724\n",
      "it 3 energy =  -0.0021708981748938517\n",
      "it 4 energy =  -0.0021709019127899615\n",
      "it 5 energy =  -0.002170901912876264\n",
      "it 6 energy =  -0.0021709019128762406\n",
      "it 7 energy =  -0.0021709019128762354\n",
      "it 8 energy =  -0.002170901912876221\n",
      "it 9 energy =  -0.0021709019128762375\n"
     ]
    },
    {
     "data": {
      "application/vnd.jupyter.widget-view+json": {
       "model_id": "02fee558890b4b7f988d051404396a4b",
       "version_major": 2,
       "version_minor": 0
      },
      "text/plain": [
       "WebGuiWidget(layout=Layout(height='50vh', width='100%'), value={'gui_settings': {}, 'ngsolve_version': '6.2.22…"
      ]
     },
     "metadata": {},
     "output_type": "display_data"
    }
   ],
   "source": [
    "factor.Set(0.4)\n",
    "SolveNewton()\n",
    "scene = Draw (C(gfuNH)[0,0], mesh, deformation=gfuNH)"
   ]
  },
  {
   "cell_type": "code",
   "execution_count": 12,
   "metadata": {},
   "outputs": [
    {
     "name": "stdout",
     "output_type": "stream",
     "text": [
      "Newton iteration  0\n",
      "err =  0.010077704137454057\n",
      "Newton iteration  1\n",
      "err =  0.0003945133896852711\n",
      "Newton iteration  2\n",
      "err =  6.746492908325972e-07\n",
      "Newton iteration  3\n",
      "err =  2.8677800397136756e-12\n"
     ]
    }
   ],
   "source": [
    "factor.Set(factor.Get()+0.4)\n",
    "solvers.Newton(aNH,gfuNH, inverse=\"sparsecholesky\")\n",
    "scene.Redraw()"
   ]
  },
  {
   "cell_type": "markdown",
   "metadata": {},
   "source": [
    "## Compare linear Hooke, St. Venant-Kirchhoff and Neo-Hooke"
   ]
  },
  {
   "cell_type": "code",
   "execution_count": 7,
   "metadata": {},
   "outputs": [],
   "source": [
    "def Solve(mesh, order=2):\n",
    "    fes = VectorH1(mesh, order=order, dirichlet=\"left\")\n",
    "    u,v = fes.TnT()\n",
    "\n",
    "    a = BilinearForm(fes, symmetric=True)\n",
    "    a += Variation( Hooke(u)*dx-force*u*dx)\n",
    "\n",
    "    gfu = GridFunction(fes)\n",
    "    \n",
    "    r = gfu.vec.CreateVector()\n",
    "    a.Apply(gfu.vec, r)\n",
    "    a.AssembleLinearization(gfu.vec)\n",
    "\n",
    "    gfu.vec.data -= a.mat.Inverse(fes.FreeDofs(), inverse=\"sparsecholesky\")*r\n",
    "    return gfu"
   ]
  },
  {
   "cell_type": "code",
   "execution_count": 8,
   "metadata": {},
   "outputs": [
    {
     "data": {
      "application/vnd.jupyter.widget-view+json": {
       "model_id": "7efb46fbf1b642908985075b47758421",
       "version_major": 2,
       "version_minor": 0
      },
      "text/plain": [
       "WebGuiWidget(layout=Layout(height='50vh', width='100%'), value={'gui_settings': {}, 'ngsolve_version': '6.2.22…"
      ]
     },
     "metadata": {},
     "output_type": "display_data"
    },
    {
     "data": {
      "text/plain": [
       "BaseWebGuiScene"
      ]
     },
     "execution_count": 8,
     "metadata": {},
     "output_type": "execute_result"
    }
   ],
   "source": [
    "factor.Set(8)\n",
    "gfu = Solve(mesh)\n",
    "Draw(Det(Id(2)+Grad(gfu)), mesh, deformation=gfu)"
   ]
  },
  {
   "cell_type": "code",
   "execution_count": 9,
   "metadata": {},
   "outputs": [
    {
     "data": {
      "application/vnd.jupyter.widget-view+json": {
       "model_id": "d90406a2491249c3bcd1b2b24a9655a0",
       "version_major": 2,
       "version_minor": 0
      },
      "text/plain": [
       "WebGuiWidget(layout=Layout(height='50vh', width='100%'), value={'gui_settings': {}, 'ngsolve_version': '6.2.22…"
      ]
     },
     "metadata": {},
     "output_type": "display_data"
    }
   ],
   "source": [
    "aVK = BilinearForm(fes, symmetric=True)\n",
    "aVK += Variation((StVenantKirchhoff(u)-force*u).Compile()*dx)\n",
    "\n",
    "gfuVK = GridFunction(fes)\n",
    "\n",
    "scene = Draw (Det(Id(2)+Grad(gfuVK)), mesh, deformation=gfuVK)"
   ]
  },
  {
   "cell_type": "code",
   "execution_count": 10,
   "metadata": {},
   "outputs": [
    {
     "name": "stdout",
     "output_type": "stream",
     "text": [
      "loadstep =  0.5\n",
      "loadstep =  1.0\n",
      "loadstep =  1.5\n",
      "loadstep =  2.0\n",
      "loadstep =  2.5\n",
      "loadstep =  3.0\n",
      "loadstep =  3.5\n",
      "loadstep =  4.0\n",
      "Warning: Newton might not converge! Error =  0.5258501892051525\n"
     ]
    }
   ],
   "source": [
    "numsteps=10\n",
    "with TaskManager():\n",
    "    for i in range(numsteps):\n",
    "        factor.Set(5*(i+1)/numsteps)\n",
    "        print(\"loadstep = \", 5*(i+1)/numsteps)\n",
    "        (result,it) = solvers.Newton(aVK, gfuVK, maxerr=1e-9, printing=False, maxit=50, inverse=\"sparsecholesky\")\n",
    "        if result == 0:\n",
    "            scene.Redraw()\n",
    "        else:\n",
    "            break"
   ]
  },
  {
   "cell_type": "code",
   "execution_count": 11,
   "metadata": {},
   "outputs": [
    {
     "data": {
      "application/vnd.jupyter.widget-view+json": {
       "model_id": "65072ef497ab40a98099278247d0ff99",
       "version_major": 2,
       "version_minor": 0
      },
      "text/plain": [
       "WebGuiWidget(layout=Layout(height='50vh', width='100%'), value={'gui_settings': {}, 'ngsolve_version': '6.2.22…"
      ]
     },
     "metadata": {},
     "output_type": "display_data"
    },
    {
     "name": "stdout",
     "output_type": "stream",
     "text": [
      "loadstep =  1.0\n",
      "loadstep =  2.0\n",
      "loadstep =  3.0\n",
      "loadstep =  4.0\n",
      "loadstep =  5.0\n",
      "loadstep =  6.0\n",
      "loadstep =  7.0\n",
      "loadstep =  8.0\n",
      "loadstep =  9.0\n",
      "loadstep =  10.0\n"
     ]
    }
   ],
   "source": [
    "gfuNH.vec[:] = 0\n",
    "scene = Draw (Det(Id(2)+Grad(gfuNH)), mesh, deformation=gfuNH)\n",
    "numsteps=10\n",
    "with TaskManager():\n",
    "    for i in range(numsteps):\n",
    "        factor.Set(10*(i+1)/numsteps)\n",
    "        print(\"loadstep = \", 10*(i+1)/numsteps)\n",
    "        (result,it) = solvers.Newton(aNH, gfuNH, maxerr=1e-9, printing=False, maxit=30, inverse=\"sparsecholesky\")\n",
    "        if result == 0:\n",
    "            scene.Redraw()\n",
    "        else:\n",
    "            break"
   ]
  },
  {
   "cell_type": "code",
   "execution_count": null,
   "metadata": {},
   "outputs": [],
   "source": []
  }
 ],
 "metadata": {
  "kernelspec": {
   "display_name": "Python 3 (ipykernel)",
   "language": "python",
   "name": "python3"
  },
  "language_info": {
   "codemirror_mode": {
    "name": "ipython",
    "version": 3
   },
   "file_extension": ".py",
   "mimetype": "text/x-python",
   "name": "python",
   "nbconvert_exporter": "python",
   "pygments_lexer": "ipython3",
   "version": "3.10.6"
  }
 },
 "nbformat": 4,
 "nbformat_minor": 4
}

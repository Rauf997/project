{
 "cells": [
  {
   "cell_type": "markdown",
   "metadata": {},
   "source": [
    "Linear Elasticity\n",
    "==="
   ]
  },
  {
   "cell_type": "code",
   "execution_count": 1,
   "metadata": {},
   "outputs": [
    {
     "name": "stdout",
     "output_type": "stream",
     "text": [
      "importing NGSolve-6.2.2204\n"
     ]
    }
   ],
   "source": [
    "from netgen.occ import *\n",
    "from ngsolve import *\n",
    "from ngsolve.webgui import Draw"
   ]
  },
  {
   "cell_type": "markdown",
   "metadata": {},
   "source": [
    "A rectangular mesh:"
   ]
  },
  {
   "cell_type": "code",
   "execution_count": 2,
   "metadata": {},
   "outputs": [
    {
     "data": {
      "application/vnd.jupyter.widget-view+json": {
       "model_id": "34bde8ce03104f1284feae2e45f49a1e",
       "version_major": 2,
       "version_minor": 0
      },
      "text/plain": [
       "WebGuiWidget(layout=Layout(height='50vh', width='100%'), value={'gui_settings': {}, 'ngsolve_version': '6.2.22…"
      ]
     },
     "metadata": {},
     "output_type": "display_data"
    }
   ],
   "source": [
    "def GenerateMesh(t=0.1):\n",
    "    bar = MoveTo(0,-t/2).Rectangle(1,t).Face()\n",
    "    bar.edges.Min(X).name=\"left\"\n",
    "    bar.edges.Max(X).name=\"right\"\n",
    "    bar.edges.Min(X).maxh=t/6\n",
    "    mesh = Mesh(OCCGeometry(bar, dim=2).GenerateMesh(maxh=t/3))\n",
    "    return mesh\n",
    "mesh = GenerateMesh()\n",
    "Draw(mesh);"
   ]
  },
  {
   "cell_type": "code",
   "execution_count": 3,
   "metadata": {},
   "outputs": [],
   "source": [
    "force = CF( (0,0.1) )\n",
    "\n",
    "E = 100    # Young modulus \n",
    "nu = 0.2   # Poisson ration (Querkontraktionszahl)\n",
    "# Lame parameters\n",
    "mu  = E / 2 / (1+nu)\n",
    "lam = E * nu / ((1+nu)*(1-2*nu))\n",
    "\n",
    "def Hooke(eps):\n",
    "    return 2*mu*eps + lam*Trace(eps)*Id(2)"
   ]
  },
  {
   "cell_type": "markdown",
   "metadata": {},
   "source": [
    "$$ \\int_{\\Omega}\\mathbb{C}\\varepsilon(u):\\varepsilon(v)\\,dx = \\int_{\\Omega}f\\cdot v\\,dx + \\int_{\\Gamma_N} g\\cdot v\\,ds $$"
   ]
  },
  {
   "cell_type": "code",
   "execution_count": 4,
   "metadata": {},
   "outputs": [],
   "source": [
    "def Solve(mesh, order=2):\n",
    "    fes = VectorH1(mesh, order=order, dirichlet=\"right\")\n",
    "    u,v = fes.TnT()\n",
    "\n",
    "    a = BilinearForm(fes, symmetric=True)\n",
    "    a += InnerProduct(Hooke(Sym(Grad(u))),Sym(Grad(v)))*dx\n",
    "    #a += 2*mu*InnerProduct(Sym(Grad(u)),Sym(Grad(v)))+lam*div(u)*div(v)*dx\n",
    "\n",
    "    f = LinearForm(fes)\n",
    "    f += force*v*ds(\"left\") # shear force at right boundary\n",
    "    # f += force*v*dx\n",
    "\n",
    "    gfu = GridFunction(fes)\n",
    "    a.Assemble()\n",
    "    f.Assemble()\n",
    "\n",
    "    gfu.vec.data = a.mat.Inverse(fes.FreeDofs(), inverse=\"sparsecholesky\")*f.vec\n",
    "    return gfu"
   ]
  },
  {
   "cell_type": "code",
   "execution_count": 5,
   "metadata": {},
   "outputs": [
    {
     "data": {
      "application/vnd.jupyter.widget-view+json": {
       "model_id": "c377bef7191046a0a9ac17e6eff52fd6",
       "version_major": 2,
       "version_minor": 0
      },
      "text/plain": [
       "WebGuiWidget(layout=Layout(height='50vh', width='100%'), value={'gui_settings': {}, 'ngsolve_version': '6.2.22…"
      ]
     },
     "metadata": {},
     "output_type": "display_data"
    },
    {
     "data": {
      "text/plain": [
       "BaseWebGuiScene"
      ]
     },
     "execution_count": 5,
     "metadata": {},
     "output_type": "execute_result"
    }
   ],
   "source": [
    "mesh = GenerateMesh()\n",
    "gfu = Solve(mesh)\n",
    "Draw (Sym(Grad(gfu))[0,0], mesh, deformation=gfu)"
   ]
  },
  {
   "cell_type": "code",
   "execution_count": null,
   "metadata": {},
   "outputs": [],
   "source": []
  }
 ],
 "metadata": {
  "kernelspec": {
   "display_name": "Python 3 (ipykernel)",
   "language": "python",
   "name": "python3"
  },
  "language_info": {
   "codemirror_mode": {
    "name": "ipython",
    "version": 3
   },
   "file_extension": ".py",
   "mimetype": "text/x-python",
   "name": "python",
   "nbconvert_exporter": "python",
   "pygments_lexer": "ipython3",
   "version": "3.10.6"
  }
 },
 "nbformat": 4,
 "nbformat_minor": 4
}

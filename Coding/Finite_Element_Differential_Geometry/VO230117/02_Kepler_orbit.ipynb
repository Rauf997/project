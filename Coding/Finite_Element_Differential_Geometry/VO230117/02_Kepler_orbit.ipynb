{
 "cells": [
  {
   "cell_type": "markdown",
   "id": "7886f22f",
   "metadata": {},
   "source": [
    "# Kepler orbits"
   ]
  },
  {
   "cell_type": "code",
   "execution_count": null,
   "id": "8281d471",
   "metadata": {},
   "outputs": [],
   "source": [
    "import numpy as np\n",
    "from scipy.integrate import solve_ivp\n",
    "import matplotlib.pyplot as plt\n",
    "from sympy import symbols, diff, Matrix\n",
    "import sympy as sp\n",
    "\n",
    "E = -0.6\n",
    "\n",
    "X,Y = symbols('x y')\n",
    "xvec = [X,Y]\n",
    "# generate metric from Kepler law\n",
    "G = 2*(E+1/sp.sqrt(X**2+Y**2))*Matrix(2,2, [1,0,0,1])\n",
    "\n",
    "Ginv = G.inv()\n",
    "chr1 = [0.5*(diff(G[k,j],xvec[i])+diff(G[i,k],xvec[j])-diff(G[i,j],xvec[k])) for i in range(2) for j in range(2) for k in range(2)]\n",
    "chr2 = [sum(Ginv[k,p]*chr1[4*i+2*j+p] for p in range(2)) for i in range(2) for j in range(2) for k in range(2)]\n",
    "\n",
    "\n",
    "# define right-hand side (s... time, v=[gamma^1,gamma^2,v^1,v^2])\n",
    "def rhs(s, v): \n",
    "    chr111 = chr2[4*0+2*0+0].subs(Y, v[1]).subs(X,v[0])\n",
    "    chr121 = chr2[4*0+2*1+0].subs(Y, v[1]).subs(X,v[0])\n",
    "    chr221 = chr2[4*1+2*1+0].subs(Y, v[1]).subs(X,v[0])\n",
    "    chr112 = chr2[4*0+2*0+1].subs(Y, v[1]).subs(X,v[0])\n",
    "    chr122 = chr2[4*0+2*1+1].subs(Y, v[1]).subs(X,v[0])\n",
    "    chr222 = chr2[4*1+2*1+1].subs(Y, v[1]).subs(X,v[0])\n",
    "    return [v[2],v[3],-v[2]**2*chr111-2*v[2]*v[3]*chr121-v[3]**2*chr221,-v[2]**2*chr112-2*v[2]*v[3]*chr122-v[3]**2*chr222]\n",
    "\n",
    "\n",
    "Tend = 20\n",
    "refval = solve_ivp(rhs, (0, Tend), [0.8,0,-0.4,0.5],t_eval=np.linspace(0, Tend,2000), method=\"DOP853\")\n",
    "plt.plot(refval.y.T[:,0],refval.y.T[:,1])\n",
    "plt.gca().add_patch(plt.Circle((0, 0), 0.1, color='r'))\n",
    "plt.axis('equal')\n",
    "plt.show()"
   ]
  },
  {
   "cell_type": "code",
   "execution_count": null,
   "id": "c3cb19a8",
   "metadata": {},
   "outputs": [],
   "source": [
    "from ngsolve import *\n",
    "from netgen.occ import *\n",
    "from ngsolve.webgui import Draw\n",
    "import numpy as np\n",
    "import matplotlib.pyplot as plt\n",
    "\n",
    "circ1 = Circle((0,0),0.2).Face()\n",
    "circ2 = Circle((0,0),1.5).Face()\n",
    "\n",
    "shape = circ2-circ1\n",
    "mesh = Mesh(OCCGeometry(shape,dim=2).GenerateMesh(maxh=0.2))\n",
    "Draw(mesh)\n",
    "r = sqrt(x**2+y**2)\n",
    "\n",
    "Gex = 2*(E+1/r)*Id(2)\n",
    "\n",
    "gfG = GridFunction(HCurlCurl(mesh,order=6))\n",
    "gfG.Set(Gex, dual=True)\n",
    "\n",
    "Draw(Norm(Gex), mesh)\n",
    "Draw(gfG.Operator(\"curvature\"),mesh, deformation=True)"
   ]
  },
  {
   "cell_type": "code",
   "execution_count": null,
   "id": "753565e9",
   "metadata": {},
   "outputs": [],
   "source": []
  }
 ],
 "metadata": {
  "kernelspec": {
   "display_name": "Python 3",
   "language": "python",
   "name": "python3"
  },
  "language_info": {
   "codemirror_mode": {
    "name": "ipython",
    "version": 3
   },
   "file_extension": ".py",
   "mimetype": "text/x-python",
   "name": "python",
   "nbconvert_exporter": "python",
   "pygments_lexer": "ipython3",
   "version": "3.10.8"
  }
 },
 "nbformat": 4,
 "nbformat_minor": 5
}

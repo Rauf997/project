{
 "cells": [
  {
   "cell_type": "markdown",
   "id": "304cbb2e",
   "metadata": {},
   "source": [
    "# Schwarzschild orbits\n",
    "Star mass $M$, particle mass $m$, and total energy $E\\leq m$\n",
    "\n",
    "\\begin{align}\n",
    "ds = \\big(E^2-m^2+\\frac{2Mm^2}{r}\\big)\\Big(\\frac{dr^2}{\\big(1-\\frac{2M}{r}\\big)^2}+ \\frac{r^2d\\Phi^2}{1-\\frac{2M}{r}}\\Big)\n",
    "\\end{align}\n",
    "\\begin{align}\n",
    "&dr=\\frac{1}{r}(dx+dy),\\qquad d\\Phi = -\\frac{y}{r^2}dx+\\frac{x}{r^2}dy\\\\\n",
    "&dr^2 = \\frac{1}{r^2}(dx^2+2dxdy+dy^2),\\qquad d\\Phi^2 = \\frac{1}{r^4}(y^2dx^2-2xydxdy+x^2dy^2)\n",
    "\\end{align}\n",
    "Thus, with $g:=E^2-m^2+\\frac{2Mm^2}{r}$ and $f:= \\big(1-\\frac{2M}{r}\\big)^{-1}$\n",
    "\\begin{align}\n",
    "ds = \\frac{fg}{r^2}\\Big( (f\\,x^2+y^2)\\,dx^2 + 2(f-1)xy\\,dxdy+(x^2+f\\,y^2)\\,dy^2 \\Big)\n",
    "\\end{align}"
   ]
  },
  {
   "cell_type": "code",
   "execution_count": null,
   "id": "00c1c1ef",
   "metadata": {},
   "outputs": [],
   "source": [
    "import numpy as np\n",
    "from scipy.integrate import solve_ivp\n",
    "import matplotlib.pyplot as plt\n",
    "from sympy import symbols, diff, Matrix, simplify\n",
    "import sympy as sp\n",
    "\n",
    "H = -1.5\n",
    "L = 0.5\n",
    "M = 0.0025\n",
    "m = 1/M**0.5\n",
    "E = (2*H+m**2)**0.5\n",
    "\n",
    "X,Y = symbols('x y')\n",
    "xvec = [X,Y]\n",
    "r = sp.sqrt(X**2+Y**2)\n",
    "g = E**2 - m**2 + 2 * M * m**2 / r\n",
    "f = 1 / (1 - 2 * M / r)\n",
    "G = simplify(f * g / r**2 * Matrix(2,2, [f * X**2 + Y**2, (f - 1) * X * Y,\n",
    "                        (f - 1) * X * Y, X**2 + f * Y**2]))\n",
    "\n",
    "\n",
    "Ginv = simplify(1/G.det()*G.adjugate())\n",
    "chr1 = [simplify(0.5*(diff(G[k,j],xvec[i])+diff(G[i,k],xvec[j])-diff(G[i,j],xvec[k]))) for i in range(2) for j in range(2) for k in range(2)]\n",
    "chr2 = [(sum(Ginv[k,p]*chr1[4*i+2*j+p] for p in range(2))) for i in range(2) for j in range(2) for k in range(2)]\n",
    "\n",
    "# define right-hand side (s... time, v=[gamma^1,gamma^2,v^1,v^2])\n",
    "def rhs(s, v): \n",
    "    chr111 = chr2[4*0+2*0+0].subs(Y, v[1]).subs(X,v[0])\n",
    "    chr121 = chr2[4*0+2*1+0].subs(Y, v[1]).subs(X,v[0])\n",
    "    chr221 = chr2[4*1+2*1+0].subs(Y, v[1]).subs(X,v[0])\n",
    "    chr112 = chr2[4*0+2*0+1].subs(Y, v[1]).subs(X,v[0])\n",
    "    chr122 = chr2[4*0+2*1+1].subs(Y, v[1]).subs(X,v[0])\n",
    "    chr222 = chr2[4*1+2*1+1].subs(Y, v[1]).subs(X,v[0])\n",
    "    return [v[2],v[3],-v[2]**2*chr111-2*v[2]*v[3]*chr121-v[3]**2*chr221,-v[2]**2*chr112-2*v[2]*v[3]*chr122-v[3]**2*chr222]\n",
    "\n",
    "\n",
    "Tend = 20\n",
    "refval = solve_ivp(rhs, (0, Tend), [0.5,0,-0.2,0.5],t_eval=np.linspace(0, Tend,400))#, method=\"DOP853\")\n",
    "plt.plot(refval.y.T[:,0],refval.y.T[:,1])\n",
    "plt.gca().add_patch(plt.Circle((0, 0), 0.05, color='r'))\n",
    "plt.axis('equal')\n",
    "plt.show()"
   ]
  },
  {
   "cell_type": "code",
   "execution_count": null,
   "id": "3d979878",
   "metadata": {},
   "outputs": [],
   "source": [
    "from ngsolve import *\n",
    "from netgen.occ import *\n",
    "from ngsolve.webgui import Draw\n",
    "import numpy as np\n",
    "import matplotlib.pyplot as plt\n",
    "from time import time\n",
    "\n",
    "\n",
    "H = -1.5\n",
    "L = 0.5\n",
    "M = 0.0025\n",
    "m = 1/M**0.5\n",
    "E = (2*H+m**2)**0.5\n",
    "r = sqrt(x**2+y**2)\n",
    "\n",
    "\n",
    "g = E**2 - m**2 + 2 * M * m**2 / r\n",
    "f = 1 / (1 - 2 * M / r)\n",
    "Gex = f * g / r**2 * CF((f * x**2 + y**2, (f - 1) * x * y,\n",
    "                        (f - 1) * x * y, x**2 + f * y**2),dims=(2,2))\n",
    "\n",
    "shape = Circle((0,0),0.8).Face()\n",
    "mesh = Mesh(OCCGeometry(shape,dim=2).GenerateMesh(maxh=0.1))\n",
    "Draw(Norm(Gex), mesh)"
   ]
  },
  {
   "cell_type": "code",
   "execution_count": null,
   "id": "69dca2a2",
   "metadata": {},
   "outputs": [],
   "source": []
  }
 ],
 "metadata": {
  "kernelspec": {
   "display_name": "Python 3",
   "language": "python",
   "name": "python3"
  },
  "language_info": {
   "codemirror_mode": {
    "name": "ipython",
    "version": 3
   },
   "file_extension": ".py",
   "mimetype": "text/x-python",
   "name": "python",
   "nbconvert_exporter": "python",
   "pygments_lexer": "ipython3",
   "version": "3.10.8"
  }
 },
 "nbformat": 4,
 "nbformat_minor": 5
}

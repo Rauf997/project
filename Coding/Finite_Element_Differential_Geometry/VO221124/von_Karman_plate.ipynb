{
 "cells": [
  {
   "cell_type": "markdown",
   "metadata": {},
   "source": [
    "# von Karman plate equation\n",
    "\n",
    "\\begin{align}\n",
    "\\Delta^2 w &= [w,F]-p\\Delta w + f\\\\\n",
    "\\Delta^2 F &=-\\frac12[w,w]+g\n",
    "\\end{align}\n",
    "with $[u,v]:=u_{xx}v_{yy}+u_{yy}v_{xx}-2u_{xy}v_{xy} = \\mathrm{cof}(\\nabla^2 u):\\nabla^2v$.\n",
    "\n",
    "Weak form\n",
    "\\begin{align}\n",
    "\\int_{\\Omega}\\nabla^2 w:\\nabla^2\\delta w\\,dx&= \\int_{\\Omega}[w,F]\\delta w+p\\nabla w\\cdot\\nabla\\delta w + f\\delta w\\,dx\\\\\n",
    "\\int_{\\Omega}\\nabla^2 F:\\nabla^2 \\delta F\\,dx &=\\int_{\\Omega}-\\frac12[w,w]\\delta F+g\\delta F\\,dx\n",
    "\\end{align}\n",
    "\n",
    "Mixed form, $\\sigma:=\\nabla^2 w$, $\\tau:=\\nabla^2F$\n",
    "\\begin{align}\n",
    "\\int_{\\Omega}\\sigma:\\delta\\sigma\\,dx + \\langle \\mathrm{div}(\\delta\\sigma),\\nabla w\\rangle&= 0\\\\\n",
    "\\langle\\mathrm{div}(\\sigma):\\nabla\\delta w\\rangle&= -\\int_{\\Omega}\\mathrm{cof}(\\sigma):\\tau\\,\\delta w+p\\nabla w\\cdot\\nabla\\delta w + f\\delta w\\,dx\\\\\n",
    "\\langle\\mathrm{div}(\\tau),\\nabla \\delta F\\rangle &=\\int_{\\Omega}\\frac12\\mathrm{cof}(\\sigma):\\sigma\\,\\delta F-g\\delta F\\,dx\\\\\n",
    "\\int_{\\Omega}\\tau:\\delta\\tau\\,dx + \\langle \\mathrm{div}(\\delta\\tau),\\nabla F\\rangle &=0\n",
    "\\end{align}\n"
   ]
  },
  {
   "cell_type": "code",
   "execution_count": 1,
   "metadata": {},
   "outputs": [],
   "source": [
    "from ngsolve import *\n",
    "from ngsolve.webgui import Draw\n",
    "from netgen.occ import *"
   ]
  },
  {
   "cell_type": "code",
   "execution_count": 2,
   "metadata": {},
   "outputs": [],
   "source": [
    "def SolveKarman(mesh, force, p, dirichlet, g=CF(0), order=3):\n",
    "    Q = H1(mesh, order=order, dirichlet=dirichlet)\n",
    "    V = HDivDiv(mesh, order=order-1)\n",
    "    X = Q*Q*V*V\n",
    "    (w,F,sigma,tau), (dw,dF,dsigma,dtau) = X.TnT()\n",
    "\n",
    "    n = specialcf.normal(2)\n",
    "\n",
    "    def tang(u): return u-(u*n)*n\n",
    "\n",
    "    B = BilinearForm(X, symmetric=True)\n",
    "    B += (InnerProduct (sigma, dsigma) + div(sigma)*grad(dw) \\\n",
    "          + div(dsigma)*grad(w) - 1e-10*w*dw )*dx \\\n",
    "          + (-(sigma*n) * tang(grad(dw)) - (dsigma*n)*tang(grad(w)))*dx(element_boundary=True)\n",
    "    B += (InnerProduct (tau, dtau) + div(tau)*grad(dF) \\\n",
    "          + div(dtau)*grad(F) - 1e-10*F*dF )*dx \\\n",
    "          + (-(tau*n) * tang(grad(dF)) - (dtau*n)*tang(grad(F)))*dx(element_boundary=True)\n",
    "    B += (p*Grad(w)*Grad(dw)+InnerProduct(Cof(sigma),tau)*dw-0.5*InnerProduct(Cof(sigma),sigma)*dF + \n",
    "          force*dw + g*dF)*dx\n",
    "\n",
    "    gfsol = GridFunction(X)\n",
    "\n",
    "    solvers.Newton(B,gfsol,inverse=\"sparsecholesky\")\n",
    "    \n",
    "    return gfsol"
   ]
  },
  {
   "cell_type": "markdown",
   "metadata": {},
   "source": [
    "## Example with known solution\n",
    "Adapt second equation to $\\Delta^2 F =-\\frac12[w,w]+g$ for generating right-hand side.\n",
    "\n",
    "$w=x^2(1 − x)^2y^2(1 − y)^2$, $F=\\sin(\\pi x)^2\\sin(\\pi y)^2$"
   ]
  },
  {
   "cell_type": "code",
   "execution_count": 3,
   "metadata": {},
   "outputs": [
    {
     "name": "stdout",
     "output_type": "stream",
     "text": [
      "Newton iteration  0\n",
      "err =  14.959454708365923\n",
      "Newton iteration  1\n",
      "err =  0.7924593739928854\n",
      "Newton iteration  2\n",
      "err =  0.14784946576077718\n",
      "Newton iteration  3\n",
      "err =  0.024732782741293945\n",
      "Newton iteration  4\n",
      "err =  0.003929593285029371\n",
      "Newton iteration  5\n",
      "err =  0.0006140118016371888\n",
      "Newton iteration  6\n",
      "err =  9.5514590457965e-05\n",
      "Newton iteration  7\n",
      "err =  1.4842182480773427e-05\n",
      "Newton iteration  8\n",
      "err =  2.305797916104826e-06\n",
      "Newton iteration  9\n",
      "err =  3.58197258209426e-07\n",
      "Newton iteration  10\n",
      "err =  5.564403899485182e-08\n",
      "Newton iteration  11\n",
      "err =  8.643984396959871e-09\n",
      "Newton iteration  12\n",
      "err =  1.3427929087409883e-09\n",
      "Newton iteration  13\n",
      "err =  2.0859659311552407e-10\n",
      "Newton iteration  14\n",
      "err =  3.240529859951347e-11\n",
      "Newton iteration  15\n",
      "err =  5.033291895153501e-12\n"
     ]
    },
    {
     "data": {
      "application/vnd.jupyter.widget-view+json": {
       "model_id": "d7cf1d83c79f48bc94fbc1018735b8ad",
       "version_major": 2,
       "version_minor": 0
      },
      "text/plain": [
       "WebGuiWidget(layout=Layout(height='50vh', width='100%'), value={'gui_settings': {}, 'ngsolve_version': '6.2.23…"
      ]
     },
     "metadata": {},
     "output_type": "display_data"
    },
    {
     "data": {
      "application/vnd.jupyter.widget-view+json": {
       "model_id": "dd906946d59e47fbb95773abfa966810",
       "version_major": 2,
       "version_minor": 0
      },
      "text/plain": [
       "WebGuiWidget(layout=Layout(height='50vh', width='100%'), value={'gui_settings': {}, 'ngsolve_version': '6.2.23…"
      ]
     },
     "metadata": {},
     "output_type": "display_data"
    },
    {
     "name": "stdout",
     "output_type": "stream",
     "text": [
      "errw =  0.0722836763352815 , errF =  0.17778891866393715\n"
     ]
    }
   ],
   "source": [
    "rect = Rectangle(1,1).Face()\n",
    "mesh = Mesh(OCCGeometry(rect,dim=2).GenerateMesh(maxh=0.05))\n",
    "\n",
    "wex = 100*x**2*(1-x)**2*y**2*(1-y)**2\n",
    "Fex =sin(pi*x)**2*sin(pi*y)**2\n",
    "\n",
    "p=0\n",
    "gradwex = CF( (wex.Diff(x),wex.Diff(y)) )\n",
    "hessewex = CF( (wex.Diff(x).Diff(x),wex.Diff(x).Diff(y),\n",
    "                wex.Diff(y).Diff(x),wex.Diff(y).Diff(y)), dims=(2,2) )\n",
    "\n",
    "gradFex = CF( (Fex.Diff(x),Fex.Diff(y)) )\n",
    "hesseFex = CF( (Fex.Diff(x).Diff(x),Fex.Diff(x).Diff(y),\n",
    "                Fex.Diff(y).Diff(x),Fex.Diff(y).Diff(y)), dims=(2,2) )\n",
    "bilaplacewex = wex.Diff(x).Diff(x).Diff(x).Diff(x)+2*wex.Diff(x).Diff(x).Diff(y).Diff(y)+ \\\n",
    "               wex.Diff(y).Diff(y).Diff(y).Diff(y)\n",
    "bilaplaceFex = Fex.Diff(x).Diff(x).Diff(x).Diff(x)+2*Fex.Diff(x).Diff(x).Diff(y).Diff(y)+ \\\n",
    "                Fex.Diff(y).Diff(y).Diff(y).Diff(y)\n",
    "\n",
    "g = bilaplaceFex + 0.5*InnerProduct(Cof(hessewex),hessewex)\n",
    "f = bilaplacewex - InnerProduct(Cof(hessewex),hesseFex) + p*Trace(hessewex)\n",
    "\n",
    "\n",
    "with TaskManager():\n",
    "    gfsol = SolveKarman(mesh, p=p, force=f, g=g, dirichlet=\".*\", order=1)\n",
    "    \n",
    "gfw,gfF,gfsigma,gftau = gfsol.components\n",
    "Draw(gfw, mesh, name=\"u\", deformation=True)\n",
    "Draw(gfF, mesh, name=\"v\", deformation=True)\n",
    "# Draw(wex, mesh, deformation=True)\n",
    "# Draw(Fex, mesh, deformation=True)\n",
    "# Draw(mesh)\n",
    "\n",
    "errw = sqrt(Integrate((gfw-wex)**2+(Grad(gfw)-gradwex)**2,mesh))\n",
    "errF = sqrt(Integrate((gfF-Fex)**2+(Grad(gfF)-gradFex)**2,mesh))\n",
    "\n",
    "print(\"errw = \", errw, \", errF = \", errF)"
   ]
  },
  {
   "cell_type": "code",
   "execution_count": 4,
   "metadata": {},
   "outputs": [
    {
     "data": {
      "application/vnd.jupyter.widget-view+json": {
       "model_id": "02e09582653a445fbc68b25dbaec6997",
       "version_major": 2,
       "version_minor": 0
      },
      "text/plain": [
       "WebGuiWidget(layout=Layout(height='50vh', width='100%'), value={'gui_settings': {}, 'ngsolve_version': '6.2.23…"
      ]
     },
     "metadata": {},
     "output_type": "display_data"
    },
    {
     "data": {
      "text/plain": [
       "BaseWebGuiScene"
      ]
     },
     "execution_count": 4,
     "metadata": {},
     "output_type": "execute_result"
    }
   ],
   "source": [
    "rect = Rectangle(1,1).Face()\n",
    "mesh = Mesh(OCCGeometry(rect,dim=2).GenerateMesh(maxh=0.05))\n",
    "Draw(mesh)"
   ]
  },
  {
   "cell_type": "code",
   "execution_count": null,
   "metadata": {},
   "outputs": [],
   "source": []
  },
  {
   "cell_type": "code",
   "execution_count": null,
   "metadata": {},
   "outputs": [],
   "source": []
  }
 ],
 "metadata": {
  "kernelspec": {
   "display_name": "Python 3 (ipykernel)",
   "language": "python",
   "name": "python3"
  },
  "language_info": {
   "codemirror_mode": {
    "name": "ipython",
    "version": 3
   },
   "file_extension": ".py",
   "mimetype": "text/x-python",
   "name": "python",
   "nbconvert_exporter": "python",
   "pygments_lexer": "ipython3",
   "version": "3.8.10"
  }
 },
 "nbformat": 4,
 "nbformat_minor": 4
}

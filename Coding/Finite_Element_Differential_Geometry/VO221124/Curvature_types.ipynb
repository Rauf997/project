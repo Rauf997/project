{
 "cells": [
  {
   "cell_type": "markdown",
   "metadata": {},
   "source": [
    "# Curvature: types of curvature\n"
   ]
  },
  {
   "cell_type": "markdown",
   "metadata": {},
   "source": [
    "## Gauss and mean curvature\n",
    "The Weingartentensor $\\nabla_{\\mathcal{S}} \\nu\\in \\mathbb{R}^{3\\times 3}$ is symmetric and has always zero as one eigenvalue with $\\nu$ the corresponding eigenvector as from $\\|\\nu\\|=1$ we get $(\\nabla_{\\mathcal{S}} \\nu)\\nu=0$. The other two eigenvalues $\\kappa_1$ and $\\kappa_2$ are the two principal curvatures of the surface and the Gauss and mean curvatures are given by the product and mean of them, or equivalently as the determinant and trace of the Weingartentensor (interpreted as $2\\times2$ matrix)\n",
    "\\begin{align}\n",
    "K_g &= \\kappa_1\\kappa_2 = \\det(\\nabla_{\\mathcal{S}} \\nu)\\\\\n",
    "K_m &= 0.5(\\kappa_1+\\kappa_2)=0.5\\,\\mathrm{tr}(\\nabla_{\\mathcal{S}} \\nu)\n",
    "\\end{align}\n",
    "\n",
    "Let's investigate the curvatures of different types of surfaces."
   ]
  },
  {
   "cell_type": "code",
   "execution_count": null,
   "metadata": {
    "scrolled": true
   },
   "outputs": [],
   "source": [
    "from ngsolve import *\n",
    "from netgen.meshing import MeshingStep\n",
    "from netgen.csg import *\n",
    "from netgen import meshing\n",
    "from ngsolve.webgui import Draw\n",
    "#import netgen.gui\n",
    "\n",
    "order=4\n",
    "\n",
    "def ComputeCurvature(mesh, ev=False):\n",
    "    nsurf = specialcf.normal(3)\n",
    "\n",
    "    mean_curvature = 0.5*Trace(Grad(nsurf))\n",
    "    gauss_curvature = Cof(Grad(nsurf))*nsurf*nsurf\n",
    "\n",
    "    kappa1 = mean_curvature+sqrt(mean_curvature**2-gauss_curvature)\n",
    "    kappa2 = mean_curvature-sqrt(mean_curvature**2-gauss_curvature)\n",
    "\n",
    "    print(\"Gauss curvature\")\n",
    "    Draw(gauss_curvature, mesh,\"gauss\")\n",
    "    print(\"Mean curvature\")\n",
    "    Draw(mean_curvature, mesh, \"mean\")\n",
    "    print(\"first principal curvature\")\n",
    "    Draw(kappa1, mesh, \"kappa1\")\n",
    "    print(\"second principal curvature\")\n",
    "    Draw(kappa2, mesh, \"kappa2\")\n",
    "\n",
    "    if ev:\n",
    "        eigs = Grad(nsurf).Eig()\n",
    "        ev1 = CF( (eigs[0], eigs[1], eigs[2]) )\n",
    "        ev2 = CF( (eigs[3], eigs[4], eigs[5]) )\n",
    "        ev3 = CF( (eigs[6], eigs[7], eigs[8]) )\n",
    "        v1 = IfPos(Norm(eigs[9]-kappa1)-1e-3,IfPos(Norm(eigs[10]-kappa1)-1e-3,ev3,ev2),ev1)\n",
    "        v2 = IfPos(Norm(eigs[9]-kappa2)-1e-3,IfPos(Norm(eigs[10]-kappa2)-1e-3,ev3,ev2),ev1)\n",
    "\n",
    "        Draw(v1, mesh, \"v1\")\n",
    "        Draw(v2, mesh, \"v2\")\n",
    "    return"
   ]
  },
  {
   "cell_type": "markdown",
   "metadata": {},
   "source": [
    "For the sphere the principal curvatures are reciproce to the radius $r$ and thus\n",
    "\\begin{align}\n",
    "\\kappa_i = \\frac{1}{r},\\qquad K_g=\\frac{1}{r^2},\\qquad K_m=\\frac{1}{r}.\n",
    "\\end{align}\n",
    "The sphere is called an elliptic surface as the Gauss curvature is positive."
   ]
  },
  {
   "cell_type": "code",
   "execution_count": null,
   "metadata": {},
   "outputs": [],
   "source": [
    "geo = CSGeometry()\n",
    "geo.Add(Sphere(Pnt(0,0,0),3))\n",
    "mesh = Mesh(geo.GenerateMesh(maxh=1, perfstepsend=meshing.MeshingStep.MESHSURFACE)).Curve(order)\n",
    "\n",
    "ComputeCurvature(mesh)"
   ]
  },
  {
   "cell_type": "markdown",
   "metadata": {},
   "source": [
    "For the cylinder one of the principal curvatures is zero and the other reciproce to the radius $r$ and thus\n",
    "\\begin{align}\n",
    "\\kappa_1 = \\frac{1}{r},\\quad \\kappa_2=0,\\qquad K_g=0,\\qquad K_m=\\frac{1}{2r}.\n",
    "\\end{align}\n",
    "The cylinder is of parabolic type as the Gauss curvature is zero."
   ]
  },
  {
   "cell_type": "code",
   "execution_count": null,
   "metadata": {},
   "outputs": [],
   "source": [
    "geo       = CSGeometry()\n",
    "cyl       = Cylinder(Pnt(0,0,0), Pnt(1,0,0), 2)\n",
    "right     = Plane( Pnt(3,0,0), Vec(1,0,0))\n",
    "left      = Plane(Pnt(0,0,0), Vec(-1,0,0))\n",
    "finitecyl = cyl * left * right\n",
    "geo.AddSurface(cyl, finitecyl)\n",
    "mesh = Mesh(geo.GenerateMesh(maxh=1)).Curve(order)\n",
    "\n",
    "ComputeCurvature(mesh)"
   ]
  },
  {
   "cell_type": "markdown",
   "metadata": {},
   "source": [
    "An hyperbolic structure has negative Gauss curvature as one principal curvature is negative and the other positive."
   ]
  },
  {
   "cell_type": "code",
   "execution_count": null,
   "metadata": {},
   "outputs": [],
   "source": [
    "R = 1\n",
    "\n",
    "mapping = lambda x,y,z : ( R*cos(pi*x-pi/2)*cosh(2*y-1), \\\n",
    "                          R*sinh(2*y-1), R*sin(-pi*x+pi/2)*cosh(2*y-1) )        \n",
    "mesh = Mesh(meshing.SurfaceGeometry(mapping).GenerateMesh(quads=False,nx=8,ny=8)).Curve(order)\n",
    "        \n",
    "ComputeCurvature(mesh, ev=False)"
   ]
  },
  {
   "cell_type": "markdown",
   "metadata": {},
   "source": [
    "Pseudosphere (Tractricoid) $K=-1$, $H=0.5(\\sinh(u)-\\mathrm{csch}(u))$"
   ]
  },
  {
   "cell_type": "code",
   "execution_count": null,
   "metadata": {},
   "outputs": [],
   "source": [
    "gu = lambda u : log(tan(u/2))+cos(u)\n",
    "mapping = lambda x,y,z : ( sin(pi/9/2+x*pi/9)*cos(y*2*pi), sin(pi/9/2+x*pi/9)*sin(y*2*pi), gu(pi/9/2+x*pi/9) )\n",
    "mesh = Mesh(meshing.SurfaceGeometry(mapping).GenerateMesh(quads=False,nx=6,ny=8)).Curve(order)\n",
    "        \n",
    "ComputeCurvature(mesh, ev=False)"
   ]
  },
  {
   "cell_type": "markdown",
   "metadata": {},
   "source": [
    "Katenoid: $\\kappa_1=-\\frac{1}{\\cosh^2u}$, $\\kappa_2=\\frac{1}{\\cosh^2u}$, $H=0$, $K<0$"
   ]
  },
  {
   "cell_type": "code",
   "execution_count": null,
   "metadata": {},
   "outputs": [],
   "source": [
    "mapping = lambda x,y,z : ( cosh(2*(x-0.5))*cos(y*2*pi), cosh(2*(x-0.5))*sin(y*2*pi), 2*(x-0.5) )\n",
    "mesh = Mesh(meshing.SurfaceGeometry(mapping).GenerateMesh(quads=False,nx=6,ny=6)).Curve(order)\n",
    "        \n",
    "ComputeCurvature(mesh, ev=False)"
   ]
  },
  {
   "cell_type": "code",
   "execution_count": null,
   "metadata": {},
   "outputs": [],
   "source": []
  }
 ],
 "metadata": {
  "kernelspec": {
   "display_name": "Python 3",
   "language": "python",
   "name": "python3"
  },
  "language_info": {
   "codemirror_mode": {
    "name": "ipython",
    "version": 3
   },
   "file_extension": ".py",
   "mimetype": "text/x-python",
   "name": "python",
   "nbconvert_exporter": "python",
   "pygments_lexer": "ipython3",
   "version": "3.10.6"
  }
 },
 "nbformat": 4,
 "nbformat_minor": 4
}

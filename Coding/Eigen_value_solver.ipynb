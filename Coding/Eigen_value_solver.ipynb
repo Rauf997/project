{
 "cells": [
  {
   "cell_type": "code",
   "execution_count": 1,
   "id": "c4c136e8",
   "metadata": {},
   "outputs": [
    {
     "name": "stdout",
     "output_type": "stream",
     "text": [
      "importing NGSolve-6.2.2204\n"
     ]
    }
   ],
   "source": [
    "from ngsolve import *\n",
    "from ngsolve.meshes import Make1DMesh\n",
    "from ngsolve.webgui import Draw\n",
    "from scipy import random\n",
    "import math\n",
    "import scipy.linalg"
   ]
  },
  {
   "cell_type": "code",
   "execution_count": 16,
   "id": "2f516b7f",
   "metadata": {},
   "outputs": [],
   "source": [
    "axial_load = 4"
   ]
  },
  {
   "cell_type": "code",
   "execution_count": 3,
   "id": "b4603001",
   "metadata": {},
   "outputs": [],
   "source": [
    "mesh = Make1DMesh(10, mapping=None, periodic=False)"
   ]
  },
  {
   "cell_type": "code",
   "execution_count": 4,
   "id": "8ac2a9a2",
   "metadata": {},
   "outputs": [
    {
     "name": "stdout",
     "output_type": "stream",
     "text": [
      "ndof = 23\n"
     ]
    }
   ],
   "source": [
    "psi = H1(mesh, order=1, dirichlet=\"left|right\")\n",
    "sigma = H1(mesh, order=1, dirichlet=\" \")\n",
    "mu = NumberSpace(mesh)\n",
    "fesm = psi*sigma*mu\n",
    "print (\"ndof =\", fesm.ndof)"
   ]
  },
  {
   "cell_type": "code",
   "execution_count": 5,
   "id": "ab06bc7a",
   "metadata": {},
   "outputs": [],
   "source": [
    "psi, sigma,mu = fesm.TrialFunction()\n",
    "v , tau,lamda = fesm.TestFunction()"
   ]
  },
  {
   "cell_type": "code",
   "execution_count": 6,
   "id": "bf81b25f",
   "metadata": {},
   "outputs": [],
   "source": [
    "am = BilinearForm(fesm)\n",
    "am += (grad(sigma)*grad(v) - axial_load*grad(psi)*grad(v) + \\\n",
    "       1/2*grad(psi)*grad(v)*mu + mu*lamda - grad(psi)**2*lamda + grad(psi)*grad(tau) \\\n",
    "       + sigma*tau)*dx\n",
    "\n",
    "pre = Preconditioner(am, \"multigrid\")\n",
    "\n",
    "m = BilinearForm(fesm)\n",
    "m += psi*v*dx\n",
    "\n",
    "am.Assemble()\n",
    "m.Assemble()\n",
    "\n",
    "psi = GridFunction(fesm)"
   ]
  },
  {
   "cell_type": "code",
   "execution_count": 7,
   "id": "72907b22",
   "metadata": {},
   "outputs": [],
   "source": [
    "r = psi.vec.CreateVector()\n",
    "w = psi.vec.CreateVector()\n",
    "Mu = psi.vec.CreateVector()\n",
    "Au = psi.vec.CreateVector()\n",
    "Mw = psi.vec.CreateVector()\n",
    "Aw = psi.vec.CreateVector()"
   ]
  },
  {
   "cell_type": "code",
   "execution_count": 8,
   "id": "9fcfb781",
   "metadata": {},
   "outputs": [],
   "source": [
    "r.FV().NumPy()[:] = random.rand(fesm.ndof)\n",
    "psi.vec.data = Projector(fesm.FreeDofs(), True) * r"
   ]
  },
  {
   "cell_type": "code",
   "execution_count": 15,
   "id": "d2c83fdd",
   "metadata": {},
   "outputs": [
    {
     "name": "stdout",
     "output_type": "stream",
     "text": [
      "      -0\n",
      " 0.0635751\n",
      " 0.504372\n",
      " 0.132925\n",
      " 1.25286\n",
      " 0.385571\n",
      " -2.18924\n",
      " -0.139783\n",
      " -0.429656\n",
      " 2.91541\n",
      "      -0\n",
      " -19.7733\n",
      " -13.3243\n",
      " -14.6651\n",
      " -13.869\n",
      " -34.0913\n",
      " 40.0796\n",
      " 135.976\n",
      " 60.4478\n",
      " -48.7956\n",
      " -127.803\n",
      " 80.4974\n",
      " 2.55509\n",
      "\n",
      "\n"
     ]
    }
   ],
   "source": [
    "for i in range(20):\n",
    "    Au.data = am.mat * psi.vec\n",
    "    Mu.data = m.mat * psi.vec\n",
    "    auu = InnerProduct(Au, psi.vec)\n",
    "    muu = InnerProduct(Mu, psi.vec)\n",
    "    # Rayleigh quotient\n",
    "    lam = auu/muu\n",
    "   # print (lam / (math.pi**2))\n",
    "    r.data = Au - lam * Mu\n",
    "    w.data = pre.mat * r.data\n",
    "    w.data = 1/Norm(w) * w\n",
    "    Aw.data = am.mat * w\n",
    "    Mw.data = m.mat * w\n",
    "    asmall = Matrix(2,2)\n",
    "    asmall[0,0] = auu\n",
    "    asmall[0,1] = asmall[1,0] = InnerProduct(Au, w)\n",
    "    asmall[1,1] = InnerProduct(Aw, w)\n",
    "    msmall = Matrix(2,2)\n",
    "    msmall[0,0] = muu\n",
    "    msmall[0,1] = msmall[1,0] = InnerProduct(Mu, w)\n",
    "    msmall[1,1] = InnerProduct(Mw, w)\n",
    "    # print (\"asmall =\", asmall, \", msmall = \", msmall)\n",
    "    \n",
    "    eval,evec = scipy.linalg.eigh(a=asmall, b=msmall)\n",
    "    # print (eval, evec)\n",
    "    psi.vec.data = float(evec[0,0]) * psi.vec + float(evec[1,0]) * w\n",
    "    \n",
    "\n",
    "print(psi.vec.data)"
   ]
  }
 ],
 "metadata": {
  "kernelspec": {
   "display_name": "Python 3 (ipykernel)",
   "language": "python",
   "name": "python3"
  },
  "language_info": {
   "codemirror_mode": {
    "name": "ipython",
    "version": 3
   },
   "file_extension": ".py",
   "mimetype": "text/x-python",
   "name": "python",
   "nbconvert_exporter": "python",
   "pygments_lexer": "ipython3",
   "version": "3.10.6"
  }
 },
 "nbformat": 4,
 "nbformat_minor": 5
}

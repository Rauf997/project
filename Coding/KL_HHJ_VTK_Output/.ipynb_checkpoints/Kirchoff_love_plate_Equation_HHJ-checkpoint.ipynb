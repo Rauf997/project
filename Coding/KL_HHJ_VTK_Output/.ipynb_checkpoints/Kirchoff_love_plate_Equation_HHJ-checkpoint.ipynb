{
 "cells": [
  {
   "cell_type": "code",
   "execution_count": 1,
   "id": "d10bf61c",
   "metadata": {},
   "outputs": [],
   "source": [
    "from ngsolve import *\n",
    "from ngsolve.webgui import Draw\n",
    "from netgen.occ import *\n",
    "from ngsolve.meshes import MakeStructured2DMesh\n",
    "mesh = Mesh(unit_square.GenerateMesh(maxh=0.1))"
   ]
  },
  {
   "cell_type": "code",
   "execution_count": 2,
   "id": "e6f77f61",
   "metadata": {},
   "outputs": [
    {
     "data": {
      "application/vnd.jupyter.widget-view+json": {
       "model_id": "0be2ebc33dd14c6191e442bc272cde93",
       "version_major": 2,
       "version_minor": 0
      },
      "text/plain": [
       "WebGuiWidget(layout=Layout(height='50vh', width='100%'), value={'gui_settings': {}, 'ngsolve_version': '6.2.23…"
      ]
     },
     "metadata": {},
     "output_type": "display_data"
    },
    {
     "data": {
      "text/plain": [
       "BaseWebGuiScene"
      ]
     },
     "execution_count": 2,
     "metadata": {},
     "output_type": "execute_result"
    }
   ],
   "source": [
    "order = 1\n",
    "R = 1\n",
    "circle = Circle((0,0),1).Face()\n",
    "mesh = Mesh(OCCGeometry(circle,dim=2).GenerateMesh(maxh=0.1)).Curve(order+1)\n",
    "\n",
    "E  = 1e4\n",
    "nu = 0.3\n",
    "t  = 1e-2#1e-4#1e-2\n",
    "q  = 1e-1#1e-8#1e-2\n",
    "D  = (E*t**3)/(12*(1-nu**2))\n",
    "\n",
    "c= q*R**4/(64*D)\n",
    "w_ex = -c*(x**2/R**2+y**2/R**2-1)**2\n",
    "Draw(w_ex,mesh)"
   ]
  },
  {
   "cell_type": "code",
   "execution_count": 3,
   "id": "70af0d2d",
   "metadata": {},
   "outputs": [],
   "source": [
    "def MaterialInv(mat):\n",
    "    return 1/D*(1/(1-nu)*mat-nu/(1-nu**2)*Trace(mat)*Id(2))"
   ]
  },
  {
   "cell_type": "code",
   "execution_count": 4,
   "id": "1ce080cc",
   "metadata": {},
   "outputs": [],
   "source": [
    "V = HDivDiv(mesh, order=1)\n",
    "Q = H1(mesh, order=2, dirichlet=\".*\")\n",
    "fes = V*Q\n",
    "sigma, w= fes.TrialFunction()\n",
    "tau, v = fes.TestFunction()"
   ]
  },
  {
   "cell_type": "code",
   "execution_count": 5,
   "id": "2ea8670a",
   "metadata": {},
   "outputs": [],
   "source": [
    "\n",
    "time = 0.0\n",
    "dt = 0.5\n",
    "\n",
    "n = specialcf.normal(2)\n",
    "\n",
    "def tang(u): return u-(u*n)*n\n",
    "\n",
    "a = BilinearForm(fes, symmetric=True)\n",
    "a += (InnerProduct (MaterialInv(sigma), tau) + div(sigma)*grad(v) \\\n",
    "          + div(tau)*grad(w) )*dx \\\n",
    "          + (-(sigma*n) * tang(grad(v)) - (tau*n)*tang(grad(w)))*dx(element_boundary=True)\n",
    "a.Assemble()\n",
    "\n",
    "f = LinearForm(fes)\n",
    "f += q*v*dx\n",
    "f.Assemble()\n",
    "\n",
    "gfsol = GridFunction(fes)\n",
    "gfsol.vec.data = a.mat.Inverse(fes.FreeDofs(), inverse=\"sparsecholesky\") * f.vec\n",
    "\n",
    "gfsigma, gfw = gfsol.components"
   ]
  },
  {
   "cell_type": "code",
   "execution_count": 6,
   "id": "fcbd9932",
   "metadata": {},
   "outputs": [
    {
     "data": {
      "application/vnd.jupyter.widget-view+json": {
       "model_id": "282ad3d10e09445290189bdfa3eb02dd",
       "version_major": 2,
       "version_minor": 0
      },
      "text/plain": [
       "WebGuiWidget(layout=Layout(height='50vh', width='100%'), value={'gui_settings': {}, 'ngsolve_version': '6.2.23…"
      ]
     },
     "metadata": {},
     "output_type": "display_data"
    },
    {
     "data": {
      "text/plain": [
       "BaseWebGuiScene"
      ]
     },
     "execution_count": 6,
     "metadata": {},
     "output_type": "execute_result"
    }
   ],
   "source": [
    "Draw(gfw, mesh, name=\"disp\", deformation=True)"
   ]
  }
 ],
 "metadata": {
  "kernelspec": {
   "display_name": "Python 3 (ipykernel)",
   "language": "python",
   "name": "python3"
  },
  "language_info": {
   "codemirror_mode": {
    "name": "ipython",
    "version": 3
   },
   "file_extension": ".py",
   "mimetype": "text/x-python",
   "name": "python",
   "nbconvert_exporter": "python",
   "pygments_lexer": "ipython3",
   "version": "3.8.10"
  }
 },
 "nbformat": 4,
 "nbformat_minor": 5
}

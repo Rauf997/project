{
 "cells": [
  {
   "cell_type": "code",
   "execution_count": 8,
   "id": "5fca2a62",
   "metadata": {},
   "outputs": [],
   "source": [
    "from ngsolve import *\n",
    "from ngsolve.webgui import Draw\n",
    "from netgen.occ import *\n",
    "from ngsolve.meshes import MakeStructured2DMesh\n",
    "mesh = Mesh(unit_square.GenerateMesh(maxh=0.1))"
   ]
  },
  {
   "cell_type": "code",
   "execution_count": 9,
   "id": "29ac91e5",
   "metadata": {
    "scrolled": true
   },
   "outputs": [
    {
     "data": {
      "application/vnd.jupyter.widget-view+json": {
       "model_id": "b4ee2c7eeb8d42d58414f84b3d01d9f0",
       "version_major": 2,
       "version_minor": 0
      },
      "text/plain": [
       "WebGuiWidget(layout=Layout(height='50vh', width='100%'), value={'gui_settings': {}, 'ngsolve_version': '6.2.23…"
      ]
     },
     "metadata": {},
     "output_type": "display_data"
    },
    {
     "data": {
      "text/plain": [
       "BaseWebGuiScene"
      ]
     },
     "execution_count": 9,
     "metadata": {},
     "output_type": "execute_result"
    }
   ],
   "source": [
    "L=1\n",
    "order = 1\n",
    "circle = Circle((0,0),1).Face()\n",
    "mesh = MakeStructured2DMesh(quads=True, nx=8,ny=8, mapping= lambda x,y : (L*(-1+2*x),L*(-1+2*y)))\n",
    "Draw(mesh)"
   ]
  },
  {
   "cell_type": "code",
   "execution_count": 10,
   "id": "d2bb5c2b",
   "metadata": {
    "scrolled": true
   },
   "outputs": [
    {
     "data": {
      "application/vnd.jupyter.widget-view+json": {
       "model_id": "f6ebe684846c4dfea5be860a382acd90",
       "version_major": 2,
       "version_minor": 0
      },
      "text/plain": [
       "WebGuiWidget(layout=Layout(height='50vh', width='100%'), value={'gui_settings': {}, 'ngsolve_version': '6.2.23…"
      ]
     },
     "metadata": {},
     "output_type": "display_data"
    },
    {
     "data": {
      "text/plain": [
       "BaseWebGuiScene"
      ]
     },
     "execution_count": 10,
     "metadata": {},
     "output_type": "execute_result"
    }
   ],
   "source": [
    "order = 1\n",
    "circle = Circle((0,0),1).Face()\n",
    "mesh = Mesh(OCCGeometry(circle,dim=2).GenerateMesh(maxh=0.1)).Curve(order+1)\n",
    "Draw(mesh)"
   ]
  },
  {
   "cell_type": "code",
   "execution_count": 11,
   "id": "58282066",
   "metadata": {},
   "outputs": [],
   "source": [
    "from netgen.geom2d import unit_square, MakeCircle, SplineGeometry\n",
    "from netgen.meshing import Element0D, Element1D, Element2D, MeshPoint, FaceDescriptor, Mesh\n",
    "from netgen.csg import Pnt"
   ]
  },
  {
   "cell_type": "code",
   "execution_count": 12,
   "id": "529c4fc6",
   "metadata": {},
   "outputs": [],
   "source": [
    "ngmesh = Mesh()\n",
    "ngmesh.SetGeometry(unit_square)\n",
    "ngmesh.dim = 2"
   ]
  },
  {
   "cell_type": "code",
   "execution_count": 13,
   "id": "3d838361",
   "metadata": {},
   "outputs": [],
   "source": [
    "# import netgen.gui\n",
    "# from netgen.meshing import *"
   ]
  },
  {
   "cell_type": "code",
   "execution_count": 14,
   "id": "9ee26325",
   "metadata": {},
   "outputs": [],
   "source": [
    "# from netgen.geom2d import unit_square"
   ]
  },
  {
   "cell_type": "code",
   "execution_count": 15,
   "id": "6e3e9756",
   "metadata": {},
   "outputs": [],
   "source": [
    "# ngmesh = Mesh(dim=2)"
   ]
  },
  {
   "cell_type": "code",
   "execution_count": 16,
   "id": "d47c5548",
   "metadata": {},
   "outputs": [],
   "source": [
    "quads = False\n",
    "N=5\n",
    "pnums = []\n",
    "for i in range(N + 1):\n",
    "    for j in range(N + 1):\n",
    "        pnums.append(ngmesh.Add(MeshPoint(Pnt(i / N, j / N, 0))))"
   ]
  },
  {
   "cell_type": "code",
   "execution_count": 17,
   "id": "64c88a69",
   "metadata": {},
   "outputs": [],
   "source": [
    "idx_dom = ngmesh.AddRegion(\"mat\", dim=2)\n",
    "for j in range(N):\n",
    "    for i in range(N):\n",
    "        if quads:\n",
    "            ngmesh.Add(Element2D(idx_dom, [pnums[i + j * (N + 1)], pnums[i + (j + 1) * (N + 1)], pnums[i + 1 + (j + 1) * (N + 1)], pnums[i + 1 + j * (N + 1)]]))\n",
    "        else:\n",
    "            ngmesh.Add(Element2D(idx_dom, [pnums[i + j * (N + 1)], pnums[i + (j + 1) * (N + 1)], pnums[i + 1 + j * (N + 1)]]))\n",
    "            ngmesh.Add(Element2D(idx_dom, [pnums[i + (j + 1) * (N + 1)], pnums[i + 1 + (j + 1) * (N + 1)], pnums[i + 1 + j * (N + 1)]]))"
   ]
  },
  {
   "cell_type": "code",
   "execution_count": 18,
   "id": "7aee7bed",
   "metadata": {},
   "outputs": [],
   "source": [
    "# horizontal boundaries\n",
    "for i in range(N):\n",
    "   ngmesh.Add(Element1D([pnums[N + i * (N + 1)],\n",
    "                       pnums[N + (i + 1) * (N + 1)]], index=1))\n",
    "   ngmesh.Add(Element1D([pnums[0 + i * (N + 1)], pnums[0 + (i + 1) * (N + 1)]], index=1))\n",
    "\n",
    "# vertical boundaries\n",
    "for i in range(N):\n",
    "   ngmesh.Add(Element1D([pnums[i], pnums[i + 1]], index=2))\n",
    "   ngmesh.Add(Element1D([pnums[i + N * (N + 1)], pnums[i + 1 + N * (N + 1)]], index=2))"
   ]
  },
  {
   "cell_type": "code",
   "execution_count": 19,
   "id": "bbc2b32c",
   "metadata": {},
   "outputs": [
    {
     "data": {
      "application/vnd.jupyter.widget-view+json": {
       "model_id": "820f1406f5fa4c068c90ea6efce70b38",
       "version_major": 2,
       "version_minor": 0
      },
      "text/plain": [
       "WebGuiWidget(layout=Layout(height='50vh', width='100%'), value={'gui_settings': {}, 'ngsolve_version': '6.2.23…"
      ]
     },
     "metadata": {},
     "output_type": "display_data"
    },
    {
     "data": {
      "text/plain": [
       "BaseWebGuiScene"
      ]
     },
     "execution_count": 19,
     "metadata": {},
     "output_type": "execute_result"
    }
   ],
   "source": [
    "import ngsolve\n",
    "from ngsolve.webgui import Draw\n",
    "mesh = ngsolve.Mesh(ngmesh)\n",
    "Draw(mesh)"
   ]
  },
  {
   "cell_type": "code",
   "execution_count": null,
   "id": "c0da47ff",
   "metadata": {},
   "outputs": [],
   "source": []
  },
  {
   "cell_type": "code",
   "execution_count": null,
   "id": "93ebbe7c",
   "metadata": {},
   "outputs": [],
   "source": []
  }
 ],
 "metadata": {
  "kernelspec": {
   "display_name": "Python 3 (ipykernel)",
   "language": "python",
   "name": "python3"
  },
  "language_info": {
   "codemirror_mode": {
    "name": "ipython",
    "version": 3
   },
   "file_extension": ".py",
   "mimetype": "text/x-python",
   "name": "python",
   "nbconvert_exporter": "python",
   "pygments_lexer": "ipython3",
   "version": "3.8.10"
  }
 },
 "nbformat": 4,
 "nbformat_minor": 5
}

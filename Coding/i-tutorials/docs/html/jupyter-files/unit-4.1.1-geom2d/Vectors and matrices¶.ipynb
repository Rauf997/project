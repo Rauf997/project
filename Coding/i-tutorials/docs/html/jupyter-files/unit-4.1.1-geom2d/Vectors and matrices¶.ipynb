{
 "cells": [
  {
   "cell_type": "markdown",
   "id": "e7e8fc3f",
   "metadata": {},
   "source": [
    "# Vectors and matrices¶"
   ]
  },
  {
   "cell_type": "markdown",
   "id": "15022be6",
   "metadata": {},
   "source": [
    "NGSolve contains two different implementations of linear algebra: One deals with dense matrices which are typically small, the other one with typically large sparse matrices and linear operators as needed in the finite element method."
   ]
  },
  {
   "cell_type": "markdown",
   "id": "cfa04a03",
   "metadata": {},
   "source": [
    "## Large Linear Algebra"
   ]
  },
  {
   "cell_type": "markdown",
   "id": "b87179dc",
   "metadata": {},
   "source": [
    "Grid-functions, bilinear-forms and linear-forms create vectors and matrices. You can query them using the u.vec or bfa.mat attributes. You can print them via print (u.vec), or set values gf.vec[0:10] = 3.7.\n",
    "\n",
    "You can create new vectors of the same size and the same element type via"
   ]
  },
  {
   "cell_type": "code",
   "execution_count": null,
   "id": "b2c996b5",
   "metadata": {},
   "outputs": [],
   "source": [
    "vu = u.vec\n",
    "help = vu.CreateVector()"
   ]
  },
  {
   "cell_type": "markdown",
   "id": "3b569ca3",
   "metadata": {},
   "source": [
    "You can perform vector-space operations"
   ]
  },
  {
   "cell_type": "code",
   "execution_count": null,
   "id": "f1a11ccc",
   "metadata": {},
   "outputs": [],
   "source": [
    "help.data = 3 * vu\n",
    "help.data += mat * vu\n",
    "print (\"(u,h) = \", InnerProduct(help, vu))"
   ]
  },
  {
   "cell_type": "markdown",
   "id": "f93b8346",
   "metadata": {},
   "source": [
    "There are a few things to take care of:\n",
    "\n",
    "- Use the .data attribute to write to an existing vector. The expression help = 3 * vu will redefine the object help to something like the symbolic expression product of scalar times vector.\n",
    "\n",
    "- You can combine certain operations (e.g. help.data = 3 * u1 + 4 * u2 + mat * u4), but not arbitrary operations (as help.data = mat * (u1+u2) or help.data = mat1 * mat2 * u). The ratio behind is that the operations must be computable without allocating temporary vectors.\n",
    "\n",
    "You can also work with NGSolve-Data from numpy/scipy, see also here [ngspy-numpy](ngspy-numpy) ## Small Linear Algebra\n",
    "\n",
    "With x = Vector(5) and m = Matrix(3,5) you create a vector and a matrix. You can access elements with brackets, and perform linear algebra operations. y = m * x defines a new vector y.\n",
    "\n",
    "ngsolve provides elementary matrix-vector operations. For other operations, we recommend to use the numpy package. With m.NumPy() you get a multi-dimensional numpy array sharing the memory of the matrix m."
   ]
  }
 ],
 "metadata": {
  "kernelspec": {
   "display_name": "Python 3 (ipykernel)",
   "language": "python",
   "name": "python3"
  },
  "language_info": {
   "codemirror_mode": {
    "name": "ipython",
    "version": 3
   },
   "file_extension": ".py",
   "mimetype": "text/x-python",
   "name": "python",
   "nbconvert_exporter": "python",
   "pygments_lexer": "ipython3",
   "version": "3.10.6"
  }
 },
 "nbformat": 4,
 "nbformat_minor": 5
}

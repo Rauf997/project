{
 "cells": [
  {
   "cell_type": "markdown",
   "id": "c7f9163f",
   "metadata": {},
   "source": [
    "# Symbolic Integrators¶"
   ]
  },
  {
   "cell_type": "markdown",
   "id": "7da09e64",
   "metadata": {},
   "source": [
    "Symbolic integrators can be used to define arbitrary (multi-)physical problems. The variational formulation of the (non-)linear problem can be implemented in a very natural way. Examples of the usage of these integrators can i.e. be found in Navier Stokes Equation, Magnetic Field or Nonlinear elasticity.\n",
    "\n",
    "The finite element space provides placeholder coefficient functions by the methods `TestFunction` and `TrialFunction`. They have implemented canonical derivatives and traces of the finite element space and insert the basis functions of the FESpace during assembling of the system matrices.\n",
    "\n"
   ]
  },
  {
   "cell_type": "markdown",
   "id": "cd097912",
   "metadata": {},
   "source": [
    "## Linear Problems"
   ]
  },
  {
   "cell_type": "markdown",
   "id": "1cfe154f",
   "metadata": {},
   "source": [
    "For linear problems we use the function `Assemble` of the `BilinearForm` to assemble the matrix and vector. For example for the $H_{curl}$ linear problem"
   ]
  },
  {
   "cell_type": "markdown",
   "id": "d7c43aa1",
   "metadata": {},
   "source": [
    "$$\n",
    "\\begin{align}\n",
    "\\int_{\\Omega} \\mu^{-1}\\nabla \\times u \\cdot \\nabla \\times v + 10^{-6}u \\cdot v dx = \\int_{C}\\begin{pmatrix}\n",
    "y \\\\\n",
    "-x \\\\\n",
    "0 \\\\\n",
    "\\end{pmatrix}. v dx\n",
    "\\end{align}\n",
    "$$\n"
   ]
  },
  {
   "cell_type": "markdown",
   "id": "3f9b3d4d",
   "metadata": {},
   "source": [
    "from example Magnetic Fields we have to define the space"
   ]
  },
  {
   "cell_type": "code",
   "execution_count": null,
   "id": "8e6389ad",
   "metadata": {},
   "outputs": [],
   "source": [
    "a = BilinearForm(fes, symmetric=True)\n",
    "a += nu*curl(u)*curl(v)*dx + 1e-6*nu*u*v*dx\n",
    "\n",
    "a.Assemble()"
   ]
  },
  {
   "cell_type": "markdown",
   "id": "17806fed",
   "metadata": {},
   "source": [
    "as well as the LinearForm\n",
    "\n",
    "The argument of the symbolic integrator must be a coefficient function depending linearily on the test and trial function."
   ]
  },
  {
   "cell_type": "markdown",
   "id": "9a875363",
   "metadata": {},
   "source": [
    "$\\textbf{BilinearForm.Assemble}\\color{blue}{\\text{(self: ngsolve.comp.BilinearForm, reallocate: bool = \n",
    "False)→ ngsolve.comp.BilinearForm}}$"
   ]
  },
  {
   "cell_type": "markdown",
   "id": "19f43011",
   "metadata": {},
   "source": [
    "Assemble the bilinear form.\n",
    "\n",
    "Parameters:"
   ]
  },
  {
   "cell_type": "markdown",
   "id": "08cb7fd1",
   "metadata": {},
   "source": [
    "$\\textbf{reallocate : bool}$"
   ]
  },
  {
   "cell_type": "markdown",
   "id": "3c5986b2",
   "metadata": {},
   "source": [
    "input reallocate"
   ]
  },
  {
   "cell_type": "markdown",
   "id": "77acbdce",
   "metadata": {},
   "source": [
    "# Nonlinear Problems"
   ]
  },
  {
   "cell_type": "markdown",
   "id": "f9d24241",
   "metadata": {},
   "source": [
    "If your left hand side of the variational formulation is nonlinear there are multiple ways to get a discretisation, depending on what you want."
   ]
  },
  {
   "cell_type": "markdown",
   "id": "3e4a80f0",
   "metadata": {},
   "source": [
    "## Apply"
   ]
  },
  {
   "cell_type": "markdown",
   "id": "b8505a4b",
   "metadata": {},
   "source": [
    "`Here is some code!`\n",
    "The function `Apply` applies the formulation to the given `BaseVector`. You can get a `BaseVector` form your `GridFunction` with `GridFunction.vec`. The output vector can be created with `BaseVector.CreateVector`."
   ]
  },
  {
   "cell_type": "markdown",
   "id": "2148df1e",
   "metadata": {},
   "source": [
    "$\\textbf{BilinearForm.Apply}\\color{blue}{\\text{(self: ngsolve.comp.BilinearForm, x: ngsolve.la.BaseVector, y: ngsolve.la.BaseVector)→ None}}$"
   ]
  },
  {
   "cell_type": "markdown",
   "id": "35aa6b53",
   "metadata": {},
   "source": [
    "Applies a (non-)linear variational formulation to x and stores the result in y.\n",
    "\n",
    "Parameters:"
   ]
  },
  {
   "cell_type": "markdown",
   "id": "15cd4b4d",
   "metadata": {},
   "source": [
    "$\\textbf{x : ngsolve.BaseVector}$\n",
    "\n",
    "input vector\n",
    "\n",
    "$\\textbf{y : ngsolve.BaseVector}$\n",
    "\n",
    "output vector"
   ]
  },
  {
   "cell_type": "markdown",
   "id": "dc740ea4",
   "metadata": {},
   "source": [
    "## AssembleLinearization\n",
    "\n",
    "\n",
    "For a variational formulation\n",
    "\n",
    "$$\n",
    "\\begin{align}\n",
    "\\int_{\\Omega}f(u)vdx\n",
    "\\end{align}\n",
    "$$\n",
    "\n",
    "\n",
    "the method `AssembleLinearization` computes\n",
    "\n",
    "\n",
    "$$\n",
    "\\begin{align}\n",
    "\\int_{\\Omega}f^{'}(u_{lin})uvdx\n",
    "\\end{align}\n",
    "$$\n",
    "\n",
    "\n",
    "with automatic differentiation of $f(u)$ and an input `BaseVector` $u_{in}$."
   ]
  },
  {
   "cell_type": "markdown",
   "id": "cee89177",
   "metadata": {},
   "source": [
    "$\\textbf{BilinearForm.AssembleLinearization}\\color{blue}{\\text{(self: ngsolve.comp.BilinearForm, ulin: ngsolve.la.BaseVector, reallocate: bool = False)→ None}}$"
   ]
  },
  {
   "cell_type": "markdown",
   "id": "7f60a74b",
   "metadata": {},
   "source": [
    "Computes linearization of the bilinear form at given vecor.\n",
    "\n",
    "Parameters:"
   ]
  },
  {
   "cell_type": "markdown",
   "id": "e8d3899b",
   "metadata": {},
   "source": [
    "**ulin : ngsolve.la.BaseVector**"
   ]
  },
  {
   "cell_type": "markdown",
   "id": "885d6a3e",
   "metadata": {},
   "source": [
    "## Assemble"
   ]
  },
  {
   "cell_type": "markdown",
   "id": "5e154292",
   "metadata": {},
   "source": [
    "You can do your own linearization as well using `Assemble` and a `GridFunction` as a `CoefficientFunction` in your integrator. Let `gfu_old` be this gridfunction then"
   ]
  },
  {
   "cell_type": "code",
   "execution_count": null,
   "id": "36ec4f37",
   "metadata": {},
   "outputs": [],
   "source": [
    "a = BilinearForm(fes)\n",
    "a += SymbolicBFI(gfu_old * u * v)"
   ]
  },
  {
   "cell_type": "markdown",
   "id": "c8000907",
   "metadata": {},
   "source": [
    "will be a linearization for\n",
    "\n",
    "\n",
    "$$\n",
    "\\begin{align}\n",
    "\\int_{\\Omega}u^2 v dx\n",
    "\\end{align}\n",
    "$$\n",
    "\n",
    "Every time you call Assemble the bilinearform is updated with the new values of the GridFunction."
   ]
  },
  {
   "cell_type": "markdown",
   "id": "d42dc578",
   "metadata": {},
   "source": [
    "## Symbolic Energy\n",
    "\n",
    "`SymbolicEnergy` can be used to solve a minimization problem. In this tutorial we show how to solve the nonlinear problem\n",
    "\n",
    "\n",
    "$$\n",
    "\\begin{align}\n",
    "\\min\\limits_{u \\in V}0.05 \\nabla u + u^4 - 100u\n",
    "\\end{align}\n",
    "$$"
   ]
  },
  {
   "cell_type": "code",
   "execution_count": null,
   "id": "ea33d856",
   "metadata": {},
   "outputs": [],
   "source": [
    "a = BilinearForm (V, symmetric=False)\n",
    "a += Variation( (0.05*grad(u)*grad(u) + u*u*u*u - 100*u)*dx )"
   ]
  },
  {
   "cell_type": "markdown",
   "id": "c700dd97",
   "metadata": {},
   "source": [
    "from the `GridFunction` we can create new `BaseVector`:\n",
    "\n",
    "With this we can use `AssembleLinearization` to do a Newton iteration to solve the problem:"
   ]
  },
  {
   "cell_type": "code",
   "execution_count": null,
   "id": "48c47a63",
   "metadata": {},
   "outputs": [],
   "source": [
    "for it in range(20):\n",
    "    print (\"Newton iteration\", it)\n",
    "    print (\"energy = \", a.Energy(u.vec))\n",
    "\n",
    "    a.Apply (u.vec, res)\n",
    "    a.AssembleLinearization (u.vec)\n",
    "    inv = a.mat.Inverse(V.FreeDofs())\n",
    "    w.data = inv * res\n",
    "    print (\"w*r =\", InnerProduct(w,res))\n",
    "\n",
    "    u.vec.data -= w\n",
    "    Redraw()"
   ]
  }
 ],
 "metadata": {
  "kernelspec": {
   "display_name": "Python 3 (ipykernel)",
   "language": "python",
   "name": "python3"
  },
  "language_info": {
   "codemirror_mode": {
    "name": "ipython",
    "version": 3
   },
   "file_extension": ".py",
   "mimetype": "text/x-python",
   "name": "python",
   "nbconvert_exporter": "python",
   "pygments_lexer": "ipython3",
   "version": "3.10.6"
  }
 },
 "nbformat": 4,
 "nbformat_minor": 5
}

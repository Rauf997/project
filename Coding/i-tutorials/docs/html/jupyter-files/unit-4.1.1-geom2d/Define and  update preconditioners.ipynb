{
 "cells": [
  {
   "cell_type": "markdown",
   "id": "d05ce83d",
   "metadata": {},
   "source": [
    "# Define and update preconditioners"
   ]
  },
  {
   "cell_type": "markdown",
   "id": "261d0867",
   "metadata": {},
   "source": [
    "A preconditioner is defined for a bilinear-form, and aims at providing a cheap, approximative inverse of the matrix. The matrix is restricted to the non-dirichlet (free) degrees of freedom, provided by the underlying FESpace.\n",
    "\n"
   ]
  },
  {
   "cell_type": "markdown",
   "id": "3f98b57d",
   "metadata": {},
   "source": [
    "The canonical way is to define the preconditioner after the bilinear-form, but before calling Assemble:"
   ]
  },
  {
   "cell_type": "code",
   "execution_count": null,
   "id": "2a3c99ff",
   "metadata": {},
   "outputs": [],
   "source": [
    "a = BilinearForm(fes)\n",
    "a += SymbolicBFI(grad(u)*grad(v))\n",
    "c = Preconditioner(a, \"local\")\n",
    "a.Assemble()"
   ]
  },
  {
   "cell_type": "markdown",
   "id": "1bf72555",
   "metadata": {},
   "source": [
    "The preconditioner registers itself with the bilinear-form. Whenever the form is updated, the preconditioner is updated as well.\n",
    "\n",
    "You can define the preconditioner after assembling, but then you have to call manually c.Update()\n",
    "\n",
    "The ratio if this ordering is that some preconditioners (e.g. bddc, amg, ...) require access to the element-matrices, which are only available during assembling.\n",
    "\n",
    "The preconditioners included in NGSolve are the following. Additional user-defined preconditioners can be implemented in plug-ins. An example is given in MyLittleNGSolve"
   ]
  },
  {
   "cell_type": "markdown",
   "id": "315f6566",
   "metadata": {},
   "source": [
    "| Name | Preconditioners | \n",
    "| --- | --- | \n",
    "| local | Jacobi / block-Jacobi|\n",
    "| direct | a sparse direct factorization|\n",
    "| multigrid | h-version and high-order/low-order multigrid|\n",
    "| bddc | p-version domain decomposition|"
   ]
  }
 ],
 "metadata": {
  "kernelspec": {
   "display_name": "Python 3 (ipykernel)",
   "language": "python",
   "name": "python3"
  },
  "language_info": {
   "codemirror_mode": {
    "name": "ipython",
    "version": 3
   },
   "file_extension": ".py",
   "mimetype": "text/x-python",
   "name": "python",
   "nbconvert_exporter": "python",
   "pygments_lexer": "ipython3",
   "version": "3.10.6"
  }
 },
 "nbformat": 4,
 "nbformat_minor": 5
}

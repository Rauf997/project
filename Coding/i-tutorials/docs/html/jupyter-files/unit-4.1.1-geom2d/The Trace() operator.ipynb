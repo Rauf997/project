{
 "cells": [
  {
   "cell_type": "markdown",
   "id": "8ad0623a",
   "metadata": {},
   "source": [
    "# The Trace() operator¶"
   ]
  },
  {
   "cell_type": "markdown",
   "id": "d7f738c9",
   "metadata": {},
   "source": [
    "Mathematically, the trace operator restricts a domain-function to the boundary of the domain. For function spaces like H(curl) or H(div), the trace operator delivers only tangential, and normal components, respectively.\n",
    "\n",
    "The trace operator is used in NGS-Py as follows:"
   ]
  },
  {
   "cell_type": "code",
   "execution_count": null,
   "id": "88558c4d",
   "metadata": {},
   "outputs": [],
   "source": [
    "a.Assemble(u.Trace()*v.Trace(), BND)"
   ]
  },
  {
   "cell_type": "markdown",
   "id": "c66df126",
   "metadata": {},
   "source": [
    "The evaluation of boundary values involves only degrees of freedom geometrically located on the boundary.\n",
    "\n",
    "Traces of derivatives can are formed by either one of the following. For example, the derivative of the trace of an H1-function gives the tangential derivative:"
   ]
  },
  {
   "cell_type": "code",
   "execution_count": null,
   "id": "d2128d08",
   "metadata": {},
   "outputs": [],
   "source": [
    "u.Trace().Deriv()\n",
    "u.Deriv().Trace()"
   ]
  },
  {
   "cell_type": "markdown",
   "id": "97fe697d",
   "metadata": {},
   "source": [
    "As an popular exception, in NGS-Py, the Trace()-operator for H1-functions is optional.\n",
    "\n",
    "For element-boundary integrals, the Trace()-operator must not be used. Here, the function is evaluated at a point in the volume-element."
   ]
  }
 ],
 "metadata": {
  "kernelspec": {
   "display_name": "Python 3 (ipykernel)",
   "language": "python",
   "name": "python3"
  },
  "language_info": {
   "codemirror_mode": {
    "name": "ipython",
    "version": 3
   },
   "file_extension": ".py",
   "mimetype": "text/x-python",
   "name": "python",
   "nbconvert_exporter": "python",
   "pygments_lexer": "ipython3",
   "version": "3.10.6"
  }
 },
 "nbformat": 4,
 "nbformat_minor": 5
}

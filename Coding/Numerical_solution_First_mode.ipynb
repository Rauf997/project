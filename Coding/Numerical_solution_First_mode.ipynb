{
 "cells": [
  {
   "cell_type": "code",
   "execution_count": 1,
   "id": "911e92e3",
   "metadata": {},
   "outputs": [],
   "source": [
    "from ngsolve import *\n",
    "from ngsolve.meshes import Make1DMesh\n",
    "from ngsolve.webgui import Draw\n",
    "import numpy as np\n",
    "import math "
   ]
  },
  {
   "cell_type": "code",
   "execution_count": 2,
   "id": "0e2e33c3",
   "metadata": {},
   "outputs": [],
   "source": [
    "from sympy import symbols, simplify, solve, diff, lambdify\n",
    "import sympy as sym\n",
    "from sympy import Symbol\n",
    "import scipy.integrate\n",
    "import matplotlib.pyplot as plt\n",
    "mesh = Make1DMesh(10, mapping=None, periodic=False)\n",
    "\n",
    "axial_load_1 = 4.1*pi**2\n",
    "lamda_1 = 2*sym.pi\n",
    "c_1 = 2*sym.sqrt((axial_load_1)/(lamda_1**2)-1)\n",
    "\n",
    "\n",
    "psi_ex_1 = c_1*(1 - ((lamda_1*(1- cos(lamda_1)))/(lamda_1 - sin(lamda_1)))*x - \\\n",
    "                        cos(lamda_1*x) + \\\n",
    "                        ((1 - cos(lamda_1))/(lamda_1 - sin(lamda_1)))*sin(lamda_1*x))\n",
    "\n",
    "\n",
    "axial_load_2 = 4.5*pi**2\n",
    "lamda_1 = 2*sym.pi\n",
    "c_2 = 2*sym.sqrt((axial_load_2)/(lamda_1**2)-1)\n",
    "\n",
    "\n",
    "psi_ex_2 = c_2*(1 - ((lamda_1*(1- cos(lamda_1)))/(lamda_1 - sin(lamda_1)))*x - \\\n",
    "                        cos(lamda_1*x) + \\\n",
    "                        ((1 - cos(lamda_1))/(lamda_1 - sin(lamda_1)))*sin(lamda_1*x))\n",
    "\n",
    "\n",
    "axial_load_3 = 5.0*pi**2\n",
    "lamda_1 = 2*sym.pi\n",
    "c_3 = 2*sym.sqrt((axial_load_3)/(lamda_1**2)-1)\n",
    "\n",
    "\n",
    "psi_ex_3 = c_3*(1 - ((lamda_1*(1- cos(lamda_1)))/(lamda_1 - sin(lamda_1)))*x - \\\n",
    "                        cos(lamda_1*x) + \\\n",
    "                        ((1 - cos(lamda_1))/(lamda_1 - sin(lamda_1)))*sin(lamda_1*x))\n",
    "\n"
   ]
  },
  {
   "cell_type": "code",
   "execution_count": 3,
   "id": "b02e91f5",
   "metadata": {},
   "outputs": [
    {
     "data": {
      "text/plain": [
       "Text(0.5, 1.0, 'Analytical Solution First Mode')"
      ]
     },
     "execution_count": 3,
     "metadata": {},
     "output_type": "execute_result"
    },
    {
     "data": {
      "image/png": "[encoded data removed]",
      "text/plain": [
       "<Figure size 640x480 with 1 Axes>"
      ]
     },
     "metadata": {},
     "output_type": "display_data"
    }
   ],
   "source": [
    "mesh = Make1DMesh(40)\n",
    "x=np.linspace(0,1,100)\n",
    "psi_ex_1(mesh(x))\n",
    "psi_ex_2(mesh(x))\n",
    "psi_ex_3(mesh(x))\n",
    "plt.plot(x,psi_ex_1(mesh(x)),color='black',label='P = 4.1$\\pi^2$',linestyle=\"-\")\n",
    "# plt.plot(x,psi_ex_2(mesh(x)),color='black',label='P = 4.5$\\pi^2$',linestyle=\"--\")\n",
    "# plt.plot(x,psi_ex_3(mesh(x)),color='black',label='P = 5.0$\\pi^2$',linestyle=\"-.\")\n",
    "plt.ylim([0, 2.5])\n",
    "plt.xlim([0, 1])\n",
    "plt.title(\"Analytical Solution First Mode\")\n",
    "# plt.legend()"
   ]
  },
  {
   "cell_type": "code",
   "execution_count": null,
   "id": "6e4f8490",
   "metadata": {},
   "outputs": [],
   "source": [
    "psi = H1(mesh, order=2, dirichlet=\"left|right\")\n",
    "sigma = H1(mesh, order=2, dirichlet=\" \")\n",
    "mu = NumberSpace(mesh)\n",
    "fesm = psi*sigma*mu\n",
    "print (\"ndof =\", fesm.ndof)"
   ]
  },
  {
   "cell_type": "code",
   "execution_count": null,
   "id": "00842221",
   "metadata": {},
   "outputs": [],
   "source": [
    "psi, sigma, mu = fesm.TrialFunction()\n",
    "v , tau, lamda = fesm.TestFunction()"
   ]
  },
  {
   "cell_type": "code",
   "execution_count": null,
   "id": "ace538cc",
   "metadata": {},
   "outputs": [],
   "source": [
    "am_1 = BilinearForm(fesm)\n",
    "am_1 += (-grad(sigma)*grad(v) - axial_load_1*grad(psi)*grad(v) + 1/2*grad(psi)*grad(v)*mu + sigma*tau \\\n",
    "       + grad(psi)*grad(tau) + mu*lamda - grad(psi)**2*lamda )*dx\n",
    "gfu_1 = GridFunction(fesm)\n",
    "def SimpleNewtonSolve(gfu,am_1,tol=1e-13,maxits=25):\n",
    "    res = gfu.vec.CreateVector()\n",
    "    du = gfu.vec.CreateVector()\n",
    "    fesm = gfu_1.space\n",
    "    for it in range(maxits):\n",
    "        print (\"Iteration {:3}  \".format(it),end=\"\")\n",
    "        am_1.Apply(gfu.vec, res)\n",
    "        am_1.AssembleLinearization(gfu.vec)\n",
    "        du.data = am_1.mat.Inverse(fesm.FreeDofs()) * res\n",
    "        gfu.vec.data -= du\n",
    "\n",
    "        #stopping criteria\n",
    "        stopcritval = sqrt(abs(InnerProduct(du,res)))\n",
    "        print (\"<A u\",it,\", A u\",it,\">_{-1}^0.5 = \", stopcritval)\n",
    "        if stopcritval < tol:\n",
    "            break\n",
    "gfu_1.components[0].Set(psi_ex_1)\n",
    "SimpleNewtonSolve(gfu_1,am_1)"
   ]
  },
  {
   "cell_type": "code",
   "execution_count": null,
   "id": "c415f3e9",
   "metadata": {},
   "outputs": [],
   "source": [
    "am_2 = BilinearForm(fesm)\n",
    "am_2 += (-grad(sigma)*grad(v) - axial_load_2*grad(psi)*grad(v) + 1/2*grad(psi)*grad(v)*mu + sigma*tau \\\n",
    "       + grad(psi)*grad(tau) + mu*lamda - grad(psi)**2*lamda )*dx\n",
    "gfu_2 = GridFunction(fesm)\n",
    "def SimpleNewtonSolve(gfu,am_2,tol=1e-13,maxits=25):\n",
    "    res = gfu.vec.CreateVector()\n",
    "    du = gfu.vec.CreateVector()\n",
    "    fes = gfu.space\n",
    "    for it in range(maxits):\n",
    "        print (\"Iteration {:3}  \".format(it),end=\"\")\n",
    "        am_2.Apply(gfu.vec, res)\n",
    "        am_2.AssembleLinearization(gfu.vec)\n",
    "        du.data = am_2.mat.Inverse(fes.FreeDofs()) * res\n",
    "        gfu.vec.data -= du\n",
    "\n",
    "        #stopping criteria\n",
    "        stopcritval = sqrt(abs(InnerProduct(du,res)))\n",
    "        print (\"<A u\",it,\", A u\",it,\">_{-1}^0.5 = \", stopcritval)\n",
    "        if stopcritval < tol:\n",
    "            break\n",
    "gfu_2.components[0].Set(psi_ex_2)\n",
    "SimpleNewtonSolve(gfu_2,am_2)"
   ]
  },
  {
   "cell_type": "code",
   "execution_count": null,
   "id": "81d68766",
   "metadata": {},
   "outputs": [],
   "source": [
    "am_3 = BilinearForm(fesm)\n",
    "am_3 += (-grad(sigma)*grad(v) - axial_load_3*grad(psi)*grad(v) + 1/2*grad(psi)*grad(v)*mu + sigma*tau \\\n",
    "       + grad(psi)*grad(tau) + mu*lamda - grad(psi)**2*lamda )*dx\n",
    "gfu_3 = GridFunction(fesm)\n",
    "def SimpleNewtonSolve(gfu,am_3,tol=1e-13,maxits=25):\n",
    "    res = gfu.vec.CreateVector()\n",
    "    du = gfu.vec.CreateVector()\n",
    "    fes = gfu.space\n",
    "    for it in range(maxits):\n",
    "        print (\"Iteration {:3}  \".format(it),end=\"\")\n",
    "        am_3.Apply(gfu.vec, res)\n",
    "        am_3.AssembleLinearization(gfu.vec)\n",
    "        du.data = am_3.mat.Inverse(fes.FreeDofs()) * res\n",
    "        gfu.vec.data -= du\n",
    "        #stopping criteria\n",
    "        stopcritval = sqrt(abs(InnerProduct(du,res)))\n",
    "        print (\"<A u\",it,\", A u\",it,\">_{-1}^0.5 = \", stopcritval)\n",
    "        if stopcritval < tol:\n",
    "            break\n",
    "gfu_3.components[0].Set(psi_ex_3)\n",
    "SimpleNewtonSolve(gfu_3,am_3)"
   ]
  },
  {
   "cell_type": "code",
   "execution_count": null,
   "id": "0177e551",
   "metadata": {},
   "outputs": [],
   "source": [
    "Draw(gfu_1.components[0],mesh,deformation=CF((0,gfu_1.components[0],0)))\n",
    "\n",
    "Draw(gfu_2.components[0],mesh,deformation=CF((0,gfu_2.components[0],0)))\n",
    "Draw(gfu_3.components[0],mesh,deformation=CF((0,gfu_3.components[0],0)))"
   ]
  },
  {
   "cell_type": "code",
   "execution_count": null,
   "id": "a6d18d02",
   "metadata": {},
   "outputs": [],
   "source": [
    "print (\"L2-error:\", sqrt(Integrate((gfu_1.components[0] - psi_ex_1)**2, mesh)))\n",
    "print (\"L2-error:\", sqrt(Integrate((gfu_2.components[0] - psi_ex_2)**2, mesh)))\n",
    "print (\"L2-error:\", sqrt(Integrate((gfu_3.components[0] - psi_ex_3)**2, mesh)))"
   ]
  },
  {
   "cell_type": "code",
   "execution_count": null,
   "id": "df4931a2",
   "metadata": {},
   "outputs": [],
   "source": [
    "import numpy as np\n",
    "import matplotlib.pyplot as plt\n",
    "x=np.linspace(0,1,100)\n",
    "gfu_1.components[0](mesh(x))\n",
    "gfu_2.components[0](mesh(x))\n",
    "gfu_3.components[0](mesh(x))\n",
    "plt.plot(x,gfu_1.components[0](mesh(x)),color='black',label='P = 4.1$\\pi^2$',linestyle=\"-\")\n",
    "plt.plot(x,gfu_2.components[0](mesh(x)),color='black',label='P = 4.5$\\pi^2$',linestyle=\"--\")\n",
    "plt.plot(x,gfu_3.components[0](mesh(x)),color='black',label='P = 5.0$\\pi^2$',linestyle=\"-.\")\n",
    "plt.legend()\n",
    "plt.ylim([0, 2.5])\n",
    "plt.xlim([0, 1.0])\n",
    "plt.title(\"Numerical Solution First Mode\")"
   ]
  },
  {
   "cell_type": "code",
   "execution_count": null,
   "id": "295c79da",
   "metadata": {},
   "outputs": [],
   "source": []
  },
  {
   "cell_type": "code",
   "execution_count": null,
   "id": "68a82029",
   "metadata": {},
   "outputs": [],
   "source": []
  }
 ],
 "metadata": {
  "kernelspec": {
   "display_name": "Python 3 (ipykernel)",
   "language": "python",
   "name": "python3"
  },
  "language_info": {
   "codemirror_mode": {
    "name": "ipython",
    "version": 3
   },
   "file_extension": ".py",
   "mimetype": "text/x-python",
   "name": "python",
   "nbconvert_exporter": "python",
   "pygments_lexer": "ipython3",
   "version": "3.8.10"
  }
 },
 "nbformat": 4,
 "nbformat_minor": 5
}

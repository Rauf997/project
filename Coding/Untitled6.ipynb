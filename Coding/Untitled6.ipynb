{
 "cells": [
  {
   "cell_type": "code",
   "execution_count": 1,
   "id": "c94bcfeb",
   "metadata": {},
   "outputs": [],
   "source": [
    "from ngsolve import *\n",
    "from ngsolve.meshes import Make1DMesh\n",
    "from ngsolve.webgui import Draw\n",
    "import numpy as np\n",
    "import math\n",
    "import matplotlib.pyplot as plt"
   ]
  },
  {
   "cell_type": "code",
   "execution_count": 2,
   "id": "92baa58a",
   "metadata": {},
   "outputs": [],
   "source": [
    "mesh = Make1DMesh(100, mapping=None, periodic=False)\n",
    "lambd = 0.0\n",
    "# lambd = Parameter(1.0)"
   ]
  },
  {
   "cell_type": "code",
   "execution_count": 3,
   "id": "aa6a4e9a",
   "metadata": {},
   "outputs": [],
   "source": [
    "fes = H1(mesh, order=1, dirichlet=\"left|right\")"
   ]
  },
  {
   "cell_type": "code",
   "execution_count": 4,
   "id": "07f9f3f3",
   "metadata": {},
   "outputs": [],
   "source": [
    "u = fes.TrialFunction()\n",
    "v = fes.TestFunction()"
   ]
  },
  {
   "cell_type": "code",
   "execution_count": 5,
   "id": "a7e233c9",
   "metadata": {},
   "outputs": [],
   "source": [
    "deflection = []"
   ]
  },
  {
   "cell_type": "code",
   "execution_count": 6,
   "id": "ecc1c356",
   "metadata": {},
   "outputs": [
    {
     "name": "stdout",
     "output_type": "stream",
     "text": [
      "Newton iteration  0\n",
      "err =  0.13874071892137824\n",
      "Newton iteration  1\n",
      "err =  9.1002418041144e-15\n"
     ]
    }
   ],
   "source": [
    "a = BilinearForm(fes)\n",
    "a += (grad(u)*grad(v) - lambd**2*sin(u)*v)*dx\n",
    "\n",
    "gfsol = GridFunction(fes)\n",
    "gfsol.Set(sin(x)) # initial guess\n",
    "solvers.Newton(a,gfsol,inverse=\"sparsecholesky\")\n",
    "index = int((len(gfsol.vec)+1)/2)\n",
    "deflection.append(gfsol.vec[index])"
   ]
  },
  {
   "cell_type": "code",
   "execution_count": 7,
   "id": "db1c7f22",
   "metadata": {},
   "outputs": [
    {
     "name": "stdout",
     "output_type": "stream",
     "text": [
      " 2.77777e-08\n",
      " 0.00841481\n",
      " 0.0168296\n",
      " 0.0252444\n",
      " 0.0336591\n",
      " 0.0420739\n",
      " 0.0504887\n",
      " 0.0589035\n",
      " 0.0673183\n",
      " 0.075733\n",
      " 0.0841478\n",
      " 0.0925626\n",
      " 0.100977\n",
      " 0.109392\n",
      " 0.117807\n",
      " 0.126222\n",
      " 0.134637\n",
      " 0.143051\n",
      " 0.151466\n",
      " 0.159881\n",
      " 0.168296\n",
      " 0.17671\n",
      " 0.185125\n",
      " 0.19354\n",
      " 0.201955\n",
      " 0.21037\n",
      " 0.218784\n",
      " 0.227199\n",
      " 0.235614\n",
      " 0.244029\n",
      " 0.252443\n",
      " 0.260858\n",
      " 0.269273\n",
      " 0.277688\n",
      " 0.286103\n",
      " 0.294517\n",
      " 0.302932\n",
      " 0.311347\n",
      " 0.319762\n",
      " 0.328176\n",
      " 0.336591\n",
      " 0.345006\n",
      " 0.353421\n",
      " 0.361836\n",
      " 0.37025\n",
      " 0.378665\n",
      " 0.38708\n",
      " 0.395495\n",
      " 0.403909\n",
      " 0.412324\n",
      " 0.420739\n",
      " 0.429154\n",
      " 0.437569\n",
      " 0.445983\n",
      " 0.454398\n",
      " 0.462813\n",
      " 0.471228\n",
      " 0.479642\n",
      " 0.488057\n",
      " 0.496472\n",
      " 0.504887\n",
      " 0.513302\n",
      " 0.521716\n",
      " 0.530131\n",
      " 0.538546\n",
      " 0.546961\n",
      " 0.555375\n",
      " 0.56379\n",
      " 0.572205\n",
      " 0.58062\n",
      " 0.589035\n",
      " 0.597449\n",
      " 0.605864\n",
      " 0.614279\n",
      " 0.622694\n",
      " 0.631108\n",
      " 0.639523\n",
      " 0.647938\n",
      " 0.656353\n",
      " 0.664768\n",
      " 0.673182\n",
      " 0.681597\n",
      " 0.690012\n",
      " 0.698427\n",
      " 0.706842\n",
      " 0.715256\n",
      " 0.723671\n",
      " 0.732086\n",
      " 0.740501\n",
      " 0.748915\n",
      " 0.75733\n",
      " 0.765745\n",
      " 0.77416\n",
      " 0.782575\n",
      " 0.790989\n",
      " 0.799404\n",
      " 0.807819\n",
      " 0.816234\n",
      " 0.824648\n",
      " 0.833063\n",
      " 0.841478\n",
      "\n",
      "\n"
     ]
    }
   ],
   "source": [
    "print(gfsol.vec)"
   ]
  },
  {
   "cell_type": "code",
   "execution_count": null,
   "id": "aec54e36",
   "metadata": {},
   "outputs": [],
   "source": [
    "print(deflection)"
   ]
  },
  {
   "cell_type": "code",
   "execution_count": null,
   "id": "5cae54c2",
   "metadata": {
    "scrolled": true
   },
   "outputs": [],
   "source": [
    "print(gfsol.vec[51])"
   ]
  },
  {
   "cell_type": "code",
   "execution_count": null,
   "id": "ab711681",
   "metadata": {},
   "outputs": [],
   "source": [
    "Draw(gfsol,mesh, deformation=CF( (0,gfsol,0) ))"
   ]
  },
  {
   "cell_type": "code",
   "execution_count": null,
   "id": "a217c7c7",
   "metadata": {},
   "outputs": [],
   "source": [
    "index = int((len(gfsol.vec)+1)/2)"
   ]
  },
  {
   "cell_type": "code",
   "execution_count": null,
   "id": "72ce9a97",
   "metadata": {},
   "outputs": [],
   "source": [
    "print(index)"
   ]
  },
  {
   "cell_type": "code",
   "execution_count": null,
   "id": "36355a2d",
   "metadata": {},
   "outputs": [],
   "source": [
    "from ngsolve import *\n",
    "from ngsolve.meshes import Make1DMesh\n",
    "from ngsolve.webgui import Draw\n",
    "import numpy as np\n",
    "import math\n",
    "import matplotlib.pyplot as plt"
   ]
  },
  {
   "cell_type": "code",
   "execution_count": null,
   "id": "8a01b24d",
   "metadata": {},
   "outputs": [],
   "source": [
    "myfunction = sin(x)"
   ]
  },
  {
   "cell_type": "code",
   "execution_count": null,
   "id": "55dad626",
   "metadata": {},
   "outputs": [],
   "source": [
    "mesh = Make1DMesh(5, mapping=None, periodic=False)"
   ]
  },
  {
   "cell_type": "code",
   "execution_count": null,
   "id": "e8ef6125",
   "metadata": {},
   "outputs": [],
   "source": [
    "fes = H1(mesh, order =2)\n",
    "u = GridFunction(fes)\n",
    "u.Set(myfunction)"
   ]
  },
  {
   "cell_type": "code",
   "execution_count": null,
   "id": "9ab4741d",
   "metadata": {},
   "outputs": [],
   "source": [
    "print(u.vec)"
   ]
  },
  {
   "cell_type": "code",
   "execution_count": null,
   "id": "3b115e03",
   "metadata": {},
   "outputs": [],
   "source": []
  }
 ],
 "metadata": {
  "kernelspec": {
   "display_name": "Python 3 (ipykernel)",
   "language": "python",
   "name": "python3"
  },
  "language_info": {
   "codemirror_mode": {
    "name": "ipython",
    "version": 3
   },
   "file_extension": ".py",
   "mimetype": "text/x-python",
   "name": "python",
   "nbconvert_exporter": "python",
   "pygments_lexer": "ipython3",
   "version": "3.8.10"
  }
 },
 "nbformat": 4,
 "nbformat_minor": 5
}

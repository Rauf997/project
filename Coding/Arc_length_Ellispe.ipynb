{
 "cells": [
  {
   "cell_type": "code",
   "execution_count": 4,
   "id": "027496cd",
   "metadata": {},
   "outputs": [
    {
     "data": {
      "text/plain": [
       "-21.082594553434696"
      ]
     },
     "execution_count": 4,
     "metadata": {},
     "output_type": "execute_result"
    }
   ],
   "source": [
    "from numpy import pi, sin, cos\n",
    "from scipy.special import ellipe, ellipeinc\n",
    "from scipy.integrate import quad\n",
    "    \n",
    "def arclength(T0, T1, a, b):\n",
    "        m = 1 - (b/a)**2\n",
    "        t1 = ellipeinc(T1 - 0.5*pi, m)\n",
    "        t0 = ellipeinc(T0 - 0.5*pi, m)\n",
    "        return a*(t1 - t0)\n",
    "    \n",
    "def numerical_length(T0, T1, a, b):\n",
    "        f = lambda t: (a**2*sin(t)**2 + b**2*cos(t)**2)**0.5\n",
    "        return quad(f, T0, T1)\n",
    "        \n",
    "T0, T1, a, b = 0, 1, 3, 2\n",
    "y, err = numerical_length(T0, T1, a, b)\n",
    "ell = arclength(T0, T1, a, b)\n",
    "assert(abs(ell - y) < 1e-12)\n",
    "\n",
    "T0, T1, a, b = 7, 1, 4, 3\n",
    "y, err = numerical_length(T0, T1, a, b)\n",
    "ell = arclength(T0, T1, a, b)\n",
    "assert(abs(ell - y) < 1e-12)\n",
    "\n",
    "ell"
   ]
  },
  {
   "cell_type": "code",
   "execution_count": 45,
   "id": "9f1ea5d5",
   "metadata": {},
   "outputs": [
    {
     "data": {
      "text/plain": [
       "(1.5707963267948133, 3.10035552786303e-10)"
      ]
     },
     "execution_count": 45,
     "metadata": {},
     "output_type": "execute_result"
    }
   ],
   "source": [
    "from scipy.integrate import quad\n",
    "import math\n",
    "def integrand(x):\n",
    "    return math.sqrt(1+4*x**2/(1-4*x**2)) \n",
    "\n",
    "I = quad(integrand, -0.5, 0.5)\n",
    "I"
   ]
  },
  {
   "cell_type": "code",
   "execution_count": null,
   "id": "fcfe47eb",
   "metadata": {},
   "outputs": [],
   "source": []
  },
  {
   "cell_type": "code",
   "execution_count": 33,
   "id": "2a2d3f71",
   "metadata": {},
   "outputs": [
    {
     "data": {
      "text/latex": [
       "$\\displaystyle \\sqrt{\\frac{4 x^{2}}{4 x^{2} + 1} + 1}$"
      ],
      "text/plain": [
       "sqrt(4*x**2/(4*x**2 + 1) + 1)"
      ]
     },
     "execution_count": 33,
     "metadata": {},
     "output_type": "execute_result"
    }
   ],
   "source": [
    "import sympy\n",
    "x = sympy.symbols('x')\n",
    "f = sympy.sqrt(1+4*x**2/(1+(2*x)**2))\n",
    "f"
   ]
  }
 ],
 "metadata": {
  "kernelspec": {
   "display_name": "Python 3 (ipykernel)",
   "language": "python",
   "name": "python3"
  },
  "language_info": {
   "codemirror_mode": {
    "name": "ipython",
    "version": 3
   },
   "file_extension": ".py",
   "mimetype": "text/x-python",
   "name": "python",
   "nbconvert_exporter": "python",
   "pygments_lexer": "ipython3",
   "version": "3.8.10"
  }
 },
 "nbformat": 4,
 "nbformat_minor": 5
}

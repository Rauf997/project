{
 "cells": [
  {
   "cell_type": "code",
   "execution_count": 2,
   "id": "e360260a",
   "metadata": {},
   "outputs": [],
   "source": [
    "from ngsolve import *\n",
    "from ngsolve.webgui import Draw\n",
    "from netgen.occ import *"
   ]
  },
  {
   "cell_type": "code",
   "execution_count": 4,
   "id": "b21ad6b9",
   "metadata": {},
   "outputs": [],
   "source": [
    "rect = Rectangle(1,1).Face()\n",
    "mesh = Mesh(OCCGeometry(rect,dim=2).GenerateMesh(maxh=0.05))"
   ]
  },
  {
   "cell_type": "code",
   "execution_count": 16,
   "id": "bde3b1cc",
   "metadata": {},
   "outputs": [
    {
     "name": "stdout",
     "output_type": "stream",
     "text": [
      "Newton iteration  0\n",
      "err =  0.028390508796752544\n",
      "Newton iteration  1\n",
      "err =  4.14472407839789e-06\n",
      "Newton iteration  2\n",
      "err =  9.094639746909979e-10\n",
      "Newton iteration  3\n",
      "err =  1.26909101830103e-13\n"
     ]
    }
   ],
   "source": [
    "Q = H1(mesh, order=1, dirichlet=\".*\")\n",
    "V = HDivDiv(mesh, order=0)\n",
    "X = Q*Q*V*V\n",
    "(w,F,sigma,tau), (dw,dF,dsigma,dtau) = X.TnT()\n",
    "\n",
    "n = specialcf.normal(2)\n",
    "def tang(u): return u-(u*n)*n\n",
    "B = BilinearForm(X, symmetric=True)\n",
    "B += (InnerProduct (sigma, dsigma) + div(sigma)*grad(dw) \\\n",
    "+ div(dsigma)*grad(w) - 1e-10*w*dw )*dx \\\n",
    "+ (-(sigma*n) * tang(grad(dw)) - (dsigma*n)*tang(grad(w)))*dx(element_boundary=True)\n",
    "B += (InnerProduct (tau, dtau) + div(tau)*grad(dF) \\\n",
    "+ div(dtau)*grad(F) - 1e-10*F*dF )*dx \\\n",
    "+ (-(tau*n) * tang(grad(dF)) - (dtau*n)*tang(grad(F)))*dx(element_boundary=True)\n",
    "B += (InnerProduct(Cof(sigma),tau)*dw-0.5*InnerProduct(Cof(sigma),sigma)*dF + dw + dF)*dx\n",
    "\n",
    "gfsol = GridFunction(X)\n",
    "\n",
    "solvers.Newton(B,gfsol,inverse=\"sparsecholesky\")\n",
    "gfw,gfF,gfsigma,gftau = gfsol.components\n",
    "# Draw(gfw, mesh, name=\"u\", deformation=True)\n",
    "# Draw(gfF, mesh, name=\"v\", deformation=True)"
   ]
  },
  {
   "cell_type": "code",
   "execution_count": 17,
   "id": "157c6072",
   "metadata": {},
   "outputs": [],
   "source": [
    "from ngsolve import *\n",
    "from ngsolve.webgui import Draw\n",
    "from netgen.occ import *"
   ]
  },
  {
   "cell_type": "code",
   "execution_count": 18,
   "id": "4e5903d2",
   "metadata": {},
   "outputs": [],
   "source": [
    "rect = Rectangle(1,1).Face()\n",
    "mesh = Mesh(OCCGeometry(rect,dim=2).GenerateMesh(maxh=0.05))"
   ]
  },
  {
   "cell_type": "code",
   "execution_count": 24,
   "id": "e9b177de",
   "metadata": {},
   "outputs": [
    {
     "name": "stdout",
     "output_type": "stream",
     "text": [
      "Newton iteration  0\n",
      "err =  0.028390508796752405\n",
      "Newton iteration  1\n",
      "err =  4.144724078478481e-06\n",
      "Newton iteration  2\n",
      "err =  9.094639751889885e-10\n",
      "Newton iteration  3\n",
      "err =  1.2690602844277757e-13\n"
     ]
    }
   ],
   "source": [
    "def SolveKarman(mesh, force, p, dirichlet, g=CF(0), order=3):\n",
    "    Q = H1(mesh, order=order, dirichlet=dirichlet)\n",
    "    V = HDivDiv(mesh, order=order-1)\n",
    "    X = Q*Q*V*V\n",
    "    (w,F,sigma,tau), (dw,dF,dsigma,dtau) = X.TnT()\n",
    "\n",
    "    n = specialcf.normal(2)\n",
    "\n",
    "    def tang(u): return u-(u*n)*n\n",
    "\n",
    "    B = BilinearForm(X, symmetric=True)\n",
    "    B += (InnerProduct (sigma, dsigma) + div(sigma)*grad(dw) \\\n",
    "          + div(dsigma)*grad(w) - 1e-10*w*dw )*dx \\\n",
    "          + (-(sigma*n) * tang(grad(dw)) - (dsigma*n)*tang(grad(w)))*dx(element_boundary=True)\n",
    "    B += (InnerProduct (tau, dtau) + div(tau)*grad(dF) \\\n",
    "          + div(dtau)*grad(F) - 1e-10*F*dF )*dx \\\n",
    "          + (-(tau*n) * tang(grad(dF)) - (dtau*n)*tang(grad(F)))*dx(element_boundary=True)\n",
    "    B += (p*Grad(w)*Grad(dw)+InnerProduct(Cof(sigma),tau)*dw-0.5*InnerProduct(Cof(sigma),sigma)*dF + \n",
    "          force*dw + g*dF)*dx\n",
    "\n",
    "    gfsol = GridFunction(X)\n",
    "\n",
    "    solvers.Newton(B,gfsol,inverse=\"sparsecholesky\")\n",
    "    \n",
    "    return gfsol\n",
    "with TaskManager():\n",
    "    gfsol = SolveKarman(mesh, p=0, force=1, g=1, dirichlet=\".*\", order=1)"
   ]
  }
 ],
 "metadata": {
  "kernelspec": {
   "display_name": "Python 3 (ipykernel)",
   "language": "python",
   "name": "python3"
  },
  "language_info": {
   "codemirror_mode": {
    "name": "ipython",
    "version": 3
   },
   "file_extension": ".py",
   "mimetype": "text/x-python",
   "name": "python",
   "nbconvert_exporter": "python",
   "pygments_lexer": "ipython3",
   "version": "3.8.10"
  }
 },
 "nbformat": 4,
 "nbformat_minor": 5
}

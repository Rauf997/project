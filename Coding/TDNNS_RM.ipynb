{
 "cells": [
  {
   "cell_type": "code",
   "execution_count": 1,
   "id": "97fa5ddb",
   "metadata": {},
   "outputs": [
    {
     "name": "stdout",
     "output_type": "stream",
     "text": [
      "importing NGSolve-6.2.2204\n"
     ]
    }
   ],
   "source": [
    "from ngsolve import *\n",
    "from ngsolve.webgui import Draw\n",
    "from ngsolve.meshes import MakeStructured2DMesh"
   ]
  },
  {
   "cell_type": "code",
   "execution_count": 2,
   "id": "82efe13f",
   "metadata": {},
   "outputs": [
    {
     "data": {
      "application/vnd.jupyter.widget-view+json": {
       "model_id": "b8de2ce0d5264522828123433c727335",
       "version_major": 2,
       "version_minor": 0
      },
      "text/plain": [
       "WebGuiWidget(layout=Layout(height='50vh', width='100%'), value={'gui_settings': {}, 'ngsolve_version': '6.2.22…"
      ]
     },
     "metadata": {},
     "output_type": "display_data"
    },
    {
     "data": {
      "application/vnd.jupyter.widget-view+json": {
       "model_id": "e28a586d6dc94fce8b1f467d00865f1c",
       "version_major": 2,
       "version_minor": 0
      },
      "text/plain": [
       "WebGuiWidget(layout=Layout(height='50vh', width='100%'), value={'gui_settings': {}, 'ngsolve_version': '6.2.22…"
      ]
     },
     "metadata": {},
     "output_type": "display_data"
    },
    {
     "data": {
      "text/plain": [
       "BaseWebGuiScene"
      ]
     },
     "execution_count": 2,
     "metadata": {},
     "output_type": "execute_result"
    }
   ],
   "source": [
    "L = 1\n",
    "alpha = pi/(2*L)\n",
    "q = cos(alpha*x)*cos(alpha*y)\n",
    "\n",
    "E  = 1e6\n",
    "nu = 0.3\n",
    "\n",
    "t  = Parameter(1e-1)\n",
    "D  = (E*t**3)/(12*(1-nu**2))\n",
    "k = 5/6\n",
    "G = E/(2*(1+nu))\n",
    "C = k*G*t\n",
    "w_ex = (1/(4*D*alpha**4)+1/(2*C*alpha**2))*cos(alpha*x)*cos(alpha*y)\n",
    "grad_w_ex =  CF( (w_ex.Diff(x),w_ex.Diff(y)) )\n",
    "beta_ex = 1/(4*D*alpha**3)*CF( (sin(alpha*x)*cos(alpha*y),cos(alpha*x)*sin(alpha*y)))\n",
    "curl_beta_ex = beta_ex[1].Diff(x)-beta_ex[0].Diff(y)\n",
    "grad_beta_ex =  CF( (beta_ex[0].Diff(x),beta_ex[0].Diff(y), beta_ex[1].Diff(x),beta_ex[1].Diff(y)), dims=(2,2) )\n",
    "\n",
    "mesh = MakeStructured2DMesh(quads=False, nx=8,ny=8, mapping= lambda x,y : (L*(-1+2*x),L*(-1+2*y)))\n",
    "Draw(w_ex, mesh)\n",
    "Draw(beta_ex, mesh)"
   ]
  },
  {
   "cell_type": "code",
   "execution_count": 6,
   "id": "9eed6c02",
   "metadata": {},
   "outputs": [
    {
     "data": {
      "application/vnd.jupyter.widget-view+json": {
       "model_id": "4ef91f71057e4bdd8257ea779d602a2d",
       "version_major": 2,
       "version_minor": 0
      },
      "text/plain": [
       "WebGuiWidget(layout=Layout(height='50vh', width='100%'), value={'gui_settings': {}, 'ngsolve_version': '6.2.22…"
      ]
     },
     "metadata": {},
     "output_type": "display_data"
    },
    {
     "data": {
      "application/vnd.jupyter.widget-view+json": {
       "model_id": "c9a57d70065a4feb8cb8b682bd06769e",
       "version_major": 2,
       "version_minor": 0
      },
      "text/plain": [
       "WebGuiWidget(layout=Layout(height='50vh', width='100%'), value={'gui_settings': {}, 'ngsolve_version': '6.2.22…"
      ]
     },
     "metadata": {},
     "output_type": "display_data"
    },
    {
     "data": {
      "text/plain": [
       "BaseWebGuiScene"
      ]
     },
     "execution_count": 6,
     "metadata": {},
     "output_type": "execute_result"
    }
   ],
   "source": [
    "def Material(mat):\n",
    "    return D*((1-nu)*mat+nu*Trace(mat)*Id(2))\n",
    "def MaterialInv(mat):\n",
    "    return 1/D*(1/(1-nu)*mat-nu/(1-nu**2)*Trace(mat)*Id(2))\n",
    "order=2\n",
    "fesB = HCurl(mesh, order=order-1, dirichlet=\".*\")\n",
    "fesS = HDivDiv(mesh, order=order-1, dirichlet=\".*\")\n",
    "fesW = H1(mesh, order=order, dirichlet=\".*\")\n",
    "fes = fesW*fesB*fesS\n",
    "(w,beta,sigma), (v,delta,tau) = fes.TnT()\n",
    "    \n",
    "n = specialcf.normal(2)\n",
    "    \n",
    "a = BilinearForm(fes, symmetric=True)\n",
    "a += (-InnerProduct(MaterialInv(sigma),tau) \\\n",
    "          + InnerProduct(tau,grad(beta)) + InnerProduct(sigma,grad(delta)) -1e-9*beta*delta)*dx\n",
    "a += ( -(sigma*n*n)*(delta*n) - (tau*n*n)*(beta*n) )*dx(element_boundary=True)\n",
    "a += k*G*t*InnerProduct( grad(w)+beta, grad(v)+delta )*dx\n",
    "\n",
    "f = LinearForm(fes)\n",
    "f += q*v*dx\n",
    "\n",
    "gfsol = GridFunction(fes)\n",
    "gfw, gfbeta, gfsigma = gfsol.components\n",
    "    \n",
    "with TaskManager():\n",
    "        a.Assemble()\n",
    "        f.Assemble()\n",
    "        inv = a.mat.Inverse(fes.FreeDofs(), inverse=\"sparsecholesky\")\n",
    "        gfsol.vec.data = inv * f.vec\n",
    "\n",
    "Draw(gfw, mesh, \"w\")\n",
    "Draw(gfbeta, mesh, \"w\")"
   ]
  },
  {
   "cell_type": "code",
   "execution_count": 7,
   "id": "dd841108",
   "metadata": {},
   "outputs": [
    {
     "name": "stdout",
     "output_type": "stream",
     "text": [
      "L2-error: 5.064344246577689e-07\n"
     ]
    }
   ],
   "source": [
    "print (\"L2-error:\", sqrt(Integrate((gfw - w_ex)**2, mesh)))"
   ]
  }
 ],
 "metadata": {
  "kernelspec": {
   "display_name": "Python 3 (ipykernel)",
   "language": "python",
   "name": "python3"
  },
  "language_info": {
   "codemirror_mode": {
    "name": "ipython",
    "version": 3
   },
   "file_extension": ".py",
   "mimetype": "text/x-python",
   "name": "python",
   "nbconvert_exporter": "python",
   "pygments_lexer": "ipython3",
   "version": "3.10.6"
  }
 },
 "nbformat": 4,
 "nbformat_minor": 5
}

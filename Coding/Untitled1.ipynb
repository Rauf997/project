{
 "cells": [
  {
   "cell_type": "code",
   "execution_count": null,
   "id": "6ef7ad36",
   "metadata": {},
   "outputs": [],
   "source": [
    "from ngsolve import *\n",
    "from ngsolve.meshes import Make1DMesh\n",
    "from ngsolve.webgui import Draw"
   ]
  },
  {
   "cell_type": "code",
   "execution_count": null,
   "id": "0f1ac5b1",
   "metadata": {},
   "outputs": [],
   "source": [
    "mesh = Make1DMesh(10, mapping=None, periodic=False)\n",
    "Draw(mesh)"
   ]
  },
  {
   "cell_type": "code",
   "execution_count": null,
   "id": "8cbdfda5",
   "metadata": {
    "scrolled": true
   },
   "outputs": [],
   "source": [
    "w = H1(mesh, order=2, dirichlet=\"left|right\")\n",
    "sigma = H1(mesh, order=2, dirichlet=\"left|right\")\n",
    "fesm = w*sigma\n",
    "print (\"ndof =\", fesm.ndof)"
   ]
  },
  {
   "cell_type": "code",
   "execution_count": null,
   "id": "cc8b2919",
   "metadata": {},
   "outputs": [],
   "source": [
    "w, sigma = fesm.TrialFunction()\n",
    "v , tau = fesm.TestFunction()"
   ]
  },
  {
   "cell_type": "code",
   "execution_count": null,
   "id": "528a7d03",
   "metadata": {},
   "outputs": [],
   "source": [
    "a = BilinearForm(fesm)\n",
    "a += (grad(sigma)*grad(v) + sigma*tau - grad(tau)*grad(w) + grad(w)*grad(v))*dx\n",
    "pre = Preconditioner(a, \"multigrid\")\n",
    "\n",
    "m = BilinearForm(fesm)\n",
    "m += w*v*dx\n",
    "\n",
    "\n",
    "a.Assemble()\n",
    "m.Assemble()"
   ]
  }
 ],
 "metadata": {
  "kernelspec": {
   "display_name": "Python 3 (ipykernel)",
   "language": "python",
   "name": "python3"
  },
  "language_info": {
   "codemirror_mode": {
    "name": "ipython",
    "version": 3
   },
   "file_extension": ".py",
   "mimetype": "text/x-python",
   "name": "python",
   "nbconvert_exporter": "python",
   "pygments_lexer": "ipython3",
   "version": "3.10.6"
  }
 },
 "nbformat": 4,
 "nbformat_minor": 5
}

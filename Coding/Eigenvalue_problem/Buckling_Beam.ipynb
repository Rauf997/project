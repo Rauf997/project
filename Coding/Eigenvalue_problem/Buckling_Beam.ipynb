{
 "cells": [
  {
   "cell_type": "code",
   "execution_count": 1,
   "id": "c7d08ad8",
   "metadata": {},
   "outputs": [],
   "source": [
    "from ngsolve import *\n",
    "from ngsolve.meshes import Make1DMesh\n",
    "from ngsolve.la import EigenValues_Preconditioner\n",
    "from ngsolve.webgui import Draw\n",
    "import numpy as np\n",
    "import math\n",
    "import scipy.linalg\n",
    "from scipy import random"
   ]
  },
  {
   "cell_type": "code",
   "execution_count": 2,
   "id": "b960dd2a",
   "metadata": {},
   "outputs": [
    {
     "data": {
      "application/vnd.jupyter.widget-view+json": {
       "model_id": "e764a4af7d27425ca46fa24fc79b401a",
       "version_major": 2,
       "version_minor": 0
      },
      "text/plain": [
       "WebGuiWidget(layout=Layout(height='50vh', width='100%'), value={'gui_settings': {}, 'ngsolve_version': '6.2.23…"
      ]
     },
     "metadata": {},
     "output_type": "display_data"
    },
    {
     "data": {
      "text/plain": [
       "BaseWebGuiScene"
      ]
     },
     "execution_count": 2,
     "metadata": {},
     "output_type": "execute_result"
    }
   ],
   "source": [
    "mesh = Make1DMesh(40)\n",
    "Draw(mesh)"
   ]
  },
  {
   "cell_type": "code",
   "execution_count": 3,
   "id": "5280bff0",
   "metadata": {},
   "outputs": [],
   "source": [
    "w = H1(mesh, order=2, dirichlet=\"left|right\")\n",
    "sigma = H1(mesh, order=2, dirichlet=\" \")\n",
    "fesm = w*sigma"
   ]
  },
  {
   "cell_type": "code",
   "execution_count": 4,
   "id": "fe1076b9",
   "metadata": {},
   "outputs": [],
   "source": [
    "w, sigma = fesm.TrialFunction()\n",
    "v , tau = fesm.TestFunction()"
   ]
  },
  {
   "cell_type": "code",
   "execution_count": 5,
   "id": "a9f54ddf",
   "metadata": {},
   "outputs": [],
   "source": [
    "a = BilinearForm(fesm,symmetric=True)\n",
    "a += (-grad(sigma)*grad(v) + sigma*tau + grad(w)*grad(tau))*dx\n",
    "pre = Preconditioner(a,\"bddc\")\n",
    "# pre = Preconditioner(a,\"multigrid\")\n",
    "\n",
    "m = BilinearForm(fesm)\n",
    "m += grad(w)*grad(v)*dx\n",
    "\n",
    "a.Assemble()\n",
    "m.Assemble()\n",
    "\n",
    "u = GridFunction(fesm)"
   ]
  },
  {
   "cell_type": "code",
   "execution_count": 6,
   "id": "dc0df292",
   "metadata": {},
   "outputs": [],
   "source": [
    "r = u.vec.CreateVector()\n",
    "w = u.vec.CreateVector()\n",
    "Mu = u.vec.CreateVector()\n",
    "Au = u.vec.CreateVector()\n",
    "Mw = u.vec.CreateVector()\n",
    "Aw = u.vec.CreateVector()"
   ]
  },
  {
   "cell_type": "code",
   "execution_count": 7,
   "id": "0cfc8640",
   "metadata": {},
   "outputs": [],
   "source": [
    "# r.FV().NumPy()[:] = random.rand(fesm.ndof)\n",
    "r.FV().NumPy()[:] = np.ones(fesm.ndof)\n",
    "u.vec.data = Projector(fesm.FreeDofs(), True) * r"
   ]
  },
  {
   "cell_type": "code",
   "execution_count": 10,
   "id": "b3fdb0b9",
   "metadata": {},
   "outputs": [
    {
     "name": "stdout",
     "output_type": "stream",
     "text": [
      "[0.00342534 0.01182291]\n",
      "0.003425336093603409\n",
      "0.011822912423622569\n",
      "[[-0.07950834 -0.03432818]\n",
      " [ 0.30161455  1.17397115]]\n",
      "[-0.07950834 -0.03432818]\n",
      "[0.30161455 1.17397115]\n"
     ]
    }
   ],
   "source": [
    "for i in range(1):\n",
    "    Au.data = a.mat * u.vec\n",
    "    Mu.data = m.mat * u.vec\n",
    "    auu = InnerProduct(Au, u.vec)\n",
    "    muu = InnerProduct(Mu, u.vec)\n",
    "    # Rayleigh quotient\n",
    "    lam = auu/muu\n",
    "#     print (lam / (math.pi**2))\n",
    "    # residual\n",
    "    r.data = Au - lam * Mu\n",
    "    w.data = pre.mat * r.data\n",
    "    w.data = 1/Norm(w) * w\n",
    "    Aw.data = a.mat * w\n",
    "    Mw.data = m.mat * w\n",
    "\n",
    "    # setup and solve 2x2 small eigenvalue problem\n",
    "    asmall = Matrix(2,2)\n",
    "    asmall[0,0] = auu\n",
    "    asmall[0,1] = asmall[1,0] = InnerProduct(Au, w)\n",
    "    asmall[1,1] = InnerProduct(Aw, w)\n",
    "    msmall = Matrix(2,2)\n",
    "    msmall[0,0] = muu\n",
    "    msmall[0,1] = msmall[1,0] = InnerProduct(Mu, w)\n",
    "    msmall[1,1] = InnerProduct(Mw, w)\n",
    "    # print (\"asmall =\", asmall, \", msmall = \", msmall)\n",
    "    \n",
    "    \n",
    "    eval_,evec = scipy.linalg.eigh(a=asmall, b=msmall)\n",
    "    print (eval_)\n",
    "    print(eval_[0])\n",
    "    print(eval_[1])\n",
    "    print(evec)\n",
    "    print(evec[0,:])\n",
    "    print(evec[1,:])"
   ]
  },
  {
   "cell_type": "code",
   "execution_count": null,
   "id": "5e2eea50",
   "metadata": {},
   "outputs": [],
   "source": [
    "import numpy as np\n",
    "import matplotlib.pyplot as plt\n",
    "from numpy import array\n",
    "from numpy import linalg as LA\n",
    "\n",
    "# Assume that I loaded 'N' no of 2d points from a file and used\n",
    "# np.cov() to find the below covariance matrix\n",
    "\n",
    "# This is my covariance matrix obtained from 2 x N points\n",
    "cov_mat = [[3407.3108669,  1473.06388943],\n",
    "           [1473.06388943, 1169.53151003]]\n",
    "\n",
    "eigen_values, eigen_vectors = LA.eig(cov_mat)\n",
    "\n",
    "origin = [0, 0]\n",
    "\n",
    "eig_vec1 = eigen_vectors[:,0]\n",
    "eig_vec2 = eigen_vectors[:,1]\n",
    "\n",
    "print(eig_vec1)\n",
    "print(eig_vec2)\n",
    "\n",
    "\n",
    "# This line below plots the 2d points\n",
    "#plt.scatter(np_array[:,0], np_array[:,1])\n",
    "\n",
    "plt.quiver(*origin, *eig_vec1, color=['r'], scale=21)\n",
    "plt.quiver(*origin, *eig_vec2, color=['b'], scale=21)\n",
    "plt.show()"
   ]
  }
 ],
 "metadata": {
  "kernelspec": {
   "display_name": "Python 3 (ipykernel)",
   "language": "python",
   "name": "python3"
  },
  "language_info": {
   "codemirror_mode": {
    "name": "ipython",
    "version": 3
   },
   "file_extension": ".py",
   "mimetype": "text/x-python",
   "name": "python",
   "nbconvert_exporter": "python",
   "pygments_lexer": "ipython3",
   "version": "3.8.10"
  }
 },
 "nbformat": 4,
 "nbformat_minor": 5
}

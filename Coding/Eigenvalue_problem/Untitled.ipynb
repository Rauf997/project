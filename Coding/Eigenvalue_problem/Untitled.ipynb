{
 "cells": [
  {
   "cell_type": "code",
   "execution_count": 1,
   "id": "683b2d3b",
   "metadata": {},
   "outputs": [],
   "source": [
    "from multiprocessing.sharedctypes import Value\n",
    "import importlib\n",
    "import numpy as np\n",
    "import matplotlib.pyplot as plt\n",
    "import os\n",
    "import pandas as pd\n",
    "import math\n",
    "from ngsolve import *"
   ]
  },
  {
   "cell_type": "code",
   "execution_count": 2,
   "id": "699e78ec",
   "metadata": {},
   "outputs": [],
   "source": [
    "data = pd.read_excel('Comsol_Data_Buckling_Deflection.xlsx')\n",
    "data_1 = pd.read_excel('Comsol_Data_Buckling_Deflection_2.xlsx')\n",
    "x_1 = data_1['x']"
   ]
  },
  {
   "cell_type": "code",
   "execution_count": 3,
   "id": "53af5ae9",
   "metadata": {},
   "outputs": [],
   "source": [
    "X = data['x']\n",
    "Y = data['y']"
   ]
  },
  {
   "cell_type": "code",
   "execution_count": 12,
   "id": "05197a29",
   "metadata": {},
   "outputs": [],
   "source": [
    "x_1 = data_1['x']\n",
    "axial_load = x_1\n",
    "lamda_1 = 6.746799e6\n",
    "c_1 = 2*np.sqrt((axial_load)/(lamda_1)-1)\n",
    "c_2 = -2*np.sqrt((axial_load)/(lamda_1)-1)\n",
    "\n",
    "static_deflection = 0.25\n",
    "\n",
    "exact_solution_1 = c_1*(1 - ((lamda_1*(1-cos(lamda_1)))/(lamda_1 - sin(lamda_1)))*static_deflection - \\\n",
    "                        cos(lamda_1*static_deflection) + \\\n",
    "                        ((1 - cos(lamda_1))/(lamda_1 - sin(lamda_1)))*sin(lamda_1*static_deflection))\n",
    "exact_solution_2 = c_2*(1 - ((lamda_1*(1-cos(lamda_1)))/(lamda_1 - sin(lamda_1)))*static_deflection - cos(lamda_1*static_deflection) + ((1 - cos(lamda_1))/(lamda_1 - sin(lamda_1)))*sin(lamda_1*static_deflection))\n",
    "\n",
    "x_line = [0,1046799,2046799,3046799,4046799,5046799,6046799,6746799]\n",
    "y_line = [0,0,0,0,0,0,0,0]"
   ]
  },
  {
   "cell_type": "code",
   "execution_count": 18,
   "id": "4fd4ae0a",
   "metadata": {},
   "outputs": [
    {
     "data": {
      "text/plain": [
       "<matplotlib.legend.Legend at 0x7f4d762ab550>"
      ]
     },
     "execution_count": 18,
     "metadata": {},
     "output_type": "execute_result"
    },
    {
     "data": {
      "image/png": "[encoded data removed]",
      "text/plain": [
       "<Figure size 640x480 with 1 Axes>"
      ]
     },
     "metadata": {},
     "output_type": "display_data"
    }
   ],
   "source": [
    "plt.plot(X,Y,color='black',label=' Comsol ',linestyle=\"-\")\n",
    "plt.plot(x_1,exact_solution_1,color='black',label='  Analytical',linestyle=\":\")\n",
    "plt.plot(x_line,y_line,color='black',linestyle=\":\")\n",
    "plt.ylim([-1, 3])\n",
    "plt.xlabel(\"Load(N)\")\n",
    "plt.ylabel(\"Deflection(w)\")\n",
    "plt.legend()"
   ]
  },
  {
   "cell_type": "code",
   "execution_count": null,
   "id": "18437e8e",
   "metadata": {
    "scrolled": true
   },
   "outputs": [],
   "source": [
    "import numpy as np\n",
    "import matplotlib.pyplot as plt\n",
    "from ngsolve import *\n",
    "\n",
    "\n",
    "x = np.arange(4,20,0.001)\n",
    "axial_load = x*pi**2\n",
    "lamda_1 = 2*pi\n",
    "c_1 = 2*np.sqrt((axial_load)/(lamda_1**2)-1)\n",
    "c_2 = -2*np.sqrt((axial_load)/(lamda_1**2)-1)\n",
    "\n",
    "\n",
    "static_deflection = 0.25\n",
    "\n",
    "exact_solution_1 = c_1*(1 - ((lamda_1*(1-cos(lamda_1)))/(lamda_1 - sin(lamda_1)))*static_deflection - \\\n",
    "                        cos(lamda_1*static_deflection) + \\\n",
    "                        ((1 - cos(lamda_1))/(lamda_1 - sin(lamda_1)))*sin(lamda_1*static_deflection))\n",
    "\n",
    "exact_solution_2 = c_2*(1 - ((lamda_1*(1-cos(lamda_1)))/(lamda_1 - sin(lamda_1)))*static_deflection - cos(lamda_1*static_deflection) + ((1 - cos(lamda_1))/(lamda_1 - sin(lamda_1)))*sin(lamda_1*static_deflection))\n",
    "\n",
    "x = np.arange(4,20,0.001)\n",
    "plt.plot(x,exact_solution_1,color='black')\n",
    "# plt.plot(x,exact_solution_2,color='black')\n",
    "# plt.plot(x,exact_solution_3,color='black')\n",
    "# plt.plot(x,exact_solution_4,color='black')\n",
    "# plt.plot(x,exact_solution_5,color='black')\n",
    "# plt.plot(x,exact_solution_6,color='black')\n",
    "plt.xlim([0, 20])\n",
    "plt.ylim([-5, 5])\n",
    "plt.xticks([0, 4, 8, 12, 16, 20])\n",
    "plt.yticks([-5,-4,-3,-2,-1,0, 1, 2, 3, 4, 5])\n",
    "plt.xlabel(\"Axail load P/$\\pi^2$\")\n",
    "plt.ylabel(\"Static deflection at x=0.25\")"
   ]
  },
  {
   "cell_type": "code",
   "execution_count": null,
   "id": "26153799",
   "metadata": {},
   "outputs": [],
   "source": [
    "data = pd.read_excel('Comsol_Data_Buckling_Deflection_2.xlsx')\n",
    "x_1 = data['x']\n",
    "print(x)"
   ]
  },
  {
   "cell_type": "code",
   "execution_count": null,
   "id": "40768433",
   "metadata": {
    "scrolled": true
   },
   "outputs": [],
   "source": [
    "import numpy as np\n",
    "import matplotlib.pyplot as plt\n",
    "from ngsolve import *\n",
    "x = data['x']\n",
    "axial_load = x\n",
    "lamda_1 = 6.746799e6\n",
    "c_1 = 2*np.sqrt((axial_load)/(lamda_1)-1)\n",
    "c_2 = -2*np.sqrt((axial_load)/(lamda_1)-1)\n",
    "\n",
    "static_deflection = 0.25\n",
    "\n",
    "exact_solution_1 = c_1*(1 - ((lamda_1*(1-cos(lamda_1)))/(lamda_1 - sin(lamda_1)))*static_deflection - \\\n",
    "                        cos(lamda_1*static_deflection) + \\\n",
    "                        ((1 - cos(lamda_1))/(lamda_1 - sin(lamda_1)))*sin(lamda_1*static_deflection))\n",
    "exact_solution_2 = c_2*(1 - ((lamda_1*(1-cos(lamda_1)))/(lamda_1 - sin(lamda_1)))*static_deflection - cos(lamda_1*static_deflection) + ((1 - cos(lamda_1))/(lamda_1 - sin(lamda_1)))*sin(lamda_1*static_deflection))\n",
    "\n",
    "plt.plot(x,exact_solution_1,color='black')\n",
    "plt.plot(x,exact_solution_2,color='black')"
   ]
  },
  {
   "cell_type": "code",
   "execution_count": null,
   "id": "82f16b94",
   "metadata": {},
   "outputs": [],
   "source": [
    "x = data['x']\n",
    "print(x)"
   ]
  }
 ],
 "metadata": {
  "kernelspec": {
   "display_name": "Python 3 (ipykernel)",
   "language": "python",
   "name": "python3"
  },
  "language_info": {
   "codemirror_mode": {
    "name": "ipython",
    "version": 3
   },
   "file_extension": ".py",
   "mimetype": "text/x-python",
   "name": "python",
   "nbconvert_exporter": "python",
   "pygments_lexer": "ipython3",
   "version": "3.8.10"
  }
 },
 "nbformat": 4,
 "nbformat_minor": 5
}

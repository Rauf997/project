{
 "cells": [
  {
   "cell_type": "code",
   "execution_count": 1,
   "metadata": {},
   "outputs": [],
   "source": [
    "from ngsolve import *\n",
    "from ngsolve.meshes import Make1DMesh\n",
    "from ngsolve.la import EigenValues_Preconditioner\n",
    "from ngsolve.webgui import Draw\n",
    "import numpy as np\n",
    "import math\n",
    "import scipy.linalg\n",
    "from scipy import random\n",
    "import scipy.sparse as sp"
   ]
  },
  {
   "cell_type": "code",
   "execution_count": 2,
   "metadata": {},
   "outputs": [],
   "source": [
    "mesh = Make1DMesh(500)\n",
    "# Draw(mesh)"
   ]
  },
  {
   "cell_type": "code",
   "execution_count": 3,
   "metadata": {},
   "outputs": [],
   "source": [
    "w = H1(mesh, order=2, dirichlet=\"left|right\")\n",
    "sigma = H1(mesh, order=2, dirichlet=\" \")\n",
    "fesm = w*sigma"
   ]
  },
  {
   "cell_type": "code",
   "execution_count": 4,
   "metadata": {},
   "outputs": [],
   "source": [
    "w, sigma = fesm.TrialFunction()\n",
    "v , tau = fesm.TestFunction()"
   ]
  },
  {
   "cell_type": "code",
   "execution_count": 5,
   "metadata": {},
   "outputs": [],
   "source": [
    "a = BilinearForm(fesm,symmetric=True)\n",
    "a += (grad(sigma)*grad(v) + sigma*tau + grad(w)*grad(tau))*dx\n",
    "\n",
    "m = BilinearForm(fesm,symmetric=True)\n",
    "m += -grad(w)*grad(v)*dx\n",
    "\n",
    "a.Assemble()\n",
    "m.Assemble()\n",
    "\n",
    "u = GridFunction(fesm, multidim=3)"
   ]
  },
  {
   "cell_type": "code",
   "execution_count": 6,
   "metadata": {},
   "outputs": [],
   "source": [
    "with TaskManager():\n",
    "    lam = ArnoldiSolver(a.mat, m.mat, fesm.FreeDofs(),list(u.vecs), shift=1)"
   ]
  },
  {
   "cell_type": "code",
   "execution_count": 7,
   "metadata": {},
   "outputs": [
    {
     "name": "stdout",
     "output_type": "stream",
     "text": [
      "lam1:   (39.4785,-3.4745e-17)\n",
      " (80.7516,-9.92342e-16)\n",
      " (163.864,2.74131e-14)\n",
      "\n"
     ]
    }
   ],
   "source": [
    "print (\"lam1: \", lam)"
   ]
  },
  {
   "cell_type": "code",
   "execution_count": 8,
   "metadata": {},
   "outputs": [
    {
     "name": "stdout",
     "output_type": "stream",
     "text": [
      "lam1:  39.47845727394317\n"
     ]
    }
   ],
   "source": [
    "print (\"lam1: \", lam[0].real)"
   ]
  },
  {
   "cell_type": "code",
   "execution_count": 9,
   "metadata": {},
   "outputs": [],
   "source": [
    "L = 500*10**(-6)\n",
    "t = 1*10**(-6)\n",
    "b = 10*10**(-6)\n",
    "E = 169*10**(9)\n",
    "n = 1"
   ]
  },
  {
   "cell_type": "code",
   "execution_count": 10,
   "metadata": {},
   "outputs": [
    {
     "data": {
      "text/plain": [
       "2.2239508583788017e-05"
      ]
     },
     "execution_count": 10,
     "metadata": {},
     "output_type": "execute_result"
    }
   ],
   "source": [
    "Exact_Critical_Load = (4*n**(2)*pi**(2)*E*b*t**(3))/(12*L**(2))\n",
    "Exact_Critical_Load"
   ]
  },
  {
   "cell_type": "code",
   "execution_count": 11,
   "metadata": {},
   "outputs": [
    {
     "data": {
      "text/plain": [
       "2.223953093098798e-05"
      ]
     },
     "execution_count": 11,
     "metadata": {},
     "output_type": "execute_result"
    }
   ],
   "source": [
    "Numerical_Critical_Load = (lam[0].real*E*b*t**(3))/(12*L**(2))\n",
    "Numerical_Critical_Load"
   ]
  },
  {
   "cell_type": "code",
   "execution_count": 12,
   "metadata": {},
   "outputs": [
    {
     "data": {
      "text/plain": [
       "2.2347199964004374e-11"
      ]
     },
     "execution_count": 12,
     "metadata": {},
     "output_type": "execute_result"
    }
   ],
   "source": [
    "error = abs(Exact_Critical_Load - Numerical_Critical_Load)\n",
    "error"
   ]
  },
  {
   "cell_type": "code",
   "execution_count": null,
   "metadata": {},
   "outputs": [],
   "source": []
  }
 ],
 "metadata": {
  "kernelspec": {
   "display_name": "Python 3 (ipykernel)",
   "language": "python",
   "name": "python3"
  },
  "language_info": {
   "codemirror_mode": {
    "name": "ipython",
    "version": 3
   },
   "file_extension": ".py",
   "mimetype": "text/x-python",
   "name": "python",
   "nbconvert_exporter": "python",
   "pygments_lexer": "ipython3",
   "version": "3.8.10"
  }
 },
 "nbformat": 4,
 "nbformat_minor": 4
}

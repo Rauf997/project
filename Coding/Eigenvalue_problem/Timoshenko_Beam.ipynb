{
 "cells": [
  {
   "cell_type": "code",
   "execution_count": 1,
   "metadata": {},
   "outputs": [],
   "source": [
    "from ngsolve import *\n",
    "import numpy as np\n",
    "from ngsolve.meshes import Make1DMesh\n",
    "from ngsolve.webgui import Draw"
   ]
  },
  {
   "cell_type": "code",
   "execution_count": 2,
   "metadata": {},
   "outputs": [],
   "source": [
    "L = 10.0\n",
    "thick = 0.03\n",
    "width = 0.01\n",
    "E = 70e3\n",
    "nu = 0\n",
    "N0 = 1e-3\n",
    "\n",
    "EI = E*width*thick**3/12\n",
    "GS = E/2/(1+nu)*thick*width\n",
    "kappa = 5.0/6.0\n",
    "\n",
    "mapping = lambda x : (x*L)\n",
    "mesh = Make1DMesh(100, mapping=mapping, periodic=False)"
   ]
  },
  {
   "cell_type": "code",
   "execution_count": 3,
   "metadata": {},
   "outputs": [],
   "source": [
    "fes = H1(mesh, order=2, dirichlet=\"left|right\")*H1(mesh, order=2, dirichlet=\"left\") \n",
    "(w,beta),(dw,dbeta) = fes.TnT()"
   ]
  },
  {
   "cell_type": "code",
   "execution_count": 4,
   "metadata": {},
   "outputs": [],
   "source": [
    "a = BilinearForm(fes, symmetric=True)\n",
    "a += EI*(grad(beta)*grad(dbeta))*dx + kappa*GS*((grad(w)-beta)*(grad(dw)-dbeta))*dx\n",
    "\n",
    "m = BilinearForm(fes,symmetric=True)\n",
    "m += N0*grad(w)*grad(dw)*dx\n",
    "\n",
    "a.Assemble()\n",
    "m.Assemble()\n",
    "\n",
    "u = GridFunction(fes,multidim=3)"
   ]
  },
  {
   "cell_type": "code",
   "execution_count": 5,
   "metadata": {},
   "outputs": [],
   "source": [
    "with TaskManager():\n",
    "    lam = ArnoldiSolver(a.mat, m.mat, fes.FreeDofs(),list(u.vecs), shift=1)"
   ]
  },
  {
   "cell_type": "code",
   "execution_count": 6,
   "metadata": {},
   "outputs": [
    {
     "name": "stdout",
     "output_type": "stream",
     "text": [
      "lam:   (0.94008,-0)\n",
      " (0.31802,-0)\n",
      " (1.87316,0)\n",
      "\n"
     ]
    }
   ],
   "source": [
    "print (\"lam: \", lam)"
   ]
  },
  {
   "cell_type": "code",
   "execution_count": null,
   "metadata": {},
   "outputs": [],
   "source": []
  }
 ],
 "metadata": {
  "kernelspec": {
   "display_name": "Python 3 (ipykernel)",
   "language": "python",
   "name": "python3"
  },
  "language_info": {
   "codemirror_mode": {
    "name": "ipython",
    "version": 3
   },
   "file_extension": ".py",
   "mimetype": "text/x-python",
   "name": "python",
   "nbconvert_exporter": "python",
   "pygments_lexer": "ipython3",
   "version": "3.8.10"
  }
 },
 "nbformat": 4,
 "nbformat_minor": 4
}

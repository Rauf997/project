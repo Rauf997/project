{
 "cells": [
  {
   "cell_type": "code",
   "execution_count": 6,
   "id": "2cf6755e",
   "metadata": {},
   "outputs": [
    {
     "ename": "TypeError",
     "evalue": "VideoWriter_fourcc() missing required argument 'c4' (pos 4)",
     "output_type": "error",
     "traceback": [
      "\u001b[0;31m---------------------------------------------------------------------------\u001b[0m",
      "\u001b[0;31mTypeError\u001b[0m                                 Traceback (most recent call last)",
      "\u001b[0;32m/tmp/ipykernel_59304/2010617322.py\u001b[0m in \u001b[0;36m<module>\u001b[0;34m\u001b[0m\n\u001b[1;32m     20\u001b[0m \u001b[0;34m\u001b[0m\u001b[0m\n\u001b[1;32m     21\u001b[0m \u001b[0;34m\u001b[0m\u001b[0m\n\u001b[0;32m---> 22\u001b[0;31m \u001b[0mcv2_fourcc\u001b[0m \u001b[0;34m=\u001b[0m \u001b[0mcv2\u001b[0m\u001b[0;34m.\u001b[0m\u001b[0mVideoWriter_fourcc\u001b[0m\u001b[0;34m(\u001b[0m\u001b[0;34m*\u001b[0m\u001b[0;34m'mp4'\u001b[0m\u001b[0;34m)\u001b[0m\u001b[0;34m\u001b[0m\u001b[0;34m\u001b[0m\u001b[0m\n\u001b[0m\u001b[1;32m     23\u001b[0m \u001b[0;34m\u001b[0m\u001b[0m\n\u001b[1;32m     24\u001b[0m \u001b[0mframe\u001b[0m \u001b[0;34m=\u001b[0m \u001b[0mcv2\u001b[0m\u001b[0;34m.\u001b[0m\u001b[0mimread\u001b[0m\u001b[0;34m(\u001b[0m\u001b[0mimg\u001b[0m\u001b[0;34m[\u001b[0m\u001b[0;36m0\u001b[0m\u001b[0;34m]\u001b[0m\u001b[0;34m)\u001b[0m\u001b[0;34m\u001b[0m\u001b[0;34m\u001b[0m\u001b[0m\n",
      "\u001b[0;31mTypeError\u001b[0m: VideoWriter_fourcc() missing required argument 'c4' (pos 4)"
     ]
    }
   ],
   "source": [
    "import cv2\n",
    "import os\n",
    "\n",
    "path = '/home/rauf/Pictures/Unsteady_EB/Numerical'\n",
    "out_path = '/home/rauf/Pictures/Unsteady_EB/Numerical'\n",
    "out_video_name = 'exact.mp4'\n",
    "out_video_full_path = out_path + out_video_name\n",
    "\n",
    "pre_imgs = os.listdir(path)\n",
    "#print(pre_imgs)\n",
    "\n",
    "img = []\n",
    "\n",
    "for i in pre_imgs:\n",
    "    i = path+i\n",
    "    img.append(i)\n",
    "#     print(i)\n",
    "\n",
    "# print(img)\n",
    "\n",
    "\n",
    "cv2_fourcc = cv2.VideoWriter_fourcc(*'mp4')\n",
    "\n",
    "frame = cv2.imread(img[0])\n",
    "size = frame.shape\n",
    "print(size)\n",
    "\n"
   ]
  }
 ],
 "metadata": {
  "kernelspec": {
   "display_name": "Python 3 (ipykernel)",
   "language": "python",
   "name": "python3"
  },
  "language_info": {
   "codemirror_mode": {
    "name": "ipython",
    "version": 3
   },
   "file_extension": ".py",
   "mimetype": "text/x-python",
   "name": "python",
   "nbconvert_exporter": "python",
   "pygments_lexer": "ipython3",
   "version": "3.10.6"
  }
 },
 "nbformat": 4,
 "nbformat_minor": 5
}
